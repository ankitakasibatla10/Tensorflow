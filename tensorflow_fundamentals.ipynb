{
  "cells": [
    {
      "cell_type": "code",
      "execution_count": null,
      "metadata": {
        "colab": {
          "base_uri": "https://localhost:8080/"
        },
        "id": "8RK2BIoB1-IX",
        "outputId": "abaf99d4-9f8c-4e59-809f-abe9ae1edaad"
      },
      "outputs": [
        {
          "output_type": "stream",
          "name": "stdout",
          "text": [
            "2.12.0\n"
          ]
        }
      ],
      "source": [
        "import tensorflow as tf\n",
        "print(tf.__version__)"
      ]
    },
    {
      "cell_type": "code",
      "execution_count": null,
      "metadata": {
        "colab": {
          "base_uri": "https://localhost:8080/"
        },
        "id": "71v7rzeB2kPC",
        "outputId": "cb4df02d-647c-4e77-b231-e8d52a31a860"
      },
      "outputs": [
        {
          "output_type": "execute_result",
          "data": {
            "text/plain": [
              "<tf.Tensor: shape=(), dtype=int32, numpy=7>"
            ]
          },
          "metadata": {},
          "execution_count": 64
        }
      ],
      "source": [
        "#creating tensors with tf.constant()\n",
        "scalar = tf.constant(7)\n",
        "scalar"
      ]
    },
    {
      "cell_type": "code",
      "execution_count": null,
      "metadata": {
        "colab": {
          "base_uri": "https://localhost:8080/"
        },
        "id": "7ZaRs_Pi3BNM",
        "outputId": "8177421a-98da-4a8e-90f7-b22c622cd8bc"
      },
      "outputs": [
        {
          "output_type": "execute_result",
          "data": {
            "text/plain": [
              "0"
            ]
          },
          "metadata": {},
          "execution_count": 65
        }
      ],
      "source": [
        "#check no of dimensions of a tensor\n",
        "scalar.ndim"
      ]
    },
    {
      "cell_type": "code",
      "execution_count": null,
      "metadata": {
        "colab": {
          "base_uri": "https://localhost:8080/"
        },
        "id": "ZbAmYg2F3HRW",
        "outputId": "b4bc25fa-e8f4-417f-de59-c7013c622336"
      },
      "outputs": [
        {
          "output_type": "execute_result",
          "data": {
            "text/plain": [
              "<tf.Tensor: shape=(2,), dtype=int32, numpy=array([10, 20], dtype=int32)>"
            ]
          },
          "metadata": {},
          "execution_count": 66
        }
      ],
      "source": [
        "#creating vector\n",
        "vector = tf.constant([10, 20])\n",
        "vector"
      ]
    },
    {
      "cell_type": "code",
      "execution_count": null,
      "metadata": {
        "colab": {
          "base_uri": "https://localhost:8080/"
        },
        "id": "0X24dyMk3RHQ",
        "outputId": "46dac2b0-cb08-4298-beb8-516f084557e3"
      },
      "outputs": [
        {
          "output_type": "execute_result",
          "data": {
            "text/plain": [
              "1"
            ]
          },
          "metadata": {},
          "execution_count": 67
        }
      ],
      "source": [
        "#dimension\n",
        "vector.ndim"
      ]
    },
    {
      "cell_type": "code",
      "execution_count": null,
      "metadata": {
        "colab": {
          "base_uri": "https://localhost:8080/"
        },
        "id": "TyLmL0M9c9BE",
        "outputId": "34fc18de-56e7-4869-f134-b673ddde5fe6"
      },
      "outputs": [
        {
          "output_type": "execute_result",
          "data": {
            "text/plain": [
              "<tf.Tensor: shape=(2, 2), dtype=int32, numpy=\n",
              "array([[10,  7],\n",
              "       [ 7, 10]], dtype=int32)>"
            ]
          },
          "metadata": {},
          "execution_count": 68
        }
      ],
      "source": [
        "#create matrix\n",
        "matrix = tf.constant([[10, 7],\n",
        "                     [7,10]])\n",
        "matrix"
      ]
    },
    {
      "cell_type": "code",
      "execution_count": null,
      "metadata": {
        "colab": {
          "base_uri": "https://localhost:8080/"
        },
        "id": "W9Rr-_xMdfmT",
        "outputId": "fba01589-bc32-493c-a1b0-a9b6c4d8157c"
      },
      "outputs": [
        {
          "output_type": "execute_result",
          "data": {
            "text/plain": [
              "2"
            ]
          },
          "metadata": {},
          "execution_count": 69
        }
      ],
      "source": [
        "matrix.ndim"
      ]
    },
    {
      "cell_type": "code",
      "execution_count": null,
      "metadata": {
        "colab": {
          "base_uri": "https://localhost:8080/"
        },
        "id": "8ulVrn8MdnQ-",
        "outputId": "8c699882-1ae8-453a-e818-53c6d28f3466"
      },
      "outputs": [
        {
          "output_type": "execute_result",
          "data": {
            "text/plain": [
              "<tf.Tensor: shape=(3, 2), dtype=float16, numpy=\n",
              "array([[10.,  7.],\n",
              "       [ 3.,  2.],\n",
              "       [ 5.,  9.]], dtype=float16)>"
            ]
          },
          "metadata": {},
          "execution_count": 70
        }
      ],
      "source": [
        "#create another matrix\n",
        "an_mat = tf.constant([[10, 7],\n",
        "                      [3, 2],\n",
        "                     [5, 9]], dtype = tf.float16)\n",
        "an_mat\n"
      ]
    },
    {
      "cell_type": "code",
      "execution_count": null,
      "metadata": {
        "colab": {
          "base_uri": "https://localhost:8080/"
        },
        "id": "R68bB3WVeUo1",
        "outputId": "d9fbf750-6be5-4f60-cc81-82e3f1eb513b"
      },
      "outputs": [
        {
          "output_type": "execute_result",
          "data": {
            "text/plain": [
              "2"
            ]
          },
          "metadata": {},
          "execution_count": 71
        }
      ],
      "source": [
        "an_mat.ndim"
      ]
    },
    {
      "cell_type": "code",
      "execution_count": null,
      "metadata": {
        "colab": {
          "base_uri": "https://localhost:8080/"
        },
        "id": "1-Oxs5NrebLl",
        "outputId": "8082efb0-ec3f-47c4-9555-e0e6dbe024a7"
      },
      "outputs": [
        {
          "output_type": "execute_result",
          "data": {
            "text/plain": [
              "<tf.Tensor: shape=(3, 2, 3), dtype=int32, numpy=\n",
              "array([[[ 1,  2,  3],\n",
              "        [ 4,  5,  6]],\n",
              "\n",
              "       [[ 7,  8,  9],\n",
              "        [10, 11, 12]],\n",
              "\n",
              "       [[13, 14, 15],\n",
              "        [16, 17, 18]]], dtype=int32)>"
            ]
          },
          "metadata": {},
          "execution_count": 72
        }
      ],
      "source": [
        "#lets create a tensor\n",
        "tensor = tf.constant([[[1, 2, 3],\n",
        "                       [4, 5, 6]],\n",
        "                      [[7, 8, 9],\n",
        "                      [10, 11, 12]],\n",
        "                      [[13, 14, 15],\n",
        "                       [16, 17, 18]]])\n",
        "tensor"
      ]
    },
    {
      "cell_type": "code",
      "execution_count": null,
      "metadata": {
        "colab": {
          "base_uri": "https://localhost:8080/"
        },
        "id": "TtRo53_QfRY-",
        "outputId": "5bd13ad4-4a5b-429f-c556-75ced05d1e76"
      },
      "outputs": [
        {
          "output_type": "execute_result",
          "data": {
            "text/plain": [
              "3"
            ]
          },
          "metadata": {},
          "execution_count": 73
        }
      ],
      "source": [
        "tensor.ndim"
      ]
    },
    {
      "cell_type": "markdown",
      "metadata": {
        "id": "cuVSRW2qfhea"
      },
      "source": [
        "scalar is a single number\n",
        "vector is a number with direction\n",
        "matrix is a 2d array of numbers\n",
        "tensor is an nd array of numbers (0d- scaler, 1d-vector)"
      ]
    },
    {
      "cell_type": "code",
      "execution_count": null,
      "metadata": {
        "colab": {
          "base_uri": "https://localhost:8080/"
        },
        "id": "pzb42dMFf2uL",
        "outputId": "337c5c2b-d34e-4cb1-acca-f78db631d21e"
      },
      "outputs": [
        {
          "output_type": "execute_result",
          "data": {
            "text/plain": [
              "(<tf.Variable 'Variable:0' shape=(2,) dtype=int32, numpy=array([10,  7], dtype=int32)>,\n",
              " <tf.Tensor: shape=(2,), dtype=int32, numpy=array([10,  7], dtype=int32)>)"
            ]
          },
          "metadata": {},
          "execution_count": 74
        }
      ],
      "source": [
        "#creating variables\n",
        "changeable_tensor = tf.Variable([10, 7])\n",
        "unchangeable_tensor = tf.constant([10, 7])\n",
        "changeable_tensor, unchangeable_tensor"
      ]
    },
    {
      "cell_type": "code",
      "execution_count": null,
      "metadata": {
        "colab": {
          "base_uri": "https://localhost:8080/",
          "height": 210
        },
        "id": "D1TLvmPdiXRf",
        "outputId": "2c7c0e34-5ffc-41dc-fc5b-8cfe14141ee9"
      },
      "outputs": [
        {
          "output_type": "error",
          "ename": "TypeError",
          "evalue": "ignored",
          "traceback": [
            "\u001b[0;31m---------------------------------------------------------------------------\u001b[0m",
            "\u001b[0;31mTypeError\u001b[0m                                 Traceback (most recent call last)",
            "\u001b[0;32m<ipython-input-75-d5dd497f8895>\u001b[0m in \u001b[0;36m<cell line: 2>\u001b[0;34m()\u001b[0m\n\u001b[1;32m      1\u001b[0m \u001b[0;31m#changing elements\u001b[0m\u001b[0;34m\u001b[0m\u001b[0;34m\u001b[0m\u001b[0m\n\u001b[0;32m----> 2\u001b[0;31m \u001b[0mchangeable_tensor\u001b[0m\u001b[0;34m[\u001b[0m\u001b[0;36m0\u001b[0m\u001b[0;34m]\u001b[0m \u001b[0;34m=\u001b[0m \u001b[0;36m7\u001b[0m\u001b[0;34m\u001b[0m\u001b[0;34m\u001b[0m\u001b[0m\n\u001b[0m\u001b[1;32m      3\u001b[0m \u001b[0mchangeable_tensor\u001b[0m\u001b[0;34m\u001b[0m\u001b[0;34m\u001b[0m\u001b[0m\n",
            "\u001b[0;31mTypeError\u001b[0m: 'ResourceVariable' object does not support item assignment"
          ]
        }
      ],
      "source": [
        "#changing elements\n",
        "changeable_tensor[0] = 7\n",
        "changeable_tensor"
      ]
    },
    {
      "cell_type": "code",
      "execution_count": null,
      "metadata": {
        "id": "MW6gZr47i02S"
      },
      "outputs": [],
      "source": [
        "changeable_tensor[0].assign(7)\n",
        "changeable_tensor"
      ]
    },
    {
      "cell_type": "code",
      "execution_count": null,
      "metadata": {
        "id": "p1rcMYrzi-tU"
      },
      "outputs": [],
      "source": [
        "#unchangeable_tensor\n",
        "unchangeable_tensor[0].assign(7)\n",
        "unchangeable_tensor"
      ]
    },
    {
      "cell_type": "code",
      "execution_count": null,
      "metadata": {
        "id": "CgzXWX_CoTXG"
      },
      "outputs": [],
      "source": [
        "#creating random tensors\n",
        "#random tensors are tensors with arbitrary Sized"
      ]
    },
    {
      "cell_type": "code",
      "execution_count": null,
      "metadata": {
        "id": "Jirs11V-okzN"
      },
      "outputs": [],
      "source": [
        "random_1 = tf.random.Generator.from_seed(42)\n",
        "random_1 = random_1.normal(shape=(3, 2))\n",
        "random_2 = tf.random.Generator.from_seed(42)\n",
        "random_2 = random_2.normal(shape=(3, 2))\n",
        "random_1, random_2, random_1 == random_2"
      ]
    },
    {
      "cell_type": "code",
      "execution_count": null,
      "metadata": {
        "id": "6Qrp2q82qj29"
      },
      "outputs": [],
      "source": [
        "#shuffle the order of elements in a tensor or shuffling a tensor\n",
        "not_shuffled = tf.constant([[10, 7],\n",
        "                            [3, 4],\n",
        "                            [4, 5]])\n",
        "not_shuffled.ndim"
      ]
    },
    {
      "cell_type": "code",
      "execution_count": null,
      "metadata": {
        "id": "ysmOqavbrQId"
      },
      "outputs": [],
      "source": [
        "not_shuffled"
      ]
    },
    {
      "cell_type": "code",
      "execution_count": null,
      "metadata": {
        "id": "HKImNMg7rVbr"
      },
      "outputs": [],
      "source": [
        "#shuffle our non shuffle tensor\n",
        "tf.random.shuffle(not_shuffled)"
      ]
    },
    {
      "cell_type": "code",
      "execution_count": null,
      "metadata": {
        "id": "MPenCP_jtlze"
      },
      "outputs": [],
      "source": [
        "tf.random.shuffle(not_shuffled)"
      ]
    },
    {
      "cell_type": "code",
      "execution_count": null,
      "metadata": {
        "id": "DhnFsPBatoJS"
      },
      "outputs": [],
      "source": [
        "tf.random.shuffle(not_shuffled, seed=42)"
      ]
    },
    {
      "cell_type": "markdown",
      "metadata": {
        "id": "3JyaQnYlUmNW"
      },
      "source": [
        "It looks like if we want our shuffled tensors to be in the same order, we've got to use the global level random seed as well as the operational level random seed."
      ]
    },
    {
      "cell_type": "markdown",
      "metadata": {
        "id": "C_o1xS8nVD_E"
      },
      "source": [
        "Both seeds are used in conjunction to determine the random sequence."
      ]
    },
    {
      "cell_type": "code",
      "execution_count": null,
      "metadata": {
        "id": "4K23m7e9t1uF"
      },
      "outputs": [],
      "source": [
        "tf.random.set_seed(42) #global level random seed\n",
        "tf.random.shuffle(not_shuffled, seed=42) #operational level random seed"
      ]
    },
    {
      "cell_type": "code",
      "execution_count": null,
      "metadata": {
        "id": "yqiNdFjMVOIy"
      },
      "outputs": [],
      "source": [
        "#other ways to make tensors.\n",
        "#creating tensors of all ones\n",
        "tf.ones([10, 7])"
      ]
    },
    {
      "cell_type": "code",
      "execution_count": null,
      "metadata": {
        "id": "yykIVDkyVm45"
      },
      "outputs": [],
      "source": [
        "tf.zeros(shape=(3, 4))"
      ]
    },
    {
      "cell_type": "code",
      "execution_count": null,
      "metadata": {
        "id": "94Bfbwu4VrU6"
      },
      "outputs": [],
      "source": [
        "#you can also turn NumPy arrays into tensors\n",
        "#Tensors can be run on  GPU computing (diff btw tensors and numpy arrays)\n",
        "import numpy as np\n",
        "numpy_A = np.arange(1, 25, dtype=np.int32)\n",
        "numpy_A\n",
        "\n",
        "#x = tf.constant(some_matrix) #captial for matrix or tensor\n",
        "#y = tf.constant(vector) #non-captial for vector"
      ]
    },
    {
      "cell_type": "code",
      "execution_count": null,
      "metadata": {
        "id": "RSQ3qFLZWuuV"
      },
      "outputs": [],
      "source": [
        "A =tf.constant(numpy_A, shape=(3, 8))\n",
        "B = tf.constant(numpy_A)\n",
        "A, B"
      ]
    },
    {
      "cell_type": "code",
      "execution_count": null,
      "metadata": {
        "id": "W9KnwPucXhDH"
      },
      "outputs": [],
      "source": [
        "A.ndim"
      ]
    },
    {
      "cell_type": "markdown",
      "metadata": {
        "id": "xDDN3cGiYCxF"
      },
      "source": [
        "###Getting info from tensors\n",
        "* Shape(length no of ele)\n",
        "* Rank(dimensions)\n",
        "* Axis or Dimension(particulr dim)\n",
        "* Size(total no of items in the tensor)"
      ]
    },
    {
      "cell_type": "code",
      "execution_count": null,
      "metadata": {
        "id": "IQU3rnYxYRAJ"
      },
      "outputs": [],
      "source": [
        "#create a rank 4 tensor(4 dim)\n",
        "rank_4_t = tf.zeros(shape=[2, 3, 4, 5])\n",
        "rank_4_t"
      ]
    },
    {
      "cell_type": "code",
      "execution_count": null,
      "metadata": {
        "id": "n9H-Ub4VZBeM"
      },
      "outputs": [],
      "source": [
        "rank_4_t[0]"
      ]
    },
    {
      "cell_type": "code",
      "execution_count": null,
      "metadata": {
        "id": "axMKVI4GZJrC"
      },
      "outputs": [],
      "source": [
        "rank_4_t.shape, rank_4_t.ndim, tf.size(rank_4_t)"
      ]
    },
    {
      "cell_type": "code",
      "execution_count": null,
      "metadata": {
        "id": "6qfpraikZYEz"
      },
      "outputs": [],
      "source": [
        "2 * 3 * 4 * 5"
      ]
    },
    {
      "cell_type": "code",
      "execution_count": null,
      "metadata": {
        "id": "GCBuWWjiZbl4"
      },
      "outputs": [],
      "source": [
        "#get various attributes of our tensor\n",
        "print(\"Datatype of every ele:\", rank_4_t.dtype)\n",
        "print(\"No of dimensions(rank):\", rank_4_t.ndim)\n",
        "print(\"Shape of tensor:\", rank_4_t.shape)\n",
        "print(\"Elements along the 0 axis:\", rank_4_t.shape[0])\n",
        "print(\"Elements along the last axis:\", rank_4_t.shape[-1])\n",
        "print(\"Total no of elements in our tensor:\", tf.size(rank_4_t))\n",
        "print(\"Total no of elements in our tensor:\", tf.size(rank_4_t))\n",
        "print(\"Total no of elements in our tensor:\", tf.size(rank_4_t).numpy())"
      ]
    },
    {
      "cell_type": "markdown",
      "metadata": {
        "id": "Dsvs6bjLZi-h"
      },
      "source": [
        "Indexing tensors: tensors can be indexed just like python lists\n"
      ]
    },
    {
      "cell_type": "code",
      "execution_count": null,
      "metadata": {
        "id": "1idhONFsZg_Q"
      },
      "outputs": [],
      "source": [
        "# get the first 2 elements of each dimension\n",
        "rank_4_t[:2, :2, :2, :2]"
      ]
    },
    {
      "cell_type": "code",
      "execution_count": null,
      "metadata": {
        "id": "1iAyJaNeaTka"
      },
      "outputs": [],
      "source": [
        "some_list = [1, 2, 3, 4]\n",
        "some_list[:2]"
      ]
    },
    {
      "cell_type": "code",
      "execution_count": null,
      "metadata": {
        "id": "Eo2e9Ra_aguT"
      },
      "outputs": [],
      "source": [
        "#get the 1st ele from each dim from each index except the final\n",
        "rank_4_t[:1, :1, :1]"
      ]
    },
    {
      "cell_type": "code",
      "execution_count": null,
      "metadata": {
        "id": "FnOdKlC2bDNH"
      },
      "outputs": [],
      "source": [
        "rank_4_t.shape"
      ]
    },
    {
      "cell_type": "code",
      "execution_count": null,
      "metadata": {
        "id": "rpJ_uLAebNtv"
      },
      "outputs": [],
      "source": [
        "rank_4_t[:1, :1, :, :1]"
      ]
    },
    {
      "cell_type": "code",
      "execution_count": null,
      "metadata": {
        "id": "QUsaQvGlbheP"
      },
      "outputs": [],
      "source": [
        "#create a rank  tensor with 3 dim\n",
        "rank_2_t = tf.constant([[10, 7],\n",
        "                        [3, 4]])\n",
        "rank_2_t.shape, rank_2_t.ndim"
      ]
    },
    {
      "cell_type": "code",
      "execution_count": null,
      "metadata": {
        "id": "pWb8LnFBb03R"
      },
      "outputs": [],
      "source": [
        "rank_2_t"
      ]
    },
    {
      "cell_type": "code",
      "execution_count": null,
      "metadata": {
        "id": "fiFAxr-wb4MT"
      },
      "outputs": [],
      "source": [
        "#get the last item\n",
        "rank_2_t[:, -1]"
      ]
    },
    {
      "cell_type": "code",
      "execution_count": null,
      "metadata": {
        "id": "UXY_PWfEcD4F"
      },
      "outputs": [],
      "source": [
        "#adding an extra dim to our rank_2\n",
        "rank_3_t = rank_2_t[..., tf.newaxis] #tf.newaxis is like none in numpy\n",
        "rank_3_t"
      ]
    },
    {
      "cell_type": "code",
      "execution_count": null,
      "metadata": {
        "id": "Z1QkQU7dcbQ5"
      },
      "outputs": [],
      "source": [
        "#alternate to tf.newaxis\n",
        "tf.expand_dims(rank_2_t, axis =-1) #-1 means expand the final ans"
      ]
    },
    {
      "cell_type": "code",
      "execution_count": null,
      "metadata": {
        "id": "iFWFr5Guc11o"
      },
      "outputs": [],
      "source": [
        "tf.expand_dims(rank_2_t, axis =0) #expanding 0 axis"
      ]
    },
    {
      "cell_type": "code",
      "execution_count": null,
      "metadata": {
        "id": "XdurBIqZc--A"
      },
      "outputs": [],
      "source": [
        "rank_2_t"
      ]
    },
    {
      "cell_type": "code",
      "execution_count": null,
      "metadata": {
        "id": "KG7IiaUGdEus"
      },
      "outputs": [],
      "source": [
        "#manipulating tensors(tensor operations)\n",
        "\n",
        "#you can add values to the tensors through +noperator\n",
        "\n",
        "t = tf.constant([[10, 7],\n",
        "                 [3, 4]])\n",
        "t+10"
      ]
    },
    {
      "cell_type": "code",
      "execution_count": null,
      "metadata": {
        "id": "mtxJK3sndiQ6"
      },
      "outputs": [],
      "source": [
        "#original tensor is unchanged\n",
        "t"
      ]
    },
    {
      "cell_type": "code",
      "execution_count": null,
      "metadata": {
        "id": "rUGd5C0IdujX"
      },
      "outputs": [],
      "source": [
        "# * operator\n",
        "t * 10"
      ]
    },
    {
      "cell_type": "code",
      "execution_count": null,
      "metadata": {
        "id": "jQI2fhfzdywg"
      },
      "outputs": [],
      "source": [
        "# - operator\n",
        "t-10"
      ]
    },
    {
      "cell_type": "code",
      "execution_count": null,
      "metadata": {
        "id": "C4yTxLj8d4Ug"
      },
      "outputs": [],
      "source": [
        "# we can use tf built in func\n",
        "\n",
        "tf.multiply(t, 10)"
      ]
    },
    {
      "cell_type": "code",
      "execution_count": null,
      "metadata": {
        "id": "2rbB9hiieTBs"
      },
      "outputs": [],
      "source": [
        "t"
      ]
    },
    {
      "cell_type": "code",
      "execution_count": null,
      "metadata": {
        "id": "tSV6kGh_eUpD"
      },
      "outputs": [],
      "source": [
        "tf.add(t, 10)"
      ]
    },
    {
      "cell_type": "markdown",
      "metadata": {
        "id": "GSoA4pYceaPY"
      },
      "source": [
        "Matrix Multiplication:\n",
        "In ml MM is one of the most common tensor operations\n",
        "2 rules:\n",
        "1. The inner dim must match\n",
        "2. The resulting matrix has the shape of inner matrix"
      ]
    },
    {
      "cell_type": "code",
      "execution_count": null,
      "metadata": {
        "id": "b6op6spoecuP"
      },
      "outputs": [],
      "source": [
        "t"
      ]
    },
    {
      "cell_type": "code",
      "execution_count": null,
      "metadata": {
        "id": "zBMME5PLfHnz"
      },
      "outputs": [],
      "source": [
        "tf.matmul(t, t)"
      ]
    },
    {
      "cell_type": "code",
      "execution_count": null,
      "metadata": {
        "id": "fNDbEykifLgF"
      },
      "outputs": [],
      "source": [
        "#MM with @ operator\n",
        "t*t, t@t"
      ]
    },
    {
      "cell_type": "code",
      "execution_count": null,
      "metadata": {
        "id": "BscqJufqff3T"
      },
      "outputs": [],
      "source": [
        "#creating tensor of (3,2)\n",
        "x = tf.constant([[1,2],\n",
        "                 [3,4],\n",
        "                 [5,6]])\n",
        "y = tf.constant([[7, 8],\n",
        "                 [9, 10],\n",
        "                 [11, 12]])\n",
        "x, y"
      ]
    },
    {
      "cell_type": "code",
      "execution_count": null,
      "metadata": {
        "id": "FELwRmd1f7hV"
      },
      "outputs": [],
      "source": [
        "x @ y"
      ]
    },
    {
      "cell_type": "code",
      "execution_count": null,
      "metadata": {
        "id": "_zu4x_DWf_Gn"
      },
      "outputs": [],
      "source": [
        "tf.matmul(x, y)"
      ]
    },
    {
      "cell_type": "code",
      "execution_count": null,
      "metadata": {
        "id": "OawmdSCEgZ-Q"
      },
      "outputs": [],
      "source": [
        "y1 = tf.constant([[11, 12, 13],\n",
        "                  [14, 14, 17]])\n",
        "x @ y1"
      ]
    },
    {
      "cell_type": "code",
      "execution_count": null,
      "metadata": {
        "id": "d-BLFbvgg82r"
      },
      "outputs": [],
      "source": [
        "y"
      ]
    },
    {
      "cell_type": "code",
      "execution_count": null,
      "metadata": {
        "id": "fbOmJsejg_BZ"
      },
      "outputs": [],
      "source": [
        "tf.reshape(y, shape=(2,3))"
      ]
    },
    {
      "cell_type": "code",
      "execution_count": null,
      "metadata": {
        "id": "19jEw2GKhDJ8"
      },
      "outputs": [],
      "source": [
        "x @ tf.reshape(y, shape=(2,3))"
      ]
    },
    {
      "cell_type": "code",
      "execution_count": null,
      "metadata": {
        "id": "f4zTx3C9hNlZ"
      },
      "outputs": [],
      "source": [
        "x.shape,  tf.reshape(y, shape=(2,3)).shape"
      ]
    },
    {
      "cell_type": "code",
      "execution_count": null,
      "metadata": {
        "id": "K2cMIJhlhYP7"
      },
      "outputs": [],
      "source": [
        "tf.matmul(x, tf.reshape(y, shape=(2,3)))"
      ]
    },
    {
      "cell_type": "code",
      "execution_count": null,
      "metadata": {
        "id": "PLb1NKWtheih"
      },
      "outputs": [],
      "source": [
        "tf.matmul(tf.reshape(x, shape=(2, 3)), y)"
      ]
    },
    {
      "cell_type": "code",
      "execution_count": null,
      "metadata": {
        "id": "1YtCXvVthvEt"
      },
      "outputs": [],
      "source": [
        "tf.transpose(x), tf.reshape(x, shape=(3, 2))"
      ]
    },
    {
      "cell_type": "code",
      "execution_count": null,
      "metadata": {
        "id": "dmwTHhW3iDWr"
      },
      "outputs": [],
      "source": [
        "#mm with transpose\n",
        "tf.matmul(tf.transpose(x), x)"
      ]
    },
    {
      "cell_type": "code",
      "execution_count": null,
      "metadata": {
        "id": "TEA3ko5BiwNs"
      },
      "outputs": [],
      "source": [
        "# mm is referred to as the dot product\n",
        "tf.tensordot(tf.transpose(x), y, axes=1) # should specify axes"
      ]
    },
    {
      "cell_type": "code",
      "execution_count": null,
      "metadata": {
        "id": "xNSEfqHBjPaa"
      },
      "outputs": [],
      "source": [
        "tf.matmul(x, tf.transpose(y))"
      ]
    },
    {
      "cell_type": "code",
      "execution_count": null,
      "metadata": {
        "id": "VmSsFm3ojqPn"
      },
      "outputs": [],
      "source": [
        "y, tf.transpose(y), tf.reshape(y, shape=(2, 3))"
      ]
    },
    {
      "cell_type": "code",
      "execution_count": null,
      "metadata": {
        "id": "6cJEba3NkFD6"
      },
      "outputs": [],
      "source": [
        "# changing datatype\n",
        "b = tf.constant([7, 10])\n",
        "b.dtype"
      ]
    },
    {
      "cell_type": "code",
      "execution_count": null,
      "metadata": {
        "id": "1u09nIewbEjD"
      },
      "outputs": [],
      "source": [
        "c = tf.constant([7.0, 8.5])\n",
        "c.dtype"
      ]
    },
    {
      "cell_type": "code",
      "execution_count": null,
      "metadata": {
        "id": "OUxCRJjfbOCH"
      },
      "outputs": [],
      "source": [
        "b1 = tf.cast(b, dtype=tf.float32)\n",
        "b1.dtype"
      ]
    },
    {
      "cell_type": "code",
      "execution_count": null,
      "metadata": {
        "id": "3nVyktQpbZK3"
      },
      "outputs": [],
      "source": [
        "c1 = tf.cast(c, dtype=tf.int32)\n",
        "c1.dtype"
      ]
    },
    {
      "cell_type": "code",
      "execution_count": null,
      "metadata": {
        "id": "1yqlBPfHbiNA"
      },
      "outputs": [],
      "source": [
        "b11 = tf.cast(b1, dtype=tf.float16)\n",
        "b11.dtype"
      ]
    },
    {
      "cell_type": "markdown",
      "metadata": {
        "id": "P0JOXxzYbtJp"
      },
      "source": [
        "Aggregating *Tensors* Multiple values down to smaller values\n",
        "Minimum\n",
        "Maximum\n",
        "Mean\n",
        "Sum"
      ]
    },
    {
      "cell_type": "code",
      "execution_count": null,
      "metadata": {
        "colab": {
          "base_uri": "https://localhost:8080/"
        },
        "id": "NvHwEnvqbrrG",
        "outputId": "10e23990-6b7d-454a-f9bb-68a672a5edf3"
      },
      "outputs": [
        {
          "output_type": "execute_result",
          "data": {
            "text/plain": [
              "<tf.Tensor: shape=(2,), dtype=int32, numpy=array([ 7, 10], dtype=int32)>"
            ]
          },
          "metadata": {},
          "execution_count": 76
        }
      ],
      "source": [
        "#get absolute values\n",
        "d = tf.constant([-7, -10])\n",
        "tf.abs(d)"
      ]
    },
    {
      "cell_type": "code",
      "execution_count": null,
      "metadata": {
        "colab": {
          "base_uri": "https://localhost:8080/"
        },
        "id": "_mIee1lhcF5B",
        "outputId": "4ed5f4e2-7e25-4a30-c813-e6430c5ee252"
      },
      "outputs": [
        {
          "output_type": "execute_result",
          "data": {
            "text/plain": [
              "<tf.Tensor: shape=(50,), dtype=int64, numpy=\n",
              "array([60, 13, 31, 22, 92, 34, 41, 57, 34, 88, 11, 62, 57, 38, 17, 30,  1,\n",
              "       53, 88, 64, 83, 76, 97, 34, 81, 47, 41, 45, 62, 25, 61, 51,  2, 55,\n",
              "       16, 18, 22, 69, 71, 81, 18, 47, 33, 87, 46,  2, 93, 60, 88, 13])>"
            ]
          },
          "metadata": {},
          "execution_count": 80
        }
      ],
      "source": [
        "#random tensor\n",
        "import numpy as np\n",
        "e = tf.constant(np.random.randint(0, 100, size=50))\n",
        "e"
      ]
    },
    {
      "cell_type": "code",
      "execution_count": null,
      "metadata": {
        "colab": {
          "base_uri": "https://localhost:8080/"
        },
        "id": "i3in2qd1ce_G",
        "outputId": "f2d0d130-c782-4778-f72b-6ba0e97d981b"
      },
      "outputs": [
        {
          "output_type": "execute_result",
          "data": {
            "text/plain": [
              "<tf.Tensor: shape=(), dtype=int64, numpy=1>"
            ]
          },
          "metadata": {},
          "execution_count": 81
        }
      ],
      "source": [
        "#Finding minimum\n",
        "tf.reduce_min(e)"
      ]
    },
    {
      "cell_type": "code",
      "execution_count": null,
      "metadata": {
        "colab": {
          "base_uri": "https://localhost:8080/"
        },
        "id": "UMzkZ4tNcnRR",
        "outputId": "52f7dcfc-fc31-4aba-bda4-f32cd7c043d5"
      },
      "outputs": [
        {
          "output_type": "execute_result",
          "data": {
            "text/plain": [
              "<tf.Tensor: shape=(), dtype=int64, numpy=97>"
            ]
          },
          "metadata": {},
          "execution_count": 82
        }
      ],
      "source": [
        "#finding maximum\n",
        "tf.reduce_max(e)"
      ]
    },
    {
      "cell_type": "code",
      "execution_count": null,
      "metadata": {
        "colab": {
          "base_uri": "https://localhost:8080/"
        },
        "id": "ihTWkNEhcs2b",
        "outputId": "96839368-9ffe-4ba1-a60a-ff1ff83f59ac"
      },
      "outputs": [
        {
          "output_type": "execute_result",
          "data": {
            "text/plain": [
              "<tf.Tensor: shape=(), dtype=int64, numpy=48>"
            ]
          },
          "metadata": {},
          "execution_count": 83
        }
      ],
      "source": [
        "#mean\n",
        "tf.reduce_mean(e)"
      ]
    },
    {
      "cell_type": "code",
      "execution_count": null,
      "metadata": {
        "colab": {
          "base_uri": "https://localhost:8080/"
        },
        "id": "5bIdyQn2cxAE",
        "outputId": "fbec61e2-eba1-49d6-8054-f17fa1810aaa"
      },
      "outputs": [
        {
          "output_type": "execute_result",
          "data": {
            "text/plain": [
              "<tf.Tensor: shape=(), dtype=int64, numpy=2417>"
            ]
          },
          "metadata": {},
          "execution_count": 84
        }
      ],
      "source": [
        "#finding sum\n",
        "tf.reduce_sum(e)"
      ]
    },
    {
      "cell_type": "code",
      "execution_count": null,
      "metadata": {
        "colab": {
          "base_uri": "https://localhost:8080/"
        },
        "id": "uoyuQlu1c49C",
        "outputId": "372c19da-bfd9-40c3-cb71-2e57fd7dea83"
      },
      "outputs": [
        {
          "output_type": "execute_result",
          "data": {
            "text/plain": [
              "<tf.Tensor: shape=(), dtype=int64, numpy=735>"
            ]
          },
          "metadata": {},
          "execution_count": 85
        }
      ],
      "source": [
        "#variance\n",
        "import tensorflow_probability as tfp\n",
        "tfp.stats.variance(e)"
      ]
    },
    {
      "cell_type": "code",
      "execution_count": null,
      "metadata": {
        "colab": {
          "base_uri": "https://localhost:8080/"
        },
        "id": "vapLgcstd9ov",
        "outputId": "c2a85d99-9870-4e5d-9992-0dd2026f812d"
      },
      "outputs": [
        {
          "output_type": "execute_result",
          "data": {
            "text/plain": [
              "<tf.Tensor: shape=(), dtype=float32, numpy=734.98444>"
            ]
          },
          "metadata": {},
          "execution_count": 86
        }
      ],
      "source": [
        "tf.math.reduce_variance(tf.cast(e, dtype=tf.float32))"
      ]
    },
    {
      "cell_type": "code",
      "execution_count": null,
      "metadata": {
        "colab": {
          "base_uri": "https://localhost:8080/"
        },
        "id": "XXYzaK4SdEc7",
        "outputId": "eee64d8c-d8e3-456e-e08c-7044795d91de"
      },
      "outputs": [
        {
          "output_type": "execute_result",
          "data": {
            "text/plain": [
              "<tf.Tensor: shape=(), dtype=float32, numpy=27.110596>"
            ]
          },
          "metadata": {},
          "execution_count": 87
        }
      ],
      "source": [
        "#standard deviation\n",
        "tf.math.reduce_std(tf.cast(e, dtype=tf.float32))"
      ]
    },
    {
      "cell_type": "code",
      "execution_count": null,
      "metadata": {
        "colab": {
          "base_uri": "https://localhost:8080/"
        },
        "id": "DG3tIEFpd0lt",
        "outputId": "a161da45-702c-4f07-fe15-879b7f563c0a"
      },
      "outputs": [
        {
          "output_type": "execute_result",
          "data": {
            "text/plain": [
              "<tf.Tensor: shape=(50,), dtype=float32, numpy=\n",
              "array([0.6645621 , 0.44100678, 0.3528825 , 0.46448255, 0.03366041,\n",
              "       0.68467236, 0.74011743, 0.8724445 , 0.22632635, 0.22319686,\n",
              "       0.3103881 , 0.7223358 , 0.13318717, 0.5480639 , 0.5746088 ,\n",
              "       0.8996835 , 0.00946367, 0.5212307 , 0.6345445 , 0.1993283 ,\n",
              "       0.72942245, 0.54583454, 0.10756552, 0.6767061 , 0.6602763 ,\n",
              "       0.33695042, 0.60141766, 0.21062577, 0.8527372 , 0.44062173,\n",
              "       0.9485276 , 0.23752594, 0.81179297, 0.5263394 , 0.494308  ,\n",
              "       0.21612847, 0.8457197 , 0.8718841 , 0.3083862 , 0.6868038 ,\n",
              "       0.23764038, 0.7817228 , 0.9671384 , 0.06870162, 0.79873943,\n",
              "       0.66028714, 0.5871513 , 0.16461694, 0.7381023 , 0.32054043],\n",
              "      dtype=float32)>"
            ]
          },
          "metadata": {},
          "execution_count": 88
        }
      ],
      "source": [
        "#find positional maximum and minimum\n",
        "tf.random.set_seed(42)\n",
        "f = tf.random.uniform(shape=[50])\n",
        "f"
      ]
    },
    {
      "cell_type": "code",
      "execution_count": null,
      "metadata": {
        "colab": {
          "base_uri": "https://localhost:8080/"
        },
        "id": "AfmBDF5ieybn",
        "outputId": "dd24c419-a6f7-4f70-bb76-e3ea416be667"
      },
      "outputs": [
        {
          "output_type": "execute_result",
          "data": {
            "text/plain": [
              "<tf.Tensor: shape=(), dtype=int64, numpy=42>"
            ]
          },
          "metadata": {},
          "execution_count": 89
        }
      ],
      "source": [
        "tf.argmax(f)"
      ]
    },
    {
      "cell_type": "code",
      "execution_count": null,
      "metadata": {
        "colab": {
          "base_uri": "https://localhost:8080/"
        },
        "id": "wltlc_BLe47m",
        "outputId": "788d4942-127f-4f27-8b2b-2d3e9f1cb511"
      },
      "outputs": [
        {
          "output_type": "execute_result",
          "data": {
            "text/plain": [
              "<tf.Tensor: shape=(), dtype=float32, numpy=0.9671384>"
            ]
          },
          "metadata": {},
          "execution_count": 90
        }
      ],
      "source": [
        "#index on our larget value\n",
        "f[tf.argmax(f)]"
      ]
    },
    {
      "cell_type": "code",
      "execution_count": null,
      "metadata": {
        "colab": {
          "base_uri": "https://localhost:8080/"
        },
        "id": "7jNsQSXXfIL_",
        "outputId": "c513cc64-9305-4f76-9176-5d0e71611307"
      },
      "outputs": [
        {
          "output_type": "execute_result",
          "data": {
            "text/plain": [
              "<tf.Tensor: shape=(), dtype=float32, numpy=0.9671384>"
            ]
          },
          "metadata": {},
          "execution_count": 91
        }
      ],
      "source": [
        "tf.reduce_max(f)"
      ]
    },
    {
      "cell_type": "code",
      "source": [
        "f[tf.argmax(f)]==tf.reduce_max(f)"
      ],
      "metadata": {
        "colab": {
          "base_uri": "https://localhost:8080/"
        },
        "id": "iM99AN-piFde",
        "outputId": "9351dc81-5f0b-4c2d-93ba-c1b0ef0523b8"
      },
      "execution_count": null,
      "outputs": [
        {
          "output_type": "execute_result",
          "data": {
            "text/plain": [
              "<tf.Tensor: shape=(), dtype=bool, numpy=True>"
            ]
          },
          "metadata": {},
          "execution_count": 92
        }
      ]
    },
    {
      "cell_type": "code",
      "source": [
        "tf.argmin(f)"
      ],
      "metadata": {
        "colab": {
          "base_uri": "https://localhost:8080/"
        },
        "id": "x8uiODy6iQjG",
        "outputId": "10941390-354c-4ab5-89db-9814b0133d3f"
      },
      "execution_count": null,
      "outputs": [
        {
          "output_type": "execute_result",
          "data": {
            "text/plain": [
              "<tf.Tensor: shape=(), dtype=int64, numpy=16>"
            ]
          },
          "metadata": {},
          "execution_count": 93
        }
      ]
    },
    {
      "cell_type": "code",
      "source": [
        "f[tf.argmin(f)]"
      ],
      "metadata": {
        "colab": {
          "base_uri": "https://localhost:8080/"
        },
        "id": "24k5G2SOiTwn",
        "outputId": "029d165d-589c-4db3-b58d-9e68f99cb93c"
      },
      "execution_count": null,
      "outputs": [
        {
          "output_type": "execute_result",
          "data": {
            "text/plain": [
              "<tf.Tensor: shape=(), dtype=float32, numpy=0.009463668>"
            ]
          },
          "metadata": {},
          "execution_count": 94
        }
      ]
    },
    {
      "cell_type": "markdown",
      "source": [
        "One-hot encoding tensors"
      ],
      "metadata": {
        "id": "R6BDyvAaipaT"
      }
    },
    {
      "cell_type": "code",
      "source": [
        "list = [0, 1, 2, 3]\n",
        "tf.one_hot(list, depth=4)"
      ],
      "metadata": {
        "colab": {
          "base_uri": "https://localhost:8080/"
        },
        "id": "OJh5ayH_itLH",
        "outputId": "f6545008-6959-400d-dccc-72e0f7433840"
      },
      "execution_count": null,
      "outputs": [
        {
          "output_type": "execute_result",
          "data": {
            "text/plain": [
              "<tf.Tensor: shape=(4, 4), dtype=float32, numpy=\n",
              "array([[1., 0., 0., 0.],\n",
              "       [0., 1., 0., 0.],\n",
              "       [0., 0., 1., 0.],\n",
              "       [0., 0., 0., 1.]], dtype=float32)>"
            ]
          },
          "metadata": {},
          "execution_count": 95
        }
      ]
    },
    {
      "cell_type": "code",
      "source": [
        "#specifing custom values\n",
        "tf.one_hot(list, depth=4, on_value=\"yo I love deep learning\", off_value=\"I also like to dance\")"
      ],
      "metadata": {
        "colab": {
          "base_uri": "https://localhost:8080/"
        },
        "id": "f6aGiXrhi_mq",
        "outputId": "b5704986-4817-4006-e599-b72373ffba70"
      },
      "execution_count": null,
      "outputs": [
        {
          "output_type": "execute_result",
          "data": {
            "text/plain": [
              "<tf.Tensor: shape=(4, 4), dtype=string, numpy=\n",
              "array([[b'yo I love deep learning', b'I also like to dance',\n",
              "        b'I also like to dance', b'I also like to dance'],\n",
              "       [b'I also like to dance', b'yo I love deep learning',\n",
              "        b'I also like to dance', b'I also like to dance'],\n",
              "       [b'I also like to dance', b'I also like to dance',\n",
              "        b'yo I love deep learning', b'I also like to dance'],\n",
              "       [b'I also like to dance', b'I also like to dance',\n",
              "        b'I also like to dance', b'yo I love deep learning']],\n",
              "      dtype=object)>"
            ]
          },
          "metadata": {},
          "execution_count": 96
        }
      ]
    },
    {
      "cell_type": "markdown",
      "source": [
        "Tensors and NumPY"
      ],
      "metadata": {
        "id": "KCltfPG8jzN-"
      }
    },
    {
      "cell_type": "code",
      "source": [
        "j = tf.constant(np.array([3, 4, 5, 6]))\n",
        "j"
      ],
      "metadata": {
        "colab": {
          "base_uri": "https://localhost:8080/"
        },
        "id": "h1JfjHmij2XN",
        "outputId": "770377e2-32c1-4635-d17e-66ecd9f097b8"
      },
      "execution_count": null,
      "outputs": [
        {
          "output_type": "execute_result",
          "data": {
            "text/plain": [
              "<tf.Tensor: shape=(4,), dtype=int64, numpy=array([3, 4, 5, 6])>"
            ]
          },
          "metadata": {},
          "execution_count": 97
        }
      ]
    },
    {
      "cell_type": "code",
      "source": [
        "np.array(j), type(np.array(j))"
      ],
      "metadata": {
        "colab": {
          "base_uri": "https://localhost:8080/"
        },
        "id": "3QMPzkEvkAVn",
        "outputId": "d35058fb-f349-47cd-9900-56ce44b9884d"
      },
      "execution_count": null,
      "outputs": [
        {
          "output_type": "execute_result",
          "data": {
            "text/plain": [
              "(array([3, 4, 5, 6]), numpy.ndarray)"
            ]
          },
          "metadata": {},
          "execution_count": 98
        }
      ]
    },
    {
      "cell_type": "code",
      "source": [
        "j.numpy(), type(j.numpy())"
      ],
      "metadata": {
        "colab": {
          "base_uri": "https://localhost:8080/"
        },
        "id": "WeQvDKtEkAZK",
        "outputId": "b6bb458e-08f2-4559-b6e8-f93c2a770a95"
      },
      "execution_count": null,
      "outputs": [
        {
          "output_type": "execute_result",
          "data": {
            "text/plain": [
              "(array([3, 4, 5, 6]), numpy.ndarray)"
            ]
          },
          "metadata": {},
          "execution_count": 99
        }
      ]
    },
    {
      "cell_type": "code",
      "source": [
        "a = \"alekhya\"\n",
        "a"
      ],
      "metadata": {
        "id": "McH5ZLn5kWEA",
        "colab": {
          "base_uri": "https://localhost:8080/",
          "height": 36
        },
        "outputId": "2a94f001-de66-4a45-d37a-e95003aa4cc8"
      },
      "execution_count": null,
      "outputs": [
        {
          "output_type": "execute_result",
          "data": {
            "text/plain": [
              "'alekhya'"
            ],
            "application/vnd.google.colaboratory.intrinsic+json": {
              "type": "string"
            }
          },
          "metadata": {},
          "execution_count": 1
        }
      ]
    }
  ],
  "metadata": {
    "colab": {
      "provenance": []
    },
    "kernelspec": {
      "display_name": "Python 3",
      "name": "python3"
    },
    "language_info": {
      "name": "python"
    }
  },
  "nbformat": 4,
  "nbformat_minor": 0
}