{
  "nbformat": 4,
  "nbformat_minor": 0,
  "metadata": {
    "colab": {
      "provenance": []
    },
    "kernelspec": {
      "name": "python3",
      "display_name": "Python 3"
    },
    "language_info": {
      "name": "python"
    },
    "accelerator": "TPU"
  },
  "cells": [
    {
      "cell_type": "markdown",
      "source": [
        "# Introduction to neural network classification with tensorflow\n",
        "Types:\n",
        "* Binary\n",
        "* Multiclass\n",
        "* Multilabel"
      ],
      "metadata": {
        "id": "zbZdPhdbmf4e"
      }
    },
    {
      "cell_type": "code",
      "source": [
        "#creating data to view and fit\n",
        "from sklearn.datasets import make_circles\n",
        "\n",
        "n_samples = 1000\n",
        "\n",
        "x, y = make_circles(n_samples,\n",
        "                    noise=0.03,\n",
        "                    random_state=42)"
      ],
      "metadata": {
        "id": "Gqk3u62_m19O"
      },
      "execution_count": null,
      "outputs": []
    },
    {
      "cell_type": "code",
      "source": [
        "# check out the features\n",
        "x"
      ],
      "metadata": {
        "colab": {
          "base_uri": "https://localhost:8080/"
        },
        "id": "BwTg0hXunRQy",
        "outputId": "188b4c7e-7326-4eff-f1a1-c4a79906dfe3"
      },
      "execution_count": null,
      "outputs": [
        {
          "output_type": "execute_result",
          "data": {
            "text/plain": [
              "array([[ 0.75424625,  0.23148074],\n",
              "       [-0.75615888,  0.15325888],\n",
              "       [-0.81539193,  0.17328203],\n",
              "       ...,\n",
              "       [-0.13690036, -0.81001183],\n",
              "       [ 0.67036156, -0.76750154],\n",
              "       [ 0.28105665,  0.96382443]])"
            ]
          },
          "metadata": {},
          "execution_count": 2
        }
      ]
    },
    {
      "cell_type": "code",
      "source": [
        "# check out the labels\n",
        "y"
      ],
      "metadata": {
        "colab": {
          "base_uri": "https://localhost:8080/"
        },
        "id": "k06A5GSTnY7j",
        "outputId": "35198c33-06cb-4666-b84d-324bef404cad"
      },
      "execution_count": null,
      "outputs": [
        {
          "output_type": "execute_result",
          "data": {
            "text/plain": [
              "array([1, 1, 1, 1, 0, 1, 1, 1, 1, 0, 1, 0, 1, 1, 1, 1, 0, 1, 1, 0, 1, 0,\n",
              "       0, 1, 0, 0, 0, 1, 1, 1, 0, 0, 1, 0, 0, 0, 1, 1, 1, 0, 0, 0, 0, 1,\n",
              "       0, 0, 1, 1, 0, 1, 1, 1, 0, 1, 0, 0, 1, 0, 0, 1, 0, 0, 1, 0, 1, 1,\n",
              "       1, 1, 0, 1, 0, 0, 1, 1, 0, 0, 1, 0, 1, 0, 1, 0, 0, 0, 0, 1, 1, 1,\n",
              "       1, 0, 0, 0, 1, 0, 1, 0, 1, 0, 0, 1, 1, 0, 1, 0, 1, 1, 1, 1, 0, 1,\n",
              "       1, 1, 1, 1, 0, 0, 0, 1, 1, 0, 1, 0, 1, 0, 0, 1, 1, 0, 1, 1, 1, 1,\n",
              "       0, 1, 1, 0, 0, 0, 0, 0, 0, 0, 1, 0, 1, 1, 1, 0, 1, 0, 1, 0, 1, 0,\n",
              "       1, 0, 0, 1, 0, 1, 1, 1, 1, 1, 1, 1, 0, 1, 0, 0, 0, 0, 0, 1, 0, 0,\n",
              "       0, 0, 1, 1, 0, 1, 0, 1, 1, 0, 0, 0, 1, 1, 1, 1, 1, 0, 0, 0, 0, 0,\n",
              "       1, 0, 0, 1, 1, 1, 1, 1, 0, 1, 0, 1, 0, 0, 1, 1, 1, 0, 1, 0, 1, 1,\n",
              "       0, 1, 1, 0, 1, 0, 1, 0, 1, 1, 0, 1, 0, 1, 0, 0, 0, 1, 0, 0, 0, 0,\n",
              "       1, 1, 0, 0, 0, 0, 0, 0, 0, 1, 1, 1, 0, 0, 1, 1, 1, 0, 1, 0, 0, 0,\n",
              "       0, 1, 1, 0, 1, 0, 0, 0, 1, 0, 1, 0, 0, 1, 0, 1, 1, 1, 0, 0, 0, 1,\n",
              "       0, 0, 0, 1, 1, 1, 1, 0, 0, 0, 1, 0, 0, 0, 1, 0, 0, 0, 1, 1, 0, 1,\n",
              "       1, 1, 1, 1, 1, 1, 0, 0, 0, 0, 1, 0, 0, 0, 0, 1, 1, 1, 0, 0, 1, 0,\n",
              "       1, 0, 1, 1, 0, 0, 1, 1, 1, 1, 0, 0, 0, 0, 0, 0, 1, 1, 0, 1, 0, 0,\n",
              "       1, 0, 0, 0, 0, 0, 0, 0, 0, 1, 0, 0, 0, 0, 1, 0, 0, 1, 0, 1, 0, 0,\n",
              "       0, 1, 0, 0, 1, 1, 0, 0, 1, 0, 0, 1, 1, 0, 1, 1, 0, 0, 1, 0, 1, 0,\n",
              "       0, 0, 1, 1, 0, 0, 1, 1, 1, 1, 1, 0, 0, 1, 1, 1, 1, 0, 1, 1, 1, 1,\n",
              "       1, 0, 0, 1, 0, 1, 0, 0, 0, 0, 1, 0, 0, 0, 0, 0, 0, 0, 0, 0, 1, 1,\n",
              "       0, 1, 1, 1, 1, 1, 1, 0, 1, 1, 1, 1, 0, 0, 0, 1, 1, 1, 0, 0, 0, 0,\n",
              "       1, 1, 0, 0, 0, 0, 1, 0, 0, 0, 1, 0, 0, 1, 1, 1, 1, 1, 1, 0, 0, 0,\n",
              "       1, 0, 0, 0, 0, 0, 1, 1, 1, 0, 0, 0, 0, 0, 1, 1, 1, 0, 0, 1, 1, 1,\n",
              "       1, 0, 1, 1, 0, 1, 0, 0, 0, 1, 0, 0, 1, 0, 0, 1, 1, 0, 0, 1, 1, 0,\n",
              "       1, 0, 1, 0, 1, 0, 1, 0, 0, 0, 1, 0, 0, 0, 0, 0, 0, 1, 1, 1, 1, 0,\n",
              "       0, 0, 1, 0, 1, 1, 0, 0, 0, 0, 0, 1, 1, 1, 0, 0, 1, 0, 0, 1, 0, 0,\n",
              "       1, 0, 0, 1, 0, 0, 0, 1, 0, 0, 1, 1, 1, 0, 1, 1, 0, 0, 0, 1, 1, 1,\n",
              "       1, 0, 0, 1, 1, 1, 0, 0, 0, 0, 1, 1, 0, 0, 1, 1, 0, 0, 1, 1, 1, 1,\n",
              "       1, 1, 1, 0, 1, 0, 1, 0, 0, 1, 0, 1, 1, 1, 1, 0, 0, 1, 1, 0, 0, 1,\n",
              "       0, 1, 0, 0, 0, 1, 0, 0, 1, 1, 1, 1, 0, 1, 1, 1, 1, 1, 1, 1, 0, 1,\n",
              "       0, 1, 1, 1, 0, 0, 1, 0, 0, 0, 1, 1, 1, 1, 0, 0, 0, 0, 1, 0, 1, 1,\n",
              "       1, 0, 1, 0, 0, 1, 0, 0, 1, 1, 1, 1, 1, 0, 1, 0, 0, 0, 1, 1, 1, 1,\n",
              "       1, 0, 0, 0, 1, 1, 1, 1, 0, 0, 0, 0, 0, 1, 1, 0, 1, 0, 1, 0, 0, 0,\n",
              "       0, 0, 0, 0, 0, 0, 1, 1, 1, 1, 1, 0, 1, 0, 1, 1, 1, 1, 0, 1, 1, 1,\n",
              "       1, 1, 1, 1, 1, 0, 1, 1, 0, 1, 0, 0, 0, 1, 0, 1, 1, 1, 0, 1, 1, 0,\n",
              "       1, 1, 0, 1, 0, 1, 1, 0, 0, 1, 1, 1, 0, 0, 0, 0, 1, 1, 0, 0, 1, 1,\n",
              "       1, 1, 1, 1, 1, 1, 1, 1, 1, 1, 1, 1, 0, 0, 1, 0, 1, 0, 1, 0, 1, 1,\n",
              "       1, 1, 1, 1, 0, 1, 0, 1, 1, 1, 0, 1, 1, 0, 0, 1, 0, 1, 1, 0, 0, 1,\n",
              "       1, 1, 1, 1, 1, 1, 1, 0, 1, 1, 1, 0, 1, 0, 0, 1, 1, 0, 0, 0, 1, 0,\n",
              "       0, 1, 0, 0, 0, 1, 0, 1, 0, 0, 0, 0, 1, 0, 1, 1, 1, 1, 0, 1, 0, 0,\n",
              "       0, 0, 0, 0, 1, 0, 1, 0, 1, 0, 1, 1, 1, 0, 1, 0, 1, 0, 0, 1, 1, 1,\n",
              "       0, 0, 0, 1, 1, 0, 1, 0, 1, 1, 0, 1, 0, 0, 1, 1, 1, 0, 0, 0, 1, 1,\n",
              "       0, 0, 0, 0, 0, 1, 1, 0, 1, 0, 0, 0, 1, 0, 0, 0, 1, 1, 1, 1, 0, 1,\n",
              "       1, 1, 0, 1, 1, 1, 1, 0, 1, 1, 0, 1, 1, 0, 0, 1, 1, 1, 0, 0, 0, 0,\n",
              "       0, 0, 1, 0, 0, 1, 0, 0, 0, 1, 0, 1, 0, 1, 1, 0, 0, 0, 0, 0, 0, 0,\n",
              "       0, 1, 0, 1, 0, 0, 0, 1, 0, 0])"
            ]
          },
          "metadata": {},
          "execution_count": 3
        }
      ]
    },
    {
      "cell_type": "code",
      "source": [
        "y[:10]"
      ],
      "metadata": {
        "colab": {
          "base_uri": "https://localhost:8080/"
        },
        "id": "AN9tJ3m4ngEs",
        "outputId": "37cb416c-40fe-491d-ff30-d14a6501f935"
      },
      "execution_count": null,
      "outputs": [
        {
          "output_type": "execute_result",
          "data": {
            "text/plain": [
              "array([1, 1, 1, 1, 0, 1, 1, 1, 1, 0])"
            ]
          },
          "metadata": {},
          "execution_count": 4
        }
      ]
    },
    {
      "cell_type": "code",
      "source": [
        "# Let's visualize\n",
        "import pandas as pd\n",
        "\n",
        "circle = pd.DataFrame({\"XO\": x[:, 0], \"X1\" :x[:, 1], \"label\": y})\n",
        "circle"
      ],
      "metadata": {
        "colab": {
          "base_uri": "https://localhost:8080/",
          "height": 423
        },
        "id": "OtWRbwNWnmqf",
        "outputId": "19296ab2-be94-486b-da5f-d7f8d7600ed7"
      },
      "execution_count": null,
      "outputs": [
        {
          "output_type": "execute_result",
          "data": {
            "text/plain": [
              "           XO        X1  label\n",
              "0    0.754246  0.231481      1\n",
              "1   -0.756159  0.153259      1\n",
              "2   -0.815392  0.173282      1\n",
              "3   -0.393731  0.692883      1\n",
              "4    0.442208 -0.896723      0\n",
              "..        ...       ...    ...\n",
              "995  0.244054  0.944125      0\n",
              "996 -0.978655 -0.272373      0\n",
              "997 -0.136900 -0.810012      1\n",
              "998  0.670362 -0.767502      0\n",
              "999  0.281057  0.963824      0\n",
              "\n",
              "[1000 rows x 3 columns]"
            ],
            "text/html": [
              "\n",
              "  <div id=\"df-87dd66a9-4fa1-4831-b595-d0573d2d898b\" class=\"colab-df-container\">\n",
              "    <div>\n",
              "<style scoped>\n",
              "    .dataframe tbody tr th:only-of-type {\n",
              "        vertical-align: middle;\n",
              "    }\n",
              "\n",
              "    .dataframe tbody tr th {\n",
              "        vertical-align: top;\n",
              "    }\n",
              "\n",
              "    .dataframe thead th {\n",
              "        text-align: right;\n",
              "    }\n",
              "</style>\n",
              "<table border=\"1\" class=\"dataframe\">\n",
              "  <thead>\n",
              "    <tr style=\"text-align: right;\">\n",
              "      <th></th>\n",
              "      <th>XO</th>\n",
              "      <th>X1</th>\n",
              "      <th>label</th>\n",
              "    </tr>\n",
              "  </thead>\n",
              "  <tbody>\n",
              "    <tr>\n",
              "      <th>0</th>\n",
              "      <td>0.754246</td>\n",
              "      <td>0.231481</td>\n",
              "      <td>1</td>\n",
              "    </tr>\n",
              "    <tr>\n",
              "      <th>1</th>\n",
              "      <td>-0.756159</td>\n",
              "      <td>0.153259</td>\n",
              "      <td>1</td>\n",
              "    </tr>\n",
              "    <tr>\n",
              "      <th>2</th>\n",
              "      <td>-0.815392</td>\n",
              "      <td>0.173282</td>\n",
              "      <td>1</td>\n",
              "    </tr>\n",
              "    <tr>\n",
              "      <th>3</th>\n",
              "      <td>-0.393731</td>\n",
              "      <td>0.692883</td>\n",
              "      <td>1</td>\n",
              "    </tr>\n",
              "    <tr>\n",
              "      <th>4</th>\n",
              "      <td>0.442208</td>\n",
              "      <td>-0.896723</td>\n",
              "      <td>0</td>\n",
              "    </tr>\n",
              "    <tr>\n",
              "      <th>...</th>\n",
              "      <td>...</td>\n",
              "      <td>...</td>\n",
              "      <td>...</td>\n",
              "    </tr>\n",
              "    <tr>\n",
              "      <th>995</th>\n",
              "      <td>0.244054</td>\n",
              "      <td>0.944125</td>\n",
              "      <td>0</td>\n",
              "    </tr>\n",
              "    <tr>\n",
              "      <th>996</th>\n",
              "      <td>-0.978655</td>\n",
              "      <td>-0.272373</td>\n",
              "      <td>0</td>\n",
              "    </tr>\n",
              "    <tr>\n",
              "      <th>997</th>\n",
              "      <td>-0.136900</td>\n",
              "      <td>-0.810012</td>\n",
              "      <td>1</td>\n",
              "    </tr>\n",
              "    <tr>\n",
              "      <th>998</th>\n",
              "      <td>0.670362</td>\n",
              "      <td>-0.767502</td>\n",
              "      <td>0</td>\n",
              "    </tr>\n",
              "    <tr>\n",
              "      <th>999</th>\n",
              "      <td>0.281057</td>\n",
              "      <td>0.963824</td>\n",
              "      <td>0</td>\n",
              "    </tr>\n",
              "  </tbody>\n",
              "</table>\n",
              "<p>1000 rows × 3 columns</p>\n",
              "</div>\n",
              "    <div class=\"colab-df-buttons\">\n",
              "\n",
              "  <div class=\"colab-df-container\">\n",
              "    <button class=\"colab-df-convert\" onclick=\"convertToInteractive('df-87dd66a9-4fa1-4831-b595-d0573d2d898b')\"\n",
              "            title=\"Convert this dataframe to an interactive table.\"\n",
              "            style=\"display:none;\">\n",
              "\n",
              "  <svg xmlns=\"http://www.w3.org/2000/svg\" height=\"24px\" viewBox=\"0 -960 960 960\">\n",
              "    <path d=\"M120-120v-720h720v720H120Zm60-500h600v-160H180v160Zm220 220h160v-160H400v160Zm0 220h160v-160H400v160ZM180-400h160v-160H180v160Zm440 0h160v-160H620v160ZM180-180h160v-160H180v160Zm440 0h160v-160H620v160Z\"/>\n",
              "  </svg>\n",
              "    </button>\n",
              "\n",
              "  <style>\n",
              "    .colab-df-container {\n",
              "      display:flex;\n",
              "      gap: 12px;\n",
              "    }\n",
              "\n",
              "    .colab-df-convert {\n",
              "      background-color: #E8F0FE;\n",
              "      border: none;\n",
              "      border-radius: 50%;\n",
              "      cursor: pointer;\n",
              "      display: none;\n",
              "      fill: #1967D2;\n",
              "      height: 32px;\n",
              "      padding: 0 0 0 0;\n",
              "      width: 32px;\n",
              "    }\n",
              "\n",
              "    .colab-df-convert:hover {\n",
              "      background-color: #E2EBFA;\n",
              "      box-shadow: 0px 1px 2px rgba(60, 64, 67, 0.3), 0px 1px 3px 1px rgba(60, 64, 67, 0.15);\n",
              "      fill: #174EA6;\n",
              "    }\n",
              "\n",
              "    .colab-df-buttons div {\n",
              "      margin-bottom: 4px;\n",
              "    }\n",
              "\n",
              "    [theme=dark] .colab-df-convert {\n",
              "      background-color: #3B4455;\n",
              "      fill: #D2E3FC;\n",
              "    }\n",
              "\n",
              "    [theme=dark] .colab-df-convert:hover {\n",
              "      background-color: #434B5C;\n",
              "      box-shadow: 0px 1px 3px 1px rgba(0, 0, 0, 0.15);\n",
              "      filter: drop-shadow(0px 1px 2px rgba(0, 0, 0, 0.3));\n",
              "      fill: #FFFFFF;\n",
              "    }\n",
              "  </style>\n",
              "\n",
              "    <script>\n",
              "      const buttonEl =\n",
              "        document.querySelector('#df-87dd66a9-4fa1-4831-b595-d0573d2d898b button.colab-df-convert');\n",
              "      buttonEl.style.display =\n",
              "        google.colab.kernel.accessAllowed ? 'block' : 'none';\n",
              "\n",
              "      async function convertToInteractive(key) {\n",
              "        const element = document.querySelector('#df-87dd66a9-4fa1-4831-b595-d0573d2d898b');\n",
              "        const dataTable =\n",
              "          await google.colab.kernel.invokeFunction('convertToInteractive',\n",
              "                                                    [key], {});\n",
              "        if (!dataTable) return;\n",
              "\n",
              "        const docLinkHtml = 'Like what you see? Visit the ' +\n",
              "          '<a target=\"_blank\" href=https://colab.research.google.com/notebooks/data_table.ipynb>data table notebook</a>'\n",
              "          + ' to learn more about interactive tables.';\n",
              "        element.innerHTML = '';\n",
              "        dataTable['output_type'] = 'display_data';\n",
              "        await google.colab.output.renderOutput(dataTable, element);\n",
              "        const docLink = document.createElement('div');\n",
              "        docLink.innerHTML = docLinkHtml;\n",
              "        element.appendChild(docLink);\n",
              "      }\n",
              "    </script>\n",
              "  </div>\n",
              "\n",
              "\n",
              "<div id=\"df-c3068002-32de-4aee-bb1c-98f61ed1de8a\">\n",
              "  <button class=\"colab-df-quickchart\" onclick=\"quickchart('df-c3068002-32de-4aee-bb1c-98f61ed1de8a')\"\n",
              "            title=\"Suggest charts.\"\n",
              "            style=\"display:none;\">\n",
              "\n",
              "<svg xmlns=\"http://www.w3.org/2000/svg\" height=\"24px\"viewBox=\"0 0 24 24\"\n",
              "     width=\"24px\">\n",
              "    <g>\n",
              "        <path d=\"M19 3H5c-1.1 0-2 .9-2 2v14c0 1.1.9 2 2 2h14c1.1 0 2-.9 2-2V5c0-1.1-.9-2-2-2zM9 17H7v-7h2v7zm4 0h-2V7h2v10zm4 0h-2v-4h2v4z\"/>\n",
              "    </g>\n",
              "</svg>\n",
              "  </button>\n",
              "\n",
              "<style>\n",
              "  .colab-df-quickchart {\n",
              "      --bg-color: #E8F0FE;\n",
              "      --fill-color: #1967D2;\n",
              "      --hover-bg-color: #E2EBFA;\n",
              "      --hover-fill-color: #174EA6;\n",
              "      --disabled-fill-color: #AAA;\n",
              "      --disabled-bg-color: #DDD;\n",
              "  }\n",
              "\n",
              "  [theme=dark] .colab-df-quickchart {\n",
              "      --bg-color: #3B4455;\n",
              "      --fill-color: #D2E3FC;\n",
              "      --hover-bg-color: #434B5C;\n",
              "      --hover-fill-color: #FFFFFF;\n",
              "      --disabled-bg-color: #3B4455;\n",
              "      --disabled-fill-color: #666;\n",
              "  }\n",
              "\n",
              "  .colab-df-quickchart {\n",
              "    background-color: var(--bg-color);\n",
              "    border: none;\n",
              "    border-radius: 50%;\n",
              "    cursor: pointer;\n",
              "    display: none;\n",
              "    fill: var(--fill-color);\n",
              "    height: 32px;\n",
              "    padding: 0;\n",
              "    width: 32px;\n",
              "  }\n",
              "\n",
              "  .colab-df-quickchart:hover {\n",
              "    background-color: var(--hover-bg-color);\n",
              "    box-shadow: 0 1px 2px rgba(60, 64, 67, 0.3), 0 1px 3px 1px rgba(60, 64, 67, 0.15);\n",
              "    fill: var(--button-hover-fill-color);\n",
              "  }\n",
              "\n",
              "  .colab-df-quickchart-complete:disabled,\n",
              "  .colab-df-quickchart-complete:disabled:hover {\n",
              "    background-color: var(--disabled-bg-color);\n",
              "    fill: var(--disabled-fill-color);\n",
              "    box-shadow: none;\n",
              "  }\n",
              "\n",
              "  .colab-df-spinner {\n",
              "    border: 2px solid var(--fill-color);\n",
              "    border-color: transparent;\n",
              "    border-bottom-color: var(--fill-color);\n",
              "    animation:\n",
              "      spin 1s steps(1) infinite;\n",
              "  }\n",
              "\n",
              "  @keyframes spin {\n",
              "    0% {\n",
              "      border-color: transparent;\n",
              "      border-bottom-color: var(--fill-color);\n",
              "      border-left-color: var(--fill-color);\n",
              "    }\n",
              "    20% {\n",
              "      border-color: transparent;\n",
              "      border-left-color: var(--fill-color);\n",
              "      border-top-color: var(--fill-color);\n",
              "    }\n",
              "    30% {\n",
              "      border-color: transparent;\n",
              "      border-left-color: var(--fill-color);\n",
              "      border-top-color: var(--fill-color);\n",
              "      border-right-color: var(--fill-color);\n",
              "    }\n",
              "    40% {\n",
              "      border-color: transparent;\n",
              "      border-right-color: var(--fill-color);\n",
              "      border-top-color: var(--fill-color);\n",
              "    }\n",
              "    60% {\n",
              "      border-color: transparent;\n",
              "      border-right-color: var(--fill-color);\n",
              "    }\n",
              "    80% {\n",
              "      border-color: transparent;\n",
              "      border-right-color: var(--fill-color);\n",
              "      border-bottom-color: var(--fill-color);\n",
              "    }\n",
              "    90% {\n",
              "      border-color: transparent;\n",
              "      border-bottom-color: var(--fill-color);\n",
              "    }\n",
              "  }\n",
              "</style>\n",
              "\n",
              "  <script>\n",
              "    async function quickchart(key) {\n",
              "      const quickchartButtonEl =\n",
              "        document.querySelector('#' + key + ' button');\n",
              "      quickchartButtonEl.disabled = true;  // To prevent multiple clicks.\n",
              "      quickchartButtonEl.classList.add('colab-df-spinner');\n",
              "      try {\n",
              "        const charts = await google.colab.kernel.invokeFunction(\n",
              "            'suggestCharts', [key], {});\n",
              "      } catch (error) {\n",
              "        console.error('Error during call to suggestCharts:', error);\n",
              "      }\n",
              "      quickchartButtonEl.classList.remove('colab-df-spinner');\n",
              "      quickchartButtonEl.classList.add('colab-df-quickchart-complete');\n",
              "    }\n",
              "    (() => {\n",
              "      let quickchartButtonEl =\n",
              "        document.querySelector('#df-c3068002-32de-4aee-bb1c-98f61ed1de8a button');\n",
              "      quickchartButtonEl.style.display =\n",
              "        google.colab.kernel.accessAllowed ? 'block' : 'none';\n",
              "    })();\n",
              "  </script>\n",
              "</div>\n",
              "    </div>\n",
              "  </div>\n"
            ]
          },
          "metadata": {},
          "execution_count": 5
        }
      ]
    },
    {
      "cell_type": "code",
      "source": [
        "circle[\"label\"].value_counts()"
      ],
      "metadata": {
        "colab": {
          "base_uri": "https://localhost:8080/"
        },
        "id": "O243yFxexXW_",
        "outputId": "220628f6-0aab-40a7-c572-b740e2b34a4e"
      },
      "execution_count": null,
      "outputs": [
        {
          "output_type": "execute_result",
          "data": {
            "text/plain": [
              "1    500\n",
              "0    500\n",
              "Name: label, dtype: int64"
            ]
          },
          "metadata": {},
          "execution_count": 6
        }
      ]
    },
    {
      "cell_type": "code",
      "source": [
        "import matplotlib.pyplot as plt\n",
        "plt.scatter(x[:, 0], x[:, 1], c=y, cmap=plt.cm.RdYlBu)"
      ],
      "metadata": {
        "colab": {
          "base_uri": "https://localhost:8080/",
          "height": 447
        },
        "id": "uJFNG3-ioMUs",
        "outputId": "d07194ce-d1be-4ac9-ff86-7cdd8f01db39"
      },
      "execution_count": null,
      "outputs": [
        {
          "output_type": "execute_result",
          "data": {
            "text/plain": [
              "<matplotlib.collections.PathCollection at 0x7f1455384d90>"
            ]
          },
          "metadata": {},
          "execution_count": 7
        },
        {
          "output_type": "display_data",
          "data": {
            "text/plain": [
              "<Figure size 640x480 with 1 Axes>"
            ],
            "image/png": "[encoded data removed]"
          },
          "metadata": {}
        }
      ]
    },
    {
      "cell_type": "code",
      "source": [
        "# Input and output shapes of neural networks\n",
        "x.shape, y.shape"
      ],
      "metadata": {
        "colab": {
          "base_uri": "https://localhost:8080/"
        },
        "id": "30ztm35ho35p",
        "outputId": "b290b962-1b45-40d4-9e7e-2ea04124f2da"
      },
      "execution_count": null,
      "outputs": [
        {
          "output_type": "execute_result",
          "data": {
            "text/plain": [
              "((1000, 2), (1000,))"
            ]
          },
          "metadata": {},
          "execution_count": 8
        }
      ]
    },
    {
      "cell_type": "code",
      "source": [
        "x.dtype, y.dtype"
      ],
      "metadata": {
        "colab": {
          "base_uri": "https://localhost:8080/"
        },
        "id": "_YvBg9BsuyHF",
        "outputId": "87e71ed5-41a0-4f98-902a-9dd9121a094e"
      },
      "execution_count": null,
      "outputs": [
        {
          "output_type": "execute_result",
          "data": {
            "text/plain": [
              "(dtype('float64'), dtype('int64'))"
            ]
          },
          "metadata": {},
          "execution_count": 9
        }
      ]
    },
    {
      "cell_type": "code",
      "source": [
        "len(x), len(y)"
      ],
      "metadata": {
        "colab": {
          "base_uri": "https://localhost:8080/"
        },
        "id": "iZpe_8LVo-pr",
        "outputId": "f3921bb1-9407-4106-9a47-3805d55eca2e"
      },
      "execution_count": null,
      "outputs": [
        {
          "output_type": "execute_result",
          "data": {
            "text/plain": [
              "(1000, 1000)"
            ]
          },
          "metadata": {},
          "execution_count": 10
        }
      ]
    },
    {
      "cell_type": "code",
      "source": [
        "x[0], y[0]"
      ],
      "metadata": {
        "colab": {
          "base_uri": "https://localhost:8080/"
        },
        "id": "Qlxq_WIVpED-",
        "outputId": "e9f7dd62-2e71-4f87-9102-240c2002e348"
      },
      "execution_count": null,
      "outputs": [
        {
          "output_type": "execute_result",
          "data": {
            "text/plain": [
              "(array([0.75424625, 0.23148074]), 1)"
            ]
          },
          "metadata": {},
          "execution_count": 11
        }
      ]
    },
    {
      "cell_type": "code",
      "source": [
        "x[17], y[17]"
      ],
      "metadata": {
        "colab": {
          "base_uri": "https://localhost:8080/"
        },
        "id": "eMPm0F-6pIs1",
        "outputId": "92125f6b-fd05-4413-a24c-38da453378c1"
      },
      "execution_count": null,
      "outputs": [
        {
          "output_type": "execute_result",
          "data": {
            "text/plain": [
              "(array([ 0.1070617, -0.7930922]), 1)"
            ]
          },
          "metadata": {},
          "execution_count": 12
        }
      ]
    },
    {
      "cell_type": "markdown",
      "source": [
        "Steps in modelling\n",
        "1. create or import a model\n",
        "2. compile\n",
        "3. Fit the model\n",
        "4. evaluate\n",
        "5. tweak\n",
        "6. evaluate\n"
      ],
      "metadata": {
        "id": "wI-0wfQXpNCK"
      }
    },
    {
      "cell_type": "code",
      "source": [
        "#import tensorflow\n",
        "\n",
        "import tensorflow as tf\n",
        "tf.__version__"
      ],
      "metadata": {
        "colab": {
          "base_uri": "https://localhost:8080/",
          "height": 36
        },
        "id": "F4oOk_J_qrs1",
        "outputId": "2e514319-3d3c-429e-a7eb-da29e30ede62"
      },
      "execution_count": null,
      "outputs": [
        {
          "output_type": "execute_result",
          "data": {
            "text/plain": [
              "'2.12.0'"
            ],
            "application/vnd.google.colaboratory.intrinsic+json": {
              "type": "string"
            }
          },
          "metadata": {},
          "execution_count": 13
        }
      ]
    },
    {
      "cell_type": "code",
      "source": [
        "#Set the random seed\n",
        "tf.random.set_seed(42)\n",
        "\n",
        "# 1. create the model using Sequential API\n",
        "model = tf.keras.Sequential([\n",
        "    tf.keras.layers.Dense(1)\n",
        "])\n",
        "\n",
        "# 2. compile the model\n",
        "model.compile(loss = tf.keras.losses.BinaryCrossentropy(),\n",
        "              optimizer = tf.keras.optimizers.SGD(),\n",
        "              metrics=[\"accuracy\"])\n",
        "\n",
        "# 3. fit the model\n",
        "model.fit(x, y, epochs=5)"
      ],
      "metadata": {
        "colab": {
          "base_uri": "https://localhost:8080/"
        },
        "id": "b8G7pMDipy4o",
        "outputId": "12ce4a2f-4c9f-4e85-e459-38e8e3762c4d"
      },
      "execution_count": null,
      "outputs": [
        {
          "output_type": "stream",
          "name": "stdout",
          "text": [
            "Epoch 1/5\n",
            "32/32 [==============================] - 1s 4ms/step - loss: 4.6115 - accuracy: 0.4780\n",
            "Epoch 2/5\n",
            "32/32 [==============================] - 0s 3ms/step - loss: 2.0831 - accuracy: 0.5130\n",
            "Epoch 3/5\n",
            "32/32 [==============================] - 0s 3ms/step - loss: 0.7149 - accuracy: 0.5010\n",
            "Epoch 4/5\n",
            "32/32 [==============================] - 0s 3ms/step - loss: 0.7006 - accuracy: 0.4990\n",
            "Epoch 5/5\n",
            "32/32 [==============================] - 0s 3ms/step - loss: 0.6964 - accuracy: 0.4980\n"
          ]
        },
        {
          "output_type": "execute_result",
          "data": {
            "text/plain": [
              "<keras.callbacks.History at 0x7f1402f5f460>"
            ]
          },
          "metadata": {},
          "execution_count": 14
        }
      ]
    },
    {
      "cell_type": "code",
      "source": [
        "#Let's try improving our model by training it for longer\n",
        "model.fit(x, y, epochs=200)\n",
        "model.evaluate(x, y)"
      ],
      "metadata": {
        "colab": {
          "base_uri": "https://localhost:8080/"
        },
        "id": "BPwz6m8Av6W2",
        "outputId": "fb9138e0-15ac-484e-cf46-2fa1e2f33962"
      },
      "execution_count": null,
      "outputs": [
        {
          "output_type": "stream",
          "name": "stdout",
          "text": [
            "Epoch 1/200\n",
            "32/32 [==============================] - 0s 3ms/step - loss: 0.6951 - accuracy: 0.4970\n",
            "Epoch 2/200\n",
            "32/32 [==============================] - 0s 3ms/step - loss: 0.6944 - accuracy: 0.5110\n",
            "Epoch 3/200\n",
            "32/32 [==============================] - 0s 3ms/step - loss: 0.6947 - accuracy: 0.4580\n",
            "Epoch 4/200\n",
            "32/32 [==============================] - 0s 3ms/step - loss: 0.6941 - accuracy: 0.4750\n",
            "Epoch 5/200\n",
            "32/32 [==============================] - 0s 3ms/step - loss: 0.6940 - accuracy: 0.4640\n",
            "Epoch 6/200\n",
            "32/32 [==============================] - 0s 4ms/step - loss: 0.6936 - accuracy: 0.5100\n",
            "Epoch 7/200\n",
            "32/32 [==============================] - 0s 6ms/step - loss: 0.6943 - accuracy: 0.4910\n",
            "Epoch 8/200\n",
            "32/32 [==============================] - 0s 7ms/step - loss: 0.6941 - accuracy: 0.4730\n",
            "Epoch 9/200\n",
            "32/32 [==============================] - 0s 6ms/step - loss: 0.6940 - accuracy: 0.4850\n",
            "Epoch 10/200\n",
            "32/32 [==============================] - 0s 5ms/step - loss: 0.6938 - accuracy: 0.4780\n",
            "Epoch 11/200\n",
            "32/32 [==============================] - 0s 5ms/step - loss: 0.6944 - accuracy: 0.4550\n",
            "Epoch 12/200\n",
            "32/32 [==============================] - 0s 3ms/step - loss: 0.6945 - accuracy: 0.4760\n",
            "Epoch 13/200\n",
            "32/32 [==============================] - 0s 3ms/step - loss: 0.6943 - accuracy: 0.4880\n",
            "Epoch 14/200\n",
            "32/32 [==============================] - 0s 3ms/step - loss: 0.6944 - accuracy: 0.5030\n",
            "Epoch 15/200\n",
            "32/32 [==============================] - 0s 3ms/step - loss: 0.6941 - accuracy: 0.4490\n",
            "Epoch 16/200\n",
            "32/32 [==============================] - 0s 3ms/step - loss: 0.6944 - accuracy: 0.4890\n",
            "Epoch 17/200\n",
            "32/32 [==============================] - 0s 3ms/step - loss: 0.6941 - accuracy: 0.4910\n",
            "Epoch 18/200\n",
            "32/32 [==============================] - 0s 3ms/step - loss: 0.6940 - accuracy: 0.4760\n",
            "Epoch 19/200\n",
            "32/32 [==============================] - 0s 4ms/step - loss: 0.6941 - accuracy: 0.4820\n",
            "Epoch 20/200\n",
            "32/32 [==============================] - 0s 3ms/step - loss: 0.6941 - accuracy: 0.4550\n",
            "Epoch 21/200\n",
            "32/32 [==============================] - 0s 3ms/step - loss: 0.6939 - accuracy: 0.4900\n",
            "Epoch 22/200\n",
            "32/32 [==============================] - 0s 3ms/step - loss: 0.6942 - accuracy: 0.4690\n",
            "Epoch 23/200\n",
            "32/32 [==============================] - 0s 4ms/step - loss: 0.6940 - accuracy: 0.4840\n",
            "Epoch 24/200\n",
            "32/32 [==============================] - 0s 3ms/step - loss: 0.6942 - accuracy: 0.4680\n",
            "Epoch 25/200\n",
            "32/32 [==============================] - 0s 3ms/step - loss: 0.6939 - accuracy: 0.4890\n",
            "Epoch 26/200\n",
            "32/32 [==============================] - 0s 3ms/step - loss: 0.6943 - accuracy: 0.4740\n",
            "Epoch 27/200\n",
            "32/32 [==============================] - 0s 3ms/step - loss: 0.6938 - accuracy: 0.5060\n",
            "Epoch 28/200\n",
            "32/32 [==============================] - 0s 3ms/step - loss: 0.6943 - accuracy: 0.4690\n",
            "Epoch 29/200\n",
            "32/32 [==============================] - 0s 3ms/step - loss: 0.6942 - accuracy: 0.4620\n",
            "Epoch 30/200\n",
            "32/32 [==============================] - 0s 3ms/step - loss: 0.6941 - accuracy: 0.4870\n",
            "Epoch 31/200\n",
            "32/32 [==============================] - 0s 3ms/step - loss: 0.6942 - accuracy: 0.5230\n",
            "Epoch 32/200\n",
            "32/32 [==============================] - 0s 3ms/step - loss: 0.6941 - accuracy: 0.4670\n",
            "Epoch 33/200\n",
            "32/32 [==============================] - 0s 3ms/step - loss: 0.6942 - accuracy: 0.4760\n",
            "Epoch 34/200\n",
            "32/32 [==============================] - 0s 3ms/step - loss: 0.6946 - accuracy: 0.4590\n",
            "Epoch 35/200\n",
            "32/32 [==============================] - 0s 3ms/step - loss: 0.6941 - accuracy: 0.5010\n",
            "Epoch 36/200\n",
            "32/32 [==============================] - 0s 4ms/step - loss: 0.6943 - accuracy: 0.4710\n",
            "Epoch 37/200\n",
            "32/32 [==============================] - 0s 3ms/step - loss: 0.6940 - accuracy: 0.5020\n",
            "Epoch 38/200\n",
            "32/32 [==============================] - 0s 3ms/step - loss: 0.6940 - accuracy: 0.4670\n",
            "Epoch 39/200\n",
            "32/32 [==============================] - 0s 3ms/step - loss: 0.6941 - accuracy: 0.4350\n",
            "Epoch 40/200\n",
            "32/32 [==============================] - 0s 6ms/step - loss: 0.6948 - accuracy: 0.4720\n",
            "Epoch 41/200\n",
            "32/32 [==============================] - 0s 4ms/step - loss: 0.6941 - accuracy: 0.4730\n",
            "Epoch 42/200\n",
            "32/32 [==============================] - 0s 3ms/step - loss: 0.6941 - accuracy: 0.4640\n",
            "Epoch 43/200\n",
            "32/32 [==============================] - 1s 37ms/step - loss: 0.6942 - accuracy: 0.4850\n",
            "Epoch 44/200\n",
            "32/32 [==============================] - 0s 4ms/step - loss: 0.6935 - accuracy: 0.5080\n",
            "Epoch 45/200\n",
            "32/32 [==============================] - 0s 3ms/step - loss: 0.6944 - accuracy: 0.4710\n",
            "Epoch 46/200\n",
            "32/32 [==============================] - 0s 3ms/step - loss: 0.6942 - accuracy: 0.4850\n",
            "Epoch 47/200\n",
            "32/32 [==============================] - 0s 3ms/step - loss: 0.6939 - accuracy: 0.4940\n",
            "Epoch 48/200\n",
            "32/32 [==============================] - 0s 3ms/step - loss: 0.6939 - accuracy: 0.4900\n",
            "Epoch 49/200\n",
            "32/32 [==============================] - 0s 2ms/step - loss: 0.6941 - accuracy: 0.4770\n",
            "Epoch 50/200\n",
            "32/32 [==============================] - 0s 2ms/step - loss: 0.6941 - accuracy: 0.4980\n",
            "Epoch 51/200\n",
            "32/32 [==============================] - 0s 2ms/step - loss: 0.6942 - accuracy: 0.4820\n",
            "Epoch 52/200\n",
            "32/32 [==============================] - 0s 2ms/step - loss: 0.6941 - accuracy: 0.4890\n",
            "Epoch 53/200\n",
            "32/32 [==============================] - 0s 2ms/step - loss: 0.6939 - accuracy: 0.4690\n",
            "Epoch 54/200\n",
            "32/32 [==============================] - 0s 2ms/step - loss: 0.6943 - accuracy: 0.4920\n",
            "Epoch 55/200\n",
            "32/32 [==============================] - 0s 4ms/step - loss: 0.6942 - accuracy: 0.4970\n",
            "Epoch 56/200\n",
            "32/32 [==============================] - 0s 5ms/step - loss: 0.6940 - accuracy: 0.4800\n",
            "Epoch 57/200\n",
            "32/32 [==============================] - 0s 3ms/step - loss: 0.6944 - accuracy: 0.4710\n",
            "Epoch 58/200\n",
            "32/32 [==============================] - 0s 3ms/step - loss: 0.6942 - accuracy: 0.4870\n",
            "Epoch 59/200\n",
            "32/32 [==============================] - 0s 3ms/step - loss: 0.6939 - accuracy: 0.5030\n",
            "Epoch 60/200\n",
            "32/32 [==============================] - 0s 3ms/step - loss: 0.6942 - accuracy: 0.5060\n",
            "Epoch 61/200\n",
            "32/32 [==============================] - 0s 3ms/step - loss: 0.6944 - accuracy: 0.4990\n",
            "Epoch 62/200\n",
            "32/32 [==============================] - 0s 3ms/step - loss: 0.6941 - accuracy: 0.4760\n",
            "Epoch 63/200\n",
            "32/32 [==============================] - 0s 3ms/step - loss: 0.6940 - accuracy: 0.4690\n",
            "Epoch 64/200\n",
            "32/32 [==============================] - 0s 3ms/step - loss: 0.6942 - accuracy: 0.4930\n",
            "Epoch 65/200\n",
            "32/32 [==============================] - 0s 3ms/step - loss: 0.6943 - accuracy: 0.4690\n",
            "Epoch 66/200\n",
            "32/32 [==============================] - 0s 3ms/step - loss: 0.6940 - accuracy: 0.4770\n",
            "Epoch 67/200\n",
            "32/32 [==============================] - 0s 4ms/step - loss: 0.6945 - accuracy: 0.4670\n",
            "Epoch 68/200\n",
            "32/32 [==============================] - 0s 4ms/step - loss: 0.6939 - accuracy: 0.4680\n",
            "Epoch 69/200\n",
            "32/32 [==============================] - 0s 5ms/step - loss: 0.6943 - accuracy: 0.5070\n",
            "Epoch 70/200\n",
            "32/32 [==============================] - 0s 3ms/step - loss: 0.6943 - accuracy: 0.4630\n",
            "Epoch 71/200\n",
            "32/32 [==============================] - 0s 3ms/step - loss: 0.6939 - accuracy: 0.4820\n",
            "Epoch 72/200\n",
            "32/32 [==============================] - 0s 4ms/step - loss: 0.6942 - accuracy: 0.4890\n",
            "Epoch 73/200\n",
            "32/32 [==============================] - 0s 4ms/step - loss: 0.6941 - accuracy: 0.4760\n",
            "Epoch 74/200\n",
            "32/32 [==============================] - 0s 3ms/step - loss: 0.6940 - accuracy: 0.5090\n",
            "Epoch 75/200\n",
            "32/32 [==============================] - 0s 4ms/step - loss: 0.6941 - accuracy: 0.4940\n",
            "Epoch 76/200\n",
            "32/32 [==============================] - 0s 4ms/step - loss: 0.6940 - accuracy: 0.5010\n",
            "Epoch 77/200\n",
            "32/32 [==============================] - 0s 3ms/step - loss: 0.6942 - accuracy: 0.4870\n",
            "Epoch 78/200\n",
            "32/32 [==============================] - 0s 3ms/step - loss: 0.6941 - accuracy: 0.4610\n",
            "Epoch 79/200\n",
            "32/32 [==============================] - 0s 3ms/step - loss: 0.6940 - accuracy: 0.4860\n",
            "Epoch 80/200\n",
            "32/32 [==============================] - 0s 3ms/step - loss: 0.6943 - accuracy: 0.5050\n",
            "Epoch 81/200\n",
            "32/32 [==============================] - 0s 3ms/step - loss: 0.6943 - accuracy: 0.5050\n",
            "Epoch 82/200\n",
            "32/32 [==============================] - 0s 3ms/step - loss: 0.6941 - accuracy: 0.4690\n",
            "Epoch 83/200\n",
            "32/32 [==============================] - 0s 3ms/step - loss: 0.6941 - accuracy: 0.4930\n",
            "Epoch 84/200\n",
            "32/32 [==============================] - 0s 5ms/step - loss: 0.6942 - accuracy: 0.4960\n",
            "Epoch 85/200\n",
            "32/32 [==============================] - 0s 5ms/step - loss: 0.6939 - accuracy: 0.4930\n",
            "Epoch 86/200\n",
            "32/32 [==============================] - 0s 5ms/step - loss: 0.6940 - accuracy: 0.4880\n",
            "Epoch 87/200\n",
            "32/32 [==============================] - 0s 4ms/step - loss: 0.6942 - accuracy: 0.4720\n",
            "Epoch 88/200\n",
            "32/32 [==============================] - 0s 4ms/step - loss: 0.6944 - accuracy: 0.4470\n",
            "Epoch 89/200\n",
            "32/32 [==============================] - 0s 3ms/step - loss: 0.6945 - accuracy: 0.4720\n",
            "Epoch 90/200\n",
            "32/32 [==============================] - 0s 3ms/step - loss: 0.6941 - accuracy: 0.4820\n",
            "Epoch 91/200\n",
            "32/32 [==============================] - 0s 6ms/step - loss: 0.6944 - accuracy: 0.4860\n",
            "Epoch 92/200\n",
            "32/32 [==============================] - 0s 4ms/step - loss: 0.6941 - accuracy: 0.5050\n",
            "Epoch 93/200\n",
            "32/32 [==============================] - 0s 3ms/step - loss: 0.6941 - accuracy: 0.4720\n",
            "Epoch 94/200\n",
            "32/32 [==============================] - 0s 3ms/step - loss: 0.6946 - accuracy: 0.4770\n",
            "Epoch 95/200\n",
            "32/32 [==============================] - 0s 4ms/step - loss: 0.6940 - accuracy: 0.4760\n",
            "Epoch 96/200\n",
            "32/32 [==============================] - 0s 6ms/step - loss: 0.6945 - accuracy: 0.4610\n",
            "Epoch 97/200\n",
            "32/32 [==============================] - 0s 4ms/step - loss: 0.6942 - accuracy: 0.4690\n",
            "Epoch 98/200\n",
            "32/32 [==============================] - 0s 5ms/step - loss: 0.6942 - accuracy: 0.4840\n",
            "Epoch 99/200\n",
            "32/32 [==============================] - 0s 5ms/step - loss: 0.6944 - accuracy: 0.4980\n",
            "Epoch 100/200\n",
            "32/32 [==============================] - 0s 7ms/step - loss: 0.6943 - accuracy: 0.4850\n",
            "Epoch 101/200\n",
            "32/32 [==============================] - 0s 7ms/step - loss: 0.6939 - accuracy: 0.5060\n",
            "Epoch 102/200\n",
            "32/32 [==============================] - 0s 4ms/step - loss: 0.6946 - accuracy: 0.4750\n",
            "Epoch 103/200\n",
            "32/32 [==============================] - 0s 6ms/step - loss: 0.6944 - accuracy: 0.4760\n",
            "Epoch 104/200\n",
            "32/32 [==============================] - 0s 4ms/step - loss: 0.6941 - accuracy: 0.4900\n",
            "Epoch 105/200\n",
            "32/32 [==============================] - 0s 3ms/step - loss: 0.6939 - accuracy: 0.4960\n",
            "Epoch 106/200\n",
            "32/32 [==============================] - 0s 4ms/step - loss: 0.6940 - accuracy: 0.4950\n",
            "Epoch 107/200\n",
            "32/32 [==============================] - 0s 3ms/step - loss: 0.6938 - accuracy: 0.4690\n",
            "Epoch 108/200\n",
            "32/32 [==============================] - 0s 3ms/step - loss: 0.6943 - accuracy: 0.4940\n",
            "Epoch 109/200\n",
            "32/32 [==============================] - 0s 5ms/step - loss: 0.6942 - accuracy: 0.4510\n",
            "Epoch 110/200\n",
            "32/32 [==============================] - 0s 4ms/step - loss: 0.6944 - accuracy: 0.4570\n",
            "Epoch 111/200\n",
            "32/32 [==============================] - 0s 4ms/step - loss: 0.6943 - accuracy: 0.4820\n",
            "Epoch 112/200\n",
            "32/32 [==============================] - 0s 3ms/step - loss: 0.6946 - accuracy: 0.4770\n",
            "Epoch 113/200\n",
            "32/32 [==============================] - 0s 3ms/step - loss: 0.6944 - accuracy: 0.4740\n",
            "Epoch 114/200\n",
            "32/32 [==============================] - 0s 4ms/step - loss: 0.6944 - accuracy: 0.4660\n",
            "Epoch 115/200\n",
            "32/32 [==============================] - 0s 4ms/step - loss: 0.6941 - accuracy: 0.4690\n",
            "Epoch 116/200\n",
            "32/32 [==============================] - 0s 4ms/step - loss: 0.6942 - accuracy: 0.4830\n",
            "Epoch 117/200\n",
            "32/32 [==============================] - 0s 3ms/step - loss: 0.6943 - accuracy: 0.5000\n",
            "Epoch 118/200\n",
            "32/32 [==============================] - 0s 3ms/step - loss: 0.6939 - accuracy: 0.4990\n",
            "Epoch 119/200\n",
            "32/32 [==============================] - 0s 11ms/step - loss: 0.6944 - accuracy: 0.4750\n",
            "Epoch 120/200\n",
            "32/32 [==============================] - 0s 7ms/step - loss: 0.6940 - accuracy: 0.4980\n",
            "Epoch 121/200\n",
            "32/32 [==============================] - 0s 7ms/step - loss: 0.6942 - accuracy: 0.4740\n",
            "Epoch 122/200\n",
            "32/32 [==============================] - 0s 6ms/step - loss: 0.6941 - accuracy: 0.4920\n",
            "Epoch 123/200\n",
            "32/32 [==============================] - 0s 6ms/step - loss: 0.6944 - accuracy: 0.4640\n",
            "Epoch 124/200\n",
            "32/32 [==============================] - 0s 6ms/step - loss: 0.6943 - accuracy: 0.4660\n",
            "Epoch 125/200\n",
            "32/32 [==============================] - 0s 3ms/step - loss: 0.6940 - accuracy: 0.4800\n",
            "Epoch 126/200\n",
            "32/32 [==============================] - 0s 4ms/step - loss: 0.6941 - accuracy: 0.4960\n",
            "Epoch 127/200\n",
            "32/32 [==============================] - 0s 3ms/step - loss: 0.6942 - accuracy: 0.4760\n",
            "Epoch 128/200\n",
            "32/32 [==============================] - 0s 5ms/step - loss: 0.6943 - accuracy: 0.4920\n",
            "Epoch 129/200\n",
            "32/32 [==============================] - 0s 6ms/step - loss: 0.6939 - accuracy: 0.5100\n",
            "Epoch 130/200\n",
            "32/32 [==============================] - 0s 9ms/step - loss: 0.6936 - accuracy: 0.4840\n",
            "Epoch 131/200\n",
            "32/32 [==============================] - 0s 7ms/step - loss: 0.6944 - accuracy: 0.4780\n",
            "Epoch 132/200\n",
            "32/32 [==============================] - 0s 8ms/step - loss: 0.6939 - accuracy: 0.4760\n",
            "Epoch 133/200\n",
            "32/32 [==============================] - 0s 7ms/step - loss: 0.6942 - accuracy: 0.4800\n",
            "Epoch 134/200\n",
            "32/32 [==============================] - 0s 8ms/step - loss: 0.6944 - accuracy: 0.4740\n",
            "Epoch 135/200\n",
            "32/32 [==============================] - 0s 6ms/step - loss: 0.6943 - accuracy: 0.4670\n",
            "Epoch 136/200\n",
            "32/32 [==============================] - 0s 7ms/step - loss: 0.6944 - accuracy: 0.4590\n",
            "Epoch 137/200\n",
            "32/32 [==============================] - 0s 8ms/step - loss: 0.6943 - accuracy: 0.4840\n",
            "Epoch 138/200\n",
            "32/32 [==============================] - 0s 8ms/step - loss: 0.6943 - accuracy: 0.4610\n",
            "Epoch 139/200\n",
            "32/32 [==============================] - 0s 7ms/step - loss: 0.6942 - accuracy: 0.4810\n",
            "Epoch 140/200\n",
            "32/32 [==============================] - 0s 9ms/step - loss: 0.6942 - accuracy: 0.4610\n",
            "Epoch 141/200\n",
            "32/32 [==============================] - 0s 8ms/step - loss: 0.6941 - accuracy: 0.4630\n",
            "Epoch 142/200\n",
            "32/32 [==============================] - 0s 7ms/step - loss: 0.6941 - accuracy: 0.4790\n",
            "Epoch 143/200\n",
            "32/32 [==============================] - 0s 7ms/step - loss: 0.6943 - accuracy: 0.4790\n",
            "Epoch 144/200\n",
            "32/32 [==============================] - 0s 8ms/step - loss: 0.6943 - accuracy: 0.4650\n",
            "Epoch 145/200\n",
            "32/32 [==============================] - 0s 9ms/step - loss: 0.6943 - accuracy: 0.4990\n",
            "Epoch 146/200\n",
            "32/32 [==============================] - 0s 7ms/step - loss: 0.6945 - accuracy: 0.4570\n",
            "Epoch 147/200\n",
            "32/32 [==============================] - 0s 8ms/step - loss: 0.6943 - accuracy: 0.5110\n",
            "Epoch 148/200\n",
            "32/32 [==============================] - 0s 8ms/step - loss: 0.6943 - accuracy: 0.4880\n",
            "Epoch 149/200\n",
            "32/32 [==============================] - 0s 9ms/step - loss: 0.6941 - accuracy: 0.4500\n",
            "Epoch 150/200\n",
            "32/32 [==============================] - 0s 6ms/step - loss: 0.6943 - accuracy: 0.4700\n",
            "Epoch 151/200\n",
            "32/32 [==============================] - 0s 10ms/step - loss: 0.6938 - accuracy: 0.4620\n",
            "Epoch 152/200\n",
            "32/32 [==============================] - 0s 7ms/step - loss: 0.6940 - accuracy: 0.4990\n",
            "Epoch 153/200\n",
            "32/32 [==============================] - 0s 8ms/step - loss: 0.6942 - accuracy: 0.4870\n",
            "Epoch 154/200\n",
            "32/32 [==============================] - 0s 7ms/step - loss: 0.6936 - accuracy: 0.4810\n",
            "Epoch 155/200\n",
            "32/32 [==============================] - 0s 6ms/step - loss: 0.6944 - accuracy: 0.4780\n",
            "Epoch 156/200\n",
            "32/32 [==============================] - 0s 9ms/step - loss: 0.6944 - accuracy: 0.4680\n",
            "Epoch 157/200\n",
            "32/32 [==============================] - 0s 7ms/step - loss: 0.6944 - accuracy: 0.4990\n",
            "Epoch 158/200\n",
            "32/32 [==============================] - 0s 12ms/step - loss: 0.6940 - accuracy: 0.4940\n",
            "Epoch 159/200\n",
            "32/32 [==============================] - 0s 10ms/step - loss: 0.6943 - accuracy: 0.4710\n",
            "Epoch 160/200\n",
            "32/32 [==============================] - 0s 10ms/step - loss: 0.6943 - accuracy: 0.4880\n",
            "Epoch 161/200\n",
            "32/32 [==============================] - 0s 5ms/step - loss: 0.6942 - accuracy: 0.4770\n",
            "Epoch 162/200\n",
            "32/32 [==============================] - 0s 4ms/step - loss: 0.6943 - accuracy: 0.4920\n",
            "Epoch 163/200\n",
            "32/32 [==============================] - 0s 6ms/step - loss: 0.6946 - accuracy: 0.4690\n",
            "Epoch 164/200\n",
            "32/32 [==============================] - 0s 5ms/step - loss: 0.6943 - accuracy: 0.4610\n",
            "Epoch 165/200\n",
            "32/32 [==============================] - 0s 3ms/step - loss: 0.6939 - accuracy: 0.4970\n",
            "Epoch 166/200\n",
            "32/32 [==============================] - 0s 3ms/step - loss: 0.6942 - accuracy: 0.4800\n",
            "Epoch 167/200\n",
            "32/32 [==============================] - 0s 4ms/step - loss: 0.6948 - accuracy: 0.4930\n",
            "Epoch 168/200\n",
            "32/32 [==============================] - 0s 4ms/step - loss: 0.6941 - accuracy: 0.4690\n",
            "Epoch 169/200\n",
            "32/32 [==============================] - 0s 4ms/step - loss: 0.6940 - accuracy: 0.4880\n",
            "Epoch 170/200\n",
            "32/32 [==============================] - 0s 6ms/step - loss: 0.6938 - accuracy: 0.4850\n",
            "Epoch 171/200\n",
            "32/32 [==============================] - 0s 3ms/step - loss: 0.6939 - accuracy: 0.4980\n",
            "Epoch 172/200\n",
            "32/32 [==============================] - 0s 3ms/step - loss: 0.6942 - accuracy: 0.4770\n",
            "Epoch 173/200\n",
            "32/32 [==============================] - 0s 3ms/step - loss: 0.6942 - accuracy: 0.4730\n",
            "Epoch 174/200\n",
            "32/32 [==============================] - 0s 3ms/step - loss: 0.6943 - accuracy: 0.4950\n",
            "Epoch 175/200\n",
            "32/32 [==============================] - 0s 3ms/step - loss: 0.6946 - accuracy: 0.4900\n",
            "Epoch 176/200\n",
            "32/32 [==============================] - 0s 4ms/step - loss: 0.6942 - accuracy: 0.4770\n",
            "Epoch 177/200\n",
            "32/32 [==============================] - 0s 3ms/step - loss: 0.6941 - accuracy: 0.4670\n",
            "Epoch 178/200\n",
            "32/32 [==============================] - 0s 10ms/step - loss: 0.6941 - accuracy: 0.4840\n",
            "Epoch 179/200\n",
            "32/32 [==============================] - 0s 7ms/step - loss: 0.6943 - accuracy: 0.4880\n",
            "Epoch 180/200\n",
            "32/32 [==============================] - 0s 4ms/step - loss: 0.6942 - accuracy: 0.4960\n",
            "Epoch 181/200\n",
            "32/32 [==============================] - 0s 3ms/step - loss: 0.6943 - accuracy: 0.4890\n",
            "Epoch 182/200\n",
            "32/32 [==============================] - 0s 3ms/step - loss: 0.6941 - accuracy: 0.4760\n",
            "Epoch 183/200\n",
            "32/32 [==============================] - 0s 3ms/step - loss: 0.6942 - accuracy: 0.5030\n",
            "Epoch 184/200\n",
            "32/32 [==============================] - 0s 3ms/step - loss: 0.6943 - accuracy: 0.4890\n",
            "Epoch 185/200\n",
            "32/32 [==============================] - 0s 3ms/step - loss: 0.6944 - accuracy: 0.4890\n",
            "Epoch 186/200\n",
            "32/32 [==============================] - 0s 3ms/step - loss: 0.6945 - accuracy: 0.4810\n",
            "Epoch 187/200\n",
            "32/32 [==============================] - 0s 4ms/step - loss: 0.6943 - accuracy: 0.4760\n",
            "Epoch 188/200\n",
            "32/32 [==============================] - 0s 3ms/step - loss: 0.6943 - accuracy: 0.4910\n",
            "Epoch 189/200\n",
            "32/32 [==============================] - 0s 3ms/step - loss: 0.6940 - accuracy: 0.5120\n",
            "Epoch 190/200\n",
            "32/32 [==============================] - 0s 4ms/step - loss: 0.6943 - accuracy: 0.4720\n",
            "Epoch 191/200\n",
            "32/32 [==============================] - 0s 5ms/step - loss: 0.6941 - accuracy: 0.4770\n",
            "Epoch 192/200\n",
            "32/32 [==============================] - 0s 5ms/step - loss: 0.6940 - accuracy: 0.4970\n",
            "Epoch 193/200\n",
            "32/32 [==============================] - 0s 3ms/step - loss: 0.6939 - accuracy: 0.4720\n",
            "Epoch 194/200\n",
            "32/32 [==============================] - 0s 4ms/step - loss: 0.6941 - accuracy: 0.4940\n",
            "Epoch 195/200\n",
            "32/32 [==============================] - 0s 3ms/step - loss: 0.6942 - accuracy: 0.4660\n",
            "Epoch 196/200\n",
            "32/32 [==============================] - 0s 6ms/step - loss: 0.6943 - accuracy: 0.4740\n",
            "Epoch 197/200\n",
            "32/32 [==============================] - 0s 4ms/step - loss: 0.6942 - accuracy: 0.4890\n",
            "Epoch 198/200\n",
            "32/32 [==============================] - 0s 4ms/step - loss: 0.6943 - accuracy: 0.4830\n",
            "Epoch 199/200\n",
            "32/32 [==============================] - 0s 4ms/step - loss: 0.6937 - accuracy: 0.5120\n",
            "Epoch 200/200\n",
            "32/32 [==============================] - 0s 4ms/step - loss: 0.6941 - accuracy: 0.4810\n",
            "32/32 [==============================] - 1s 5ms/step - loss: 0.6935 - accuracy: 0.5000\n"
          ]
        },
        {
          "output_type": "execute_result",
          "data": {
            "text/plain": [
              "[0.6934831142425537, 0.5]"
            ]
          },
          "metadata": {},
          "execution_count": 15
        }
      ]
    },
    {
      "cell_type": "markdown",
      "source": [
        "Since we are working on binary classification its getting around 50% accuracy.\n",
        "\n",
        "So let's add an extra layer"
      ],
      "metadata": {
        "id": "p1Mwl3CBwLq-"
      }
    },
    {
      "cell_type": "code",
      "source": [
        "tf.random.set_seed(42)\n",
        "\n",
        "model_2 = tf.keras.Sequential([\n",
        "    tf.keras.layers.Dense(1),\n",
        "    tf.keras.layers.Dense(1)\n",
        "])\n",
        "\n",
        "model_2.compile(loss=tf.keras.losses.BinaryCrossentropy(),\n",
        "                optimizer=tf.keras.optimizers.SGD(),\n",
        "                metrics=[\"accuracy\"])\n",
        "\n",
        "model_2.fit(x, y, epochs=100, verbose=0)"
      ],
      "metadata": {
        "colab": {
          "base_uri": "https://localhost:8080/"
        },
        "id": "TCCSmosgwXCu",
        "outputId": "75072213-4a4d-4183-e384-2a2c8188d576"
      },
      "execution_count": null,
      "outputs": [
        {
          "output_type": "execute_result",
          "data": {
            "text/plain": [
              "<keras.callbacks.History at 0x7f140020cbe0>"
            ]
          },
          "metadata": {},
          "execution_count": 16
        }
      ]
    },
    {
      "cell_type": "code",
      "source": [
        "model_2.evaluate(x, y) #loss is same and accuracy is 50"
      ],
      "metadata": {
        "colab": {
          "base_uri": "https://localhost:8080/"
        },
        "id": "h_bn_MSkxM09",
        "outputId": "81f24b29-5afd-4391-8603-79ff0aadb174"
      },
      "execution_count": null,
      "outputs": [
        {
          "output_type": "stream",
          "name": "stdout",
          "text": [
            "32/32 [==============================] - 0s 3ms/step - loss: 0.6947 - accuracy: 0.5000\n"
          ]
        },
        {
          "output_type": "execute_result",
          "data": {
            "text/plain": [
              "[0.6946721076965332, 0.5]"
            ]
          },
          "metadata": {},
          "execution_count": 17
        }
      ]
    },
    {
      "cell_type": "markdown",
      "source": [
        "Improving the model(choose different optimization) or fit our model for more epochs"
      ],
      "metadata": {
        "id": "NQha3qHAxkah"
      }
    },
    {
      "cell_type": "code",
      "source": [
        "tf.random.set_seed(42)\n",
        "\n",
        "model_3 = tf.keras.Sequential([\n",
        "    tf.keras.layers.Dense(100),\n",
        "    tf.keras.layers.Dense(10),\n",
        "    tf.keras.layers.Dense(1)\n",
        "])\n",
        "\n",
        "model_3.compile(loss=tf.keras.losses.BinaryCrossentropy(),\n",
        "                optimizer=tf.keras.optimizers.Adam(),\n",
        "                metrics=[\"accuracy\"])\n",
        "\n",
        "model_3.fit(x, y, epochs=100, verbose=1)"
      ],
      "metadata": {
        "colab": {
          "base_uri": "https://localhost:8080/"
        },
        "id": "9fTNJUicx4xy",
        "outputId": "ab934632-a080-40ee-c4bf-671da54aef25"
      },
      "execution_count": null,
      "outputs": [
        {
          "output_type": "stream",
          "name": "stdout",
          "text": [
            "Epoch 1/100\n",
            "32/32 [==============================] - 2s 4ms/step - loss: 3.5421 - accuracy: 0.4640\n",
            "Epoch 2/100\n",
            "32/32 [==============================] - 0s 4ms/step - loss: 1.2376 - accuracy: 0.4710\n",
            "Epoch 3/100\n",
            "32/32 [==============================] - 0s 4ms/step - loss: 0.7620 - accuracy: 0.5000\n",
            "Epoch 4/100\n",
            "32/32 [==============================] - 0s 4ms/step - loss: 0.7377 - accuracy: 0.5000\n",
            "Epoch 5/100\n",
            "32/32 [==============================] - 0s 4ms/step - loss: 0.7237 - accuracy: 0.5000\n",
            "Epoch 6/100\n",
            "32/32 [==============================] - 0s 5ms/step - loss: 0.7130 - accuracy: 0.5000\n",
            "Epoch 7/100\n",
            "32/32 [==============================] - 0s 4ms/step - loss: 0.7057 - accuracy: 0.5000\n",
            "Epoch 8/100\n",
            "32/32 [==============================] - 0s 4ms/step - loss: 0.7008 - accuracy: 0.5000\n",
            "Epoch 9/100\n",
            "32/32 [==============================] - 0s 4ms/step - loss: 0.6974 - accuracy: 0.5000\n",
            "Epoch 10/100\n",
            "32/32 [==============================] - 0s 4ms/step - loss: 0.6955 - accuracy: 0.5000\n",
            "Epoch 11/100\n",
            "32/32 [==============================] - 0s 3ms/step - loss: 0.6946 - accuracy: 0.5000\n",
            "Epoch 12/100\n",
            "32/32 [==============================] - 0s 2ms/step - loss: 0.6940 - accuracy: 0.4600\n",
            "Epoch 13/100\n",
            "32/32 [==============================] - 0s 3ms/step - loss: 0.6938 - accuracy: 0.4650\n",
            "Epoch 14/100\n",
            "32/32 [==============================] - 0s 2ms/step - loss: 0.6936 - accuracy: 0.4750\n",
            "Epoch 15/100\n",
            "32/32 [==============================] - 0s 3ms/step - loss: 0.6935 - accuracy: 0.4600\n",
            "Epoch 16/100\n",
            "32/32 [==============================] - 0s 2ms/step - loss: 0.6934 - accuracy: 0.4720\n",
            "Epoch 17/100\n",
            "32/32 [==============================] - 0s 2ms/step - loss: 0.6940 - accuracy: 0.4860\n",
            "Epoch 18/100\n",
            "32/32 [==============================] - 0s 2ms/step - loss: 0.6935 - accuracy: 0.4660\n",
            "Epoch 19/100\n",
            "32/32 [==============================] - 0s 2ms/step - loss: 0.6938 - accuracy: 0.4920\n",
            "Epoch 20/100\n",
            "32/32 [==============================] - 0s 2ms/step - loss: 0.6941 - accuracy: 0.4810\n",
            "Epoch 21/100\n",
            "32/32 [==============================] - 0s 2ms/step - loss: 0.6938 - accuracy: 0.5000\n",
            "Epoch 22/100\n",
            "32/32 [==============================] - 0s 2ms/step - loss: 0.6936 - accuracy: 0.4400\n",
            "Epoch 23/100\n",
            "32/32 [==============================] - 0s 2ms/step - loss: 0.6936 - accuracy: 0.4670\n",
            "Epoch 24/100\n",
            "32/32 [==============================] - 0s 2ms/step - loss: 0.6942 - accuracy: 0.4820\n",
            "Epoch 25/100\n",
            "32/32 [==============================] - 0s 2ms/step - loss: 0.6943 - accuracy: 0.4820\n",
            "Epoch 26/100\n",
            "32/32 [==============================] - 0s 2ms/step - loss: 0.6940 - accuracy: 0.5030\n",
            "Epoch 27/100\n",
            "32/32 [==============================] - 0s 3ms/step - loss: 0.6942 - accuracy: 0.5140\n",
            "Epoch 28/100\n",
            "32/32 [==============================] - 0s 2ms/step - loss: 0.6934 - accuracy: 0.5070\n",
            "Epoch 29/100\n",
            "32/32 [==============================] - 0s 2ms/step - loss: 0.6954 - accuracy: 0.4620\n",
            "Epoch 30/100\n",
            "32/32 [==============================] - 0s 2ms/step - loss: 0.6950 - accuracy: 0.4740\n",
            "Epoch 31/100\n",
            "32/32 [==============================] - 0s 2ms/step - loss: 0.6945 - accuracy: 0.4910\n",
            "Epoch 32/100\n",
            "32/32 [==============================] - 0s 2ms/step - loss: 0.6942 - accuracy: 0.4780\n",
            "Epoch 33/100\n",
            "32/32 [==============================] - 0s 3ms/step - loss: 0.6941 - accuracy: 0.4560\n",
            "Epoch 34/100\n",
            "32/32 [==============================] - 0s 2ms/step - loss: 0.6946 - accuracy: 0.4730\n",
            "Epoch 35/100\n",
            "32/32 [==============================] - 0s 2ms/step - loss: 0.6943 - accuracy: 0.4850\n",
            "Epoch 36/100\n",
            "32/32 [==============================] - 0s 2ms/step - loss: 0.6936 - accuracy: 0.4830\n",
            "Epoch 37/100\n",
            "32/32 [==============================] - 0s 2ms/step - loss: 0.6937 - accuracy: 0.4880\n",
            "Epoch 38/100\n",
            "32/32 [==============================] - 0s 2ms/step - loss: 0.6948 - accuracy: 0.4840\n",
            "Epoch 39/100\n",
            "32/32 [==============================] - 0s 2ms/step - loss: 0.6935 - accuracy: 0.4870\n",
            "Epoch 40/100\n",
            "32/32 [==============================] - 0s 3ms/step - loss: 0.6948 - accuracy: 0.4980\n",
            "Epoch 41/100\n",
            "32/32 [==============================] - 0s 2ms/step - loss: 0.6962 - accuracy: 0.4950\n",
            "Epoch 42/100\n",
            "32/32 [==============================] - 0s 2ms/step - loss: 0.6948 - accuracy: 0.4670\n",
            "Epoch 43/100\n",
            "32/32 [==============================] - 0s 2ms/step - loss: 0.6941 - accuracy: 0.5030\n",
            "Epoch 44/100\n",
            "32/32 [==============================] - 0s 2ms/step - loss: 0.6948 - accuracy: 0.4750\n",
            "Epoch 45/100\n",
            "32/32 [==============================] - 0s 2ms/step - loss: 0.6941 - accuracy: 0.4870\n",
            "Epoch 46/100\n",
            "32/32 [==============================] - 0s 2ms/step - loss: 0.6940 - accuracy: 0.5010\n",
            "Epoch 47/100\n",
            "32/32 [==============================] - 0s 2ms/step - loss: 0.6946 - accuracy: 0.4900\n",
            "Epoch 48/100\n",
            "32/32 [==============================] - 0s 2ms/step - loss: 0.6944 - accuracy: 0.4890\n",
            "Epoch 49/100\n",
            "32/32 [==============================] - 0s 2ms/step - loss: 0.6946 - accuracy: 0.4810\n",
            "Epoch 50/100\n",
            "32/32 [==============================] - 0s 2ms/step - loss: 0.6940 - accuracy: 0.4680\n",
            "Epoch 51/100\n",
            "32/32 [==============================] - 0s 2ms/step - loss: 0.6949 - accuracy: 0.4940\n",
            "Epoch 52/100\n",
            "32/32 [==============================] - 0s 3ms/step - loss: 0.6945 - accuracy: 0.5140\n",
            "Epoch 53/100\n",
            "32/32 [==============================] - 0s 2ms/step - loss: 0.6958 - accuracy: 0.4870\n",
            "Epoch 54/100\n",
            "32/32 [==============================] - 0s 2ms/step - loss: 0.6942 - accuracy: 0.4930\n",
            "Epoch 55/100\n",
            "32/32 [==============================] - 0s 2ms/step - loss: 0.6951 - accuracy: 0.5080\n",
            "Epoch 56/100\n",
            "32/32 [==============================] - 0s 2ms/step - loss: 0.6948 - accuracy: 0.4940\n",
            "Epoch 57/100\n",
            "32/32 [==============================] - 0s 2ms/step - loss: 0.6946 - accuracy: 0.4850\n",
            "Epoch 58/100\n",
            "32/32 [==============================] - 0s 2ms/step - loss: 0.6948 - accuracy: 0.5060\n",
            "Epoch 59/100\n",
            "32/32 [==============================] - 0s 2ms/step - loss: 0.6963 - accuracy: 0.5200\n",
            "Epoch 60/100\n",
            "32/32 [==============================] - 0s 2ms/step - loss: 0.6942 - accuracy: 0.4980\n",
            "Epoch 61/100\n",
            "32/32 [==============================] - 0s 2ms/step - loss: 0.6956 - accuracy: 0.4770\n",
            "Epoch 62/100\n",
            "32/32 [==============================] - 0s 2ms/step - loss: 0.6949 - accuracy: 0.4860\n",
            "Epoch 63/100\n",
            "32/32 [==============================] - 0s 2ms/step - loss: 0.6941 - accuracy: 0.4900\n",
            "Epoch 64/100\n",
            "32/32 [==============================] - 0s 2ms/step - loss: 0.6952 - accuracy: 0.4920\n",
            "Epoch 65/100\n",
            "32/32 [==============================] - 0s 2ms/step - loss: 0.6951 - accuracy: 0.4930\n",
            "Epoch 66/100\n",
            "32/32 [==============================] - 0s 2ms/step - loss: 0.6942 - accuracy: 0.5160\n",
            "Epoch 67/100\n",
            "32/32 [==============================] - 0s 2ms/step - loss: 0.6948 - accuracy: 0.4630\n",
            "Epoch 68/100\n",
            "32/32 [==============================] - 0s 2ms/step - loss: 0.6949 - accuracy: 0.4960\n",
            "Epoch 69/100\n",
            "32/32 [==============================] - 0s 2ms/step - loss: 0.6943 - accuracy: 0.5110\n",
            "Epoch 70/100\n",
            "32/32 [==============================] - 0s 2ms/step - loss: 0.6948 - accuracy: 0.4910\n",
            "Epoch 71/100\n",
            "32/32 [==============================] - 0s 2ms/step - loss: 0.6947 - accuracy: 0.4670\n",
            "Epoch 72/100\n",
            "32/32 [==============================] - 0s 2ms/step - loss: 0.6948 - accuracy: 0.4820\n",
            "Epoch 73/100\n",
            "32/32 [==============================] - 0s 2ms/step - loss: 0.6955 - accuracy: 0.4970\n",
            "Epoch 74/100\n",
            "32/32 [==============================] - 0s 2ms/step - loss: 0.6950 - accuracy: 0.5020\n",
            "Epoch 75/100\n",
            "32/32 [==============================] - 0s 2ms/step - loss: 0.6954 - accuracy: 0.4970\n",
            "Epoch 76/100\n",
            "32/32 [==============================] - 0s 2ms/step - loss: 0.6958 - accuracy: 0.4660\n",
            "Epoch 77/100\n",
            "32/32 [==============================] - 0s 3ms/step - loss: 0.6948 - accuracy: 0.4980\n",
            "Epoch 78/100\n",
            "32/32 [==============================] - 0s 2ms/step - loss: 0.6956 - accuracy: 0.4620\n",
            "Epoch 79/100\n",
            "32/32 [==============================] - 0s 2ms/step - loss: 0.6959 - accuracy: 0.4900\n",
            "Epoch 80/100\n",
            "32/32 [==============================] - 0s 2ms/step - loss: 0.6956 - accuracy: 0.5110\n",
            "Epoch 81/100\n",
            "32/32 [==============================] - 0s 2ms/step - loss: 0.6959 - accuracy: 0.4890\n",
            "Epoch 82/100\n",
            "32/32 [==============================] - 0s 2ms/step - loss: 0.6958 - accuracy: 0.4910\n",
            "Epoch 83/100\n",
            "32/32 [==============================] - 0s 2ms/step - loss: 0.6948 - accuracy: 0.4740\n",
            "Epoch 84/100\n",
            "32/32 [==============================] - 0s 2ms/step - loss: 0.6942 - accuracy: 0.5000\n",
            "Epoch 85/100\n",
            "32/32 [==============================] - 0s 2ms/step - loss: 0.6948 - accuracy: 0.4700\n",
            "Epoch 86/100\n",
            "32/32 [==============================] - 0s 2ms/step - loss: 0.6965 - accuracy: 0.5090\n",
            "Epoch 87/100\n",
            "32/32 [==============================] - 0s 2ms/step - loss: 0.6948 - accuracy: 0.4680\n",
            "Epoch 88/100\n",
            "32/32 [==============================] - 0s 2ms/step - loss: 0.6949 - accuracy: 0.4440\n",
            "Epoch 89/100\n",
            "32/32 [==============================] - 0s 2ms/step - loss: 0.6953 - accuracy: 0.4730\n",
            "Epoch 90/100\n",
            "32/32 [==============================] - 0s 2ms/step - loss: 0.6958 - accuracy: 0.4710\n",
            "Epoch 91/100\n",
            "32/32 [==============================] - 0s 2ms/step - loss: 0.6951 - accuracy: 0.4900\n",
            "Epoch 92/100\n",
            "32/32 [==============================] - 0s 2ms/step - loss: 0.6958 - accuracy: 0.4930\n",
            "Epoch 93/100\n",
            "32/32 [==============================] - 0s 2ms/step - loss: 0.6975 - accuracy: 0.4470\n",
            "Epoch 94/100\n",
            "32/32 [==============================] - 0s 2ms/step - loss: 0.6960 - accuracy: 0.4900\n",
            "Epoch 95/100\n",
            "32/32 [==============================] - 0s 2ms/step - loss: 0.6961 - accuracy: 0.4690\n",
            "Epoch 96/100\n",
            "32/32 [==============================] - 0s 2ms/step - loss: 0.6956 - accuracy: 0.4890\n",
            "Epoch 97/100\n",
            "32/32 [==============================] - 0s 3ms/step - loss: 0.6959 - accuracy: 0.4730\n",
            "Epoch 98/100\n",
            "32/32 [==============================] - 0s 3ms/step - loss: 0.6959 - accuracy: 0.4910\n",
            "Epoch 99/100\n",
            "32/32 [==============================] - 0s 3ms/step - loss: 0.6958 - accuracy: 0.4970\n",
            "Epoch 100/100\n",
            "32/32 [==============================] - 0s 2ms/step - loss: 0.6955 - accuracy: 0.5030\n"
          ]
        },
        {
          "output_type": "execute_result",
          "data": {
            "text/plain": [
              "<keras.callbacks.History at 0x7f1400223100>"
            ]
          },
          "metadata": {},
          "execution_count": 18
        }
      ]
    },
    {
      "cell_type": "code",
      "source": [
        "model_3.summary()"
      ],
      "metadata": {
        "colab": {
          "base_uri": "https://localhost:8080/"
        },
        "id": "ujyiwhFqym0t",
        "outputId": "c09eb731-1d73-4b68-cd9d-f0731feb65d2"
      },
      "execution_count": null,
      "outputs": [
        {
          "output_type": "stream",
          "name": "stdout",
          "text": [
            "Model: \"sequential_2\"\n",
            "_________________________________________________________________\n",
            " Layer (type)                Output Shape              Param #   \n",
            "=================================================================\n",
            " dense_3 (Dense)             (None, 100)               300       \n",
            "                                                                 \n",
            " dense_4 (Dense)             (None, 10)                1010      \n",
            "                                                                 \n",
            " dense_5 (Dense)             (None, 1)                 11        \n",
            "                                                                 \n",
            "=================================================================\n",
            "Total params: 1,321\n",
            "Trainable params: 1,321\n",
            "Non-trainable params: 0\n",
            "_________________________________________________________________\n"
          ]
        }
      ]
    },
    {
      "cell_type": "code",
      "source": [
        "model_3.evaluate(x, y)"
      ],
      "metadata": {
        "colab": {
          "base_uri": "https://localhost:8080/"
        },
        "id": "H7PHmd0syppH",
        "outputId": "9bb59480-b3de-4caa-bc6a-0764277ae50c"
      },
      "execution_count": null,
      "outputs": [
        {
          "output_type": "stream",
          "name": "stdout",
          "text": [
            "32/32 [==============================] - 0s 2ms/step - loss: 0.6967 - accuracy: 0.4990\n"
          ]
        },
        {
          "output_type": "execute_result",
          "data": {
            "text/plain": [
              "[0.6966644525527954, 0.49900001287460327]"
            ]
          },
          "metadata": {},
          "execution_count": 20
        }
      ]
    },
    {
      "cell_type": "code",
      "source": [
        "model_3.predict(x)"
      ],
      "metadata": {
        "colab": {
          "base_uri": "https://localhost:8080/"
        },
        "id": "1zn58T1Kywh8",
        "outputId": "b44801b6-3dd4-4fc2-d536-c0bf12657607"
      },
      "execution_count": null,
      "outputs": [
        {
          "output_type": "stream",
          "name": "stdout",
          "text": [
            "32/32 [==============================] - 0s 1ms/step\n"
          ]
        },
        {
          "output_type": "execute_result",
          "data": {
            "text/plain": [
              "array([[0.46562132],\n",
              "       [0.54319626],\n",
              "       [0.54712737],\n",
              "       [0.5446292 ],\n",
              "       [0.43884608],\n",
              "       [0.54858005],\n",
              "       [0.52860224],\n",
              "       [0.46147773],\n",
              "       [0.47544795],\n",
              "       [0.5427525 ],\n",
              "       [0.51029104],\n",
              "       [0.499085  ],\n",
              "       [0.5352354 ],\n",
              "       [0.44496343],\n",
              "       [0.4422904 ],\n",
              "       [0.4574213 ],\n",
              "       [0.53372514],\n",
              "       [0.46071592],\n",
              "       [0.53673434],\n",
              "       [0.5025233 ],\n",
              "       [0.48083207],\n",
              "       [0.5598146 ],\n",
              "       [0.45974237],\n",
              "       [0.46819848],\n",
              "       [0.5630538 ],\n",
              "       [0.5546223 ],\n",
              "       [0.51937115],\n",
              "       [0.44696692],\n",
              "       [0.4537578 ],\n",
              "       [0.4439491 ],\n",
              "       [0.47895426],\n",
              "       [0.54712397],\n",
              "       [0.52666354],\n",
              "       [0.44381225],\n",
              "       [0.46063203],\n",
              "       [0.5654784 ],\n",
              "       [0.549233  ],\n",
              "       [0.50054586],\n",
              "       [0.4542556 ],\n",
              "       [0.48188102],\n",
              "       [0.49902177],\n",
              "       [0.5137207 ],\n",
              "       [0.5089185 ],\n",
              "       [0.4431879 ],\n",
              "       [0.51906526],\n",
              "       [0.5320684 ],\n",
              "       [0.44312105],\n",
              "       [0.51477   ],\n",
              "       [0.42884627],\n",
              "       [0.49132717],\n",
              "       [0.49510103],\n",
              "       [0.46254393],\n",
              "       [0.54302585],\n",
              "       [0.49490014],\n",
              "       [0.4590079 ],\n",
              "       [0.46260458],\n",
              "       [0.5234875 ],\n",
              "       [0.45010155],\n",
              "       [0.56255275],\n",
              "       [0.50079834],\n",
              "       [0.5152167 ],\n",
              "       [0.4742859 ],\n",
              "       [0.4774803 ],\n",
              "       [0.5644659 ],\n",
              "       [0.5147875 ],\n",
              "       [0.5501494 ],\n",
              "       [0.5407493 ],\n",
              "       [0.47167477],\n",
              "       [0.49093223],\n",
              "       [0.47636965],\n",
              "       [0.5227835 ],\n",
              "       [0.44011635],\n",
              "       [0.50462383],\n",
              "       [0.5431356 ],\n",
              "       [0.52127457],\n",
              "       [0.5258264 ],\n",
              "       [0.53639734],\n",
              "       [0.46796677],\n",
              "       [0.51070046],\n",
              "       [0.5129688 ],\n",
              "       [0.54358506],\n",
              "       [0.48646635],\n",
              "       [0.5313013 ],\n",
              "       [0.4923076 ],\n",
              "       [0.50136304],\n",
              "       [0.48136148],\n",
              "       [0.4508369 ],\n",
              "       [0.54931647],\n",
              "       [0.54062456],\n",
              "       [0.49876794],\n",
              "       [0.45154437],\n",
              "       [0.4325279 ],\n",
              "       [0.46351564],\n",
              "       [0.563311  ],\n",
              "       [0.5224836 ],\n",
              "       [0.42887023],\n",
              "       [0.53437483],\n",
              "       [0.51040083],\n",
              "       [0.4883686 ],\n",
              "       [0.49330243],\n",
              "       [0.5456155 ],\n",
              "       [0.4723669 ],\n",
              "       [0.4452213 ],\n",
              "       [0.54453   ],\n",
              "       [0.53209984],\n",
              "       [0.5408102 ],\n",
              "       [0.4838979 ],\n",
              "       [0.44396532],\n",
              "       [0.55419075],\n",
              "       [0.45088735],\n",
              "       [0.46731284],\n",
              "       [0.5012682 ],\n",
              "       [0.45339975],\n",
              "       [0.5049203 ],\n",
              "       [0.50423276],\n",
              "       [0.43229893],\n",
              "       [0.5605392 ],\n",
              "       [0.4489439 ],\n",
              "       [0.47324342],\n",
              "       [0.5209883 ],\n",
              "       [0.4568519 ],\n",
              "       [0.43255454],\n",
              "       [0.5506806 ],\n",
              "       [0.54789025],\n",
              "       [0.55900097],\n",
              "       [0.48684257],\n",
              "       [0.49917045],\n",
              "       [0.43355623],\n",
              "       [0.46953925],\n",
              "       [0.51622206],\n",
              "       [0.51132977],\n",
              "       [0.47874305],\n",
              "       [0.54009736],\n",
              "       [0.45131165],\n",
              "       [0.4687095 ],\n",
              "       [0.48269108],\n",
              "       [0.5315685 ],\n",
              "       [0.56201434],\n",
              "       [0.45980605],\n",
              "       [0.49675405],\n",
              "       [0.47107556],\n",
              "       [0.54725665],\n",
              "       [0.5478118 ],\n",
              "       [0.5342909 ],\n",
              "       [0.45751083],\n",
              "       [0.44808742],\n",
              "       [0.5075897 ],\n",
              "       [0.55229765],\n",
              "       [0.49905154],\n",
              "       [0.4994961 ],\n",
              "       [0.53684956],\n",
              "       [0.5509868 ],\n",
              "       [0.44879976],\n",
              "       [0.43475592],\n",
              "       [0.44506115],\n",
              "       [0.43336174],\n",
              "       [0.51165646],\n",
              "       [0.54702675],\n",
              "       [0.48574463],\n",
              "       [0.4592049 ],\n",
              "       [0.5144367 ],\n",
              "       [0.5306048 ],\n",
              "       [0.53560805],\n",
              "       [0.54258597],\n",
              "       [0.47172323],\n",
              "       [0.54430956],\n",
              "       [0.5192348 ],\n",
              "       [0.54924315],\n",
              "       [0.50639284],\n",
              "       [0.511093  ],\n",
              "       [0.4680268 ],\n",
              "       [0.43708256],\n",
              "       [0.52455664],\n",
              "       [0.45080027],\n",
              "       [0.4346583 ],\n",
              "       [0.46698055],\n",
              "       [0.5455412 ],\n",
              "       [0.5434762 ],\n",
              "       [0.5112344 ],\n",
              "       [0.54654413],\n",
              "       [0.4372528 ],\n",
              "       [0.5460131 ],\n",
              "       [0.4569667 ],\n",
              "       [0.46719363],\n",
              "       [0.4880484 ],\n",
              "       [0.5439373 ],\n",
              "       [0.47174743],\n",
              "       [0.46331456],\n",
              "       [0.4446825 ],\n",
              "       [0.5422734 ],\n",
              "       [0.44610798],\n",
              "       [0.49458852],\n",
              "       [0.5413658 ],\n",
              "       [0.5617648 ],\n",
              "       [0.56281596],\n",
              "       [0.44411138],\n",
              "       [0.48971948],\n",
              "       [0.56279653],\n",
              "       [0.5206    ],\n",
              "       [0.49729395],\n",
              "       [0.45997927],\n",
              "       [0.47074607],\n",
              "       [0.54917026],\n",
              "       [0.4849425 ],\n",
              "       [0.49176246],\n",
              "       [0.50907826],\n",
              "       [0.5579777 ],\n",
              "       [0.4471166 ],\n",
              "       [0.44309753],\n",
              "       [0.4989618 ],\n",
              "       [0.49168733],\n",
              "       [0.54748845],\n",
              "       [0.44736835],\n",
              "       [0.49529094],\n",
              "       [0.5367658 ],\n",
              "       [0.48931846],\n",
              "       [0.544169  ],\n",
              "       [0.5501661 ],\n",
              "       [0.4518692 ],\n",
              "       [0.545465  ],\n",
              "       [0.5147464 ],\n",
              "       [0.5463723 ],\n",
              "       [0.44717607],\n",
              "       [0.4750708 ],\n",
              "       [0.4545549 ],\n",
              "       [0.4437209 ],\n",
              "       [0.4770777 ],\n",
              "       [0.47547233],\n",
              "       [0.4504846 ],\n",
              "       [0.4721812 ],\n",
              "       [0.48379552],\n",
              "       [0.4529863 ],\n",
              "       [0.4378487 ],\n",
              "       [0.49865377],\n",
              "       [0.4644574 ],\n",
              "       [0.46325478],\n",
              "       [0.5582103 ],\n",
              "       [0.44013807],\n",
              "       [0.56475013],\n",
              "       [0.49302873],\n",
              "       [0.44613674],\n",
              "       [0.56079495],\n",
              "       [0.45983383],\n",
              "       [0.5159561 ],\n",
              "       [0.51753926],\n",
              "       [0.5262373 ],\n",
              "       [0.43524057],\n",
              "       [0.49731064],\n",
              "       [0.501857  ],\n",
              "       [0.52680945],\n",
              "       [0.5010775 ],\n",
              "       [0.45021346],\n",
              "       [0.5227023 ],\n",
              "       [0.45841876],\n",
              "       [0.448702  ],\n",
              "       [0.5010471 ],\n",
              "       [0.46206433],\n",
              "       [0.44639778],\n",
              "       [0.44501862],\n",
              "       [0.4482979 ],\n",
              "       [0.5493551 ],\n",
              "       [0.43412927],\n",
              "       [0.5120509 ],\n",
              "       [0.543489  ],\n",
              "       [0.47146612],\n",
              "       [0.46798366],\n",
              "       [0.51555663],\n",
              "       [0.4561141 ],\n",
              "       [0.53075993],\n",
              "       [0.45368338],\n",
              "       [0.43821114],\n",
              "       [0.53142875],\n",
              "       [0.45543247],\n",
              "       [0.5506068 ],\n",
              "       [0.4662849 ],\n",
              "       [0.45503953],\n",
              "       [0.564507  ],\n",
              "       [0.5171715 ],\n",
              "       [0.5004938 ],\n",
              "       [0.5217059 ],\n",
              "       [0.5027495 ],\n",
              "       [0.5176217 ],\n",
              "       [0.55391574],\n",
              "       [0.525962  ],\n",
              "       [0.56234676],\n",
              "       [0.55092007],\n",
              "       [0.47352242],\n",
              "       [0.43275174],\n",
              "       [0.55716425],\n",
              "       [0.4454356 ],\n",
              "       [0.44390616],\n",
              "       [0.51749605],\n",
              "       [0.4536434 ],\n",
              "       [0.4317216 ],\n",
              "       [0.46528783],\n",
              "       [0.43141145],\n",
              "       [0.44543678],\n",
              "       [0.43693438],\n",
              "       [0.44932243],\n",
              "       [0.5537568 ],\n",
              "       [0.47390345],\n",
              "       [0.43173984],\n",
              "       [0.4391382 ],\n",
              "       [0.43647882],\n",
              "       [0.52711356],\n",
              "       [0.4444116 ],\n",
              "       [0.48532993],\n",
              "       [0.49454746],\n",
              "       [0.44499537],\n",
              "       [0.49235204],\n",
              "       [0.510169  ],\n",
              "       [0.4675597 ],\n",
              "       [0.500998  ],\n",
              "       [0.54712874],\n",
              "       [0.43471122],\n",
              "       [0.4296731 ],\n",
              "       [0.5579205 ],\n",
              "       [0.47529867],\n",
              "       [0.5486081 ],\n",
              "       [0.5593289 ],\n",
              "       [0.49869832],\n",
              "       [0.5467299 ],\n",
              "       [0.51691747],\n",
              "       [0.5287373 ],\n",
              "       [0.5254681 ],\n",
              "       [0.4576291 ],\n",
              "       [0.4809265 ],\n",
              "       [0.43514556],\n",
              "       [0.5504144 ],\n",
              "       [0.53859824],\n",
              "       [0.5476207 ],\n",
              "       [0.50481784],\n",
              "       [0.5463474 ],\n",
              "       [0.52486384],\n",
              "       [0.4419121 ],\n",
              "       [0.50568926],\n",
              "       [0.549362  ],\n",
              "       [0.4814176 ],\n",
              "       [0.4635107 ],\n",
              "       [0.46922076],\n",
              "       [0.43328744],\n",
              "       [0.44206494],\n",
              "       [0.55834615],\n",
              "       [0.53434175],\n",
              "       [0.4501865 ],\n",
              "       [0.43680835],\n",
              "       [0.4824936 ],\n",
              "       [0.45459184],\n",
              "       [0.5108681 ],\n",
              "       [0.44332513],\n",
              "       [0.5625273 ],\n",
              "       [0.53691894],\n",
              "       [0.45765004],\n",
              "       [0.49418768],\n",
              "       [0.5234759 ],\n",
              "       [0.54166514],\n",
              "       [0.51905257],\n",
              "       [0.431829  ],\n",
              "       [0.49284336],\n",
              "       [0.546199  ],\n",
              "       [0.43577442],\n",
              "       [0.5013776 ],\n",
              "       [0.54328585],\n",
              "       [0.43242797],\n",
              "       [0.55589247],\n",
              "       [0.46082005],\n",
              "       [0.5299415 ],\n",
              "       [0.5631454 ],\n",
              "       [0.44980827],\n",
              "       [0.47484788],\n",
              "       [0.5564253 ],\n",
              "       [0.549087  ],\n",
              "       [0.5459105 ],\n",
              "       [0.5609654 ],\n",
              "       [0.4464333 ],\n",
              "       [0.54202455],\n",
              "       [0.436614  ],\n",
              "       [0.49825385],\n",
              "       [0.45103514],\n",
              "       [0.5056242 ],\n",
              "       [0.5511921 ],\n",
              "       [0.54915506],\n",
              "       [0.52243775],\n",
              "       [0.55636835],\n",
              "       [0.5599794 ],\n",
              "       [0.44952157],\n",
              "       [0.45923224],\n",
              "       [0.5386119 ],\n",
              "       [0.44840264],\n",
              "       [0.5305926 ],\n",
              "       [0.5625642 ],\n",
              "       [0.46991858],\n",
              "       [0.5492799 ],\n",
              "       [0.5220475 ],\n",
              "       [0.5044714 ],\n",
              "       [0.48468858],\n",
              "       [0.4433696 ],\n",
              "       [0.4329503 ],\n",
              "       [0.5381147 ],\n",
              "       [0.45259994],\n",
              "       [0.45514223],\n",
              "       [0.4320883 ],\n",
              "       [0.47363508],\n",
              "       [0.46977177],\n",
              "       [0.5215752 ],\n",
              "       [0.5479549 ],\n",
              "       [0.44830728],\n",
              "       [0.49198988],\n",
              "       [0.47906342],\n",
              "       [0.45427456],\n",
              "       [0.46445185],\n",
              "       [0.4468566 ],\n",
              "       [0.5245278 ],\n",
              "       [0.5396246 ],\n",
              "       [0.50450236],\n",
              "       [0.5503962 ],\n",
              "       [0.5473477 ],\n",
              "       [0.49298745],\n",
              "       [0.46348312],\n",
              "       [0.43320048],\n",
              "       [0.4554377 ],\n",
              "       [0.54915524],\n",
              "       [0.43574828],\n",
              "       [0.49493727],\n",
              "       [0.43274543],\n",
              "       [0.46426135],\n",
              "       [0.50355434],\n",
              "       [0.48395118],\n",
              "       [0.53654385],\n",
              "       [0.5383179 ],\n",
              "       [0.5302662 ],\n",
              "       [0.4676247 ],\n",
              "       [0.47410053],\n",
              "       [0.4323147 ],\n",
              "       [0.53352135],\n",
              "       [0.44947892],\n",
              "       [0.56279683],\n",
              "       [0.4621662 ],\n",
              "       [0.46250704],\n",
              "       [0.5226849 ],\n",
              "       [0.5593187 ],\n",
              "       [0.49518412],\n",
              "       [0.44540602],\n",
              "       [0.5437689 ],\n",
              "       [0.47723433],\n",
              "       [0.4991202 ],\n",
              "       [0.52976894],\n",
              "       [0.5591316 ],\n",
              "       [0.5467425 ],\n",
              "       [0.5460369 ],\n",
              "       [0.5034256 ],\n",
              "       [0.46661097],\n",
              "       [0.4457076 ],\n",
              "       [0.55570185],\n",
              "       [0.54881746],\n",
              "       [0.5354959 ],\n",
              "       [0.45887613],\n",
              "       [0.54608655],\n",
              "       [0.46001264],\n",
              "       [0.43900558],\n",
              "       [0.49350888],\n",
              "       [0.52444136],\n",
              "       [0.5097496 ],\n",
              "       [0.44531927],\n",
              "       [0.44869038],\n",
              "       [0.52142864],\n",
              "       [0.52876747],\n",
              "       [0.43661132],\n",
              "       [0.4647648 ],\n",
              "       [0.43084928],\n",
              "       [0.44421756],\n",
              "       [0.5071262 ],\n",
              "       [0.44349253],\n",
              "       [0.50699455],\n",
              "       [0.4842227 ],\n",
              "       [0.4491326 ],\n",
              "       [0.4470424 ],\n",
              "       [0.44405153],\n",
              "       [0.5181189 ],\n",
              "       [0.5101106 ],\n",
              "       [0.5172635 ],\n",
              "       [0.511567  ],\n",
              "       [0.45477653],\n",
              "       [0.44554797],\n",
              "       [0.4714881 ],\n",
              "       [0.4686568 ],\n",
              "       [0.47060633],\n",
              "       [0.48964664],\n",
              "       [0.5579373 ],\n",
              "       [0.43999937],\n",
              "       [0.46147272],\n",
              "       [0.51355696],\n",
              "       [0.53809804],\n",
              "       [0.51880753],\n",
              "       [0.43743277],\n",
              "       [0.558304  ],\n",
              "       [0.43242407],\n",
              "       [0.4390851 ],\n",
              "       [0.4706224 ],\n",
              "       [0.4617652 ],\n",
              "       [0.55229604],\n",
              "       [0.5594068 ],\n",
              "       [0.44456947],\n",
              "       [0.44930744],\n",
              "       [0.5172897 ],\n",
              "       [0.44524863],\n",
              "       [0.5476645 ],\n",
              "       [0.4535834 ],\n",
              "       [0.44675672],\n",
              "       [0.5400721 ],\n",
              "       [0.54525113],\n",
              "       [0.47483265],\n",
              "       [0.48863387],\n",
              "       [0.4507446 ],\n",
              "       [0.49748024],\n",
              "       [0.5338536 ],\n",
              "       [0.56273574],\n",
              "       [0.565328  ],\n",
              "       [0.44898665],\n",
              "       [0.4570615 ],\n",
              "       [0.4722317 ],\n",
              "       [0.5432467 ],\n",
              "       [0.47555453],\n",
              "       [0.48549324],\n",
              "       [0.43456927],\n",
              "       [0.48032576],\n",
              "       [0.4938083 ],\n",
              "       [0.5657415 ],\n",
              "       [0.5263372 ],\n",
              "       [0.51271445],\n",
              "       [0.48345155],\n",
              "       [0.49192098],\n",
              "       [0.5278161 ],\n",
              "       [0.5301077 ],\n",
              "       [0.48193225],\n",
              "       [0.4349601 ],\n",
              "       [0.5526404 ],\n",
              "       [0.49618667],\n",
              "       [0.5452012 ],\n",
              "       [0.4321446 ],\n",
              "       [0.56351304],\n",
              "       [0.53734225],\n",
              "       [0.55346835],\n",
              "       [0.44121256],\n",
              "       [0.53089374],\n",
              "       [0.44326076],\n",
              "       [0.45793414],\n",
              "       [0.49921843],\n",
              "       [0.5064755 ],\n",
              "       [0.53428173],\n",
              "       [0.530159  ],\n",
              "       [0.4341109 ],\n",
              "       [0.54976624],\n",
              "       [0.48095933],\n",
              "       [0.47433656],\n",
              "       [0.45026466],\n",
              "       [0.461765  ],\n",
              "       [0.5398401 ],\n",
              "       [0.47311404],\n",
              "       [0.4792325 ],\n",
              "       [0.5622369 ],\n",
              "       [0.45127594],\n",
              "       [0.4931683 ],\n",
              "       [0.5442846 ],\n",
              "       [0.5408485 ],\n",
              "       [0.42966846],\n",
              "       [0.54872566],\n",
              "       [0.51188755],\n",
              "       [0.4859767 ],\n",
              "       [0.44350493],\n",
              "       [0.54998463],\n",
              "       [0.5334866 ],\n",
              "       [0.5221128 ],\n",
              "       [0.48027983],\n",
              "       [0.4760684 ],\n",
              "       [0.446653  ],\n",
              "       [0.54437107],\n",
              "       [0.42997068],\n",
              "       [0.44560215],\n",
              "       [0.529458  ],\n",
              "       [0.500273  ],\n",
              "       [0.45746043],\n",
              "       [0.5044715 ],\n",
              "       [0.51913565],\n",
              "       [0.5111886 ],\n",
              "       [0.44096777],\n",
              "       [0.4743282 ],\n",
              "       [0.5251038 ],\n",
              "       [0.4683026 ],\n",
              "       [0.5589746 ],\n",
              "       [0.55183077],\n",
              "       [0.49598944],\n",
              "       [0.54661465],\n",
              "       [0.5380881 ],\n",
              "       [0.4738805 ],\n",
              "       [0.5504295 ],\n",
              "       [0.5260964 ],\n",
              "       [0.5158662 ],\n",
              "       [0.49548754],\n",
              "       [0.54564756],\n",
              "       [0.45029444],\n",
              "       [0.53712416],\n",
              "       [0.49845815],\n",
              "       [0.5458602 ],\n",
              "       [0.5413215 ],\n",
              "       [0.44632107],\n",
              "       [0.56298184],\n",
              "       [0.5287694 ],\n",
              "       [0.5247889 ],\n",
              "       [0.51887995],\n",
              "       [0.5578533 ],\n",
              "       [0.51555514],\n",
              "       [0.5312341 ],\n",
              "       [0.5490777 ],\n",
              "       [0.54997903],\n",
              "       [0.55019844],\n",
              "       [0.44535294],\n",
              "       [0.46125546],\n",
              "       [0.44731945],\n",
              "       [0.4689861 ],\n",
              "       [0.45119944],\n",
              "       [0.5514083 ],\n",
              "       [0.4781954 ],\n",
              "       [0.55618626],\n",
              "       [0.45302   ],\n",
              "       [0.45925644],\n",
              "       [0.47244623],\n",
              "       [0.44848403],\n",
              "       [0.4439485 ],\n",
              "       [0.46181917],\n",
              "       [0.44606453],\n",
              "       [0.4330418 ],\n",
              "       [0.5315499 ],\n",
              "       [0.54816777],\n",
              "       [0.46515903],\n",
              "       [0.5580496 ],\n",
              "       [0.4593079 ],\n",
              "       [0.4422804 ],\n",
              "       [0.4311364 ],\n",
              "       [0.4458551 ],\n",
              "       [0.46496442],\n",
              "       [0.55956715],\n",
              "       [0.46351987],\n",
              "       [0.44420877],\n",
              "       [0.4585108 ],\n",
              "       [0.42909512],\n",
              "       [0.4460278 ],\n",
              "       [0.48098338],\n",
              "       [0.5485728 ],\n",
              "       [0.48858798],\n",
              "       [0.5576901 ],\n",
              "       [0.48234376],\n",
              "       [0.47245437],\n",
              "       [0.4556841 ],\n",
              "       [0.44196838],\n",
              "       [0.4940731 ],\n",
              "       [0.50150114],\n",
              "       [0.4453435 ],\n",
              "       [0.5573915 ],\n",
              "       [0.4558654 ],\n",
              "       [0.549368  ],\n",
              "       [0.51604736],\n",
              "       [0.45073372],\n",
              "       [0.5386659 ],\n",
              "       [0.52524495],\n",
              "       [0.56299436],\n",
              "       [0.54837656],\n",
              "       [0.51627475],\n",
              "       [0.43964216],\n",
              "       [0.43261856],\n",
              "       [0.53838617],\n",
              "       [0.5034716 ],\n",
              "       [0.52594036],\n",
              "       [0.5476379 ],\n",
              "       [0.5337919 ],\n",
              "       [0.47919723],\n",
              "       [0.55119056],\n",
              "       [0.44318268],\n",
              "       [0.44123766],\n",
              "       [0.56084996],\n",
              "       [0.54010427],\n",
              "       [0.4870918 ],\n",
              "       [0.5352202 ],\n",
              "       [0.44875246],\n",
              "       [0.5094027 ],\n",
              "       [0.46214548],\n",
              "       [0.43017688],\n",
              "       [0.54283875],\n",
              "       [0.54939014],\n",
              "       [0.5132874 ],\n",
              "       [0.5403736 ],\n",
              "       [0.4935247 ],\n",
              "       [0.5293811 ],\n",
              "       [0.54707223],\n",
              "       [0.45916077],\n",
              "       [0.54599315],\n",
              "       [0.5180472 ],\n",
              "       [0.5203077 ],\n",
              "       [0.43868014],\n",
              "       [0.55139095],\n",
              "       [0.5188493 ],\n",
              "       [0.53201884],\n",
              "       [0.45450833],\n",
              "       [0.4782211 ],\n",
              "       [0.46163353],\n",
              "       [0.43632126],\n",
              "       [0.5499198 ],\n",
              "       [0.54451483],\n",
              "       [0.5445631 ],\n",
              "       [0.4456064 ],\n",
              "       [0.5432658 ],\n",
              "       [0.54021686],\n",
              "       [0.47905734],\n",
              "       [0.43385231],\n",
              "       [0.4971776 ],\n",
              "       [0.5603267 ],\n",
              "       [0.53433955],\n",
              "       [0.47856548],\n",
              "       [0.5194684 ],\n",
              "       [0.54771334],\n",
              "       [0.44531193],\n",
              "       [0.56235856],\n",
              "       [0.51827407],\n",
              "       [0.5337399 ],\n",
              "       [0.5233936 ],\n",
              "       [0.4415355 ],\n",
              "       [0.53378683],\n",
              "       [0.56063753],\n",
              "       [0.5634418 ],\n",
              "       [0.42982158],\n",
              "       [0.553231  ],\n",
              "       [0.43869886],\n",
              "       [0.44801733],\n",
              "       [0.5330114 ],\n",
              "       [0.45629397],\n",
              "       [0.49228838],\n",
              "       [0.46124578],\n",
              "       [0.53308386],\n",
              "       [0.5350648 ],\n",
              "       [0.44557387],\n",
              "       [0.5223365 ],\n",
              "       [0.53184104],\n",
              "       [0.5465755 ],\n",
              "       [0.45220047],\n",
              "       [0.56382936],\n",
              "       [0.53401846],\n",
              "       [0.45042822],\n",
              "       [0.536128  ],\n",
              "       [0.5122468 ],\n",
              "       [0.44787338],\n",
              "       [0.52547634],\n",
              "       [0.46429017],\n",
              "       [0.53678745],\n",
              "       [0.45271507],\n",
              "       [0.4486668 ],\n",
              "       [0.4539738 ],\n",
              "       [0.539156  ],\n",
              "       [0.50086766],\n",
              "       [0.43452302],\n",
              "       [0.4410794 ],\n",
              "       [0.5271159 ],\n",
              "       [0.54843014],\n",
              "       [0.56213355],\n",
              "       [0.47153032],\n",
              "       [0.5180008 ],\n",
              "       [0.54371756],\n",
              "       [0.46100932],\n",
              "       [0.4512218 ],\n",
              "       [0.48682782],\n",
              "       [0.55755043],\n",
              "       [0.52316904],\n",
              "       [0.54605067],\n",
              "       [0.50047565],\n",
              "       [0.53527653],\n",
              "       [0.43893167],\n",
              "       [0.45504895],\n",
              "       [0.55219615],\n",
              "       [0.47178304],\n",
              "       [0.54347724],\n",
              "       [0.5378053 ],\n",
              "       [0.52894914],\n",
              "       [0.5304665 ],\n",
              "       [0.5280077 ],\n",
              "       [0.45527518],\n",
              "       [0.45428258],\n",
              "       [0.56044024],\n",
              "       [0.44192743],\n",
              "       [0.5081364 ],\n",
              "       [0.43046063],\n",
              "       [0.4789193 ],\n",
              "       [0.45884624],\n",
              "       [0.53516644],\n",
              "       [0.45010033],\n",
              "       [0.44357097],\n",
              "       [0.4536768 ],\n",
              "       [0.5236424 ],\n",
              "       [0.47732309],\n",
              "       [0.5118596 ],\n",
              "       [0.53570235],\n",
              "       [0.48439914],\n",
              "       [0.483386  ],\n",
              "       [0.4484115 ],\n",
              "       [0.5009513 ],\n",
              "       [0.5151978 ],\n",
              "       [0.50328   ],\n",
              "       [0.55408835],\n",
              "       [0.5511258 ],\n",
              "       [0.5547059 ],\n",
              "       [0.46345955],\n",
              "       [0.46617332],\n",
              "       [0.4723241 ],\n",
              "       [0.5523505 ],\n",
              "       [0.5417421 ],\n",
              "       [0.4576081 ],\n",
              "       [0.47623077],\n",
              "       [0.48306537],\n",
              "       [0.4432973 ],\n",
              "       [0.5465228 ],\n",
              "       [0.51288664],\n",
              "       [0.4873224 ],\n",
              "       [0.55532855],\n",
              "       [0.54121166],\n",
              "       [0.498613  ],\n",
              "       [0.54827476],\n",
              "       [0.4298963 ],\n",
              "       [0.48423138],\n",
              "       [0.45840088],\n",
              "       [0.56009907],\n",
              "       [0.44788948],\n",
              "       [0.5171788 ],\n",
              "       [0.44460112],\n",
              "       [0.5320972 ],\n",
              "       [0.4837891 ],\n",
              "       [0.56069726],\n",
              "       [0.44590136],\n",
              "       [0.5314211 ],\n",
              "       [0.53661203],\n",
              "       [0.44360006],\n",
              "       [0.51791877],\n",
              "       [0.5401337 ],\n",
              "       [0.47847617],\n",
              "       [0.54954326],\n",
              "       [0.5477886 ],\n",
              "       [0.520247  ],\n",
              "       [0.5130158 ],\n",
              "       [0.549037  ],\n",
              "       [0.49387065],\n",
              "       [0.43835875],\n",
              "       [0.4516272 ],\n",
              "       [0.47188678],\n",
              "       [0.46261612],\n",
              "       [0.5269578 ],\n",
              "       [0.48871866],\n",
              "       [0.56028956],\n",
              "       [0.5430902 ],\n",
              "       [0.45864692],\n",
              "       [0.46555495],\n",
              "       [0.5592431 ],\n",
              "       [0.4377979 ],\n",
              "       [0.5255524 ],\n",
              "       [0.45647016],\n",
              "       [0.52743375],\n",
              "       [0.4354997 ],\n",
              "       [0.54845434],\n",
              "       [0.44890094],\n",
              "       [0.5072251 ],\n",
              "       [0.44207513],\n",
              "       [0.5392852 ],\n",
              "       [0.4872569 ],\n",
              "       [0.4309434 ],\n",
              "       [0.5368    ],\n",
              "       [0.53663826],\n",
              "       [0.45050898],\n",
              "       [0.46264362],\n",
              "       [0.4874119 ],\n",
              "       [0.44877166],\n",
              "       [0.48708656],\n",
              "       [0.5042966 ],\n",
              "       [0.45048648],\n",
              "       [0.5542796 ],\n",
              "       [0.47022328],\n",
              "       [0.4406746 ],\n",
              "       [0.45522094],\n",
              "       [0.5609166 ],\n",
              "       [0.5378015 ],\n",
              "       [0.56011575],\n",
              "       [0.5217322 ],\n",
              "       [0.4786118 ],\n",
              "       [0.46217987],\n",
              "       [0.48850474],\n",
              "       [0.53753114],\n",
              "       [0.5488242 ],\n",
              "       [0.54847217],\n",
              "       [0.5226498 ],\n",
              "       [0.55020124],\n",
              "       [0.55015194],\n",
              "       [0.54878753],\n",
              "       [0.43221784],\n",
              "       [0.43043166],\n",
              "       [0.45310986],\n",
              "       [0.4999763 ],\n",
              "       [0.47056207],\n",
              "       [0.54061306],\n",
              "       [0.5649411 ],\n",
              "       [0.55123127],\n",
              "       [0.48419636],\n",
              "       [0.5451474 ],\n",
              "       [0.44248053],\n",
              "       [0.5520706 ],\n",
              "       [0.4315704 ],\n",
              "       [0.4996367 ],\n",
              "       [0.5290124 ],\n",
              "       [0.5231808 ],\n",
              "       [0.48705018],\n",
              "       [0.45271382],\n",
              "       [0.44394353],\n",
              "       [0.4456141 ],\n",
              "       [0.45110145],\n",
              "       [0.48456433],\n",
              "       [0.50117993],\n",
              "       [0.5629731 ],\n",
              "       [0.46309087],\n",
              "       [0.5270746 ],\n",
              "       [0.45684233],\n",
              "       [0.4375485 ],\n",
              "       [0.42841452],\n",
              "       [0.46539515],\n",
              "       [0.50804746],\n",
              "       [0.48899937],\n",
              "       [0.45531544],\n",
              "       [0.4881747 ],\n",
              "       [0.48155814],\n",
              "       [0.52859855],\n",
              "       [0.5555311 ],\n",
              "       [0.45028242],\n",
              "       [0.5074821 ],\n",
              "       [0.5097947 ],\n",
              "       [0.45076048],\n",
              "       [0.5361039 ],\n",
              "       [0.55431896],\n",
              "       [0.48734725],\n",
              "       [0.45150897],\n",
              "       [0.5347362 ],\n",
              "       [0.5003207 ],\n",
              "       [0.43685773],\n",
              "       [0.4504344 ],\n",
              "       [0.45439023],\n",
              "       [0.494896  ],\n",
              "       [0.55306315],\n",
              "       [0.49147633],\n",
              "       [0.4692407 ],\n",
              "       [0.4866104 ],\n",
              "       [0.54770875],\n",
              "       [0.55778885],\n",
              "       [0.5216766 ],\n",
              "       [0.5498125 ],\n",
              "       [0.43366852],\n",
              "       [0.54676765],\n",
              "       [0.45957622],\n",
              "       [0.48150072],\n",
              "       [0.43323183],\n",
              "       [0.48294172],\n",
              "       [0.4776808 ],\n",
              "       [0.5386986 ],\n",
              "       [0.54929644],\n",
              "       [0.45697904],\n",
              "       [0.5073794 ],\n",
              "       [0.42948544],\n",
              "       [0.558545  ],\n",
              "       [0.532914  ],\n",
              "       [0.4466467 ],\n",
              "       [0.5625551 ],\n",
              "       [0.45095858],\n",
              "       [0.5060385 ],\n",
              "       [0.44050807],\n",
              "       [0.43990654],\n",
              "       [0.4823261 ],\n",
              "       [0.53360385],\n",
              "       [0.5132981 ],\n",
              "       [0.5455037 ],\n",
              "       [0.54123586],\n",
              "       [0.545752  ],\n",
              "       [0.4692861 ],\n",
              "       [0.51719886],\n",
              "       [0.4585699 ],\n",
              "       [0.5095788 ],\n",
              "       [0.4310252 ],\n",
              "       [0.49341732],\n",
              "       [0.56209826],\n",
              "       [0.43742713],\n",
              "       [0.527875  ],\n",
              "       [0.5210504 ],\n",
              "       [0.45334956],\n",
              "       [0.54768014],\n",
              "       [0.49511033],\n",
              "       [0.52027124],\n",
              "       [0.5386851 ],\n",
              "       [0.47308096],\n",
              "       [0.4316467 ],\n",
              "       [0.5190552 ]], dtype=float32)"
            ]
          },
          "metadata": {},
          "execution_count": 21
        }
      ]
    },
    {
      "cell_type": "markdown",
      "source": [
        "To visualize our models predictions lets create a function 'plot_decision_boundary()'\n",
        "* take a trained model with x and y\n",
        "* create a meshgrid of the different values of x\n",
        "* make predictions across the meshgrid\n",
        "* plot the predictions as well as a line between zones(where unique class falls)"
      ],
      "metadata": {
        "id": "QB2sN9W5zKEa"
      }
    },
    {
      "cell_type": "code",
      "source": [
        "import numpy as np"
      ],
      "metadata": {
        "id": "4govzg6C0t27"
      },
      "execution_count": null,
      "outputs": []
    },
    {
      "cell_type": "code",
      "source": [
        "\n",
        "def plot_decision_boundary(model, x, y):\n",
        "  x_min, x_max = x[:, 0].min() - 0.1, x[:, 1].max() + 0.1\n",
        "  y_min, y_max = x[:, 0].min() - 0.1, x[:, 1].max() + 0.1\n",
        "  xx, yy = np.meshgrid(np.linspace(x_min, x_max, 100),\n",
        "                       np.linspace(y_min, y_max, 100))\n",
        "\n",
        "  x_in = np.c_[xx.ravel(), yy.ravel()]\n",
        "\n",
        "  y_pred = model.predict(x_in)\n",
        "\n",
        "  if len(y_pred[0]) > 1:\n",
        "    print(\"doing multi class classification\")\n",
        "\n",
        "    y_pred = np.argmax(y_pred, axis=1).reshape(xx.shape)\n",
        "  else:\n",
        "    print(\"doing binary class classifation\")\n",
        "    y_pred = np.round(y_pred).reshape(xx.shape)\n",
        "\n",
        "    plt.contourf(xx, yy, y_pred, cmap=plt.cm.RdYlBu, alpha=0.7)\n",
        "    plt.scatter(x[:, 0], x[:, 1], c=y, s=40, cmap=plt.cm.RdYlBu)\n",
        "    plt.xlim(xx.min(), xx.max())\n",
        "    plt.ylim(yy.min(), yy.max())\n"
      ],
      "metadata": {
        "id": "tAh8Zjvoz45U"
      },
      "execution_count": null,
      "outputs": []
    },
    {
      "cell_type": "code",
      "source": [
        "plot_decision_boundary(model=model_3,\n",
        "                       x=x,\n",
        "                       y=y)"
      ],
      "metadata": {
        "colab": {
          "base_uri": "https://localhost:8080/",
          "height": 465
        },
        "id": "oU198sgF2o5U",
        "outputId": "de8828de-6c6e-45d7-bcaa-2a2d9e08eba0"
      },
      "execution_count": null,
      "outputs": [
        {
          "output_type": "stream",
          "name": "stdout",
          "text": [
            "313/313 [==============================] - 0s 1ms/step\n",
            "doing binary class classifation\n"
          ]
        },
        {
          "output_type": "display_data",
          "data": {
            "text/plain": [
              "<Figure size 640x480 with 1 Axes>"
            ],
            "image/png": "[encoded data removed]"
          },
          "metadata": {}
        }
      ]
    },
    {
      "cell_type": "code",
      "source": [
        "x_min, x_max = x[:, 0].min() - 0.1, x[:, 0].max() + 0.1\n",
        "y_min, y_max = x[:, 1].min() - 0.1, x[:, 1].max() + 0.1\n",
        "\n",
        "x_min, x_max, y_min, y_max"
      ],
      "metadata": {
        "colab": {
          "base_uri": "https://localhost:8080/"
        },
        "id": "MHzSyQPK0R-v",
        "outputId": "096b3446-f2d6-4a55-c06c-2967ad54784e"
      },
      "execution_count": null,
      "outputs": [
        {
          "output_type": "execute_result",
          "data": {
            "text/plain": [
              "(-1.1595024599098636,\n",
              " 1.1337117525463374,\n",
              " -1.1677683182718437,\n",
              " 1.1360036756154805)"
            ]
          },
          "metadata": {},
          "execution_count": 25
        }
      ]
    },
    {
      "cell_type": "code",
      "source": [
        "# lets see if our model can be used for a regression problem\n",
        "\n",
        "tf.random.set_seed(42)\n",
        "\n",
        "x_reg = tf.range(0, 1000, 5)\n",
        "y_reg = tf.range(100, 1100, 5)\n",
        "\n",
        "x_reg_train = x_reg[:150]\n",
        "x_reg_test = x_reg[150:]\n",
        "y_reg_train = y_reg[:150]\n",
        "y_reg_test = y_reg[150:]\n",
        "\n",
        "# set random seed\n",
        "tf.random.set_seed(42)\n",
        "\n",
        "# create a model using sequential API\n",
        "model_r = tf.keras.Sequential([\n",
        "    tf.keras.layers.Dense(1)\n",
        "])\n",
        "\n",
        "# compile the model\n",
        "model_r.compile(loss=tf.keras.losses.mae,\n",
        "              optimizer=tf.keras.optimizers.SGD(),\n",
        "              metrics=[\"mae\"])\n",
        "\n",
        "#fit the model\n",
        "# model.fit(tf.expand_dims(x,axis=1),y,epochs=5)\n",
        "\n",
        "\n",
        "model_r.fit(tf.expand_dims(x_reg_train, axis=1), y_reg_train, epochs=100)"
      ],
      "metadata": {
        "id": "5AQw22F_3p_m",
        "colab": {
          "base_uri": "https://localhost:8080/"
        },
        "outputId": "73ec0f03-aaf0-40bf-d4d5-a5fd5d0783a3"
      },
      "execution_count": null,
      "outputs": [
        {
          "output_type": "stream",
          "name": "stdout",
          "text": [
            "Epoch 1/100\n",
            "5/5 [==============================] - 0s 4ms/step - loss: 665.0041 - mae: 665.0041\n",
            "Epoch 2/100\n",
            "5/5 [==============================] - 0s 4ms/step - loss: 728.4065 - mae: 728.4065\n",
            "Epoch 3/100\n",
            "5/5 [==============================] - 0s 3ms/step - loss: 696.6705 - mae: 696.6705\n",
            "Epoch 4/100\n",
            "5/5 [==============================] - 0s 3ms/step - loss: 749.2773 - mae: 749.2773\n",
            "Epoch 5/100\n",
            "5/5 [==============================] - 0s 3ms/step - loss: 608.9313 - mae: 608.9313\n",
            "Epoch 6/100\n",
            "5/5 [==============================] - 0s 3ms/step - loss: 706.0715 - mae: 706.0715\n",
            "Epoch 7/100\n",
            "5/5 [==============================] - 0s 3ms/step - loss: 701.7561 - mae: 701.7561\n",
            "Epoch 8/100\n",
            "5/5 [==============================] - 0s 4ms/step - loss: 561.6479 - mae: 561.6479\n",
            "Epoch 9/100\n",
            "5/5 [==============================] - 0s 4ms/step - loss: 874.2705 - mae: 874.2705\n",
            "Epoch 10/100\n",
            "5/5 [==============================] - 0s 4ms/step - loss: 711.1553 - mae: 711.1553\n",
            "Epoch 11/100\n",
            "5/5 [==============================] - 0s 5ms/step - loss: 691.4252 - mae: 691.4252\n",
            "Epoch 12/100\n",
            "5/5 [==============================] - 0s 4ms/step - loss: 707.3065 - mae: 707.3065\n",
            "Epoch 13/100\n",
            "5/5 [==============================] - 0s 5ms/step - loss: 625.2652 - mae: 625.2652\n",
            "Epoch 14/100\n",
            "5/5 [==============================] - 0s 5ms/step - loss: 694.5121 - mae: 694.5122\n",
            "Epoch 15/100\n",
            "5/5 [==============================] - 0s 5ms/step - loss: 709.4699 - mae: 709.4699\n",
            "Epoch 16/100\n",
            "5/5 [==============================] - 0s 4ms/step - loss: 678.4238 - mae: 678.4238\n",
            "Epoch 17/100\n",
            "5/5 [==============================] - 0s 4ms/step - loss: 716.1519 - mae: 716.1519\n",
            "Epoch 18/100\n",
            "5/5 [==============================] - 0s 5ms/step - loss: 644.2791 - mae: 644.2791\n",
            "Epoch 19/100\n",
            "5/5 [==============================] - 0s 5ms/step - loss: 743.6495 - mae: 743.6495\n",
            "Epoch 20/100\n",
            "5/5 [==============================] - 0s 4ms/step - loss: 716.2327 - mae: 716.2327\n",
            "Epoch 21/100\n",
            "5/5 [==============================] - 0s 4ms/step - loss: 601.4633 - mae: 601.4633\n",
            "Epoch 22/100\n",
            "5/5 [==============================] - 0s 4ms/step - loss: 777.8585 - mae: 777.8584\n",
            "Epoch 23/100\n",
            "5/5 [==============================] - 0s 4ms/step - loss: 667.5706 - mae: 667.5706\n",
            "Epoch 24/100\n",
            "5/5 [==============================] - 0s 4ms/step - loss: 692.0458 - mae: 692.0458\n",
            "Epoch 25/100\n",
            "5/5 [==============================] - 0s 4ms/step - loss: 707.6597 - mae: 707.6597\n",
            "Epoch 26/100\n",
            "5/5 [==============================] - 0s 4ms/step - loss: 665.5421 - mae: 665.5421\n",
            "Epoch 27/100\n",
            "5/5 [==============================] - 0s 4ms/step - loss: 723.7131 - mae: 723.7131\n",
            "Epoch 28/100\n",
            "5/5 [==============================] - 0s 3ms/step - loss: 557.7209 - mae: 557.7209\n",
            "Epoch 29/100\n",
            "5/5 [==============================] - 0s 4ms/step - loss: 728.4218 - mae: 728.4218\n",
            "Epoch 30/100\n",
            "5/5 [==============================] - 0s 4ms/step - loss: 628.2256 - mae: 628.2256\n",
            "Epoch 31/100\n",
            "5/5 [==============================] - 0s 5ms/step - loss: 796.8081 - mae: 796.8081\n",
            "Epoch 32/100\n",
            "5/5 [==============================] - 0s 5ms/step - loss: 682.8918 - mae: 682.8918\n",
            "Epoch 33/100\n",
            "5/5 [==============================] - 0s 5ms/step - loss: 698.3990 - mae: 698.3990\n",
            "Epoch 34/100\n",
            "5/5 [==============================] - 0s 4ms/step - loss: 493.0696 - mae: 493.0696\n",
            "Epoch 35/100\n",
            "5/5 [==============================] - 0s 4ms/step - loss: 724.6273 - mae: 724.6273\n",
            "Epoch 36/100\n",
            "5/5 [==============================] - 0s 4ms/step - loss: 669.4139 - mae: 669.4139\n",
            "Epoch 37/100\n",
            "5/5 [==============================] - 0s 4ms/step - loss: 671.4006 - mae: 671.4006\n",
            "Epoch 38/100\n",
            "5/5 [==============================] - 0s 4ms/step - loss: 725.8041 - mae: 725.8041\n",
            "Epoch 39/100\n",
            "5/5 [==============================] - 0s 4ms/step - loss: 667.2013 - mae: 667.2013\n",
            "Epoch 40/100\n",
            "5/5 [==============================] - 0s 4ms/step - loss: 721.6727 - mae: 721.6726\n",
            "Epoch 41/100\n",
            "5/5 [==============================] - 0s 4ms/step - loss: 597.6086 - mae: 597.6086\n",
            "Epoch 42/100\n",
            "5/5 [==============================] - 0s 4ms/step - loss: 758.5449 - mae: 758.5449\n",
            "Epoch 43/100\n",
            "5/5 [==============================] - 0s 4ms/step - loss: 619.9938 - mae: 619.9938\n",
            "Epoch 44/100\n",
            "5/5 [==============================] - 0s 4ms/step - loss: 762.9805 - mae: 762.9805\n",
            "Epoch 45/100\n",
            "5/5 [==============================] - 0s 4ms/step - loss: 688.8014 - mae: 688.8014\n",
            "Epoch 46/100\n",
            "5/5 [==============================] - 0s 4ms/step - loss: 696.9094 - mae: 696.9094\n",
            "Epoch 47/100\n",
            "5/5 [==============================] - 0s 4ms/step - loss: 656.3997 - mae: 656.3997\n",
            "Epoch 48/100\n",
            "5/5 [==============================] - 0s 4ms/step - loss: 765.9833 - mae: 765.9833\n",
            "Epoch 49/100\n",
            "5/5 [==============================] - 0s 4ms/step - loss: 650.5209 - mae: 650.5209\n",
            "Epoch 50/100\n",
            "5/5 [==============================] - 0s 5ms/step - loss: 712.8022 - mae: 712.8022\n",
            "Epoch 51/100\n",
            "5/5 [==============================] - 0s 4ms/step - loss: 694.2678 - mae: 694.2678\n",
            "Epoch 52/100\n",
            "5/5 [==============================] - 0s 6ms/step - loss: 696.2399 - mae: 696.2399\n",
            "Epoch 53/100\n",
            "5/5 [==============================] - 0s 5ms/step - loss: 685.5391 - mae: 685.5391\n",
            "Epoch 54/100\n",
            "5/5 [==============================] - 0s 5ms/step - loss: 648.3515 - mae: 648.3515\n",
            "Epoch 55/100\n",
            "5/5 [==============================] - 0s 5ms/step - loss: 676.7577 - mae: 676.7577\n",
            "Epoch 56/100\n",
            "5/5 [==============================] - 0s 5ms/step - loss: 710.1678 - mae: 710.1678\n",
            "Epoch 57/100\n",
            "5/5 [==============================] - 0s 5ms/step - loss: 667.8044 - mae: 667.8044\n",
            "Epoch 58/100\n",
            "5/5 [==============================] - 0s 5ms/step - loss: 724.9149 - mae: 724.9149\n",
            "Epoch 59/100\n",
            "5/5 [==============================] - 0s 5ms/step - loss: 654.7321 - mae: 654.7321\n",
            "Epoch 60/100\n",
            "5/5 [==============================] - 0s 5ms/step - loss: 735.4795 - mae: 735.4795\n",
            "Epoch 61/100\n",
            "5/5 [==============================] - 0s 5ms/step - loss: 691.5473 - mae: 691.5473\n",
            "Epoch 62/100\n",
            "5/5 [==============================] - 0s 5ms/step - loss: 681.5822 - mae: 681.5822\n",
            "Epoch 63/100\n",
            "5/5 [==============================] - 0s 5ms/step - loss: 697.8826 - mae: 697.8826\n",
            "Epoch 64/100\n",
            "5/5 [==============================] - 0s 5ms/step - loss: 706.3268 - mae: 706.3268\n",
            "Epoch 65/100\n",
            "5/5 [==============================] - 0s 3ms/step - loss: 708.6933 - mae: 708.6933\n",
            "Epoch 66/100\n",
            "5/5 [==============================] - 0s 3ms/step - loss: 658.9918 - mae: 658.9918\n",
            "Epoch 67/100\n",
            "5/5 [==============================] - 0s 5ms/step - loss: 744.0964 - mae: 744.0964\n",
            "Epoch 68/100\n",
            "5/5 [==============================] - 0s 6ms/step - loss: 630.0520 - mae: 630.0520\n",
            "Epoch 69/100\n",
            "5/5 [==============================] - 0s 5ms/step - loss: 714.0903 - mae: 714.0903\n",
            "Epoch 70/100\n",
            "5/5 [==============================] - 0s 4ms/step - loss: 680.1613 - mae: 680.1613\n",
            "Epoch 71/100\n",
            "5/5 [==============================] - 0s 4ms/step - loss: 716.2618 - mae: 716.2618\n",
            "Epoch 72/100\n",
            "5/5 [==============================] - 0s 4ms/step - loss: 635.8066 - mae: 635.8066\n",
            "Epoch 73/100\n",
            "5/5 [==============================] - 0s 5ms/step - loss: 734.8340 - mae: 734.8340\n",
            "Epoch 74/100\n",
            "5/5 [==============================] - 0s 6ms/step - loss: 662.0499 - mae: 662.0499\n",
            "Epoch 75/100\n",
            "5/5 [==============================] - 0s 3ms/step - loss: 679.6774 - mae: 679.6774\n",
            "Epoch 76/100\n",
            "5/5 [==============================] - 0s 4ms/step - loss: 660.9625 - mae: 660.9625\n",
            "Epoch 77/100\n",
            "5/5 [==============================] - 0s 4ms/step - loss: 731.1144 - mae: 731.1144\n",
            "Epoch 78/100\n",
            "5/5 [==============================] - 0s 4ms/step - loss: 649.6658 - mae: 649.6658\n",
            "Epoch 79/100\n",
            "5/5 [==============================] - 0s 4ms/step - loss: 683.3858 - mae: 683.3858\n",
            "Epoch 80/100\n",
            "5/5 [==============================] - 0s 5ms/step - loss: 712.7493 - mae: 712.7493\n",
            "Epoch 81/100\n",
            "5/5 [==============================] - 0s 4ms/step - loss: 668.1746 - mae: 668.1746\n",
            "Epoch 82/100\n",
            "5/5 [==============================] - 0s 4ms/step - loss: 753.9309 - mae: 753.9309\n",
            "Epoch 83/100\n",
            "5/5 [==============================] - 0s 5ms/step - loss: 657.3434 - mae: 657.3434\n",
            "Epoch 84/100\n",
            "5/5 [==============================] - 0s 5ms/step - loss: 757.5779 - mae: 757.5779\n",
            "Epoch 85/100\n",
            "5/5 [==============================] - 0s 6ms/step - loss: 586.7946 - mae: 586.7946\n",
            "Epoch 86/100\n",
            "5/5 [==============================] - 0s 4ms/step - loss: 640.6301 - mae: 640.6301\n",
            "Epoch 87/100\n",
            "5/5 [==============================] - 0s 4ms/step - loss: 756.2048 - mae: 756.2048\n",
            "Epoch 88/100\n",
            "5/5 [==============================] - 0s 5ms/step - loss: 686.4896 - mae: 686.4896\n",
            "Epoch 89/100\n",
            "5/5 [==============================] - 0s 4ms/step - loss: 674.7499 - mae: 674.7499\n",
            "Epoch 90/100\n",
            "5/5 [==============================] - 0s 4ms/step - loss: 702.5668 - mae: 702.5668\n",
            "Epoch 91/100\n",
            "5/5 [==============================] - 0s 4ms/step - loss: 713.5310 - mae: 713.5310\n",
            "Epoch 92/100\n",
            "5/5 [==============================] - 0s 3ms/step - loss: 698.0308 - mae: 698.0308\n",
            "Epoch 93/100\n",
            "5/5 [==============================] - 0s 3ms/step - loss: 676.4717 - mae: 676.4717\n",
            "Epoch 94/100\n",
            "5/5 [==============================] - 0s 4ms/step - loss: 718.4573 - mae: 718.4573\n",
            "Epoch 95/100\n",
            "5/5 [==============================] - 0s 4ms/step - loss: 631.4097 - mae: 631.4097\n",
            "Epoch 96/100\n",
            "5/5 [==============================] - 0s 4ms/step - loss: 784.5911 - mae: 784.5911\n",
            "Epoch 97/100\n",
            "5/5 [==============================] - 0s 4ms/step - loss: 607.7527 - mae: 607.7527\n",
            "Epoch 98/100\n",
            "5/5 [==============================] - 0s 4ms/step - loss: 666.5237 - mae: 666.5237\n",
            "Epoch 99/100\n",
            "5/5 [==============================] - 0s 5ms/step - loss: 733.5317 - mae: 733.5317\n",
            "Epoch 100/100\n",
            "5/5 [==============================] - 0s 4ms/step - loss: 693.7847 - mae: 693.7847\n"
          ]
        },
        {
          "output_type": "execute_result",
          "data": {
            "text/plain": [
              "<keras.callbacks.History at 0x7f140071bd60>"
            ]
          },
          "metadata": {},
          "execution_count": 26
        }
      ]
    },
    {
      "cell_type": "code",
      "source": [
        "x_reg_train.ndim, y_reg_train.ndim, x_reg_train.dtype, y_reg_train.dtype"
      ],
      "metadata": {
        "id": "OS6Z2PfmPLU9",
        "colab": {
          "base_uri": "https://localhost:8080/"
        },
        "outputId": "f916d4ed-fbd3-49a8-b2d2-5d4bdac8e521"
      },
      "execution_count": null,
      "outputs": [
        {
          "output_type": "execute_result",
          "data": {
            "text/plain": [
              "(1, 1, tf.int32, tf.int32)"
            ]
          },
          "metadata": {},
          "execution_count": 27
        }
      ]
    },
    {
      "cell_type": "code",
      "source": [
        "tf.random.set_seed(42)\n",
        "\n",
        "model_3 = tf.keras.Sequential([\n",
        "    tf.keras.layers.Dense(100),\n",
        "    tf.keras.layers.Dense(10),\n",
        "    tf.keras.layers.Dense(1)\n",
        "])\n",
        "\n",
        "model_3.compile(loss=tf.keras.losses.mae,\n",
        "                optimizer=tf.keras.optimizers.Adam(),\n",
        "                metrics=[\"mae\"])\n",
        "\n",
        "#x_reg_train = tf.reshape(x_reg_train,(-1, 1))\n",
        "model_3.fit(tf.expand_dims(x_reg_train, axis=1), y_reg_train, epochs=100, verbose=1)"
      ],
      "metadata": {
        "colab": {
          "base_uri": "https://localhost:8080/"
        },
        "id": "Sx-aYsxK4mx6",
        "outputId": "0595c7a7-58ba-4b56-9167-0cabdb350443"
      },
      "execution_count": null,
      "outputs": [
        {
          "output_type": "stream",
          "name": "stdout",
          "text": [
            "Epoch 1/100\n",
            "5/5 [==============================] - 1s 7ms/step - loss: 466.7084 - mae: 466.7084\n",
            "Epoch 2/100\n",
            "5/5 [==============================] - 0s 5ms/step - loss: 349.0476 - mae: 349.0476\n",
            "Epoch 3/100\n",
            "5/5 [==============================] - 0s 5ms/step - loss: 234.7661 - mae: 234.7661\n",
            "Epoch 4/100\n",
            "5/5 [==============================] - 0s 6ms/step - loss: 114.9292 - mae: 114.9292\n",
            "Epoch 5/100\n",
            "5/5 [==============================] - 0s 5ms/step - loss: 53.0388 - mae: 53.0388\n",
            "Epoch 6/100\n",
            "5/5 [==============================] - 0s 6ms/step - loss: 85.8613 - mae: 85.8613\n",
            "Epoch 7/100\n",
            "5/5 [==============================] - 0s 6ms/step - loss: 67.4498 - mae: 67.4498\n",
            "Epoch 8/100\n",
            "5/5 [==============================] - 0s 5ms/step - loss: 43.7074 - mae: 43.7074\n",
            "Epoch 9/100\n",
            "5/5 [==============================] - 0s 5ms/step - loss: 49.5109 - mae: 49.5109\n",
            "Epoch 10/100\n",
            "5/5 [==============================] - 0s 6ms/step - loss: 41.6687 - mae: 41.6687\n",
            "Epoch 11/100\n",
            "5/5 [==============================] - 0s 5ms/step - loss: 44.2740 - mae: 44.2740\n",
            "Epoch 12/100\n",
            "5/5 [==============================] - 0s 5ms/step - loss: 42.2280 - mae: 42.2280\n",
            "Epoch 13/100\n",
            "5/5 [==============================] - 0s 5ms/step - loss: 41.7131 - mae: 41.7131\n",
            "Epoch 14/100\n",
            "5/5 [==============================] - 0s 5ms/step - loss: 41.3849 - mae: 41.3849\n",
            "Epoch 15/100\n",
            "5/5 [==============================] - 0s 5ms/step - loss: 41.9608 - mae: 41.9608\n",
            "Epoch 16/100\n",
            "5/5 [==============================] - 0s 5ms/step - loss: 41.4767 - mae: 41.4767\n",
            "Epoch 17/100\n",
            "5/5 [==============================] - 0s 6ms/step - loss: 41.5743 - mae: 41.5743\n",
            "Epoch 18/100\n",
            "5/5 [==============================] - 0s 6ms/step - loss: 41.1353 - mae: 41.1353\n",
            "Epoch 19/100\n",
            "5/5 [==============================] - 0s 5ms/step - loss: 41.2159 - mae: 41.2159\n",
            "Epoch 20/100\n",
            "5/5 [==============================] - 0s 7ms/step - loss: 41.0969 - mae: 41.0969\n",
            "Epoch 21/100\n",
            "5/5 [==============================] - 0s 5ms/step - loss: 41.2780 - mae: 41.2780\n",
            "Epoch 22/100\n",
            "5/5 [==============================] - 0s 6ms/step - loss: 41.2785 - mae: 41.2785\n",
            "Epoch 23/100\n",
            "5/5 [==============================] - 0s 5ms/step - loss: 41.0964 - mae: 41.0964\n",
            "Epoch 24/100\n",
            "5/5 [==============================] - 0s 6ms/step - loss: 41.1525 - mae: 41.1525\n",
            "Epoch 25/100\n",
            "5/5 [==============================] - 0s 4ms/step - loss: 41.0801 - mae: 41.0801\n",
            "Epoch 26/100\n",
            "5/5 [==============================] - 0s 5ms/step - loss: 40.9201 - mae: 40.9201\n",
            "Epoch 27/100\n",
            "5/5 [==============================] - 0s 5ms/step - loss: 40.9808 - mae: 40.9808\n",
            "Epoch 28/100\n",
            "5/5 [==============================] - 0s 4ms/step - loss: 41.0325 - mae: 41.0325\n",
            "Epoch 29/100\n",
            "5/5 [==============================] - 0s 6ms/step - loss: 41.0621 - mae: 41.0621\n",
            "Epoch 30/100\n",
            "5/5 [==============================] - 0s 6ms/step - loss: 40.9002 - mae: 40.9002\n",
            "Epoch 31/100\n",
            "5/5 [==============================] - 0s 5ms/step - loss: 41.1842 - mae: 41.1842\n",
            "Epoch 32/100\n",
            "5/5 [==============================] - 0s 4ms/step - loss: 40.9624 - mae: 40.9624\n",
            "Epoch 33/100\n",
            "5/5 [==============================] - 0s 4ms/step - loss: 41.0717 - mae: 41.0717\n",
            "Epoch 34/100\n",
            "5/5 [==============================] - 0s 5ms/step - loss: 41.1719 - mae: 41.1719\n",
            "Epoch 35/100\n",
            "5/5 [==============================] - 0s 6ms/step - loss: 40.6355 - mae: 40.6355\n",
            "Epoch 36/100\n",
            "5/5 [==============================] - 0s 6ms/step - loss: 41.0933 - mae: 41.0933\n",
            "Epoch 37/100\n",
            "5/5 [==============================] - 0s 6ms/step - loss: 40.8311 - mae: 40.8311\n",
            "Epoch 38/100\n",
            "5/5 [==============================] - 0s 6ms/step - loss: 40.3804 - mae: 40.3804\n",
            "Epoch 39/100\n",
            "5/5 [==============================] - 0s 6ms/step - loss: 40.9088 - mae: 40.9088\n",
            "Epoch 40/100\n",
            "5/5 [==============================] - 0s 5ms/step - loss: 40.5785 - mae: 40.5785\n",
            "Epoch 41/100\n",
            "5/5 [==============================] - 0s 4ms/step - loss: 40.6374 - mae: 40.6374\n",
            "Epoch 42/100\n",
            "5/5 [==============================] - 0s 5ms/step - loss: 40.5635 - mae: 40.5635\n",
            "Epoch 43/100\n",
            "5/5 [==============================] - 0s 5ms/step - loss: 40.5806 - mae: 40.5806\n",
            "Epoch 44/100\n",
            "5/5 [==============================] - 0s 5ms/step - loss: 40.3392 - mae: 40.3392\n",
            "Epoch 45/100\n",
            "5/5 [==============================] - 0s 6ms/step - loss: 40.4043 - mae: 40.4043\n",
            "Epoch 46/100\n",
            "5/5 [==============================] - 0s 5ms/step - loss: 40.4195 - mae: 40.4195\n",
            "Epoch 47/100\n",
            "5/5 [==============================] - 0s 6ms/step - loss: 40.3784 - mae: 40.3784\n",
            "Epoch 48/100\n",
            "5/5 [==============================] - 0s 6ms/step - loss: 40.2050 - mae: 40.2050\n",
            "Epoch 49/100\n",
            "5/5 [==============================] - 0s 5ms/step - loss: 40.7157 - mae: 40.7157\n",
            "Epoch 50/100\n",
            "5/5 [==============================] - 0s 5ms/step - loss: 40.2330 - mae: 40.2330\n",
            "Epoch 51/100\n",
            "5/5 [==============================] - 0s 5ms/step - loss: 40.6240 - mae: 40.6240\n",
            "Epoch 52/100\n",
            "5/5 [==============================] - 0s 5ms/step - loss: 41.0068 - mae: 41.0068\n",
            "Epoch 53/100\n",
            "5/5 [==============================] - 0s 6ms/step - loss: 40.9783 - mae: 40.9783\n",
            "Epoch 54/100\n",
            "5/5 [==============================] - 0s 6ms/step - loss: 41.0711 - mae: 41.0711\n",
            "Epoch 55/100\n",
            "5/5 [==============================] - 0s 5ms/step - loss: 41.9259 - mae: 41.9259\n",
            "Epoch 56/100\n",
            "5/5 [==============================] - 0s 6ms/step - loss: 41.8099 - mae: 41.8099\n",
            "Epoch 57/100\n",
            "5/5 [==============================] - 0s 5ms/step - loss: 40.8964 - mae: 40.8964\n",
            "Epoch 58/100\n",
            "5/5 [==============================] - 0s 5ms/step - loss: 41.0030 - mae: 41.0030\n",
            "Epoch 59/100\n",
            "5/5 [==============================] - 0s 6ms/step - loss: 41.2232 - mae: 41.2232\n",
            "Epoch 60/100\n",
            "5/5 [==============================] - 0s 6ms/step - loss: 40.6984 - mae: 40.6984\n",
            "Epoch 61/100\n",
            "5/5 [==============================] - 0s 5ms/step - loss: 40.1689 - mae: 40.1689\n",
            "Epoch 62/100\n",
            "5/5 [==============================] - 0s 5ms/step - loss: 41.3821 - mae: 41.3821\n",
            "Epoch 63/100\n",
            "5/5 [==============================] - 0s 6ms/step - loss: 40.0503 - mae: 40.0503\n",
            "Epoch 64/100\n",
            "5/5 [==============================] - 0s 5ms/step - loss: 40.2534 - mae: 40.2534\n",
            "Epoch 65/100\n",
            "5/5 [==============================] - 0s 6ms/step - loss: 39.9730 - mae: 39.9730\n",
            "Epoch 66/100\n",
            "5/5 [==============================] - 0s 5ms/step - loss: 40.2597 - mae: 40.2597\n",
            "Epoch 67/100\n",
            "5/5 [==============================] - 0s 5ms/step - loss: 39.7694 - mae: 39.7694\n",
            "Epoch 68/100\n",
            "5/5 [==============================] - 0s 5ms/step - loss: 39.7214 - mae: 39.7214\n",
            "Epoch 69/100\n",
            "5/5 [==============================] - 0s 5ms/step - loss: 39.8616 - mae: 39.8616\n",
            "Epoch 70/100\n",
            "5/5 [==============================] - 0s 5ms/step - loss: 40.3320 - mae: 40.3320\n",
            "Epoch 71/100\n",
            "5/5 [==============================] - 0s 4ms/step - loss: 40.4611 - mae: 40.4611\n",
            "Epoch 72/100\n",
            "5/5 [==============================] - 0s 5ms/step - loss: 39.4032 - mae: 39.4032\n",
            "Epoch 73/100\n",
            "5/5 [==============================] - 0s 6ms/step - loss: 39.8023 - mae: 39.8023\n",
            "Epoch 74/100\n",
            "5/5 [==============================] - 0s 6ms/step - loss: 39.5529 - mae: 39.5529\n",
            "Epoch 75/100\n",
            "5/5 [==============================] - 0s 5ms/step - loss: 39.8101 - mae: 39.8101\n",
            "Epoch 76/100\n",
            "5/5 [==============================] - 0s 5ms/step - loss: 39.4440 - mae: 39.4440\n",
            "Epoch 77/100\n",
            "5/5 [==============================] - 0s 5ms/step - loss: 39.2935 - mae: 39.2935\n",
            "Epoch 78/100\n",
            "5/5 [==============================] - 0s 4ms/step - loss: 39.9190 - mae: 39.9190\n",
            "Epoch 79/100\n",
            "5/5 [==============================] - 0s 6ms/step - loss: 39.4163 - mae: 39.4163\n",
            "Epoch 80/100\n",
            "5/5 [==============================] - 0s 5ms/step - loss: 38.8504 - mae: 38.8504\n",
            "Epoch 81/100\n",
            "5/5 [==============================] - 0s 5ms/step - loss: 39.6745 - mae: 39.6745\n",
            "Epoch 82/100\n",
            "5/5 [==============================] - 0s 5ms/step - loss: 40.0830 - mae: 40.0830\n",
            "Epoch 83/100\n",
            "5/5 [==============================] - 0s 5ms/step - loss: 39.3542 - mae: 39.3542\n",
            "Epoch 84/100\n",
            "5/5 [==============================] - 0s 5ms/step - loss: 39.1113 - mae: 39.1113\n",
            "Epoch 85/100\n",
            "5/5 [==============================] - 0s 4ms/step - loss: 39.0184 - mae: 39.0184\n",
            "Epoch 86/100\n",
            "5/5 [==============================] - 0s 5ms/step - loss: 38.9411 - mae: 38.9411\n",
            "Epoch 87/100\n",
            "5/5 [==============================] - 0s 5ms/step - loss: 38.9493 - mae: 38.9493\n",
            "Epoch 88/100\n",
            "5/5 [==============================] - 0s 4ms/step - loss: 38.9727 - mae: 38.9727\n",
            "Epoch 89/100\n",
            "5/5 [==============================] - 0s 4ms/step - loss: 38.7983 - mae: 38.7983\n",
            "Epoch 90/100\n",
            "5/5 [==============================] - 0s 5ms/step - loss: 38.6418 - mae: 38.6418\n",
            "Epoch 91/100\n",
            "5/5 [==============================] - 0s 5ms/step - loss: 38.6942 - mae: 38.6942\n",
            "Epoch 92/100\n",
            "5/5 [==============================] - 0s 4ms/step - loss: 38.6207 - mae: 38.6207\n",
            "Epoch 93/100\n",
            "5/5 [==============================] - 0s 5ms/step - loss: 39.2933 - mae: 39.2933\n",
            "Epoch 94/100\n",
            "5/5 [==============================] - 0s 5ms/step - loss: 38.7495 - mae: 38.7495\n",
            "Epoch 95/100\n",
            "5/5 [==============================] - 0s 5ms/step - loss: 38.5456 - mae: 38.5456\n",
            "Epoch 96/100\n",
            "5/5 [==============================] - 0s 5ms/step - loss: 38.8918 - mae: 38.8918\n",
            "Epoch 97/100\n",
            "5/5 [==============================] - 0s 5ms/step - loss: 38.3994 - mae: 38.3994\n",
            "Epoch 98/100\n",
            "5/5 [==============================] - 0s 7ms/step - loss: 38.8051 - mae: 38.8051\n",
            "Epoch 99/100\n",
            "5/5 [==============================] - 0s 6ms/step - loss: 38.5603 - mae: 38.5603\n",
            "Epoch 100/100\n",
            "5/5 [==============================] - 0s 5ms/step - loss: 38.5482 - mae: 38.5482\n"
          ]
        },
        {
          "output_type": "execute_result",
          "data": {
            "text/plain": [
              "<keras.callbacks.History at 0x7f1400726bc0>"
            ]
          },
          "metadata": {},
          "execution_count": 28
        }
      ]
    },
    {
      "cell_type": "code",
      "source": [
        "y_reg_predict = model_3.predict(x_reg_test)\n",
        "print(y_reg_predict)"
      ],
      "metadata": {
        "colab": {
          "base_uri": "https://localhost:8080/"
        },
        "id": "dJOWqjP_HGra",
        "outputId": "9d8da2fe-a092-4b86-cb0c-a3b68b81108e"
      },
      "execution_count": null,
      "outputs": [
        {
          "output_type": "stream",
          "name": "stdout",
          "text": [
            "2/2 [==============================] - 0s 5ms/step\n",
            "[[ 891.80304]\n",
            " [ 897.6928 ]\n",
            " [ 903.58264]\n",
            " [ 909.4721 ]\n",
            " [ 915.3618 ]\n",
            " [ 921.2516 ]\n",
            " [ 927.1413 ]\n",
            " [ 933.0309 ]\n",
            " [ 938.9206 ]\n",
            " [ 944.8104 ]\n",
            " [ 950.70013]\n",
            " [ 956.5898 ]\n",
            " [ 962.4793 ]\n",
            " [ 968.3691 ]\n",
            " [ 974.2588 ]\n",
            " [ 980.14844]\n",
            " [ 986.0381 ]\n",
            " [ 991.9279 ]\n",
            " [ 997.8175 ]\n",
            " [1003.70703]\n",
            " [1009.5968 ]\n",
            " [1015.48663]\n",
            " [1021.37634]\n",
            " [1027.266  ]\n",
            " [1033.1558 ]\n",
            " [1039.0454 ]\n",
            " [1044.935  ]\n",
            " [1050.8248 ]\n",
            " [1056.7145 ]\n",
            " [1062.604  ]\n",
            " [1068.4937 ]\n",
            " [1074.3834 ]\n",
            " [1080.2733 ]\n",
            " [1086.1628 ]\n",
            " [1092.0525 ]\n",
            " [1097.9423 ]\n",
            " [1103.8322 ]\n",
            " [1109.7217 ]\n",
            " [1115.6113 ]\n",
            " [1121.5011 ]\n",
            " [1127.3906 ]\n",
            " [1133.2803 ]\n",
            " [1139.17   ]\n",
            " [1145.0597 ]\n",
            " [1150.9492 ]\n",
            " [1156.839  ]\n",
            " [1162.7289 ]\n",
            " [1168.6184 ]\n",
            " [1174.508  ]\n",
            " [1180.3977 ]]\n"
          ]
        }
      ]
    },
    {
      "cell_type": "code",
      "source": [
        "#plot and evaluate\n",
        "\n",
        "plt.figure(figsize=(10, 7))\n",
        "plt.scatter(x_reg_train, y_reg_train, c='b', label=\"Training data\")\n",
        "plt.scatter(x_reg_test, y_reg_test, c='g', label=\"Test data\")\n",
        "plt.scatter(x_reg_test, y_reg_predict, c='r', label=\"Predictions\")\n",
        "plt.legend();"
      ],
      "metadata": {
        "colab": {
          "base_uri": "https://localhost:8080/",
          "height": 599
        },
        "id": "EXysMMrvIUS2",
        "outputId": "758081bc-9b02-405e-e8bc-d554dd48178e"
      },
      "execution_count": null,
      "outputs": [
        {
          "output_type": "display_data",
          "data": {
            "text/plain": [
              "<Figure size 1000x700 with 1 Axes>"
            ],
            "image/png": "[encoded data removed]"
          },
          "metadata": {}
        }
      ]
    },
    {
      "cell_type": "markdown",
      "source": [
        "The missing piece : Non Linearity"
      ],
      "metadata": {
        "id": "7Ep6pvTUJWUZ"
      }
    },
    {
      "cell_type": "code",
      "source": [
        "tf.random.set_seed(42)\n",
        "\n",
        "# creata a model\n",
        "model_4 = tf.keras.Sequential([\n",
        "   tf.keras.layers.Dense(1, activation=tf.keras.activations.linear)\n",
        "])\n",
        "\n",
        "#compile a model\n",
        "model_4.compile(loss='binary_crossentropy',\n",
        "                optimizer=tf.keras.optimizers.Adam(lr=0.001),\n",
        "                metrics=[\"accuracy\"])\n",
        "\n",
        "#fit the model\n",
        "history = model_4.fit(x, y, epochs=100)"
      ],
      "metadata": {
        "colab": {
          "base_uri": "https://localhost:8080/"
        },
        "id": "-2famA0SJlya",
        "outputId": "181ca13a-9f62-436d-caeb-3f571c0cff62"
      },
      "execution_count": null,
      "outputs": [
        {
          "output_type": "stream",
          "name": "stderr",
          "text": [
            "WARNING:absl:`lr` is deprecated in Keras optimizer, please use `learning_rate` or use the legacy optimizer, e.g.,tf.keras.optimizers.legacy.Adam.\n"
          ]
        },
        {
          "output_type": "stream",
          "name": "stdout",
          "text": [
            "Epoch 1/100\n",
            "32/32 [==============================] - 1s 2ms/step - loss: 5.3259 - accuracy: 0.4820\n",
            "Epoch 2/100\n",
            "32/32 [==============================] - 0s 2ms/step - loss: 5.2021 - accuracy: 0.4810\n",
            "Epoch 3/100\n",
            "32/32 [==============================] - 0s 2ms/step - loss: 5.1595 - accuracy: 0.4800\n",
            "Epoch 4/100\n",
            "32/32 [==============================] - 0s 2ms/step - loss: 5.1232 - accuracy: 0.4800\n",
            "Epoch 5/100\n",
            "32/32 [==============================] - 0s 2ms/step - loss: 5.0636 - accuracy: 0.4800\n",
            "Epoch 6/100\n",
            "32/32 [==============================] - 0s 2ms/step - loss: 4.9089 - accuracy: 0.4770\n",
            "Epoch 7/100\n",
            "32/32 [==============================] - 0s 2ms/step - loss: 4.7772 - accuracy: 0.4780\n",
            "Epoch 8/100\n",
            "32/32 [==============================] - 0s 2ms/step - loss: 4.6344 - accuracy: 0.4750\n",
            "Epoch 9/100\n",
            "32/32 [==============================] - 0s 2ms/step - loss: 4.5832 - accuracy: 0.4740\n",
            "Epoch 10/100\n",
            "32/32 [==============================] - 0s 2ms/step - loss: 4.5498 - accuracy: 0.4750\n",
            "Epoch 11/100\n",
            "32/32 [==============================] - 0s 2ms/step - loss: 4.5234 - accuracy: 0.4760\n",
            "Epoch 12/100\n",
            "32/32 [==============================] - 0s 2ms/step - loss: 4.4814 - accuracy: 0.4750\n",
            "Epoch 13/100\n",
            "32/32 [==============================] - 0s 2ms/step - loss: 4.4759 - accuracy: 0.4750\n",
            "Epoch 14/100\n",
            "32/32 [==============================] - 0s 2ms/step - loss: 4.4719 - accuracy: 0.4750\n",
            "Epoch 15/100\n",
            "32/32 [==============================] - 0s 2ms/step - loss: 4.4681 - accuracy: 0.4750\n",
            "Epoch 16/100\n",
            "32/32 [==============================] - 0s 2ms/step - loss: 4.4650 - accuracy: 0.4760\n",
            "Epoch 17/100\n",
            "32/32 [==============================] - 0s 2ms/step - loss: 4.4623 - accuracy: 0.4760\n",
            "Epoch 18/100\n",
            "32/32 [==============================] - 0s 2ms/step - loss: 4.4595 - accuracy: 0.4760\n",
            "Epoch 19/100\n",
            "32/32 [==============================] - 0s 2ms/step - loss: 4.4570 - accuracy: 0.4760\n",
            "Epoch 20/100\n",
            "32/32 [==============================] - 0s 2ms/step - loss: 4.4548 - accuracy: 0.4760\n",
            "Epoch 21/100\n",
            "32/32 [==============================] - 0s 2ms/step - loss: 4.4525 - accuracy: 0.4760\n",
            "Epoch 22/100\n",
            "32/32 [==============================] - 0s 2ms/step - loss: 4.4504 - accuracy: 0.4760\n",
            "Epoch 23/100\n",
            "32/32 [==============================] - 0s 2ms/step - loss: 4.4483 - accuracy: 0.4750\n",
            "Epoch 24/100\n",
            "32/32 [==============================] - 0s 2ms/step - loss: 4.4461 - accuracy: 0.4750\n",
            "Epoch 25/100\n",
            "32/32 [==============================] - 0s 2ms/step - loss: 4.4443 - accuracy: 0.4740\n",
            "Epoch 26/100\n",
            "32/32 [==============================] - 0s 2ms/step - loss: 4.4423 - accuracy: 0.4730\n",
            "Epoch 27/100\n",
            "32/32 [==============================] - 0s 2ms/step - loss: 4.4407 - accuracy: 0.4730\n",
            "Epoch 28/100\n",
            "32/32 [==============================] - 0s 2ms/step - loss: 4.4386 - accuracy: 0.4730\n",
            "Epoch 29/100\n",
            "32/32 [==============================] - 0s 2ms/step - loss: 4.4370 - accuracy: 0.4730\n",
            "Epoch 30/100\n",
            "32/32 [==============================] - 0s 2ms/step - loss: 4.4351 - accuracy: 0.4740\n",
            "Epoch 31/100\n",
            "32/32 [==============================] - 0s 2ms/step - loss: 4.4333 - accuracy: 0.4730\n",
            "Epoch 32/100\n",
            "32/32 [==============================] - 0s 2ms/step - loss: 4.4317 - accuracy: 0.4740\n",
            "Epoch 33/100\n",
            "32/32 [==============================] - 0s 2ms/step - loss: 4.4300 - accuracy: 0.4730\n",
            "Epoch 34/100\n",
            "32/32 [==============================] - 0s 2ms/step - loss: 4.4284 - accuracy: 0.4730\n",
            "Epoch 35/100\n",
            "32/32 [==============================] - 0s 2ms/step - loss: 4.4266 - accuracy: 0.4730\n",
            "Epoch 36/100\n",
            "32/32 [==============================] - 0s 2ms/step - loss: 4.4250 - accuracy: 0.4730\n",
            "Epoch 37/100\n",
            "32/32 [==============================] - 0s 2ms/step - loss: 4.4233 - accuracy: 0.4730\n",
            "Epoch 38/100\n",
            "32/32 [==============================] - 0s 2ms/step - loss: 4.4218 - accuracy: 0.4720\n",
            "Epoch 39/100\n",
            "32/32 [==============================] - 0s 2ms/step - loss: 4.4203 - accuracy: 0.4720\n",
            "Epoch 40/100\n",
            "32/32 [==============================] - 0s 2ms/step - loss: 4.4120 - accuracy: 0.4750\n",
            "Epoch 41/100\n",
            "32/32 [==============================] - 0s 2ms/step - loss: 4.3851 - accuracy: 0.4740\n",
            "Epoch 42/100\n",
            "32/32 [==============================] - 0s 2ms/step - loss: 4.3827 - accuracy: 0.4730\n",
            "Epoch 43/100\n",
            "32/32 [==============================] - 0s 2ms/step - loss: 4.3806 - accuracy: 0.4720\n",
            "Epoch 44/100\n",
            "32/32 [==============================] - 0s 2ms/step - loss: 4.3786 - accuracy: 0.4710\n",
            "Epoch 45/100\n",
            "32/32 [==============================] - 0s 2ms/step - loss: 4.3768 - accuracy: 0.4720\n",
            "Epoch 46/100\n",
            "32/32 [==============================] - 0s 2ms/step - loss: 4.3749 - accuracy: 0.4730\n",
            "Epoch 47/100\n",
            "32/32 [==============================] - 0s 2ms/step - loss: 4.3731 - accuracy: 0.4730\n",
            "Epoch 48/100\n",
            "32/32 [==============================] - 0s 2ms/step - loss: 4.3713 - accuracy: 0.4730\n",
            "Epoch 49/100\n",
            "32/32 [==============================] - 0s 2ms/step - loss: 4.3696 - accuracy: 0.4730\n",
            "Epoch 50/100\n",
            "32/32 [==============================] - 0s 2ms/step - loss: 4.3679 - accuracy: 0.4720\n",
            "Epoch 51/100\n",
            "32/32 [==============================] - 0s 2ms/step - loss: 4.3663 - accuracy: 0.4720\n",
            "Epoch 52/100\n",
            "32/32 [==============================] - 0s 2ms/step - loss: 4.3647 - accuracy: 0.4720\n",
            "Epoch 53/100\n",
            "32/32 [==============================] - 0s 2ms/step - loss: 4.3631 - accuracy: 0.4730\n",
            "Epoch 54/100\n",
            "32/32 [==============================] - 0s 2ms/step - loss: 4.3615 - accuracy: 0.4730\n",
            "Epoch 55/100\n",
            "32/32 [==============================] - 0s 2ms/step - loss: 4.3601 - accuracy: 0.4730\n",
            "Epoch 56/100\n",
            "32/32 [==============================] - 0s 2ms/step - loss: 4.3587 - accuracy: 0.4740\n",
            "Epoch 57/100\n",
            "32/32 [==============================] - 0s 2ms/step - loss: 4.3571 - accuracy: 0.4740\n",
            "Epoch 58/100\n",
            "32/32 [==============================] - 0s 2ms/step - loss: 4.3557 - accuracy: 0.4720\n",
            "Epoch 59/100\n",
            "32/32 [==============================] - 0s 2ms/step - loss: 4.3542 - accuracy: 0.4720\n",
            "Epoch 60/100\n",
            "32/32 [==============================] - 0s 2ms/step - loss: 4.3528 - accuracy: 0.4720\n",
            "Epoch 61/100\n",
            "32/32 [==============================] - 0s 2ms/step - loss: 4.3439 - accuracy: 0.4720\n",
            "Epoch 62/100\n",
            "32/32 [==============================] - 0s 2ms/step - loss: 4.3273 - accuracy: 0.4740\n",
            "Epoch 63/100\n",
            "32/32 [==============================] - 0s 2ms/step - loss: 4.2964 - accuracy: 0.4760\n",
            "Epoch 64/100\n",
            "32/32 [==============================] - 0s 3ms/step - loss: 4.2677 - accuracy: 0.4760\n",
            "Epoch 65/100\n",
            "32/32 [==============================] - 0s 2ms/step - loss: 4.2549 - accuracy: 0.4750\n",
            "Epoch 66/100\n",
            "32/32 [==============================] - 0s 2ms/step - loss: 4.2419 - accuracy: 0.4750\n",
            "Epoch 67/100\n",
            "32/32 [==============================] - 0s 2ms/step - loss: 4.2383 - accuracy: 0.4740\n",
            "Epoch 68/100\n",
            "32/32 [==============================] - 0s 2ms/step - loss: 4.2353 - accuracy: 0.4740\n",
            "Epoch 69/100\n",
            "32/32 [==============================] - 0s 2ms/step - loss: 4.2329 - accuracy: 0.4740\n",
            "Epoch 70/100\n",
            "32/32 [==============================] - 0s 2ms/step - loss: 4.2306 - accuracy: 0.4740\n",
            "Epoch 71/100\n",
            "32/32 [==============================] - 0s 2ms/step - loss: 4.2285 - accuracy: 0.4740\n",
            "Epoch 72/100\n",
            "32/32 [==============================] - 0s 2ms/step - loss: 4.2264 - accuracy: 0.4730\n",
            "Epoch 73/100\n",
            "32/32 [==============================] - 0s 2ms/step - loss: 4.2244 - accuracy: 0.4740\n",
            "Epoch 74/100\n",
            "32/32 [==============================] - 0s 2ms/step - loss: 4.2140 - accuracy: 0.4740\n",
            "Epoch 75/100\n",
            "32/32 [==============================] - 0s 2ms/step - loss: 4.2094 - accuracy: 0.4750\n",
            "Epoch 76/100\n",
            "32/32 [==============================] - 0s 2ms/step - loss: 4.1683 - accuracy: 0.4760\n",
            "Epoch 77/100\n",
            "32/32 [==============================] - 0s 3ms/step - loss: 4.0783 - accuracy: 0.4760\n",
            "Epoch 78/100\n",
            "32/32 [==============================] - 0s 2ms/step - loss: 4.0409 - accuracy: 0.4750\n",
            "Epoch 79/100\n",
            "32/32 [==============================] - 0s 2ms/step - loss: 4.0144 - accuracy: 0.4760\n",
            "Epoch 80/100\n",
            "32/32 [==============================] - 0s 2ms/step - loss: 4.0051 - accuracy: 0.4760\n",
            "Epoch 81/100\n",
            "32/32 [==============================] - 0s 2ms/step - loss: 3.9741 - accuracy: 0.4760\n",
            "Epoch 82/100\n",
            "32/32 [==============================] - 0s 2ms/step - loss: 3.9627 - accuracy: 0.4770\n",
            "Epoch 83/100\n",
            "32/32 [==============================] - 0s 2ms/step - loss: 3.9584 - accuracy: 0.4770\n",
            "Epoch 84/100\n",
            "32/32 [==============================] - 0s 2ms/step - loss: 3.9548 - accuracy: 0.4780\n",
            "Epoch 85/100\n",
            "32/32 [==============================] - 0s 2ms/step - loss: 3.9333 - accuracy: 0.4770\n",
            "Epoch 86/100\n",
            "32/32 [==============================] - 0s 2ms/step - loss: 3.9265 - accuracy: 0.4780\n",
            "Epoch 87/100\n",
            "32/32 [==============================] - 0s 2ms/step - loss: 3.9018 - accuracy: 0.4800\n",
            "Epoch 88/100\n",
            "32/32 [==============================] - 0s 2ms/step - loss: 3.8836 - accuracy: 0.4800\n",
            "Epoch 89/100\n",
            "32/32 [==============================] - 0s 2ms/step - loss: 3.8516 - accuracy: 0.4800\n",
            "Epoch 90/100\n",
            "32/32 [==============================] - 0s 2ms/step - loss: 3.7805 - accuracy: 0.4780\n",
            "Epoch 91/100\n",
            "32/32 [==============================] - 0s 2ms/step - loss: 3.7722 - accuracy: 0.4780\n",
            "Epoch 92/100\n",
            "32/32 [==============================] - 0s 2ms/step - loss: 3.7676 - accuracy: 0.4780\n",
            "Epoch 93/100\n",
            "32/32 [==============================] - 0s 2ms/step - loss: 3.7547 - accuracy: 0.4780\n",
            "Epoch 94/100\n",
            "32/32 [==============================] - 0s 3ms/step - loss: 3.7397 - accuracy: 0.4780\n",
            "Epoch 95/100\n",
            "32/32 [==============================] - 0s 3ms/step - loss: 3.7139 - accuracy: 0.4790\n",
            "Epoch 96/100\n",
            "32/32 [==============================] - 0s 3ms/step - loss: 3.6961 - accuracy: 0.4800\n",
            "Epoch 97/100\n",
            "32/32 [==============================] - 0s 3ms/step - loss: 3.6616 - accuracy: 0.4780\n",
            "Epoch 98/100\n",
            "32/32 [==============================] - 0s 3ms/step - loss: 3.6505 - accuracy: 0.4790\n",
            "Epoch 99/100\n",
            "32/32 [==============================] - 0s 3ms/step - loss: 3.6209 - accuracy: 0.4790\n",
            "Epoch 100/100\n",
            "32/32 [==============================] - 0s 2ms/step - loss: 3.5318 - accuracy: 0.4800\n"
          ]
        }
      ]
    },
    {
      "cell_type": "code",
      "source": [
        "# visualize\n",
        "\n",
        "plt.scatter(x[:,0], x[:,1], c=y, cmap=plt.cm.RdYlBu)"
      ],
      "metadata": {
        "colab": {
          "base_uri": "https://localhost:8080/",
          "height": 447
        },
        "id": "7W4i1p07K7He",
        "outputId": "b880ff7c-0cd6-4502-dc7c-0becfb72ca68"
      },
      "execution_count": null,
      "outputs": [
        {
          "output_type": "execute_result",
          "data": {
            "text/plain": [
              "<matplotlib.collections.PathCollection at 0x7f13f35b3c70>"
            ]
          },
          "metadata": {},
          "execution_count": 32
        },
        {
          "output_type": "display_data",
          "data": {
            "text/plain": [
              "<Figure size 640x480 with 1 Axes>"
            ],
            "image/png": "[encoded data removed]"
          },
          "metadata": {}
        }
      ]
    },
    {
      "cell_type": "code",
      "source": [
        "#check the decision boundary for our latest model\n",
        "\n",
        "plot_decision_boundary(model=model_4,\n",
        "                       x=x,\n",
        "                       y=y)"
      ],
      "metadata": {
        "colab": {
          "base_uri": "https://localhost:8080/"
        },
        "id": "fFl9EhZJLS5a",
        "outputId": "96cbf0b3-2fce-41dd-c575-be2568f16757"
      },
      "execution_count": null,
      "outputs": [
        {
          "output_type": "stream",
          "name": "stdout",
          "text": [
            "202/313 [==================>...........] - ETA: 0s"
          ]
        }
      ]
    },
    {
      "cell_type": "markdown",
      "source": [
        "Let's try build our neural network with a non linear activation function"
      ],
      "metadata": {
        "id": "Xraxw46hLtRM"
      }
    },
    {
      "cell_type": "code",
      "source": [
        "tf.random.set_seed(42)\n",
        "\n",
        "# creata a model\n",
        "model_5 = tf.keras.Sequential([\n",
        "   tf.keras.layers.Dense(1, activation=tf.keras.activations.relu)\n",
        "])\n",
        "\n",
        "#compile a model\n",
        "model_5.compile(loss='binary_crossentropy',\n",
        "                optimizer=tf.keras.optimizers.Adam(lr=0.001),\n",
        "                metrics=[\"accuracy\"])\n",
        "\n",
        "#fit the model\n",
        "history = model_5.fit(x, y, epochs=100)"
      ],
      "metadata": {
        "id": "mayynY1WL4P7"
      },
      "execution_count": null,
      "outputs": []
    },
    {
      "cell_type": "code",
      "source": [
        "# trying multi layered neural network\n",
        "\n",
        "tf.random.set_seed(42)\n",
        "\n",
        "# creata a model\n",
        "model_6 = tf.keras.Sequential([\n",
        "   tf.keras.layers.Dense(100, activation='relu'),\n",
        "   tf.keras.layers.Dense(10, activation='relu'),\n",
        "   tf.keras.layers.Dense(1, activation='relu')\n",
        "])\n",
        "\n",
        "#compile a model\n",
        "model_6.compile(loss='binary_crossentropy',\n",
        "                optimizer=tf.keras.optimizers.Adam(lr=0.001),\n",
        "                metrics=[\"accuracy\"])\n",
        "\n",
        "#fit the model\n",
        "history = model_6.fit(x, y, epochs=250)"
      ],
      "metadata": {
        "id": "BVPCwnpcMJ-X"
      },
      "execution_count": null,
      "outputs": []
    },
    {
      "cell_type": "code",
      "source": [
        "model_6.evaluate(x, y)"
      ],
      "metadata": {
        "id": "n23Ysgk_M2iK"
      },
      "execution_count": null,
      "outputs": []
    },
    {
      "cell_type": "code",
      "source": [
        "#visulaize\n",
        "\n",
        "plot_decision_boundary(model_6, x, y)"
      ],
      "metadata": {
        "id": "XS69TFjhNLl0"
      },
      "execution_count": null,
      "outputs": []
    },
    {
      "cell_type": "code",
      "source": [
        "\n",
        "tf.random.set_seed(42)\n",
        "\n",
        "# creata a model\n",
        "model_7 = tf.keras.Sequential([\n",
        "   tf.keras.layers.Dense(4, activation='relu'),\n",
        "   tf.keras.layers.Dense(4, activation='relu'),\n",
        "   tf.keras.layers.Dense(1, activation='sigmoid')\n",
        "])\n",
        "\n",
        "#compile a model\n",
        "model_7.compile(loss='binary_crossentropy',\n",
        "                optimizer=tf.keras.optimizers.Adam(lr=0.001),\n",
        "                metrics=[\"accuracy\"])\n",
        "\n",
        "#fit the model\n",
        "history = model_7.fit(x, y, epochs=100)"
      ],
      "metadata": {
        "id": "udRJkGDjNoXt"
      },
      "execution_count": null,
      "outputs": []
    },
    {
      "cell_type": "code",
      "source": [
        "model_7.evaluate(x, y)"
      ],
      "metadata": {
        "id": "6pZhEDCgOdny"
      },
      "execution_count": null,
      "outputs": []
    },
    {
      "cell_type": "code",
      "source": [
        "plot_decision_boundary(model_7, x, y)"
      ],
      "metadata": {
        "id": "M9Dr9_HqOyKC"
      },
      "execution_count": null,
      "outputs": []
    },
    {
      "cell_type": "code",
      "source": [
        "# create a toy tensor\n",
        "\n",
        "a = tf.cast(tf.range(-10, 10), tf.float32)\n",
        "a"
      ],
      "metadata": {
        "id": "QYPfX0toA6Ii"
      },
      "execution_count": null,
      "outputs": []
    },
    {
      "cell_type": "code",
      "source": [
        "plt.plot(a)"
      ],
      "metadata": {
        "id": "if-JpygKBMlH"
      },
      "execution_count": null,
      "outputs": []
    },
    {
      "cell_type": "code",
      "source": [
        "# applying sigmoid activation directly\n",
        "def sigmoid(x):\n",
        "  return 1 / (1 + tf.exp(-x))\n",
        "\n",
        "# use sigmoid of a\n",
        "sigmoid(a)"
      ],
      "metadata": {
        "id": "4_YidfWHBQCJ"
      },
      "execution_count": null,
      "outputs": []
    },
    {
      "cell_type": "code",
      "source": [
        "plt.plot(sigmoid(a))"
      ],
      "metadata": {
        "id": "ERC8UzJDBmZI"
      },
      "execution_count": null,
      "outputs": []
    },
    {
      "cell_type": "code",
      "source": [
        "# creating relu function\n",
        "def relu(x):\n",
        "  return tf.maximum(0, x)\n",
        "\n",
        "relu(a)"
      ],
      "metadata": {
        "id": "D0xnq1dLBvBq"
      },
      "execution_count": null,
      "outputs": []
    },
    {
      "cell_type": "code",
      "source": [
        "plt.plot(relu(a))"
      ],
      "metadata": {
        "id": "t5RJWt4MCJ0Q"
      },
      "execution_count": null,
      "outputs": []
    },
    {
      "cell_type": "code",
      "source": [
        "# linear activation function\n",
        "\n",
        "tf.keras.activations.linear(a)"
      ],
      "metadata": {
        "id": "PdhccoK9COMC"
      },
      "execution_count": null,
      "outputs": []
    },
    {
      "cell_type": "code",
      "source": [
        "plt.plot(tf.keras.activations.linear(a))"
      ],
      "metadata": {
        "id": "LxYl0tfUCi_A"
      },
      "execution_count": null,
      "outputs": []
    },
    {
      "cell_type": "code",
      "source": [
        "a == tf.keras.activations.linear(a)"
      ],
      "metadata": {
        "id": "xJUUba_CCoVs"
      },
      "execution_count": null,
      "outputs": []
    },
    {
      "cell_type": "markdown",
      "source": [
        "Evauating and improving our classification"
      ],
      "metadata": {
        "id": "PfAwBKLtDCR1"
      }
    },
    {
      "cell_type": "code",
      "source": [
        "len(x)"
      ],
      "metadata": {
        "id": "9tjZw__hDKOJ"
      },
      "execution_count": null,
      "outputs": []
    },
    {
      "cell_type": "code",
      "source": [
        "x, y"
      ],
      "metadata": {
        "id": "oV0vsuP-DSEa"
      },
      "execution_count": null,
      "outputs": []
    },
    {
      "cell_type": "code",
      "source": [
        "x_train, y_train = x[:800], y[:800]\n",
        "x_test, y_test = x[800:], y[800:]\n",
        "\n",
        "x_train.shape, x_test.shape, y_train.shape, y_test.shape"
      ],
      "metadata": {
        "id": "8w4DoQIaDU87"
      },
      "execution_count": null,
      "outputs": []
    },
    {
      "cell_type": "code",
      "source": [
        "tf.random.set_seed(42)\n",
        "\n",
        "# create a model\n",
        "model_8 = tf.keras.Sequential([\n",
        "    tf.keras.layers.Dense(4, activation='relu'),\n",
        "    tf.keras.layers.Dense(4, activation='relu'),\n",
        "    tf.keras.layers.Dense(1, activation='sigmoid'),\n",
        "])\n",
        "\n",
        "#compile the model\n",
        "model_8.compile(loss='binary_crossentropy',\n",
        "           optimizer=tf.keras.optimizers.Adam(lr=0.01),\n",
        "           metrics=['accuracy'])\n",
        "\n",
        "# fit the model\n",
        "history = model_8.fit(x_train, y_train, epochs=100)"
      ],
      "metadata": {
        "id": "GVG-2HDoDuiP"
      },
      "execution_count": null,
      "outputs": []
    },
    {
      "cell_type": "code",
      "source": [
        "# evaluate\n",
        "model_8.evaluate(x_test, y_test)"
      ],
      "metadata": {
        "id": "dQXnC0w7Ecwr"
      },
      "execution_count": null,
      "outputs": []
    },
    {
      "cell_type": "code",
      "source": [
        "plt.figure(figsize=(12, 6))\n",
        "plt.subplot(1, 2, 1)\n",
        "plt.title(\"train\")\n",
        "plot_decision_boundary(model_8, x=x_train, y=y_train)\n",
        "plt.subplot(1, 2, 2)\n",
        "plt.title(\"test\")\n",
        "plot_decision_boundary(model_8, x=x_test, y=y_test)\n",
        "plt.show()"
      ],
      "metadata": {
        "id": "sruS3fJIFNxX"
      },
      "execution_count": null,
      "outputs": []
    },
    {
      "cell_type": "code",
      "source": [
        "history.history"
      ],
      "metadata": {
        "id": "DhR88bcJGDSG"
      },
      "execution_count": null,
      "outputs": []
    },
    {
      "cell_type": "markdown",
      "source": [
        "plot the loss\n"
      ],
      "metadata": {
        "id": "xY41Zk-2GGeV"
      }
    },
    {
      "cell_type": "code",
      "source": [
        "#converty history to dataframe\n",
        "pd.DataFrame(history.history)"
      ],
      "metadata": {
        "id": "Tjo_bmhdGadg"
      },
      "execution_count": null,
      "outputs": []
    },
    {
      "cell_type": "code",
      "source": [
        "pd.DataFrame(history.history).plot()\n",
        "plt.title('model_8 loss curves')"
      ],
      "metadata": {
        "id": "woTj0GSDGfdQ"
      },
      "execution_count": null,
      "outputs": []
    },
    {
      "cell_type": "markdown",
      "source": [
        "The loss function going down means the model is improving"
      ],
      "metadata": {
        "id": "wb6NK_0kGw5S"
      }
    },
    {
      "cell_type": "markdown",
      "source": [
        "Finding the best learning rate\n",
        "\n",
        "* A learning rate \"callback\"\n",
        "* Another model\n",
        "* A modified loss curve"
      ],
      "metadata": {
        "id": "v8NdBxtgG2iS"
      }
    },
    {
      "cell_type": "code",
      "source": [
        "tf.random.set_seed(42)\n",
        "\n",
        "# create a model\n",
        "model_9 = tf.keras.Sequential([\n",
        "    tf.keras.layers.Dense(4, activation='relu'),\n",
        "    tf.keras.layers.Dense(4, activation='relu'),\n",
        "    tf.keras.layers.Dense(1, activation='sigmoid'),\n",
        "])\n",
        "\n",
        "#compile the model\n",
        "model_9.compile(loss='binary_crossentropy',\n",
        "           optimizer='Adam',\n",
        "           metrics=['accuracy'])\n",
        "\n",
        "#create a learning rate callback\n",
        "lr_scheduler = tf.keras.callbacks.LearningRateScheduler(lambda epoch: 1e-4 * 10**(epoch/20))\n",
        "\n",
        "# fit the model\n",
        "history_9 = model_9.fit(x_train, y_train, epochs=100,\n",
        "                        callbacks=[lr_scheduler])"
      ],
      "metadata": {
        "colab": {
          "base_uri": "https://localhost:8080/"
        },
        "id": "KQ6iNdFhHK9u",
        "outputId": "e18f2258-b730-4ce4-d6d7-d246689b6c72"
      },
      "execution_count": null,
      "outputs": [
        {
          "metadata": {
            "tags": null
          },
          "name": "stdout",
          "output_type": "stream",
          "text": [
            "Epoch 1/100\n",
            "25/25 [==============================] - 1s 4ms/step - loss: 0.6986 - accuracy: 0.5163 - lr: 1.0000e-04\n",
            "Epoch 2/100\n",
            "25/25 [==============================] - 0s 4ms/step - loss: 0.6983 - accuracy: 0.5138 - lr: 1.1220e-04\n",
            "Epoch 3/100\n",
            "25/25 [==============================] - 0s 4ms/step - loss: 0.6980 - accuracy: 0.5150 - lr: 1.2589e-04\n",
            "Epoch 4/100\n",
            "25/25 [==============================] - 0s 4ms/step - loss: 0.6977 - accuracy: 0.5175 - lr: 1.4125e-04\n",
            "Epoch 5/100\n",
            "25/25 [==============================] - 0s 4ms/step - loss: 0.6974 - accuracy: 0.5188 - lr: 1.5849e-04\n",
            "Epoch 6/100\n",
            "25/25 [==============================] - 0s 4ms/step - loss: 0.6971 - accuracy: 0.5175 - lr: 1.7783e-04\n",
            "Epoch 7/100\n",
            "25/25 [==============================] - 0s 4ms/step - loss: 0.6967 - accuracy: 0.5213 - lr: 1.9953e-04\n",
            "Epoch 8/100\n",
            "25/25 [==============================] - 0s 4ms/step - loss: 0.6963 - accuracy: 0.5188 - lr: 2.2387e-04\n",
            "Epoch 9/100\n",
            "25/25 [==============================] - 0s 3ms/step - loss: 0.6959 - accuracy: 0.5163 - lr: 2.5119e-04\n",
            "Epoch 10/100\n",
            "25/25 [==============================] - 0s 4ms/step - loss: 0.6955 - accuracy: 0.5138 - lr: 2.8184e-04\n",
            "Epoch 11/100\n",
            "25/25 [==============================] - 0s 4ms/step - loss: 0.6951 - accuracy: 0.5113 - lr: 3.1623e-04\n",
            "Epoch 12/100\n",
            "25/25 [==============================] - 0s 4ms/step - loss: 0.6947 - accuracy: 0.5075 - lr: 3.5481e-04\n",
            "Epoch 13/100\n",
            "25/25 [==============================] - 0s 3ms/step - loss: 0.6943 - accuracy: 0.5100 - lr: 3.9811e-04\n",
            "Epoch 14/100\n",
            "25/25 [==============================] - 0s 4ms/step - loss: 0.6938 - accuracy: 0.5050 - lr: 4.4668e-04\n",
            "Epoch 15/100\n",
            "25/25 [==============================] - 0s 4ms/step - loss: 0.6934 - accuracy: 0.5050 - lr: 5.0119e-04\n",
            "Epoch 16/100\n",
            "25/25 [==============================] - 0s 4ms/step - loss: 0.6928 - accuracy: 0.4988 - lr: 5.6234e-04\n",
            "Epoch 17/100\n",
            "25/25 [==============================] - 0s 3ms/step - loss: 0.6923 - accuracy: 0.5013 - lr: 6.3096e-04\n",
            "Epoch 18/100\n",
            "25/25 [==============================] - 0s 3ms/step - loss: 0.6918 - accuracy: 0.5050 - lr: 7.0795e-04\n",
            "Epoch 19/100\n",
            "25/25 [==============================] - 0s 4ms/step - loss: 0.6914 - accuracy: 0.5075 - lr: 7.9433e-04\n",
            "Epoch 20/100\n",
            "25/25 [==============================] - 0s 3ms/step - loss: 0.6907 - accuracy: 0.5063 - lr: 8.9125e-04\n",
            "Epoch 21/100\n",
            "25/25 [==============================] - 0s 4ms/step - loss: 0.6901 - accuracy: 0.5013 - lr: 0.0010\n",
            "Epoch 22/100\n",
            "25/25 [==============================] - 0s 4ms/step - loss: 0.6894 - accuracy: 0.5138 - lr: 0.0011\n",
            "Epoch 23/100\n",
            "25/25 [==============================] - 0s 4ms/step - loss: 0.6888 - accuracy: 0.5150 - lr: 0.0013\n",
            "Epoch 24/100\n",
            "25/25 [==============================] - 0s 4ms/step - loss: 0.6879 - accuracy: 0.5038 - lr: 0.0014\n",
            "Epoch 25/100\n",
            "25/25 [==============================] - 0s 3ms/step - loss: 0.6872 - accuracy: 0.5125 - lr: 0.0016\n",
            "Epoch 26/100\n",
            "25/25 [==============================] - 0s 3ms/step - loss: 0.6863 - accuracy: 0.5200 - lr: 0.0018\n",
            "Epoch 27/100\n",
            "25/25 [==============================] - 0s 4ms/step - loss: 0.6854 - accuracy: 0.5225 - lr: 0.0020\n",
            "Epoch 28/100\n",
            "25/25 [==============================] - 0s 4ms/step - loss: 0.6842 - accuracy: 0.5263 - lr: 0.0022\n",
            "Epoch 29/100\n",
            "25/25 [==============================] - 0s 3ms/step - loss: 0.6831 - accuracy: 0.5337 - lr: 0.0025\n",
            "Epoch 30/100\n",
            "25/25 [==============================] - 0s 2ms/step - loss: 0.6819 - accuracy: 0.5437 - lr: 0.0028\n",
            "Epoch 31/100\n",
            "25/25 [==============================] - 0s 3ms/step - loss: 0.6807 - accuracy: 0.5475 - lr: 0.0032\n",
            "Epoch 32/100\n",
            "25/25 [==============================] - 0s 2ms/step - loss: 0.6789 - accuracy: 0.5500 - lr: 0.0035\n",
            "Epoch 33/100\n",
            "25/25 [==============================] - 0s 2ms/step - loss: 0.6765 - accuracy: 0.5638 - lr: 0.0040\n",
            "Epoch 34/100\n",
            "25/25 [==============================] - 0s 2ms/step - loss: 0.6744 - accuracy: 0.5688 - lr: 0.0045\n",
            "Epoch 35/100\n",
            "25/25 [==============================] - 0s 3ms/step - loss: 0.6727 - accuracy: 0.5913 - lr: 0.0050\n",
            "Epoch 36/100\n",
            "25/25 [==============================] - 0s 2ms/step - loss: 0.6693 - accuracy: 0.5550 - lr: 0.0056\n",
            "Epoch 37/100\n",
            "25/25 [==============================] - 0s 3ms/step - loss: 0.6652 - accuracy: 0.5663 - lr: 0.0063\n",
            "Epoch 38/100\n",
            "25/25 [==============================] - 0s 3ms/step - loss: 0.6628 - accuracy: 0.5663 - lr: 0.0071\n",
            "Epoch 39/100\n",
            "25/25 [==============================] - 0s 3ms/step - loss: 0.6577 - accuracy: 0.6225 - lr: 0.0079\n",
            "Epoch 40/100\n",
            "25/25 [==============================] - 0s 2ms/step - loss: 0.6471 - accuracy: 0.6037 - lr: 0.0089\n",
            "Epoch 41/100\n",
            "25/25 [==============================] - 0s 2ms/step - loss: 0.6329 - accuracy: 0.6225 - lr: 0.0100\n",
            "Epoch 42/100\n",
            "25/25 [==============================] - 0s 2ms/step - loss: 0.6178 - accuracy: 0.6288 - lr: 0.0112\n",
            "Epoch 43/100\n",
            "25/25 [==============================] - 0s 2ms/step - loss: 0.5848 - accuracy: 0.7150 - lr: 0.0126\n",
            "Epoch 44/100\n",
            "25/25 [==============================] - 0s 2ms/step - loss: 0.5459 - accuracy: 0.7750 - lr: 0.0141\n",
            "Epoch 45/100\n",
            "25/25 [==============================] - 0s 2ms/step - loss: 0.4864 - accuracy: 0.8037 - lr: 0.0158\n",
            "Epoch 46/100\n",
            "25/25 [==============================] - 0s 2ms/step - loss: 0.4252 - accuracy: 0.8587 - lr: 0.0178\n",
            "Epoch 47/100\n",
            "25/25 [==============================] - 0s 2ms/step - loss: 0.3674 - accuracy: 0.8687 - lr: 0.0200\n",
            "Epoch 48/100\n",
            "25/25 [==============================] - 0s 3ms/step - loss: 0.3027 - accuracy: 0.8963 - lr: 0.0224\n",
            "Epoch 49/100\n",
            "25/25 [==============================] - 0s 2ms/step - loss: 0.2211 - accuracy: 0.9287 - lr: 0.0251\n",
            "Epoch 50/100\n",
            "25/25 [==============================] - 0s 3ms/step - loss: 0.1376 - accuracy: 0.9613 - lr: 0.0282\n",
            "Epoch 51/100\n",
            "25/25 [==============================] - 0s 2ms/step - loss: 0.1113 - accuracy: 0.9663 - lr: 0.0316\n",
            "Epoch 52/100\n",
            "25/25 [==============================] - 0s 2ms/step - loss: 0.0675 - accuracy: 0.9875 - lr: 0.0355\n",
            "Epoch 53/100\n",
            "25/25 [==============================] - 0s 2ms/step - loss: 0.0570 - accuracy: 0.9887 - lr: 0.0398\n",
            "Epoch 54/100\n",
            "25/25 [==============================] - 0s 2ms/step - loss: 0.0771 - accuracy: 0.9750 - lr: 0.0447\n",
            "Epoch 55/100\n",
            "25/25 [==============================] - 0s 2ms/step - loss: 0.0958 - accuracy: 0.9675 - lr: 0.0501\n",
            "Epoch 56/100\n",
            "25/25 [==============================] - 0s 2ms/step - loss: 0.0671 - accuracy: 0.9775 - lr: 0.0562\n",
            "Epoch 57/100\n",
            "25/25 [==============================] - 0s 2ms/step - loss: 0.0859 - accuracy: 0.9700 - lr: 0.0631\n",
            "Epoch 58/100\n",
            "25/25 [==============================] - 0s 2ms/step - loss: 0.0947 - accuracy: 0.9650 - lr: 0.0708\n",
            "Epoch 59/100\n",
            "25/25 [==============================] - 0s 2ms/step - loss: 0.0748 - accuracy: 0.9675 - lr: 0.0794\n",
            "Epoch 60/100\n",
            "25/25 [==============================] - 0s 2ms/step - loss: 0.0969 - accuracy: 0.9675 - lr: 0.0891\n",
            "Epoch 61/100\n",
            "25/25 [==============================] - 0s 3ms/step - loss: 0.2994 - accuracy: 0.8938 - lr: 0.1000\n",
            "Epoch 62/100\n",
            "25/25 [==============================] - 0s 2ms/step - loss: 0.1523 - accuracy: 0.9438 - lr: 0.1122\n",
            "Epoch 63/100\n",
            "25/25 [==============================] - 0s 2ms/step - loss: 0.0797 - accuracy: 0.9700 - lr: 0.1259\n",
            "Epoch 64/100\n",
            "25/25 [==============================] - 0s 2ms/step - loss: 0.0573 - accuracy: 0.9762 - lr: 0.1413\n",
            "Epoch 65/100\n",
            "25/25 [==============================] - 0s 3ms/step - loss: 0.1027 - accuracy: 0.9638 - lr: 0.1585\n",
            "Epoch 66/100\n",
            "25/25 [==============================] - 0s 2ms/step - loss: 0.2082 - accuracy: 0.9250 - lr: 0.1778\n",
            "Epoch 67/100\n",
            "25/25 [==============================] - 0s 2ms/step - loss: 0.4007 - accuracy: 0.8712 - lr: 0.1995\n",
            "Epoch 68/100\n",
            "25/25 [==============================] - 0s 2ms/step - loss: 0.1782 - accuracy: 0.9362 - lr: 0.2239\n",
            "Epoch 69/100\n",
            "25/25 [==============================] - 0s 2ms/step - loss: 0.0773 - accuracy: 0.9762 - lr: 0.2512\n",
            "Epoch 70/100\n",
            "25/25 [==============================] - 0s 2ms/step - loss: 0.1949 - accuracy: 0.9287 - lr: 0.2818\n",
            "Epoch 71/100\n",
            "25/25 [==============================] - 0s 3ms/step - loss: 0.2545 - accuracy: 0.8938 - lr: 0.3162\n",
            "Epoch 72/100\n",
            "25/25 [==============================] - 0s 2ms/step - loss: 0.1931 - accuracy: 0.9162 - lr: 0.3548\n",
            "Epoch 73/100\n",
            "25/25 [==============================] - 0s 2ms/step - loss: 0.2564 - accuracy: 0.9075 - lr: 0.3981\n",
            "Epoch 74/100\n",
            "25/25 [==============================] - 0s 3ms/step - loss: 0.2101 - accuracy: 0.9212 - lr: 0.4467\n",
            "Epoch 75/100\n",
            "25/25 [==============================] - 0s 2ms/step - loss: 0.0869 - accuracy: 0.9613 - lr: 0.5012\n",
            "Epoch 76/100\n",
            "25/25 [==============================] - 0s 2ms/step - loss: 0.4600 - accuracy: 0.8275 - lr: 0.5623\n",
            "Epoch 77/100\n",
            "25/25 [==============================] - 0s 3ms/step - loss: 0.2544 - accuracy: 0.9038 - lr: 0.6310\n",
            "Epoch 78/100\n",
            "25/25 [==============================] - 0s 2ms/step - loss: 0.1877 - accuracy: 0.9325 - lr: 0.7079\n",
            "Epoch 79/100\n",
            "25/25 [==============================] - 0s 2ms/step - loss: 0.1916 - accuracy: 0.9388 - lr: 0.7943\n",
            "Epoch 80/100\n",
            "25/25 [==============================] - 0s 3ms/step - loss: 0.2050 - accuracy: 0.9250 - lr: 0.8913\n",
            "Epoch 81/100\n",
            "25/25 [==============================] - 0s 2ms/step - loss: 0.6569 - accuracy: 0.7000 - lr: 1.0000\n",
            "Epoch 82/100\n",
            "25/25 [==============================] - 0s 3ms/step - loss: 0.7272 - accuracy: 0.5312 - lr: 1.1220\n",
            "Epoch 83/100\n",
            "25/25 [==============================] - 0s 2ms/step - loss: 0.7446 - accuracy: 0.4762 - lr: 1.2589\n",
            "Epoch 84/100\n",
            "25/25 [==============================] - 0s 2ms/step - loss: 0.7109 - accuracy: 0.5113 - lr: 1.4125\n",
            "Epoch 85/100\n",
            "25/25 [==============================] - 0s 2ms/step - loss: 0.7251 - accuracy: 0.5038 - lr: 1.5849\n",
            "Epoch 86/100\n",
            "25/25 [==============================] - 0s 2ms/step - loss: 0.7791 - accuracy: 0.5063 - lr: 1.7783\n",
            "Epoch 87/100\n",
            "25/25 [==============================] - 0s 2ms/step - loss: 0.7658 - accuracy: 0.5088 - lr: 1.9953\n",
            "Epoch 88/100\n",
            "25/25 [==============================] - 0s 2ms/step - loss: 0.7558 - accuracy: 0.5213 - lr: 2.2387\n",
            "Epoch 89/100\n",
            "25/25 [==============================] - 0s 2ms/step - loss: 0.7520 - accuracy: 0.4938 - lr: 2.5119\n",
            "Epoch 90/100\n",
            "25/25 [==============================] - 0s 2ms/step - loss: 0.7786 - accuracy: 0.5238 - lr: 2.8184\n",
            "Epoch 91/100\n",
            "25/25 [==============================] - 0s 2ms/step - loss: 0.8145 - accuracy: 0.5213 - lr: 3.1623\n",
            "Epoch 92/100\n",
            "25/25 [==============================] - 0s 2ms/step - loss: 0.7341 - accuracy: 0.4888 - lr: 3.5481\n",
            "Epoch 93/100\n",
            "25/25 [==============================] - 0s 2ms/step - loss: 0.7444 - accuracy: 0.5063 - lr: 3.9811\n",
            "Epoch 94/100\n",
            "25/25 [==============================] - 0s 2ms/step - loss: 0.7611 - accuracy: 0.5063 - lr: 4.4668\n",
            "Epoch 95/100\n",
            "25/25 [==============================] - 0s 2ms/step - loss: 0.8272 - accuracy: 0.4863 - lr: 5.0119\n",
            "Epoch 96/100\n",
            "25/25 [==============================] - 0s 3ms/step - loss: 0.7908 - accuracy: 0.4812 - lr: 5.6234\n",
            "Epoch 97/100\n",
            "25/25 [==============================] - 0s 2ms/step - loss: 0.8089 - accuracy: 0.5013 - lr: 6.3096\n",
            "Epoch 98/100\n",
            "25/25 [==============================] - 0s 2ms/step - loss: 0.9655 - accuracy: 0.4963 - lr: 7.0795\n",
            "Epoch 99/100\n",
            "25/25 [==============================] - 0s 2ms/step - loss: 0.9851 - accuracy: 0.4913 - lr: 7.9433\n",
            "Epoch 100/100\n",
            "25/25 [==============================] - 0s 2ms/step - loss: 0.8580 - accuracy: 0.4613 - lr: 8.9125\n"
          ]
        }
      ]
    },
    {
      "cell_type": "code",
      "source": [
        "pd.DataFrame(history_9.history).plot(figsize=(10, 7), xlabel='epochs')"
      ],
      "metadata": {
        "colab": {
          "base_uri": "https://localhost:8080/",
          "height": 636
        },
        "id": "j5VsPI3MIAZA",
        "outputId": "24e27d14-7e8d-499a-ce16-4cc2900c3ecc"
      },
      "execution_count": null,
      "outputs": [
        {
          "data": {
            "text/plain": [
              "<Axes: xlabel='epochs'>"
            ]
          },
          "execution_count": 60,
          "metadata": {},
          "output_type": "execute_result"
        },
        {
          "data": {
            "image/png": "[encoded data removed]",
            "text/plain": [
              "<Figure size 1000x700 with 1 Axes>"
            ]
          },
          "metadata": {},
          "output_type": "display_data"
        }
      ]
    },
    {
      "cell_type": "code",
      "source": [
        "lrs = 1e-4 * (10 ** (tf.range(100)/20))\n",
        "lrs"
      ],
      "metadata": {
        "colab": {
          "base_uri": "https://localhost:8080/"
        },
        "id": "E5UPDTpSIZo1",
        "outputId": "5551b880-412b-4bb9-ca11-b169c90a1cda"
      },
      "execution_count": null,
      "outputs": [
        {
          "data": {
            "text/plain": [
              "<tf.Tensor: shape=(100,), dtype=float64, numpy=\n",
              "array([1.00000000e-04, 1.12201845e-04, 1.25892541e-04, 1.41253754e-04,\n",
              "       1.58489319e-04, 1.77827941e-04, 1.99526231e-04, 2.23872114e-04,\n",
              "       2.51188643e-04, 2.81838293e-04, 3.16227766e-04, 3.54813389e-04,\n",
              "       3.98107171e-04, 4.46683592e-04, 5.01187234e-04, 5.62341325e-04,\n",
              "       6.30957344e-04, 7.07945784e-04, 7.94328235e-04, 8.91250938e-04,\n",
              "       1.00000000e-03, 1.12201845e-03, 1.25892541e-03, 1.41253754e-03,\n",
              "       1.58489319e-03, 1.77827941e-03, 1.99526231e-03, 2.23872114e-03,\n",
              "       2.51188643e-03, 2.81838293e-03, 3.16227766e-03, 3.54813389e-03,\n",
              "       3.98107171e-03, 4.46683592e-03, 5.01187234e-03, 5.62341325e-03,\n",
              "       6.30957344e-03, 7.07945784e-03, 7.94328235e-03, 8.91250938e-03,\n",
              "       1.00000000e-02, 1.12201845e-02, 1.25892541e-02, 1.41253754e-02,\n",
              "       1.58489319e-02, 1.77827941e-02, 1.99526231e-02, 2.23872114e-02,\n",
              "       2.51188643e-02, 2.81838293e-02, 3.16227766e-02, 3.54813389e-02,\n",
              "       3.98107171e-02, 4.46683592e-02, 5.01187234e-02, 5.62341325e-02,\n",
              "       6.30957344e-02, 7.07945784e-02, 7.94328235e-02, 8.91250938e-02,\n",
              "       1.00000000e-01, 1.12201845e-01, 1.25892541e-01, 1.41253754e-01,\n",
              "       1.58489319e-01, 1.77827941e-01, 1.99526231e-01, 2.23872114e-01,\n",
              "       2.51188643e-01, 2.81838293e-01, 3.16227766e-01, 3.54813389e-01,\n",
              "       3.98107171e-01, 4.46683592e-01, 5.01187234e-01, 5.62341325e-01,\n",
              "       6.30957344e-01, 7.07945784e-01, 7.94328235e-01, 8.91250938e-01,\n",
              "       1.00000000e+00, 1.12201845e+00, 1.25892541e+00, 1.41253754e+00,\n",
              "       1.58489319e+00, 1.77827941e+00, 1.99526231e+00, 2.23872114e+00,\n",
              "       2.51188643e+00, 2.81838293e+00, 3.16227766e+00, 3.54813389e+00,\n",
              "       3.98107171e+00, 4.46683592e+00, 5.01187234e+00, 5.62341325e+00,\n",
              "       6.30957344e+00, 7.07945784e+00, 7.94328235e+00, 8.91250938e+00])>"
            ]
          },
          "execution_count": 61,
          "metadata": {},
          "output_type": "execute_result"
        }
      ]
    },
    {
      "cell_type": "code",
      "source": [
        "len(lrs)"
      ],
      "metadata": {
        "colab": {
          "base_uri": "https://localhost:8080/"
        },
        "id": "-F3rLUSfIkFM",
        "outputId": "76b124fb-b537-460e-a87d-3a5a5bad1a52"
      },
      "execution_count": null,
      "outputs": [
        {
          "data": {
            "text/plain": [
              "100"
            ]
          },
          "execution_count": 62,
          "metadata": {},
          "output_type": "execute_result"
        }
      ]
    },
    {
      "cell_type": "code",
      "source": [
        "# plt the learning rate versus Loss\n",
        "\n",
        "plt.figure(figsize=(10, 7))\n",
        "plt.semilogx(lrs, history_9.history['loss'])\n",
        "plt.xlabel(\"learning rate\")\n",
        "plt.ylabel(\"loss\")\n",
        "plt.title(\"learning rate vs loss\")"
      ],
      "metadata": {
        "colab": {
          "base_uri": "https://localhost:8080/",
          "height": 663
        },
        "id": "Rb4szdufImbU",
        "outputId": "00fb2bee-1b8e-4db6-9cf2-21c03c377610"
      },
      "execution_count": null,
      "outputs": [
        {
          "data": {
            "text/plain": [
              "Text(0.5, 1.0, 'learning rate vs loss')"
            ]
          },
          "execution_count": 63,
          "metadata": {},
          "output_type": "execute_result"
        },
        {
          "data": {
            "image/png": "[encoded data removed]",
            "text/plain": [
              "<Figure size 1000x700 with 1 Axes>"
            ]
          },
          "metadata": {},
          "output_type": "display_data"
        }
      ]
    },
    {
      "cell_type": "code",
      "source": [
        "#model with ideal learning rate\n",
        "tf.random.set_seed(42)\n",
        "\n",
        "# create a model\n",
        "model_10 = tf.keras.Sequential([\n",
        "    tf.keras.layers.Dense(4, activation='relu'),\n",
        "    tf.keras.layers.Dense(4, activation='relu'),\n",
        "    tf.keras.layers.Dense(1, activation='sigmoid'),\n",
        "])\n",
        "\n",
        "#compile the model\n",
        "model_10.compile(loss='binary_crossentropy',\n",
        "           optimizer=tf.keras.optimizers.Adam(0.02),\n",
        "           metrics=['accuracy'])\n",
        "\n",
        "# fit the model\n",
        "history_10 = model_10.fit(x_train, y_train, epochs=25)"
      ],
      "metadata": {
        "colab": {
          "base_uri": "https://localhost:8080/"
        },
        "id": "9M0D51IFJIFb",
        "outputId": "13305160-f204-47a6-ce15-0b02b1a6d06f"
      },
      "execution_count": null,
      "outputs": [
        {
          "metadata": {
            "tags": null
          },
          "name": "stdout",
          "output_type": "stream",
          "text": [
            "Epoch 1/25\n",
            "25/25 [==============================] - 1s 2ms/step - loss: 0.6867 - accuracy: 0.5288\n",
            "Epoch 2/25\n",
            "25/25 [==============================] - 0s 2ms/step - loss: 0.6750 - accuracy: 0.6087\n",
            "Epoch 3/25\n",
            "25/25 [==============================] - 0s 2ms/step - loss: 0.6626 - accuracy: 0.5725\n",
            "Epoch 4/25\n",
            "25/25 [==============================] - 0s 2ms/step - loss: 0.6435 - accuracy: 0.6162\n",
            "Epoch 5/25\n",
            "25/25 [==============================] - 0s 2ms/step - loss: 0.6247 - accuracy: 0.6463\n",
            "Epoch 6/25\n",
            "25/25 [==============================] - 0s 2ms/step - loss: 0.6022 - accuracy: 0.6575\n",
            "Epoch 7/25\n",
            "25/25 [==============================] - 0s 2ms/step - loss: 0.5864 - accuracy: 0.6850\n",
            "Epoch 8/25\n",
            "25/25 [==============================] - 0s 2ms/step - loss: 0.5671 - accuracy: 0.6925\n",
            "Epoch 9/25\n",
            "25/25 [==============================] - 0s 2ms/step - loss: 0.5529 - accuracy: 0.7063\n",
            "Epoch 10/25\n",
            "25/25 [==============================] - 0s 2ms/step - loss: 0.5432 - accuracy: 0.7150\n",
            "Epoch 11/25\n",
            "25/25 [==============================] - 0s 2ms/step - loss: 0.5316 - accuracy: 0.7225\n",
            "Epoch 12/25\n",
            "25/25 [==============================] - 0s 3ms/step - loss: 0.5207 - accuracy: 0.7350\n",
            "Epoch 13/25\n",
            "25/25 [==============================] - 0s 2ms/step - loss: 0.5063 - accuracy: 0.7425\n",
            "Epoch 14/25\n",
            "25/25 [==============================] - 0s 2ms/step - loss: 0.5053 - accuracy: 0.7412\n",
            "Epoch 15/25\n",
            "25/25 [==============================] - 0s 2ms/step - loss: 0.5060 - accuracy: 0.7462\n",
            "Epoch 16/25\n",
            "25/25 [==============================] - 0s 2ms/step - loss: 0.4846 - accuracy: 0.7575\n",
            "Epoch 17/25\n",
            "25/25 [==============================] - 0s 2ms/step - loss: 0.4871 - accuracy: 0.7600\n",
            "Epoch 18/25\n",
            "25/25 [==============================] - 0s 2ms/step - loss: 0.4739 - accuracy: 0.7650\n",
            "Epoch 19/25\n",
            "25/25 [==============================] - 0s 2ms/step - loss: 0.4774 - accuracy: 0.7688\n",
            "Epoch 20/25\n",
            "25/25 [==============================] - 0s 2ms/step - loss: 0.4776 - accuracy: 0.7638\n",
            "Epoch 21/25\n",
            "25/25 [==============================] - 0s 2ms/step - loss: 0.4670 - accuracy: 0.7663\n",
            "Epoch 22/25\n",
            "25/25 [==============================] - 0s 2ms/step - loss: 0.4674 - accuracy: 0.7738\n",
            "Epoch 23/25\n",
            "25/25 [==============================] - 0s 2ms/step - loss: 0.4511 - accuracy: 0.7837\n",
            "Epoch 24/25\n",
            "25/25 [==============================] - 0s 2ms/step - loss: 0.4584 - accuracy: 0.7725\n",
            "Epoch 25/25\n",
            "25/25 [==============================] - 0s 3ms/step - loss: 0.4748 - accuracy: 0.7663\n"
          ]
        }
      ]
    },
    {
      "cell_type": "code",
      "source": [
        "model_10.evaluate(x_test, y_test)"
      ],
      "metadata": {
        "colab": {
          "base_uri": "https://localhost:8080/"
        },
        "id": "pPGBCxt9J4OU",
        "outputId": "9dc20ed1-c8d5-4f73-9525-e108b4d2b99d"
      },
      "execution_count": null,
      "outputs": [
        {
          "metadata": {
            "tags": null
          },
          "name": "stdout",
          "output_type": "stream",
          "text": [
            "7/7 [==============================] - 0s 2ms/step - loss: 0.5232 - accuracy: 0.7450\n"
          ]
        },
        {
          "data": {
            "text/plain": [
              "[0.5231981873512268, 0.7450000047683716]"
            ]
          },
          "execution_count": 65,
          "metadata": {},
          "output_type": "execute_result"
        }
      ]
    },
    {
      "cell_type": "code",
      "source": [
        "model_8.evaluate(x_test, y_test)"
      ],
      "metadata": {
        "colab": {
          "base_uri": "https://localhost:8080/"
        },
        "id": "NL5OZLv6J8HK",
        "outputId": "25abd096-e6a4-4a57-fc50-c36ee4841b20"
      },
      "execution_count": null,
      "outputs": [
        {
          "metadata": {
            "tags": null
          },
          "name": "stdout",
          "output_type": "stream",
          "text": [
            "7/7 [==============================] - 0s 2ms/step - loss: 0.6628 - accuracy: 0.5300\n"
          ]
        },
        {
          "data": {
            "text/plain": [
              "[0.662814736366272, 0.5299999713897705]"
            ]
          },
          "execution_count": 66,
          "metadata": {},
          "output_type": "execute_result"
        }
      ]
    },
    {
      "cell_type": "code",
      "source": [
        "plt.figure(figsize=(12, 6))\n",
        "plt.subplot(1, 2, 1)\n",
        "plt.title(\"train\")\n",
        "plot_decision_boundary(model_10, x=x_train, y=y_train)\n",
        "plt.subplot(1, 2, 2)\n",
        "plt.title(\"test\")\n",
        "plot_decision_boundary(model_10, x=x_test, y=y_test)\n",
        "plt.show()"
      ],
      "metadata": {
        "colab": {
          "base_uri": "https://localhost:8080/",
          "height": 614
        },
        "id": "iYRKhBSgKDRL",
        "outputId": "cb65de91-8ab4-414f-d3af-6a088bf5688b"
      },
      "execution_count": null,
      "outputs": [
        {
          "metadata": {
            "tags": null
          },
          "name": "stdout",
          "output_type": "stream",
          "text": [
            "313/313 [==============================] - 0s 1ms/step\n",
            "doing binary class classifation\n",
            "313/313 [==============================] - 1s 2ms/step\n",
            "doing binary class classifation\n"
          ]
        },
        {
          "data": {
            "image/png": "[encoded data removed]",
            "text/plain": [
              "<Figure size 1200x600 with 2 Axes>"
            ]
          },
          "metadata": {},
          "output_type": "display_data"
        }
      ]
    },
    {
      "cell_type": "markdown",
      "source": [
        "More classification evaluation methods\n",
        "* Accuracy\n",
        "* precision\n",
        "* recall\n",
        "* F1 score\n",
        "* confusion matrix\n",
        "* classification report(scikit learn)"
      ],
      "metadata": {
        "id": "kLh2hFFxKaM8"
      }
    },
    {
      "cell_type": "code",
      "source": [
        "loss, accuracy = model_10.evaluate(x_test, y_test)\n",
        "print(f\"model loss on test set: {loss}\")\n",
        "print(f\"model accuracy on test data: {(accuracy*100) :.2f}%\")"
      ],
      "metadata": {
        "colab": {
          "base_uri": "https://localhost:8080/"
        },
        "id": "1Vl7tEoyLcNz",
        "outputId": "f0a95b02-f5ad-40ea-b7d5-d9b2d42ed3b3"
      },
      "execution_count": null,
      "outputs": [
        {
          "metadata": {
            "tags": null
          },
          "name": "stdout",
          "output_type": "stream",
          "text": [
            "7/7 [==============================] - 0s 4ms/step - loss: 0.5232 - accuracy: 0.7450\n",
            "model loss on test set: 0.5231981873512268\n",
            "model accuracy on test data: 74.50%\n"
          ]
        }
      ]
    },
    {
      "cell_type": "code",
      "source": [
        "# create a confusion matrix\n",
        "from sklearn.metrics import confusion_matrix\n",
        "\n",
        "y_preds = model_10.predict(x_test)\n",
        "\n",
        "#confusion_matrix(y_test, y_preds)"
      ],
      "metadata": {
        "colab": {
          "base_uri": "https://localhost:8080/"
        },
        "id": "jQi-VZ6vMGNn",
        "outputId": "bf405214-c38f-44b5-b4ba-48b73dae5571"
      },
      "execution_count": null,
      "outputs": [
        {
          "metadata": {
            "tags": null
          },
          "name": "stdout",
          "output_type": "stream",
          "text": [
            "7/7 [==============================] - 0s 3ms/step\n"
          ]
        }
      ]
    },
    {
      "cell_type": "code",
      "source": [
        "tf.round(y_preds)[:10]"
      ],
      "metadata": {
        "colab": {
          "base_uri": "https://localhost:8080/"
        },
        "id": "1JpukSpmPzAu",
        "outputId": "721e215c-26b4-4104-aff6-93712271af23"
      },
      "execution_count": null,
      "outputs": [
        {
          "data": {
            "text/plain": [
              "<tf.Tensor: shape=(10, 1), dtype=float32, numpy=\n",
              "array([[1.],\n",
              "       [1.],\n",
              "       [1.],\n",
              "       [1.],\n",
              "       [1.],\n",
              "       [0.],\n",
              "       [1.],\n",
              "       [0.],\n",
              "       [1.],\n",
              "       [1.]], dtype=float32)>"
            ]
          },
          "execution_count": 70,
          "metadata": {},
          "output_type": "execute_result"
        }
      ]
    },
    {
      "cell_type": "code",
      "source": [
        "y_test, y_preds[:10]"
      ],
      "metadata": {
        "colab": {
          "base_uri": "https://localhost:8080/"
        },
        "id": "S-nBhf3oPe91",
        "outputId": "345998bd-d379-4fdb-b49d-586b6882a749"
      },
      "execution_count": null,
      "outputs": [
        {
          "data": {
            "text/plain": [
              "(array([1, 1, 1, 1, 0, 0, 1, 0, 1, 0, 1, 0, 1, 1, 1, 1, 1, 1, 0, 1, 0, 1,\n",
              "        1, 1, 0, 1, 1, 0, 0, 1, 0, 1, 1, 0, 0, 1, 1, 1, 1, 1, 1, 1, 1, 0,\n",
              "        1, 1, 1, 0, 1, 0, 0, 1, 1, 0, 0, 0, 1, 0, 0, 1, 0, 0, 0, 1, 0, 1,\n",
              "        0, 0, 0, 0, 1, 0, 1, 1, 1, 1, 0, 1, 0, 0, 0, 0, 0, 0, 1, 0, 1, 0,\n",
              "        1, 0, 1, 1, 1, 0, 1, 0, 1, 0, 0, 1, 1, 1, 0, 0, 0, 1, 1, 0, 1, 0,\n",
              "        1, 1, 0, 1, 0, 0, 1, 1, 1, 0, 0, 0, 1, 1, 0, 0, 0, 0, 0, 1, 1, 0,\n",
              "        1, 0, 0, 0, 1, 0, 0, 0, 1, 1, 1, 1, 0, 1, 1, 1, 0, 1, 1, 1, 1, 0,\n",
              "        1, 1, 0, 1, 1, 0, 0, 1, 1, 1, 0, 0, 0, 0, 0, 0, 1, 0, 0, 1, 0, 0,\n",
              "        0, 1, 0, 1, 0, 1, 1, 0, 0, 0, 0, 0, 0, 0, 0, 1, 0, 1, 0, 0, 0, 1,\n",
              "        0, 0]),\n",
              " array([[0.6954486 ],\n",
              "        [0.6954486 ],\n",
              "        [0.6954486 ],\n",
              "        [0.6954486 ],\n",
              "        [0.6954486 ],\n",
              "        [0.27046886],\n",
              "        [0.6954486 ],\n",
              "        [0.11822917],\n",
              "        [0.6954486 ],\n",
              "        [0.6954486 ]], dtype=float32))"
            ]
          },
          "execution_count": 71,
          "metadata": {},
          "output_type": "execute_result"
        }
      ]
    },
    {
      "cell_type": "code",
      "source": [
        "confusion_matrix(y_test, tf.round(y_preds))"
      ],
      "metadata": {
        "id": "LgYdNijcP5B5",
        "outputId": "98f8d645-bfc6-483a-bd67-bb4badb0d315",
        "colab": {
          "base_uri": "https://localhost:8080/"
        }
      },
      "execution_count": null,
      "outputs": [
        {
          "data": {
            "text/plain": [
              "array([[50, 51],\n",
              "       [ 0, 99]])"
            ]
          },
          "execution_count": 72,
          "metadata": {},
          "output_type": "execute_result"
        }
      ]
    },
    {
      "cell_type": "markdown",
      "source": [
        "Working with a larger example (multiclass classification)\n",
        "\n",
        "* This means if you have moore than 2 classes it is multiclass classification.\n",
        "\n",
        "To practice multiclass classification, we are going to build a neural network to classify images of different items of clothing.\n"
      ],
      "metadata": {
        "id": "HlHtN9hfXrdU"
      }
    },
    {
      "cell_type": "code",
      "source": [
        "import tensorflow as tf\n",
        "from tensorflow.keras.datasets import fashion_mnist\n",
        "\n",
        "# The data as already been sorted into training aand testing dara.\n",
        "(train_data, train_labels), (test_data, test_labels) = fashion_mnist.load_data()"
      ],
      "metadata": {
        "colab": {
          "base_uri": "https://localhost:8080/"
        },
        "id": "PxBZj-PYX0AS",
        "outputId": "12977bf4-205c-4c15-8d05-5c8d100aa65d"
      },
      "execution_count": null,
      "outputs": [
        {
          "metadata": {
            "tags": null
          },
          "name": "stdout",
          "output_type": "stream",
          "text": [
            "Downloading data from https://storage.googleapis.com/tensorflow/tf-keras-datasets/train-labels-idx1-ubyte.gz\n",
            "29515/29515 [==============================] - 0s 0us/step\n",
            "Downloading data from https://storage.googleapis.com/tensorflow/tf-keras-datasets/train-images-idx3-ubyte.gz\n",
            "26421880/26421880 [==============================] - 0s 0us/step\n",
            "Downloading data from https://storage.googleapis.com/tensorflow/tf-keras-datasets/t10k-labels-idx1-ubyte.gz\n",
            "5148/5148 [==============================] - 0s 0us/step\n",
            "Downloading data from https://storage.googleapis.com/tensorflow/tf-keras-datasets/t10k-images-idx3-ubyte.gz\n",
            "4422102/4422102 [==============================] - 0s 0us/step\n"
          ]
        }
      ]
    },
    {
      "cell_type": "code",
      "source": [
        "# show the first training example\n",
        "print(f\"Training sample:\\n{train_data[0]}\\n\")\n",
        "print(f\"Training label:\\n{train_labels[0]}\\n\")"
      ],
      "metadata": {
        "colab": {
          "base_uri": "https://localhost:8080/"
        },
        "id": "sar8RnhSZCss",
        "outputId": "cfacafd2-2978-40c4-d376-559a54ac1831"
      },
      "execution_count": null,
      "outputs": [
        {
          "metadata": {
            "tags": null
          },
          "name": "stdout",
          "output_type": "stream",
          "text": [
            "Training sample:\n",
            "[[  0   0   0   0   0   0   0   0   0   0   0   0   0   0   0   0   0   0\n",
            "    0   0   0   0   0   0   0   0   0   0]\n",
            " [  0   0   0   0   0   0   0   0   0   0   0   0   0   0   0   0   0   0\n",
            "    0   0   0   0   0   0   0   0   0   0]\n",
            " [  0   0   0   0   0   0   0   0   0   0   0   0   0   0   0   0   0   0\n",
            "    0   0   0   0   0   0   0   0   0   0]\n",
            " [  0   0   0   0   0   0   0   0   0   0   0   0   1   0   0  13  73   0\n",
            "    0   1   4   0   0   0   0   1   1   0]\n",
            " [  0   0   0   0   0   0   0   0   0   0   0   0   3   0  36 136 127  62\n",
            "   54   0   0   0   1   3   4   0   0   3]\n",
            " [  0   0   0   0   0   0   0   0   0   0   0   0   6   0 102 204 176 134\n",
            "  144 123  23   0   0   0   0  12  10   0]\n",
            " [  0   0   0   0   0   0   0   0   0   0   0   0   0   0 155 236 207 178\n",
            "  107 156 161 109  64  23  77 130  72  15]\n",
            " [  0   0   0   0   0   0   0   0   0   0   0   1   0  69 207 223 218 216\n",
            "  216 163 127 121 122 146 141  88 172  66]\n",
            " [  0   0   0   0   0   0   0   0   0   1   1   1   0 200 232 232 233 229\n",
            "  223 223 215 213 164 127 123 196 229   0]\n",
            " [  0   0   0   0   0   0   0   0   0   0   0   0   0 183 225 216 223 228\n",
            "  235 227 224 222 224 221 223 245 173   0]\n",
            " [  0   0   0   0   0   0   0   0   0   0   0   0   0 193 228 218 213 198\n",
            "  180 212 210 211 213 223 220 243 202   0]\n",
            " [  0   0   0   0   0   0   0   0   0   1   3   0  12 219 220 212 218 192\n",
            "  169 227 208 218 224 212 226 197 209  52]\n",
            " [  0   0   0   0   0   0   0   0   0   0   6   0  99 244 222 220 218 203\n",
            "  198 221 215 213 222 220 245 119 167  56]\n",
            " [  0   0   0   0   0   0   0   0   0   4   0   0  55 236 228 230 228 240\n",
            "  232 213 218 223 234 217 217 209  92   0]\n",
            " [  0   0   1   4   6   7   2   0   0   0   0   0 237 226 217 223 222 219\n",
            "  222 221 216 223 229 215 218 255  77   0]\n",
            " [  0   3   0   0   0   0   0   0   0  62 145 204 228 207 213 221 218 208\n",
            "  211 218 224 223 219 215 224 244 159   0]\n",
            " [  0   0   0   0  18  44  82 107 189 228 220 222 217 226 200 205 211 230\n",
            "  224 234 176 188 250 248 233 238 215   0]\n",
            " [  0  57 187 208 224 221 224 208 204 214 208 209 200 159 245 193 206 223\n",
            "  255 255 221 234 221 211 220 232 246   0]\n",
            " [  3 202 228 224 221 211 211 214 205 205 205 220 240  80 150 255 229 221\n",
            "  188 154 191 210 204 209 222 228 225   0]\n",
            " [ 98 233 198 210 222 229 229 234 249 220 194 215 217 241  65  73 106 117\n",
            "  168 219 221 215 217 223 223 224 229  29]\n",
            " [ 75 204 212 204 193 205 211 225 216 185 197 206 198 213 240 195 227 245\n",
            "  239 223 218 212 209 222 220 221 230  67]\n",
            " [ 48 203 183 194 213 197 185 190 194 192 202 214 219 221 220 236 225 216\n",
            "  199 206 186 181 177 172 181 205 206 115]\n",
            " [  0 122 219 193 179 171 183 196 204 210 213 207 211 210 200 196 194 191\n",
            "  195 191 198 192 176 156 167 177 210  92]\n",
            " [  0   0  74 189 212 191 175 172 175 181 185 188 189 188 193 198 204 209\n",
            "  210 210 211 188 188 194 192 216 170   0]\n",
            " [  2   0   0   0  66 200 222 237 239 242 246 243 244 221 220 193 191 179\n",
            "  182 182 181 176 166 168  99  58   0   0]\n",
            " [  0   0   0   0   0   0   0  40  61  44  72  41  35   0   0   0   0   0\n",
            "    0   0   0   0   0   0   0   0   0   0]\n",
            " [  0   0   0   0   0   0   0   0   0   0   0   0   0   0   0   0   0   0\n",
            "    0   0   0   0   0   0   0   0   0   0]\n",
            " [  0   0   0   0   0   0   0   0   0   0   0   0   0   0   0   0   0   0\n",
            "    0   0   0   0   0   0   0   0   0   0]]\n",
            "\n",
            "Training label:\n",
            "9\n",
            "\n"
          ]
        }
      ]
    },
    {
      "cell_type": "code",
      "source": [
        "# check the shape of a single example\n",
        "train_data[0].shape, train_labels[0].shape"
      ],
      "metadata": {
        "colab": {
          "base_uri": "https://localhost:8080/"
        },
        "id": "YIk4ghFqZlOW",
        "outputId": "dbf212f8-a3ed-4dd2-ecca-27e7ada537bd"
      },
      "execution_count": null,
      "outputs": [
        {
          "data": {
            "text/plain": [
              "((28, 28), ())"
            ]
          },
          "execution_count": 75,
          "metadata": {},
          "output_type": "execute_result"
        }
      ]
    },
    {
      "cell_type": "code",
      "source": [
        "# plot\n",
        "import matplotlib.pyplot as plt\n",
        "plt.imshow(train_data[7])"
      ],
      "metadata": {
        "colab": {
          "base_uri": "https://localhost:8080/",
          "height": 447
        },
        "id": "LkE8s-QGZsMn",
        "outputId": "80bb172b-13cf-4cf5-96d1-b866aa7ed74b"
      },
      "execution_count": null,
      "outputs": [
        {
          "data": {
            "text/plain": [
              "<matplotlib.image.AxesImage at 0x7f13f16a3a60>"
            ]
          },
          "execution_count": 76,
          "metadata": {},
          "output_type": "execute_result"
        },
        {
          "data": {
            "image/png": "[encoded data removed]",
            "text/plain": [
              "<Figure size 640x480 with 1 Axes>"
            ]
          },
          "metadata": {},
          "output_type": "display_data"
        }
      ]
    },
    {
      "cell_type": "code",
      "source": [
        "train_labels[7]"
      ],
      "metadata": {
        "colab": {
          "base_uri": "https://localhost:8080/"
        },
        "id": "mNEb2XY-Z1av",
        "outputId": "a155e144-ea64-4afe-86ee-d5d7f41036dd"
      },
      "execution_count": null,
      "outputs": [
        {
          "data": {
            "text/plain": [
              "2"
            ]
          },
          "execution_count": 77,
          "metadata": {},
          "output_type": "execute_result"
        }
      ]
    },
    {
      "cell_type": "code",
      "source": [
        "# Create a small list so we can index onto our training labels so the are readable\n",
        "\n",
        "class_names = [\"T-shirt/top\", \"Trouser\", \"Pullover\", \"Dress\", \"Coat\", \"Sandal\", \"Shirt\", \"Sneaker\",\t\"Bag\", \"Ankle boot\"]\n",
        "\n",
        "len(class_names)"
      ],
      "metadata": {
        "colab": {
          "base_uri": "https://localhost:8080/"
        },
        "id": "7rHfDfqjZ4rh",
        "outputId": "0f6ea5f4-d7ff-4aa9-f316-44df7ec95ea6"
      },
      "execution_count": null,
      "outputs": [
        {
          "data": {
            "text/plain": [
              "10"
            ]
          },
          "execution_count": 78,
          "metadata": {},
          "output_type": "execute_result"
        }
      ]
    },
    {
      "cell_type": "code",
      "source": [
        "#plot an example image and its label\n",
        "index_of_choice = 1000\n",
        "plt.imshow(train_data[7], cmap=plt.cm.binary)\n",
        "plt.title(class_names[train_labels[index_of_choice]])"
      ],
      "metadata": {
        "colab": {
          "base_uri": "https://localhost:8080/",
          "height": 469
        },
        "id": "KJAD6TVBa5Hl",
        "outputId": "fed329ce-a8f7-4ad8-9300-66f1e16f35ed"
      },
      "execution_count": null,
      "outputs": [
        {
          "data": {
            "text/plain": [
              "Text(0.5, 1.0, 'Trouser')"
            ]
          },
          "execution_count": 79,
          "metadata": {},
          "output_type": "execute_result"
        },
        {
          "data": {
            "image/png": "[encoded data removed]",
            "text/plain": [
              "<Figure size 640x480 with 1 Axes>"
            ]
          },
          "metadata": {},
          "output_type": "display_data"
        }
      ]
    },
    {
      "cell_type": "code",
      "source": [
        "#plot multiple random images of fashion MNIST\n",
        "import random\n",
        "plt.figure(figsize=(4, 5))\n",
        "for i in range(4):\n",
        "  ax = plt.subplot(2, 2, i+1)\n",
        "  rand_index = random.choice(range(len(train_data)))\n",
        "  plt.imshow(train_data[rand_index], cmap=plt.cm.binary)\n",
        "  plt.title(class_names[train_labels[rand_index]])\n",
        "  plt.axis(False)"
      ],
      "metadata": {
        "colab": {
          "base_uri": "https://localhost:8080/",
          "height": 410
        },
        "id": "zoO7OZ9PbZXz",
        "outputId": "aceca80d-c825-44ee-bf68-30e46d3b5695"
      },
      "execution_count": null,
      "outputs": [
        {
          "data": {
            "image/png": "[encoded data removed]",
            "text/plain": [
              "<Figure size 400x500 with 4 Axes>"
            ]
          },
          "metadata": {},
          "output_type": "display_data"
        }
      ]
    },
    {
      "cell_type": "markdown",
      "source": [
        "Building a multi-class classification model\n",
        "* input_shape 28 x 28(shape of one image)\n",
        "* output_shape = 10(one per class of clothing"
      ],
      "metadata": {
        "id": "-f6M0YoocP6O"
      }
    },
    {
      "cell_type": "code",
      "source": [
        "train_data[0].shape"
      ],
      "metadata": {
        "colab": {
          "base_uri": "https://localhost:8080/"
        },
        "id": "w9sFugXrdIdp",
        "outputId": "c47c4a93-0337-42b2-fc18-0b0c45e125bb"
      },
      "execution_count": null,
      "outputs": [
        {
          "data": {
            "text/plain": [
              "(28, 28)"
            ]
          },
          "execution_count": 81,
          "metadata": {},
          "output_type": "execute_result"
        }
      ]
    },
    {
      "cell_type": "code",
      "source": [
        "len(class_names)"
      ],
      "metadata": {
        "colab": {
          "base_uri": "https://localhost:8080/"
        },
        "id": "ohsihIFjdPNJ",
        "outputId": "f1d36ee0-e6e8-4894-89be-94b272404d16"
      },
      "execution_count": null,
      "outputs": [
        {
          "data": {
            "text/plain": [
              "10"
            ]
          },
          "execution_count": 82,
          "metadata": {},
          "output_type": "execute_result"
        }
      ]
    },
    {
      "cell_type": "code",
      "source": [
        "# our data needs to be flattened (from 28*28 to none, 784)\n",
        "flatten_model = tf.keras.Sequential([tf.keras.layers.Flatten(input_shape=(28, 28))])\n",
        "flatten_model.output_shape"
      ],
      "metadata": {
        "colab": {
          "base_uri": "https://localhost:8080/"
        },
        "id": "9EpVFJa6ergz",
        "outputId": "892d2804-9bbf-4057-b499-7b3cfeb801a9"
      },
      "execution_count": null,
      "outputs": [
        {
          "data": {
            "text/plain": [
              "(None, 784)"
            ]
          },
          "execution_count": 83,
          "metadata": {},
          "output_type": "execute_result"
        }
      ]
    },
    {
      "cell_type": "code",
      "source": [
        "train_labels[:10]"
      ],
      "metadata": {
        "colab": {
          "base_uri": "https://localhost:8080/"
        },
        "id": "eMrZC0xTgAzQ",
        "outputId": "2f95c91d-f32e-4202-ed6f-7ef79f912b32"
      },
      "execution_count": null,
      "outputs": [
        {
          "data": {
            "text/plain": [
              "array([9, 0, 0, 3, 0, 2, 7, 2, 5, 5], dtype=uint8)"
            ]
          },
          "execution_count": 84,
          "metadata": {},
          "output_type": "execute_result"
        }
      ]
    },
    {
      "cell_type": "code",
      "source": [
        "tf.one_hot(train_labels[:10], depth=10) #So we are using sparse categorical cross entropy if they are not on hot encoded and are integer form"
      ],
      "metadata": {
        "colab": {
          "base_uri": "https://localhost:8080/"
        },
        "id": "LmhXQ8XOgd92",
        "outputId": "c120216d-534a-4510-eb87-ebf7a6f20cd2"
      },
      "execution_count": null,
      "outputs": [
        {
          "data": {
            "text/plain": [
              "<tf.Tensor: shape=(10, 10), dtype=float32, numpy=\n",
              "array([[0., 0., 0., 0., 0., 0., 0., 0., 0., 1.],\n",
              "       [1., 0., 0., 0., 0., 0., 0., 0., 0., 0.],\n",
              "       [1., 0., 0., 0., 0., 0., 0., 0., 0., 0.],\n",
              "       [0., 0., 0., 1., 0., 0., 0., 0., 0., 0.],\n",
              "       [1., 0., 0., 0., 0., 0., 0., 0., 0., 0.],\n",
              "       [0., 0., 1., 0., 0., 0., 0., 0., 0., 0.],\n",
              "       [0., 0., 0., 0., 0., 0., 0., 1., 0., 0.],\n",
              "       [0., 0., 1., 0., 0., 0., 0., 0., 0., 0.],\n",
              "       [0., 0., 0., 0., 0., 1., 0., 0., 0., 0.],\n",
              "       [0., 0., 0., 0., 0., 1., 0., 0., 0., 0.]], dtype=float32)>"
            ]
          },
          "execution_count": 85,
          "metadata": {},
          "output_type": "execute_result"
        }
      ]
    },
    {
      "cell_type": "code",
      "source": [
        "# set random seed\n",
        "tf.random.set_seed(42)\n",
        "\n",
        "# Create a model\n",
        "model = tf.keras.Sequential([\n",
        "    tf.keras.layers.Flatten(input_shape=(28, 28)),\n",
        "    tf.keras.layers.Dense(4, activation=\"relu\"),\n",
        "    tf.keras.layers.Dense(4, activation=\"relu\"),\n",
        "    tf.keras.layers.Dense(10, activation=tf.keras.activations.softmax),\n",
        "])\n",
        "\n",
        "# Compile the model\n",
        "model.compile(loss=tf.keras.losses.SparseCategoricalCrossentropy(),\n",
        "              optimizer=tf.keras.optimizers.Adam(),\n",
        "              metrics=[\"accuracy\"])\n",
        "\n",
        "# Fit the model\n",
        "model.fit(train_data, train_labels, epochs=10, validation_data=(test_data, test_labels))"
      ],
      "metadata": {
        "colab": {
          "base_uri": "https://localhost:8080/"
        },
        "id": "_o9Hx48zdW8s",
        "outputId": "35540c9e-294a-48d5-e0b3-79a9aa1bc53f"
      },
      "execution_count": null,
      "outputs": [
        {
          "output_type": "stream",
          "name": "stdout",
          "text": [
            "Epoch 1/10\n",
            "1875/1875 [==============================] - 7s 3ms/step - loss: 2.7029 - accuracy: 0.0988 - val_loss: 2.3061 - val_accuracy: 0.1000\n",
            "Epoch 2/10\n",
            "1875/1875 [==============================] - 5s 3ms/step - loss: 2.3031 - accuracy: 0.0985 - val_loss: 2.3038 - val_accuracy: 0.1000\n",
            "Epoch 3/10\n",
            "1875/1875 [==============================] - 8s 4ms/step - loss: 2.3027 - accuracy: 0.1003 - val_loss: 2.3038 - val_accuracy: 0.1000\n",
            "Epoch 4/10\n",
            "1875/1875 [==============================] - 9s 5ms/step - loss: 2.3028 - accuracy: 0.0975 - val_loss: 2.3037 - val_accuracy: 0.0999\n",
            "Epoch 5/10\n",
            "1875/1875 [==============================] - 8s 4ms/step - loss: 2.3028 - accuracy: 0.0973 - val_loss: 2.3037 - val_accuracy: 0.1000\n",
            "Epoch 6/10\n",
            "1875/1875 [==============================] - 5s 3ms/step - loss: 2.3028 - accuracy: 0.0992 - val_loss: 2.3038 - val_accuracy: 0.1000\n",
            "Epoch 7/10\n",
            "1875/1875 [==============================] - 5s 3ms/step - loss: 2.3028 - accuracy: 0.0987 - val_loss: 2.3037 - val_accuracy: 0.1000\n",
            "Epoch 8/10\n",
            "1875/1875 [==============================] - 7s 4ms/step - loss: 2.3028 - accuracy: 0.0982 - val_loss: 2.3038 - val_accuracy: 0.1000\n",
            "Epoch 9/10\n",
            "1875/1875 [==============================] - 5s 3ms/step - loss: 2.3028 - accuracy: 0.0989 - val_loss: 2.3038 - val_accuracy: 0.1000\n",
            "Epoch 10/10\n",
            "1875/1875 [==============================] - 6s 3ms/step - loss: 2.3028 - accuracy: 0.0986 - val_loss: 2.3038 - val_accuracy: 0.0999\n"
          ]
        },
        {
          "output_type": "execute_result",
          "data": {
            "text/plain": [
              "<keras.callbacks.History at 0x7f13f3bf94e0>"
            ]
          },
          "metadata": {},
          "execution_count": 86
        }
      ]
    }
  ]
}