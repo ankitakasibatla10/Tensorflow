{
  "nbformat": 4,
  "nbformat_minor": 0,
  "metadata": {
    "colab": {
      "provenance": []
    },
    "kernelspec": {
      "name": "python3",
      "display_name": "Python 3"
    },
    "language_info": {
      "name": "python"
    }
  },
  "cells": [
    {
      "cell_type": "markdown",
      "source": [
        "#Introduction to regression with neural network in Tensorflow\n",
        "\n",
        "Predicting a numerical value based on some combinational variable"
      ],
      "metadata": {
        "id": "co68pC-CYrAV"
      }
    },
    {
      "cell_type": "code",
      "source": [
        "#importing\n",
        "import tensorflow as tf\n",
        "tf.__version__"
      ],
      "metadata": {
        "colab": {
          "base_uri": "https://localhost:8080/",
          "height": 36
        },
        "id": "8DXqyAosZR2P",
        "outputId": "21eb2739-e561-46d5-95f8-d61d7fe361ae"
      },
      "execution_count": null,
      "outputs": [
        {
          "output_type": "execute_result",
          "data": {
            "text/plain": [
              "'2.12.0'"
            ],
            "application/vnd.google.colaboratory.intrinsic+json": {
              "type": "string"
            }
          },
          "metadata": {},
          "execution_count": 1
        }
      ]
    },
    {
      "cell_type": "code",
      "source": [
        "# creatinf data to view and fit\n",
        "import numpy as np\n",
        "import matplotlib.pyplot as plt\n",
        "\n",
        "#create features\n",
        "x = np.array([-7.0, -4.0, -1.0, 2.0, 5.0, 8.0, 11.0, 14.0])\n",
        "\n",
        "#create labels\n",
        "y = np.array([3.0, 6.0, 9.0, 12.0, 15.0, 18.0, 21.0, 24.0])\n",
        "\n",
        "#visualize\n",
        "plt.scatter(x, y)"
      ],
      "metadata": {
        "colab": {
          "base_uri": "https://localhost:8080/",
          "height": 452
        },
        "id": "G9sH-5VNZeTx",
        "outputId": "3f0303c6-ecf1-4cc2-adb6-a3dbe6f543a8"
      },
      "execution_count": null,
      "outputs": [
        {
          "output_type": "execute_result",
          "data": {
            "text/plain": [
              "<matplotlib.collections.PathCollection at 0x79aa6f3f3f10>"
            ]
          },
          "metadata": {},
          "execution_count": 2
        },
        {
          "output_type": "display_data",
          "data": {
            "text/plain": [
              "<Figure size 640x480 with 1 Axes>"
            ],
            "image/png": "[encoded data removed]"
          },
          "metadata": {}
        }
      ]
    },
    {
      "cell_type": "code",
      "source": [
        "x + 10"
      ],
      "metadata": {
        "colab": {
          "base_uri": "https://localhost:8080/"
        },
        "id": "fzSmxqTWanjl",
        "outputId": "b3aecd3b-abd1-4d38-c8ae-986ddc2f3152"
      },
      "execution_count": null,
      "outputs": [
        {
          "output_type": "execute_result",
          "data": {
            "text/plain": [
              "array([ 3.,  6.,  9., 12., 15., 18., 21., 24.])"
            ]
          },
          "metadata": {},
          "execution_count": 3
        }
      ]
    },
    {
      "cell_type": "code",
      "source": [
        "y == x+10"
      ],
      "metadata": {
        "colab": {
          "base_uri": "https://localhost:8080/"
        },
        "id": "Rx8hEgfzayYM",
        "outputId": "e01c3ee0-0dd9-4505-b73a-5d788c4daab2"
      },
      "execution_count": null,
      "outputs": [
        {
          "output_type": "execute_result",
          "data": {
            "text/plain": [
              "array([ True,  True,  True,  True,  True,  True,  True,  True])"
            ]
          },
          "metadata": {},
          "execution_count": 4
        }
      ]
    },
    {
      "cell_type": "code",
      "source": [
        "#input and output shapes\n",
        "#creatinf a demo tensor for house price prediction\n",
        "\n",
        "house_info = tf.constant([\"bedroom\", \"bathroom\", \"kitchen\"])\n",
        "house_price = tf.constant([939700])\n",
        "house_info, house_price"
      ],
      "metadata": {
        "colab": {
          "base_uri": "https://localhost:8080/"
        },
        "id": "_QM0Rawca7G7",
        "outputId": "6a0a8c9e-d4c4-4422-9480-b5a7df2fc149"
      },
      "execution_count": null,
      "outputs": [
        {
          "output_type": "execute_result",
          "data": {
            "text/plain": [
              "(<tf.Tensor: shape=(3,), dtype=string, numpy=array([b'bedroom', b'bathroom', b'kitchen'], dtype=object)>,\n",
              " <tf.Tensor: shape=(1,), dtype=int32, numpy=array([939700], dtype=int32)>)"
            ]
          },
          "metadata": {},
          "execution_count": 5
        }
      ]
    },
    {
      "cell_type": "code",
      "source": [
        "input_shape = x.shape\n",
        "output_shape = y.shape\n",
        "input_shape, output_shape"
      ],
      "metadata": {
        "colab": {
          "base_uri": "https://localhost:8080/"
        },
        "id": "453nWl5RbnGB",
        "outputId": "bc651984-a221-4481-eb5d-192f824e25b8"
      },
      "execution_count": null,
      "outputs": [
        {
          "output_type": "execute_result",
          "data": {
            "text/plain": [
              "((8,), (8,))"
            ]
          },
          "metadata": {},
          "execution_count": 6
        }
      ]
    },
    {
      "cell_type": "code",
      "source": [
        "x[0], y[0]"
      ],
      "metadata": {
        "colab": {
          "base_uri": "https://localhost:8080/"
        },
        "id": "kVv32R4ib47v",
        "outputId": "0b8ff317-6f9c-4728-fcc3-294d8e91d7cf"
      },
      "execution_count": null,
      "outputs": [
        {
          "output_type": "execute_result",
          "data": {
            "text/plain": [
              "(-7.0, 3.0)"
            ]
          },
          "metadata": {},
          "execution_count": 7
        }
      ]
    },
    {
      "cell_type": "code",
      "source": [
        "x[1], y[1]"
      ],
      "metadata": {
        "colab": {
          "base_uri": "https://localhost:8080/"
        },
        "id": "edQLKxTdb82-",
        "outputId": "1914e424-7f23-4a68-dfa9-ef3d8b52b3f3"
      },
      "execution_count": null,
      "outputs": [
        {
          "output_type": "execute_result",
          "data": {
            "text/plain": [
              "(-4.0, 6.0)"
            ]
          },
          "metadata": {},
          "execution_count": 8
        }
      ]
    },
    {
      "cell_type": "code",
      "source": [
        "inp_shape = x[0].shape\n",
        "out_shape = y[0].shape\n",
        "inp_shape, out_shape"
      ],
      "metadata": {
        "colab": {
          "base_uri": "https://localhost:8080/"
        },
        "id": "iTYHdzy4b_-7",
        "outputId": "c25c037a-92f1-4887-b231-97986d7e992d"
      },
      "execution_count": null,
      "outputs": [
        {
          "output_type": "execute_result",
          "data": {
            "text/plain": [
              "((), ())"
            ]
          },
          "metadata": {},
          "execution_count": 9
        }
      ]
    },
    {
      "cell_type": "code",
      "source": [
        "x[0].ndim"
      ],
      "metadata": {
        "colab": {
          "base_uri": "https://localhost:8080/"
        },
        "id": "1VnFtF2mcJq7",
        "outputId": "85170e4a-af67-48a2-a383-f460ee590d4c"
      },
      "execution_count": null,
      "outputs": [
        {
          "output_type": "execute_result",
          "data": {
            "text/plain": [
              "0"
            ]
          },
          "metadata": {},
          "execution_count": 10
        }
      ]
    },
    {
      "cell_type": "code",
      "source": [
        "# turn numpy arrays into tensors\n",
        "x = tf.cast(tf.constant(x), dtype=tf.float32)\n",
        "y = tf.cast(tf.constant(y), dtype=tf.float32)\n",
        "x, y"
      ],
      "metadata": {
        "colab": {
          "base_uri": "https://localhost:8080/"
        },
        "id": "soOIJn75cMFd",
        "outputId": "4e040417-c6d1-4951-b33b-a516a6ecede3"
      },
      "execution_count": null,
      "outputs": [
        {
          "output_type": "execute_result",
          "data": {
            "text/plain": [
              "(<tf.Tensor: shape=(8,), dtype=float32, numpy=array([-7., -4., -1.,  2.,  5.,  8., 11., 14.], dtype=float32)>,\n",
              " <tf.Tensor: shape=(8,), dtype=float32, numpy=array([ 3.,  6.,  9., 12., 15., 18., 21., 24.], dtype=float32)>)"
            ]
          },
          "metadata": {},
          "execution_count": 11
        }
      ]
    },
    {
      "cell_type": "code",
      "source": [
        "inp_shape = x[0].shape\n",
        "out_shape = y[0].shape\n",
        "inp_shape, out_shape"
      ],
      "metadata": {
        "colab": {
          "base_uri": "https://localhost:8080/"
        },
        "id": "MfjJen96cemg",
        "outputId": "2d10375d-1392-4ea1-f013-f74643a7af63"
      },
      "execution_count": null,
      "outputs": [
        {
          "output_type": "execute_result",
          "data": {
            "text/plain": [
              "(TensorShape([]), TensorShape([]))"
            ]
          },
          "metadata": {},
          "execution_count": 12
        }
      ]
    },
    {
      "cell_type": "code",
      "source": [
        "plt.scatter(x, y)"
      ],
      "metadata": {
        "colab": {
          "base_uri": "https://localhost:8080/",
          "height": 452
        },
        "id": "sxM0M7oycp8e",
        "outputId": "e4b3c3bc-43b8-4509-f4d2-faad57a82460"
      },
      "execution_count": null,
      "outputs": [
        {
          "output_type": "execute_result",
          "data": {
            "text/plain": [
              "<matplotlib.collections.PathCollection at 0x79aa6d073460>"
            ]
          },
          "metadata": {},
          "execution_count": 13
        },
        {
          "output_type": "display_data",
          "data": {
            "text/plain": [
              "<Figure size 640x480 with 1 Axes>"
            ],
            "image/png": "[encoded data removed]"
          },
          "metadata": {}
        }
      ]
    },
    {
      "cell_type": "markdown",
      "source": [
        "# Steps in modelling with tensorflow\n",
        "1. creating a model- defining input and output layers as well as hidden layers\n",
        "2. compilig a model - defining loss function and optimizer as well as evaluation metrics\n",
        "3. Fitting a model- letting the model try to find patterns between x & y"
      ],
      "metadata": {
        "id": "or6UyMnDc1xB"
      }
    },
    {
      "cell_type": "code",
      "source": [
        "#model = tf.keras.Sequential()\n",
        "#model.add(tf.keras.layers.Dense(1))"
      ],
      "metadata": {
        "id": "XmKdlXS4ftY0"
      },
      "execution_count": null,
      "outputs": []
    },
    {
      "cell_type": "code",
      "source": [
        "# set random seed\n",
        "tf.random.set_seed(42)\n",
        "\n",
        "# create a model using sequential API\n",
        "model = tf.keras.Sequential([\n",
        "    tf.keras.layers.Dense(1)\n",
        "])\n",
        "\n",
        "# compile the model\n",
        "model.compile(loss=tf.keras.losses.mae,\n",
        "              optimizer=tf.keras.optimizers.SGD(),\n",
        "              metrics=[\"mae\"])\n",
        "\n",
        "#fit the model\n",
        "model.fit(tf.expand_dims(x,axis=1),y,epochs=5)"
      ],
      "metadata": {
        "colab": {
          "base_uri": "https://localhost:8080/"
        },
        "id": "F7BJM_-fdgwR",
        "outputId": "28c25852-aff6-44af-df88-495a2087653b"
      },
      "execution_count": null,
      "outputs": [
        {
          "output_type": "stream",
          "name": "stdout",
          "text": [
            "Epoch 1/5\n",
            "1/1 [==============================] - 1s 535ms/step - loss: 15.8211 - mae: 15.8211\n",
            "Epoch 2/5\n",
            "1/1 [==============================] - 0s 10ms/step - loss: 15.5398 - mae: 15.5398\n",
            "Epoch 3/5\n",
            "1/1 [==============================] - 0s 11ms/step - loss: 15.2586 - mae: 15.2586\n",
            "Epoch 4/5\n",
            "1/1 [==============================] - 0s 10ms/step - loss: 14.9773 - mae: 14.9773\n",
            "Epoch 5/5\n",
            "1/1 [==============================] - 0s 8ms/step - loss: 14.7824 - mae: 14.7824\n"
          ]
        },
        {
          "output_type": "execute_result",
          "data": {
            "text/plain": [
              "<keras.callbacks.History at 0x79aa65f87ee0>"
            ]
          },
          "metadata": {},
          "execution_count": 15
        }
      ]
    },
    {
      "cell_type": "code",
      "source": [
        "#check out x and y\n",
        "x, y"
      ],
      "metadata": {
        "colab": {
          "base_uri": "https://localhost:8080/"
        },
        "id": "89NOqL1Jh6aZ",
        "outputId": "492aed2c-56e5-4e6e-a027-861a8bd67e13"
      },
      "execution_count": null,
      "outputs": [
        {
          "output_type": "execute_result",
          "data": {
            "text/plain": [
              "(<tf.Tensor: shape=(8,), dtype=float32, numpy=array([-7., -4., -1.,  2.,  5.,  8., 11., 14.], dtype=float32)>,\n",
              " <tf.Tensor: shape=(8,), dtype=float32, numpy=array([ 3.,  6.,  9., 12., 15., 18., 21., 24.], dtype=float32)>)"
            ]
          },
          "metadata": {},
          "execution_count": 16
        }
      ]
    },
    {
      "cell_type": "code",
      "source": [
        "# make a prediction\n",
        "y_pred = model.predict([17.0])\n",
        "y_pred"
      ],
      "metadata": {
        "colab": {
          "base_uri": "https://localhost:8080/"
        },
        "id": "hcfK6iPqiBtm",
        "outputId": "29b3e285-6676-4fc3-aee9-a98bb95e9c94"
      },
      "execution_count": null,
      "outputs": [
        {
          "output_type": "stream",
          "name": "stdout",
          "text": [
            "1/1 [==============================] - 0s 88ms/step\n"
          ]
        },
        {
          "output_type": "execute_result",
          "data": {
            "text/plain": [
              "array([[-5.739382]], dtype=float32)"
            ]
          },
          "metadata": {},
          "execution_count": 17
        }
      ]
    },
    {
      "cell_type": "code",
      "source": [
        "y_pred+10"
      ],
      "metadata": {
        "colab": {
          "base_uri": "https://localhost:8080/"
        },
        "id": "IAiyvAMajDws",
        "outputId": "eb79ff00-6e18-449f-c3bd-64f5dea532d4"
      },
      "execution_count": null,
      "outputs": [
        {
          "output_type": "execute_result",
          "data": {
            "text/plain": [
              "array([[4.260618]], dtype=float32)"
            ]
          },
          "metadata": {},
          "execution_count": 18
        }
      ]
    },
    {
      "cell_type": "markdown",
      "source": [
        "Improving our model(we can improve our model by altering the steps we took to create a model)\n",
        "1. creating a model- add more layers, hidden units, change activation fun\n",
        "2. compiling - change optimization fn\n",
        "3. fitting a model- fit a model for more epochs"
      ],
      "metadata": {
        "id": "dvZTkcPAjIhM"
      }
    },
    {
      "cell_type": "code",
      "source": [
        "# Let's rebuild our model\n",
        "\n",
        "model = tf.keras.Sequential([\n",
        "    tf.keras.layers.Dense(1)\n",
        "])\n",
        "\n",
        "model.compile(loss=tf.keras.losses.mae,\n",
        "              optimizer = tf.keras.optimizers.SGD(),\n",
        "              metrics = [\"mae\"])\n",
        "model.fit(tf.expand_dims(x,axis=1), y, epochs=100)"
      ],
      "metadata": {
        "colab": {
          "base_uri": "https://localhost:8080/"
        },
        "id": "-t2cio9blZWd",
        "outputId": "671b1344-b1a0-4a78-ace9-1cbb99fd9f4e"
      },
      "execution_count": null,
      "outputs": [
        {
          "output_type": "stream",
          "name": "stdout",
          "text": [
            "Epoch 1/100\n",
            "1/1 [==============================] - 0s 303ms/step - loss: 17.1450 - mae: 17.1450\n",
            "Epoch 2/100\n",
            "1/1 [==============================] - 0s 11ms/step - loss: 16.8637 - mae: 16.8637\n",
            "Epoch 3/100\n",
            "1/1 [==============================] - 0s 10ms/step - loss: 16.5825 - mae: 16.5825\n",
            "Epoch 4/100\n",
            "1/1 [==============================] - 0s 9ms/step - loss: 16.3012 - mae: 16.3012\n",
            "Epoch 5/100\n",
            "1/1 [==============================] - 0s 12ms/step - loss: 16.0200 - mae: 16.0200\n",
            "Epoch 6/100\n",
            "1/1 [==============================] - 0s 11ms/step - loss: 15.7387 - mae: 15.7387\n",
            "Epoch 7/100\n",
            "1/1 [==============================] - 0s 11ms/step - loss: 15.4575 - mae: 15.4575\n",
            "Epoch 8/100\n",
            "1/1 [==============================] - 0s 14ms/step - loss: 15.1762 - mae: 15.1762\n",
            "Epoch 9/100\n",
            "1/1 [==============================] - 0s 9ms/step - loss: 14.9000 - mae: 14.9000\n",
            "Epoch 10/100\n",
            "1/1 [==============================] - 0s 9ms/step - loss: 14.7675 - mae: 14.7675\n",
            "Epoch 11/100\n",
            "1/1 [==============================] - 0s 12ms/step - loss: 14.6350 - mae: 14.6350\n",
            "Epoch 12/100\n",
            "1/1 [==============================] - 0s 11ms/step - loss: 14.5025 - mae: 14.5025\n",
            "Epoch 13/100\n",
            "1/1 [==============================] - 0s 9ms/step - loss: 14.3700 - mae: 14.3700\n",
            "Epoch 14/100\n",
            "1/1 [==============================] - 0s 9ms/step - loss: 14.2375 - mae: 14.2375\n",
            "Epoch 15/100\n",
            "1/1 [==============================] - 0s 8ms/step - loss: 14.1050 - mae: 14.1050\n",
            "Epoch 16/100\n",
            "1/1 [==============================] - 0s 10ms/step - loss: 13.9725 - mae: 13.9725\n",
            "Epoch 17/100\n",
            "1/1 [==============================] - 0s 9ms/step - loss: 13.8400 - mae: 13.8400\n",
            "Epoch 18/100\n",
            "1/1 [==============================] - 0s 10ms/step - loss: 13.7075 - mae: 13.7075\n",
            "Epoch 19/100\n",
            "1/1 [==============================] - 0s 10ms/step - loss: 13.5750 - mae: 13.5750\n",
            "Epoch 20/100\n",
            "1/1 [==============================] - 0s 10ms/step - loss: 13.4425 - mae: 13.4425\n",
            "Epoch 21/100\n",
            "1/1 [==============================] - 0s 9ms/step - loss: 13.3100 - mae: 13.3100\n",
            "Epoch 22/100\n",
            "1/1 [==============================] - 0s 8ms/step - loss: 13.1775 - mae: 13.1775\n",
            "Epoch 23/100\n",
            "1/1 [==============================] - 0s 9ms/step - loss: 13.0450 - mae: 13.0450\n",
            "Epoch 24/100\n",
            "1/1 [==============================] - 0s 9ms/step - loss: 12.9125 - mae: 12.9125\n",
            "Epoch 25/100\n",
            "1/1 [==============================] - 0s 9ms/step - loss: 12.7800 - mae: 12.7800\n",
            "Epoch 26/100\n",
            "1/1 [==============================] - 0s 9ms/step - loss: 12.6475 - mae: 12.6475\n",
            "Epoch 27/100\n",
            "1/1 [==============================] - 0s 10ms/step - loss: 12.5150 - mae: 12.5150\n",
            "Epoch 28/100\n",
            "1/1 [==============================] - 0s 10ms/step - loss: 12.3825 - mae: 12.3825\n",
            "Epoch 29/100\n",
            "1/1 [==============================] - 0s 11ms/step - loss: 12.2500 - mae: 12.2500\n",
            "Epoch 30/100\n",
            "1/1 [==============================] - 0s 10ms/step - loss: 12.1175 - mae: 12.1175\n",
            "Epoch 31/100\n",
            "1/1 [==============================] - 0s 11ms/step - loss: 11.9850 - mae: 11.9850\n",
            "Epoch 32/100\n",
            "1/1 [==============================] - 0s 10ms/step - loss: 11.8525 - mae: 11.8525\n",
            "Epoch 33/100\n",
            "1/1 [==============================] - 0s 11ms/step - loss: 11.7200 - mae: 11.7200\n",
            "Epoch 34/100\n",
            "1/1 [==============================] - 0s 11ms/step - loss: 11.5875 - mae: 11.5875\n",
            "Epoch 35/100\n",
            "1/1 [==============================] - 0s 11ms/step - loss: 11.4550 - mae: 11.4550\n",
            "Epoch 36/100\n",
            "1/1 [==============================] - 0s 10ms/step - loss: 11.3225 - mae: 11.3225\n",
            "Epoch 37/100\n",
            "1/1 [==============================] - 0s 9ms/step - loss: 11.1900 - mae: 11.1900\n",
            "Epoch 38/100\n",
            "1/1 [==============================] - 0s 9ms/step - loss: 11.0575 - mae: 11.0575\n",
            "Epoch 39/100\n",
            "1/1 [==============================] - 0s 8ms/step - loss: 10.9250 - mae: 10.9250\n",
            "Epoch 40/100\n",
            "1/1 [==============================] - 0s 9ms/step - loss: 10.7925 - mae: 10.7925\n",
            "Epoch 41/100\n",
            "1/1 [==============================] - 0s 9ms/step - loss: 10.6600 - mae: 10.6600\n",
            "Epoch 42/100\n",
            "1/1 [==============================] - 0s 10ms/step - loss: 10.5275 - mae: 10.5275\n",
            "Epoch 43/100\n",
            "1/1 [==============================] - 0s 9ms/step - loss: 10.3950 - mae: 10.3950\n",
            "Epoch 44/100\n",
            "1/1 [==============================] - 0s 9ms/step - loss: 10.2625 - mae: 10.2625\n",
            "Epoch 45/100\n",
            "1/1 [==============================] - 0s 8ms/step - loss: 10.1300 - mae: 10.1300\n",
            "Epoch 46/100\n",
            "1/1 [==============================] - 0s 8ms/step - loss: 9.9975 - mae: 9.9975\n",
            "Epoch 47/100\n",
            "1/1 [==============================] - 0s 8ms/step - loss: 9.8650 - mae: 9.8650\n",
            "Epoch 48/100\n",
            "1/1 [==============================] - 0s 8ms/step - loss: 9.7325 - mae: 9.7325\n",
            "Epoch 49/100\n",
            "1/1 [==============================] - 0s 8ms/step - loss: 9.6000 - mae: 9.6000\n",
            "Epoch 50/100\n",
            "1/1 [==============================] - 0s 9ms/step - loss: 9.4675 - mae: 9.4675\n",
            "Epoch 51/100\n",
            "1/1 [==============================] - 0s 12ms/step - loss: 9.3350 - mae: 9.3350\n",
            "Epoch 52/100\n",
            "1/1 [==============================] - 0s 17ms/step - loss: 9.2025 - mae: 9.2025\n",
            "Epoch 53/100\n",
            "1/1 [==============================] - 0s 17ms/step - loss: 9.0700 - mae: 9.0700\n",
            "Epoch 54/100\n",
            "1/1 [==============================] - 0s 9ms/step - loss: 8.9375 - mae: 8.9375\n",
            "Epoch 55/100\n",
            "1/1 [==============================] - 0s 9ms/step - loss: 8.8050 - mae: 8.8050\n",
            "Epoch 56/100\n",
            "1/1 [==============================] - 0s 9ms/step - loss: 8.6725 - mae: 8.6725\n",
            "Epoch 57/100\n",
            "1/1 [==============================] - 0s 9ms/step - loss: 8.5400 - mae: 8.5400\n",
            "Epoch 58/100\n",
            "1/1 [==============================] - 0s 9ms/step - loss: 8.4075 - mae: 8.4075\n",
            "Epoch 59/100\n",
            "1/1 [==============================] - 0s 34ms/step - loss: 8.2750 - mae: 8.2750\n",
            "Epoch 60/100\n",
            "1/1 [==============================] - 0s 18ms/step - loss: 8.1425 - mae: 8.1425\n",
            "Epoch 61/100\n",
            "1/1 [==============================] - 0s 18ms/step - loss: 8.0100 - mae: 8.0100\n",
            "Epoch 62/100\n",
            "1/1 [==============================] - 0s 17ms/step - loss: 7.8775 - mae: 7.8775\n",
            "Epoch 63/100\n",
            "1/1 [==============================] - 0s 16ms/step - loss: 7.7450 - mae: 7.7450\n",
            "Epoch 64/100\n",
            "1/1 [==============================] - 0s 11ms/step - loss: 7.6125 - mae: 7.6125\n",
            "Epoch 65/100\n",
            "1/1 [==============================] - 0s 14ms/step - loss: 7.4800 - mae: 7.4800\n",
            "Epoch 66/100\n",
            "1/1 [==============================] - 0s 12ms/step - loss: 7.3475 - mae: 7.3475\n",
            "Epoch 67/100\n",
            "1/1 [==============================] - 0s 9ms/step - loss: 7.2150 - mae: 7.2150\n",
            "Epoch 68/100\n",
            "1/1 [==============================] - 0s 13ms/step - loss: 7.0825 - mae: 7.0825\n",
            "Epoch 69/100\n",
            "1/1 [==============================] - 0s 14ms/step - loss: 7.0050 - mae: 7.0050\n",
            "Epoch 70/100\n",
            "1/1 [==============================] - 0s 16ms/step - loss: 6.9994 - mae: 6.9994\n",
            "Epoch 71/100\n",
            "1/1 [==============================] - 0s 27ms/step - loss: 6.9938 - mae: 6.9938\n",
            "Epoch 72/100\n",
            "1/1 [==============================] - 0s 15ms/step - loss: 6.9881 - mae: 6.9881\n",
            "Epoch 73/100\n",
            "1/1 [==============================] - 0s 17ms/step - loss: 6.9825 - mae: 6.9825\n",
            "Epoch 74/100\n",
            "1/1 [==============================] - 0s 14ms/step - loss: 6.9769 - mae: 6.9769\n",
            "Epoch 75/100\n",
            "1/1 [==============================] - 0s 16ms/step - loss: 6.9713 - mae: 6.9713\n",
            "Epoch 76/100\n",
            "1/1 [==============================] - 0s 13ms/step - loss: 6.9656 - mae: 6.9656\n",
            "Epoch 77/100\n",
            "1/1 [==============================] - 0s 18ms/step - loss: 6.9600 - mae: 6.9600\n",
            "Epoch 78/100\n",
            "1/1 [==============================] - 0s 17ms/step - loss: 6.9544 - mae: 6.9544\n",
            "Epoch 79/100\n",
            "1/1 [==============================] - 0s 11ms/step - loss: 6.9488 - mae: 6.9488\n",
            "Epoch 80/100\n",
            "1/1 [==============================] - 0s 15ms/step - loss: 6.9431 - mae: 6.9431\n",
            "Epoch 81/100\n",
            "1/1 [==============================] - 0s 13ms/step - loss: 6.9375 - mae: 6.9375\n",
            "Epoch 82/100\n",
            "1/1 [==============================] - 0s 11ms/step - loss: 6.9319 - mae: 6.9319\n",
            "Epoch 83/100\n",
            "1/1 [==============================] - 0s 13ms/step - loss: 6.9262 - mae: 6.9262\n",
            "Epoch 84/100\n",
            "1/1 [==============================] - 0s 11ms/step - loss: 6.9206 - mae: 6.9206\n",
            "Epoch 85/100\n",
            "1/1 [==============================] - 0s 11ms/step - loss: 6.9150 - mae: 6.9150\n",
            "Epoch 86/100\n",
            "1/1 [==============================] - 0s 8ms/step - loss: 6.9094 - mae: 6.9094\n",
            "Epoch 87/100\n",
            "1/1 [==============================] - 0s 10ms/step - loss: 6.9038 - mae: 6.9038\n",
            "Epoch 88/100\n",
            "1/1 [==============================] - 0s 12ms/step - loss: 6.8981 - mae: 6.8981\n",
            "Epoch 89/100\n",
            "1/1 [==============================] - 0s 9ms/step - loss: 6.8925 - mae: 6.8925\n",
            "Epoch 90/100\n",
            "1/1 [==============================] - 0s 9ms/step - loss: 6.8869 - mae: 6.8869\n",
            "Epoch 91/100\n",
            "1/1 [==============================] - 0s 9ms/step - loss: 6.8813 - mae: 6.8813\n",
            "Epoch 92/100\n",
            "1/1 [==============================] - 0s 9ms/step - loss: 6.8756 - mae: 6.8756\n",
            "Epoch 93/100\n",
            "1/1 [==============================] - 0s 12ms/step - loss: 6.8700 - mae: 6.8700\n",
            "Epoch 94/100\n",
            "1/1 [==============================] - 0s 9ms/step - loss: 6.8644 - mae: 6.8644\n",
            "Epoch 95/100\n",
            "1/1 [==============================] - 0s 11ms/step - loss: 6.8588 - mae: 6.8588\n",
            "Epoch 96/100\n",
            "1/1 [==============================] - 0s 8ms/step - loss: 6.8531 - mae: 6.8531\n",
            "Epoch 97/100\n",
            "1/1 [==============================] - 0s 8ms/step - loss: 6.8475 - mae: 6.8475\n",
            "Epoch 98/100\n",
            "1/1 [==============================] - 0s 7ms/step - loss: 6.8419 - mae: 6.8419\n",
            "Epoch 99/100\n",
            "1/1 [==============================] - 0s 10ms/step - loss: 6.8363 - mae: 6.8363\n",
            "Epoch 100/100\n",
            "1/1 [==============================] - 0s 11ms/step - loss: 6.8306 - mae: 6.8306\n"
          ]
        },
        {
          "output_type": "execute_result",
          "data": {
            "text/plain": [
              "<keras.callbacks.History at 0x79aa65e8b8e0>"
            ]
          },
          "metadata": {},
          "execution_count": 19
        }
      ]
    },
    {
      "cell_type": "code",
      "source": [
        "x, y"
      ],
      "metadata": {
        "colab": {
          "base_uri": "https://localhost:8080/"
        },
        "id": "ep1Be6-dmkFN",
        "outputId": "08baa11d-39ac-4596-de39-95fbaaa05642"
      },
      "execution_count": null,
      "outputs": [
        {
          "output_type": "execute_result",
          "data": {
            "text/plain": [
              "(<tf.Tensor: shape=(8,), dtype=float32, numpy=array([-7., -4., -1.,  2.,  5.,  8., 11., 14.], dtype=float32)>,\n",
              " <tf.Tensor: shape=(8,), dtype=float32, numpy=array([ 3.,  6.,  9., 12., 15., 18., 21., 24.], dtype=float32)>)"
            ]
          },
          "metadata": {},
          "execution_count": 20
        }
      ]
    },
    {
      "cell_type": "code",
      "source": [
        "model.predict([17.0])"
      ],
      "metadata": {
        "colab": {
          "base_uri": "https://localhost:8080/"
        },
        "id": "2Nk3ECkYmnZm",
        "outputId": "c87b30a4-7f04-4f52-b23a-936e9380e402"
      },
      "execution_count": null,
      "outputs": [
        {
          "output_type": "stream",
          "name": "stdout",
          "text": [
            "1/1 [==============================] - 0s 56ms/step\n"
          ]
        },
        {
          "output_type": "execute_result",
          "data": {
            "text/plain": [
              "array([[29.508717]], dtype=float32)"
            ]
          },
          "metadata": {},
          "execution_count": 21
        }
      ]
    },
    {
      "cell_type": "code",
      "source": [
        "# another change to improve the model\n",
        "\n",
        "model = tf.keras.Sequential([\n",
        "    tf.keras.layers.Dense(50, activation=None), # 1 hidden layer with 100 units\n",
        "    tf.keras.layers.Dense(1)\n",
        "])\n",
        "\n",
        "model.compile(loss=\"mae\",\n",
        "              optimizer = tf.keras.optimizers.Adam(lr=0.001),\n",
        "              metrics=[\"mae\"])\n",
        "\n",
        "model.fit(tf.expand_dims(x, axis=1), y, epochs=100)"
      ],
      "metadata": {
        "colab": {
          "base_uri": "https://localhost:8080/"
        },
        "id": "wOQX6U5AnRzn",
        "outputId": "ed1b76c7-a267-4d4d-ee60-4bc71b8e5e27"
      },
      "execution_count": null,
      "outputs": [
        {
          "output_type": "stream",
          "name": "stderr",
          "text": [
            "WARNING:absl:`lr` is deprecated in Keras optimizer, please use `learning_rate` or use the legacy optimizer, e.g.,tf.keras.optimizers.legacy.Adam.\n"
          ]
        },
        {
          "output_type": "stream",
          "name": "stdout",
          "text": [
            "Epoch 1/100\n",
            "1/1 [==============================] - 1s 677ms/step - loss: 13.1247 - mae: 13.1247\n",
            "Epoch 2/100\n",
            "1/1 [==============================] - 0s 13ms/step - loss: 13.0612 - mae: 13.0612\n",
            "Epoch 3/100\n",
            "1/1 [==============================] - 0s 14ms/step - loss: 12.9978 - mae: 12.9978\n",
            "Epoch 4/100\n",
            "1/1 [==============================] - 0s 14ms/step - loss: 12.9344 - mae: 12.9344\n",
            "Epoch 5/100\n",
            "1/1 [==============================] - 0s 12ms/step - loss: 12.8711 - mae: 12.8711\n",
            "Epoch 6/100\n",
            "1/1 [==============================] - 0s 14ms/step - loss: 12.8077 - mae: 12.8077\n",
            "Epoch 7/100\n",
            "1/1 [==============================] - 0s 10ms/step - loss: 12.7445 - mae: 12.7445\n",
            "Epoch 8/100\n",
            "1/1 [==============================] - 0s 13ms/step - loss: 12.6812 - mae: 12.6812\n",
            "Epoch 9/100\n",
            "1/1 [==============================] - 0s 13ms/step - loss: 12.6179 - mae: 12.6179\n",
            "Epoch 10/100\n",
            "1/1 [==============================] - 0s 11ms/step - loss: 12.5546 - mae: 12.5546\n",
            "Epoch 11/100\n",
            "1/1 [==============================] - 0s 11ms/step - loss: 12.4913 - mae: 12.4913\n",
            "Epoch 12/100\n",
            "1/1 [==============================] - 0s 11ms/step - loss: 12.4280 - mae: 12.4280\n",
            "Epoch 13/100\n",
            "1/1 [==============================] - 0s 15ms/step - loss: 12.3646 - mae: 12.3646\n",
            "Epoch 14/100\n",
            "1/1 [==============================] - 0s 14ms/step - loss: 12.3012 - mae: 12.3012\n",
            "Epoch 15/100\n",
            "1/1 [==============================] - 0s 12ms/step - loss: 12.2378 - mae: 12.2378\n",
            "Epoch 16/100\n",
            "1/1 [==============================] - 0s 13ms/step - loss: 12.1742 - mae: 12.1742\n",
            "Epoch 17/100\n",
            "1/1 [==============================] - 0s 12ms/step - loss: 12.1107 - mae: 12.1107\n",
            "Epoch 18/100\n",
            "1/1 [==============================] - 0s 11ms/step - loss: 12.0471 - mae: 12.0471\n",
            "Epoch 19/100\n",
            "1/1 [==============================] - 0s 12ms/step - loss: 11.9833 - mae: 11.9833\n",
            "Epoch 20/100\n",
            "1/1 [==============================] - 0s 17ms/step - loss: 11.9196 - mae: 11.9196\n",
            "Epoch 21/100\n",
            "1/1 [==============================] - 0s 11ms/step - loss: 11.8557 - mae: 11.8557\n",
            "Epoch 22/100\n",
            "1/1 [==============================] - 0s 13ms/step - loss: 11.7917 - mae: 11.7917\n",
            "Epoch 23/100\n",
            "1/1 [==============================] - 0s 10ms/step - loss: 11.7276 - mae: 11.7276\n",
            "Epoch 24/100\n",
            "1/1 [==============================] - 0s 15ms/step - loss: 11.6634 - mae: 11.6634\n",
            "Epoch 25/100\n",
            "1/1 [==============================] - 0s 13ms/step - loss: 11.5990 - mae: 11.5990\n",
            "Epoch 26/100\n",
            "1/1 [==============================] - 0s 12ms/step - loss: 11.5346 - mae: 11.5346\n",
            "Epoch 27/100\n",
            "1/1 [==============================] - 0s 10ms/step - loss: 11.4700 - mae: 11.4700\n",
            "Epoch 28/100\n",
            "1/1 [==============================] - 0s 10ms/step - loss: 11.4052 - mae: 11.4052\n",
            "Epoch 29/100\n",
            "1/1 [==============================] - 0s 10ms/step - loss: 11.3403 - mae: 11.3403\n",
            "Epoch 30/100\n",
            "1/1 [==============================] - 0s 10ms/step - loss: 11.2752 - mae: 11.2752\n",
            "Epoch 31/100\n",
            "1/1 [==============================] - 0s 10ms/step - loss: 11.2099 - mae: 11.2099\n",
            "Epoch 32/100\n",
            "1/1 [==============================] - 0s 16ms/step - loss: 11.1445 - mae: 11.1445\n",
            "Epoch 33/100\n",
            "1/1 [==============================] - 0s 15ms/step - loss: 11.0788 - mae: 11.0788\n",
            "Epoch 34/100\n",
            "1/1 [==============================] - 0s 15ms/step - loss: 11.0130 - mae: 11.0130\n",
            "Epoch 35/100\n",
            "1/1 [==============================] - 0s 13ms/step - loss: 10.9469 - mae: 10.9469\n",
            "Epoch 36/100\n",
            "1/1 [==============================] - 0s 14ms/step - loss: 10.8807 - mae: 10.8807\n",
            "Epoch 37/100\n",
            "1/1 [==============================] - 0s 10ms/step - loss: 10.8142 - mae: 10.8142\n",
            "Epoch 38/100\n",
            "1/1 [==============================] - 0s 10ms/step - loss: 10.7474 - mae: 10.7474\n",
            "Epoch 39/100\n",
            "1/1 [==============================] - 0s 9ms/step - loss: 10.6804 - mae: 10.6804\n",
            "Epoch 40/100\n",
            "1/1 [==============================] - 0s 9ms/step - loss: 10.6132 - mae: 10.6132\n",
            "Epoch 41/100\n",
            "1/1 [==============================] - 0s 9ms/step - loss: 10.5457 - mae: 10.5457\n",
            "Epoch 42/100\n",
            "1/1 [==============================] - 0s 9ms/step - loss: 10.4779 - mae: 10.4779\n",
            "Epoch 43/100\n",
            "1/1 [==============================] - 0s 15ms/step - loss: 10.4099 - mae: 10.4099\n",
            "Epoch 44/100\n",
            "1/1 [==============================] - 0s 13ms/step - loss: 10.3415 - mae: 10.3415\n",
            "Epoch 45/100\n",
            "1/1 [==============================] - 0s 9ms/step - loss: 10.2729 - mae: 10.2729\n",
            "Epoch 46/100\n",
            "1/1 [==============================] - 0s 10ms/step - loss: 10.2039 - mae: 10.2039\n",
            "Epoch 47/100\n",
            "1/1 [==============================] - 0s 9ms/step - loss: 10.1346 - mae: 10.1346\n",
            "Epoch 48/100\n",
            "1/1 [==============================] - 0s 8ms/step - loss: 10.0650 - mae: 10.0650\n",
            "Epoch 49/100\n",
            "1/1 [==============================] - 0s 8ms/step - loss: 9.9950 - mae: 9.9950\n",
            "Epoch 50/100\n",
            "1/1 [==============================] - 0s 9ms/step - loss: 9.9248 - mae: 9.9248\n",
            "Epoch 51/100\n",
            "1/1 [==============================] - 0s 11ms/step - loss: 9.8541 - mae: 9.8541\n",
            "Epoch 52/100\n",
            "1/1 [==============================] - 0s 12ms/step - loss: 9.7831 - mae: 9.7831\n",
            "Epoch 53/100\n",
            "1/1 [==============================] - 0s 9ms/step - loss: 9.7117 - mae: 9.7117\n",
            "Epoch 54/100\n",
            "1/1 [==============================] - 0s 9ms/step - loss: 9.6399 - mae: 9.6399\n",
            "Epoch 55/100\n",
            "1/1 [==============================] - 0s 9ms/step - loss: 9.5678 - mae: 9.5678\n",
            "Epoch 56/100\n",
            "1/1 [==============================] - 0s 9ms/step - loss: 9.4953 - mae: 9.4953\n",
            "Epoch 57/100\n",
            "1/1 [==============================] - 0s 9ms/step - loss: 9.4223 - mae: 9.4223\n",
            "Epoch 58/100\n",
            "1/1 [==============================] - 0s 8ms/step - loss: 9.3489 - mae: 9.3489\n",
            "Epoch 59/100\n",
            "1/1 [==============================] - 0s 9ms/step - loss: 9.2752 - mae: 9.2752\n",
            "Epoch 60/100\n",
            "1/1 [==============================] - 0s 9ms/step - loss: 9.2010 - mae: 9.2010\n",
            "Epoch 61/100\n",
            "1/1 [==============================] - 0s 9ms/step - loss: 9.1263 - mae: 9.1263\n",
            "Epoch 62/100\n",
            "1/1 [==============================] - 0s 9ms/step - loss: 9.0512 - mae: 9.0512\n",
            "Epoch 63/100\n",
            "1/1 [==============================] - 0s 9ms/step - loss: 8.9757 - mae: 8.9757\n",
            "Epoch 64/100\n",
            "1/1 [==============================] - 0s 9ms/step - loss: 8.8997 - mae: 8.8997\n",
            "Epoch 65/100\n",
            "1/1 [==============================] - 0s 9ms/step - loss: 8.8233 - mae: 8.8233\n",
            "Epoch 66/100\n",
            "1/1 [==============================] - 0s 9ms/step - loss: 8.7463 - mae: 8.7463\n",
            "Epoch 67/100\n",
            "1/1 [==============================] - 0s 9ms/step - loss: 8.6689 - mae: 8.6689\n",
            "Epoch 68/100\n",
            "1/1 [==============================] - 0s 9ms/step - loss: 8.5911 - mae: 8.5911\n",
            "Epoch 69/100\n",
            "1/1 [==============================] - 0s 9ms/step - loss: 8.5127 - mae: 8.5127\n",
            "Epoch 70/100\n",
            "1/1 [==============================] - 0s 9ms/step - loss: 8.4338 - mae: 8.4338\n",
            "Epoch 71/100\n",
            "1/1 [==============================] - 0s 9ms/step - loss: 8.3544 - mae: 8.3544\n",
            "Epoch 72/100\n",
            "1/1 [==============================] - 0s 11ms/step - loss: 8.2745 - mae: 8.2745\n",
            "Epoch 73/100\n",
            "1/1 [==============================] - 0s 13ms/step - loss: 8.1940 - mae: 8.1940\n",
            "Epoch 74/100\n",
            "1/1 [==============================] - 0s 9ms/step - loss: 8.1131 - mae: 8.1131\n",
            "Epoch 75/100\n",
            "1/1 [==============================] - 0s 11ms/step - loss: 8.0316 - mae: 8.0316\n",
            "Epoch 76/100\n",
            "1/1 [==============================] - 0s 9ms/step - loss: 7.9495 - mae: 7.9495\n",
            "Epoch 77/100\n",
            "1/1 [==============================] - 0s 12ms/step - loss: 7.8669 - mae: 7.8669\n",
            "Epoch 78/100\n",
            "1/1 [==============================] - 0s 8ms/step - loss: 7.7838 - mae: 7.7838\n",
            "Epoch 79/100\n",
            "1/1 [==============================] - 0s 9ms/step - loss: 7.7000 - mae: 7.7000\n",
            "Epoch 80/100\n",
            "1/1 [==============================] - 0s 8ms/step - loss: 7.6157 - mae: 7.6157\n",
            "Epoch 81/100\n",
            "1/1 [==============================] - 0s 8ms/step - loss: 7.5308 - mae: 7.5308\n",
            "Epoch 82/100\n",
            "1/1 [==============================] - 0s 9ms/step - loss: 7.4454 - mae: 7.4454\n",
            "Epoch 83/100\n",
            "1/1 [==============================] - 0s 9ms/step - loss: 7.3593 - mae: 7.3593\n",
            "Epoch 84/100\n",
            "1/1 [==============================] - 0s 8ms/step - loss: 7.2726 - mae: 7.2726\n",
            "Epoch 85/100\n",
            "1/1 [==============================] - 0s 8ms/step - loss: 7.1854 - mae: 7.1854\n",
            "Epoch 86/100\n",
            "1/1 [==============================] - 0s 8ms/step - loss: 7.0975 - mae: 7.0975\n",
            "Epoch 87/100\n",
            "1/1 [==============================] - 0s 9ms/step - loss: 7.0090 - mae: 7.0090\n",
            "Epoch 88/100\n",
            "1/1 [==============================] - 0s 9ms/step - loss: 6.9198 - mae: 6.9198\n",
            "Epoch 89/100\n",
            "1/1 [==============================] - 0s 15ms/step - loss: 6.8301 - mae: 6.8301\n",
            "Epoch 90/100\n",
            "1/1 [==============================] - 0s 14ms/step - loss: 6.7396 - mae: 6.7396\n",
            "Epoch 91/100\n",
            "1/1 [==============================] - 0s 9ms/step - loss: 6.7036 - mae: 6.7036\n",
            "Epoch 92/100\n",
            "1/1 [==============================] - 0s 11ms/step - loss: 6.6916 - mae: 6.6916\n",
            "Epoch 93/100\n",
            "1/1 [==============================] - 0s 9ms/step - loss: 6.6799 - mae: 6.6799\n",
            "Epoch 94/100\n",
            "1/1 [==============================] - 0s 9ms/step - loss: 6.6685 - mae: 6.6685\n",
            "Epoch 95/100\n",
            "1/1 [==============================] - 0s 9ms/step - loss: 6.6573 - mae: 6.6573\n",
            "Epoch 96/100\n",
            "1/1 [==============================] - 0s 9ms/step - loss: 6.6463 - mae: 6.6463\n",
            "Epoch 97/100\n",
            "1/1 [==============================] - 0s 9ms/step - loss: 6.6355 - mae: 6.6355\n",
            "Epoch 98/100\n",
            "1/1 [==============================] - 0s 10ms/step - loss: 6.6249 - mae: 6.6249\n",
            "Epoch 99/100\n",
            "1/1 [==============================] - 0s 9ms/step - loss: 6.6144 - mae: 6.6144\n",
            "Epoch 100/100\n",
            "1/1 [==============================] - 0s 9ms/step - loss: 6.6040 - mae: 6.6040\n"
          ]
        },
        {
          "output_type": "execute_result",
          "data": {
            "text/plain": [
              "<keras.callbacks.History at 0x79aa6660c340>"
            ]
          },
          "metadata": {},
          "execution_count": 22
        }
      ]
    },
    {
      "cell_type": "code",
      "source": [
        "x, y"
      ],
      "metadata": {
        "colab": {
          "base_uri": "https://localhost:8080/"
        },
        "id": "IY7tP6Qool2v",
        "outputId": "a3b43b81-5c15-4fef-db94-cee69dd006d4"
      },
      "execution_count": null,
      "outputs": [
        {
          "output_type": "execute_result",
          "data": {
            "text/plain": [
              "(<tf.Tensor: shape=(8,), dtype=float32, numpy=array([-7., -4., -1.,  2.,  5.,  8., 11., 14.], dtype=float32)>,\n",
              " <tf.Tensor: shape=(8,), dtype=float32, numpy=array([ 3.,  6.,  9., 12., 15., 18., 21., 24.], dtype=float32)>)"
            ]
          },
          "metadata": {},
          "execution_count": 23
        }
      ]
    },
    {
      "cell_type": "code",
      "source": [
        "model.predict([17.0])  #that means the model is overfitting"
      ],
      "metadata": {
        "colab": {
          "base_uri": "https://localhost:8080/"
        },
        "id": "2Qpabv7KoodJ",
        "outputId": "0dc19ecb-3547-439c-a806-cce5a41d007b"
      },
      "execution_count": null,
      "outputs": [
        {
          "output_type": "stream",
          "name": "stdout",
          "text": [
            "1/1 [==============================] - 0s 80ms/step\n"
          ]
        },
        {
          "output_type": "execute_result",
          "data": {
            "text/plain": [
              "array([[31.604887]], dtype=float32)"
            ]
          },
          "metadata": {},
          "execution_count": 24
        }
      ]
    },
    {
      "cell_type": "markdown",
      "source": [
        "Evaluating the model\n",
        "build-> fit -> evaluate -> tweak -> fit -> evaluate -> tweak -> fit -> evaluate"
      ],
      "metadata": {
        "id": "GkBJrvltqY-J"
      }
    },
    {
      "cell_type": "code",
      "source": [
        "# viasualize\n",
        "\n",
        "#make a bigger datasets\n",
        "\n",
        "x = tf.range(-100, 100, 4)\n",
        "x"
      ],
      "metadata": {
        "colab": {
          "base_uri": "https://localhost:8080/"
        },
        "id": "u_8pdEAOq6qH",
        "outputId": "8f1cc1bf-a33a-4035-d6f9-3b3898a650fc"
      },
      "execution_count": null,
      "outputs": [
        {
          "output_type": "execute_result",
          "data": {
            "text/plain": [
              "<tf.Tensor: shape=(50,), dtype=int32, numpy=\n",
              "array([-100,  -96,  -92,  -88,  -84,  -80,  -76,  -72,  -68,  -64,  -60,\n",
              "        -56,  -52,  -48,  -44,  -40,  -36,  -32,  -28,  -24,  -20,  -16,\n",
              "        -12,   -8,   -4,    0,    4,    8,   12,   16,   20,   24,   28,\n",
              "         32,   36,   40,   44,   48,   52,   56,   60,   64,   68,   72,\n",
              "         76,   80,   84,   88,   92,   96], dtype=int32)>"
            ]
          },
          "metadata": {},
          "execution_count": 25
        }
      ]
    },
    {
      "cell_type": "code",
      "source": [
        "y = x+10\n",
        "y"
      ],
      "metadata": {
        "colab": {
          "base_uri": "https://localhost:8080/"
        },
        "id": "W80nfq6mrPDu",
        "outputId": "ca7f77f8-676e-4b0d-fae5-48b934c29d57"
      },
      "execution_count": null,
      "outputs": [
        {
          "output_type": "execute_result",
          "data": {
            "text/plain": [
              "<tf.Tensor: shape=(50,), dtype=int32, numpy=\n",
              "array([-90, -86, -82, -78, -74, -70, -66, -62, -58, -54, -50, -46, -42,\n",
              "       -38, -34, -30, -26, -22, -18, -14, -10,  -6,  -2,   2,   6,  10,\n",
              "        14,  18,  22,  26,  30,  34,  38,  42,  46,  50,  54,  58,  62,\n",
              "        66,  70,  74,  78,  82,  86,  90,  94,  98, 102, 106], dtype=int32)>"
            ]
          },
          "metadata": {},
          "execution_count": 26
        }
      ]
    },
    {
      "cell_type": "code",
      "source": [
        "# lets visualize\n",
        "import matplotlib.pyplot as plt\n",
        "plt.scatter(x, y)"
      ],
      "metadata": {
        "colab": {
          "base_uri": "https://localhost:8080/",
          "height": 447
        },
        "id": "WhLdadWkrS4Q",
        "outputId": "9f89fb2f-2415-4c1a-8ba2-3200f8a3bb54"
      },
      "execution_count": null,
      "outputs": [
        {
          "output_type": "execute_result",
          "data": {
            "text/plain": [
              "<matplotlib.collections.PathCollection at 0x79aa660603d0>"
            ]
          },
          "metadata": {},
          "execution_count": 27
        },
        {
          "output_type": "display_data",
          "data": {
            "text/plain": [
              "<Figure size 640x480 with 1 Axes>"
            ],
            "image/png": "[encoded data removed]"
          },
          "metadata": {}
        }
      ]
    },
    {
      "cell_type": "markdown",
      "source": [
        " The 3 sets...\n",
        " * Training set - model learns from the data(70-80% of data available)\n",
        " * Validation set - model gets tuned on this data(10-15% of the data available)\n",
        " * Test - the model gets evaluated on this data(10-15%)\n"
      ],
      "metadata": {
        "id": "W8x0qqvJrd5V"
      }
    },
    {
      "cell_type": "code",
      "source": [
        "len(x)"
      ],
      "metadata": {
        "colab": {
          "base_uri": "https://localhost:8080/"
        },
        "id": "Puf9qH47sJ0n",
        "outputId": "3fa0466a-9ef2-48f3-b771-c619d1400527"
      },
      "execution_count": null,
      "outputs": [
        {
          "output_type": "execute_result",
          "data": {
            "text/plain": [
              "50"
            ]
          },
          "metadata": {},
          "execution_count": 28
        }
      ]
    },
    {
      "cell_type": "code",
      "source": [
        "x_train = x[:40]\n",
        "y_train = y[:40]\n",
        "x_test = x[40:]\n",
        "y_test = y[40:]\n",
        "\n",
        "len(x_train), len(x_test), len(y_train), len(y_test)"
      ],
      "metadata": {
        "colab": {
          "base_uri": "https://localhost:8080/"
        },
        "id": "N2QFxn2_tYJ2",
        "outputId": "aac151da-903e-4b7e-e9bf-857c0bfa05ae"
      },
      "execution_count": null,
      "outputs": [
        {
          "output_type": "execute_result",
          "data": {
            "text/plain": [
              "(40, 10, 40, 10)"
            ]
          },
          "metadata": {},
          "execution_count": 29
        }
      ]
    },
    {
      "cell_type": "code",
      "source": [
        "# visualizing the data\n",
        "plt.figure(figsize=(10, 7))\n",
        "plt.scatter(x_train, y_train, c=\"b\", label=\"Training data\")\n",
        "plt.scatter(x_test, y_test, c=\"g\", label=\"Testing data\")\n",
        "plt.legend()"
      ],
      "metadata": {
        "colab": {
          "base_uri": "https://localhost:8080/",
          "height": 485
        },
        "id": "GvcEaXDZt_xY",
        "outputId": "7d626c81-f103-407f-f48e-e963397fad4f"
      },
      "execution_count": null,
      "outputs": [
        {
          "output_type": "execute_result",
          "data": {
            "text/plain": [
              "<matplotlib.legend.Legend at 0x79aa660d0af0>"
            ]
          },
          "metadata": {},
          "execution_count": 30
        },
        {
          "output_type": "display_data",
          "data": {
            "text/plain": [
              "<Figure size 1000x700 with 1 Axes>"
            ],
            "image/png": "[encoded data removed]"
          },
          "metadata": {}
        }
      ]
    },
    {
      "cell_type": "code",
      "source": [
        "model = tf.keras.Sequential([\n",
        "    tf.keras.layers.Dense(1,)\n",
        "])\n",
        "\n",
        "model.compile(loss=tf.keras.losses.mae,\n",
        "              optimizer = tf.keras.optimizers.SGD(),\n",
        "              metrics=[\"mae\"])\n",
        "\n",
        "#model.fit(x_train, y_train, epochs=100)"
      ],
      "metadata": {
        "id": "8nhDbeXwxvSZ"
      },
      "execution_count": null,
      "outputs": []
    },
    {
      "cell_type": "code",
      "source": [
        "tf.random.set_seed(42)\n",
        "\n",
        "model=tf.keras.Sequential([\n",
        "    tf.keras.layers.Dense(10, input_shape=[1], name=\"input_layer\"),\n",
        "    tf.keras.layers.Dense(1, name=\"output_layer\"),\n",
        "], name=\"model_1\")\n",
        "\n",
        "model.compile(loss=tf.keras.losses.mae,\n",
        "              optimizer = tf.keras.optimizers.SGD(),\n",
        "              metrics=[\"mae\"])\n",
        "\n",
        "model.summary()"
      ],
      "metadata": {
        "colab": {
          "base_uri": "https://localhost:8080/"
        },
        "id": "YPatXmWxzKWL",
        "outputId": "c11ae881-3b72-4cbe-b003-54252a2c1021"
      },
      "execution_count": null,
      "outputs": [
        {
          "output_type": "stream",
          "name": "stdout",
          "text": [
            "Model: \"model_1\"\n",
            "_________________________________________________________________\n",
            " Layer (type)                Output Shape              Param #   \n",
            "=================================================================\n",
            " input_layer (Dense)         (None, 10)                20        \n",
            "                                                                 \n",
            " output_layer (Dense)        (None, 1)                 11        \n",
            "                                                                 \n",
            "=================================================================\n",
            "Total params: 31\n",
            "Trainable params: 31\n",
            "Non-trainable params: 0\n",
            "_________________________________________________________________\n"
          ]
        }
      ]
    },
    {
      "cell_type": "markdown",
      "source": [
        "* total params = total parameters\n",
        "* trainable params = parameters(patters that model can update as it trains)\n",
        "* nontrainable = these parameters are notupdated during trainig (transfer learning)"
      ],
      "metadata": {
        "id": "gwCIeNS90D0y"
      }
    },
    {
      "cell_type": "code",
      "source": [
        "model.fit(x_train, y_train, epochs=100, verbose=0)"
      ],
      "metadata": {
        "colab": {
          "base_uri": "https://localhost:8080/"
        },
        "id": "DKe_xC8X1Hky",
        "outputId": "4255758c-47a2-4c72-ae0b-be85d87d686e"
      },
      "execution_count": null,
      "outputs": [
        {
          "output_type": "execute_result",
          "data": {
            "text/plain": [
              "<keras.callbacks.History at 0x79aa64173b50>"
            ]
          },
          "metadata": {},
          "execution_count": 33
        }
      ]
    },
    {
      "cell_type": "code",
      "source": [
        "model.summary()"
      ],
      "metadata": {
        "id": "ZIPPWqmL1Wyy",
        "outputId": "74c583b3-3ce0-4235-b2aa-6b861a14fccf",
        "colab": {
          "base_uri": "https://localhost:8080/"
        }
      },
      "execution_count": null,
      "outputs": [
        {
          "output_type": "stream",
          "name": "stdout",
          "text": [
            "Model: \"model_1\"\n",
            "_________________________________________________________________\n",
            " Layer (type)                Output Shape              Param #   \n",
            "=================================================================\n",
            " input_layer (Dense)         (None, 10)                20        \n",
            "                                                                 \n",
            " output_layer (Dense)        (None, 1)                 11        \n",
            "                                                                 \n",
            "=================================================================\n",
            "Total params: 31\n",
            "Trainable params: 31\n",
            "Non-trainable params: 0\n",
            "_________________________________________________________________\n"
          ]
        }
      ]
    },
    {
      "cell_type": "code",
      "source": [
        "from tensorflow.keras.utils import plot_model\n",
        "plot_model(model=model, show_shapes=True)"
      ],
      "metadata": {
        "colab": {
          "base_uri": "https://localhost:8080/",
          "height": 312
        },
        "id": "5JxUQNHkxSXt",
        "outputId": "2b3f415e-a974-4f11-cf74-ae826c2e7135"
      },
      "execution_count": null,
      "outputs": [
        {
          "output_type": "execute_result",
          "data": {
            "image/png": "[encoded data removed]",
            "text/plain": [
              "<IPython.core.display.Image object>"
            ]
          },
          "metadata": {},
          "execution_count": 35
        }
      ]
    },
    {
      "cell_type": "code",
      "source": [
        "#visualizing our models predictions\n",
        "y_pred = model.predict(x_test)\n",
        "y_pred"
      ],
      "metadata": {
        "colab": {
          "base_uri": "https://localhost:8080/"
        },
        "id": "6QFMnJ4JyYvT",
        "outputId": "d2fb049a-faa1-4129-bf15-d9b8e7b0e96b"
      },
      "execution_count": null,
      "outputs": [
        {
          "output_type": "stream",
          "name": "stdout",
          "text": [
            "1/1 [==============================] - 0s 47ms/step\n"
          ]
        },
        {
          "output_type": "execute_result",
          "data": {
            "text/plain": [
              "array([[ 78.21409 ],\n",
              "       [ 83.31029 ],\n",
              "       [ 88.40647 ],\n",
              "       [ 93.502655],\n",
              "       [ 98.598854],\n",
              "       [103.695045],\n",
              "       [108.791245],\n",
              "       [113.88743 ],\n",
              "       [118.98362 ],\n",
              "       [124.07981 ]], dtype=float32)"
            ]
          },
          "metadata": {},
          "execution_count": 36
        }
      ]
    },
    {
      "cell_type": "code",
      "source": [
        "y_test"
      ],
      "metadata": {
        "colab": {
          "base_uri": "https://localhost:8080/"
        },
        "id": "rzx-8NdwywV0",
        "outputId": "0c38a663-b3b7-4127-ff02-50268ff46c8b"
      },
      "execution_count": null,
      "outputs": [
        {
          "output_type": "execute_result",
          "data": {
            "text/plain": [
              "<tf.Tensor: shape=(10,), dtype=int32, numpy=array([ 70,  74,  78,  82,  86,  90,  94,  98, 102, 106], dtype=int32)>"
            ]
          },
          "metadata": {},
          "execution_count": 37
        }
      ]
    },
    {
      "cell_type": "code",
      "source": [
        "#lets create a aplotting function\n",
        "\n",
        "def plot_predictions(train_data=x_train,\n",
        "                     train_labels=y_train,\n",
        "                     test_data=x_test,\n",
        "                     test_labels=y_test,\n",
        "                     predictions=y_pred):\n",
        "\n",
        "  plt.figure(figsize=(10, 7))\n",
        "\n",
        "  plt.scatter(train_data, train_labels, c=\"b\", label=\"Training data\")\n",
        "  plt.scatter(test_data, test_labels, c=\"g\", label=\"Testing data\")\n",
        "  plt.scatter(test_data, predictions, c=\"r\", label=\"Predictions\")\n",
        "  plt.legend();"
      ],
      "metadata": {
        "id": "jVSUlqKYy3Cc"
      },
      "execution_count": null,
      "outputs": []
    },
    {
      "cell_type": "code",
      "source": [
        "plot_predictions(train_data=x_train,\n",
        "                     train_labels=y_train,\n",
        "                     test_data=x_test,\n",
        "                     test_labels=y_test,\n",
        "                     predictions=y_pred)"
      ],
      "metadata": {
        "colab": {
          "base_uri": "https://localhost:8080/",
          "height": 463
        },
        "id": "QOhlOYc3z9gj",
        "outputId": "6417ab6f-938c-411c-f961-8476008b1913"
      },
      "execution_count": null,
      "outputs": [
        {
          "output_type": "display_data",
          "data": {
            "text/plain": [
              "<Figure size 1000x700 with 1 Axes>"
            ],
            "image/png": "[encoded data removed]"
          },
          "metadata": {}
        }
      ]
    },
    {
      "cell_type": "markdown",
      "source": [
        "2 main metrics:\n",
        "MAE(for regression problems), MSE"
      ],
      "metadata": {
        "id": "nmyr1vDh2Agf"
      }
    },
    {
      "cell_type": "code",
      "source": [
        "model.evaluate(x_test, y_test)"
      ],
      "metadata": {
        "colab": {
          "base_uri": "https://localhost:8080/"
        },
        "id": "DH2EWbSt2FWB",
        "outputId": "a35bcbed-b111-4b0b-de22-ac229ea31329"
      },
      "execution_count": null,
      "outputs": [
        {
          "output_type": "stream",
          "name": "stdout",
          "text": [
            "1/1 [==============================] - 0s 262ms/step - loss: 13.1470 - mae: 13.1470\n"
          ]
        },
        {
          "output_type": "execute_result",
          "data": {
            "text/plain": [
              "[13.146951675415039, 13.146951675415039]"
            ]
          },
          "metadata": {},
          "execution_count": 40
        }
      ]
    },
    {
      "cell_type": "code",
      "source": [
        "y_pred"
      ],
      "metadata": {
        "colab": {
          "base_uri": "https://localhost:8080/"
        },
        "id": "Hi-UIkZt2qLh",
        "outputId": "371bc0bc-bab7-4b5e-e1ec-5325a65bd2d9"
      },
      "execution_count": null,
      "outputs": [
        {
          "output_type": "execute_result",
          "data": {
            "text/plain": [
              "array([[ 78.21409 ],\n",
              "       [ 83.31029 ],\n",
              "       [ 88.40647 ],\n",
              "       [ 93.502655],\n",
              "       [ 98.598854],\n",
              "       [103.695045],\n",
              "       [108.791245],\n",
              "       [113.88743 ],\n",
              "       [118.98362 ],\n",
              "       [124.07981 ]], dtype=float32)"
            ]
          },
          "metadata": {},
          "execution_count": 41
        }
      ]
    },
    {
      "cell_type": "code",
      "source": [
        "y_test"
      ],
      "metadata": {
        "colab": {
          "base_uri": "https://localhost:8080/"
        },
        "id": "8WGncJsG2uji",
        "outputId": "0df1b072-5b92-455e-8635-7ed1e19ca6c8"
      },
      "execution_count": null,
      "outputs": [
        {
          "output_type": "execute_result",
          "data": {
            "text/plain": [
              "<tf.Tensor: shape=(10,), dtype=int32, numpy=array([ 70,  74,  78,  82,  86,  90,  94,  98, 102, 106], dtype=int32)>"
            ]
          },
          "metadata": {},
          "execution_count": 42
        }
      ]
    },
    {
      "cell_type": "code",
      "source": [
        "#calculate mean absolute error\n",
        "mae = tf.metrics.mean_absolute_error(y_true = y_test,\n",
        "                                     y_pred = y_pred)\n",
        "mae"
      ],
      "metadata": {
        "colab": {
          "base_uri": "https://localhost:8080/"
        },
        "id": "shSQGcGd2w9y",
        "outputId": "4214d8e6-5917-479a-d8c4-26869f984a3a"
      },
      "execution_count": null,
      "outputs": [
        {
          "output_type": "execute_result",
          "data": {
            "text/plain": [
              "<tf.Tensor: shape=(10,), dtype=float32, numpy=\n",
              "array([12.314364, 10.537943, 10.      , 10.700531, 12.759313, 16.156036,\n",
              "       20.791245, 25.887426, 30.983618, 36.07981 ], dtype=float32)>"
            ]
          },
          "metadata": {},
          "execution_count": 43
        }
      ]
    },
    {
      "cell_type": "code",
      "source": [
        "y_test-y_pred"
      ],
      "metadata": {
        "colab": {
          "base_uri": "https://localhost:8080/"
        },
        "id": "9W562cwn3Xfo",
        "outputId": "45afcd42-126f-478b-fabb-2ae588ecbe14"
      },
      "execution_count": null,
      "outputs": [
        {
          "output_type": "execute_result",
          "data": {
            "text/plain": [
              "<tf.Tensor: shape=(10, 10), dtype=int32, numpy=\n",
              "array([[ -8,  -4,   0,   4,   8,  12,  16,  20,  24,  28],\n",
              "       [-13,  -9,  -5,  -1,   3,   7,  11,  15,  19,  23],\n",
              "       [-18, -14, -10,  -6,  -2,   2,   6,  10,  14,  18],\n",
              "       [-23, -19, -15, -11,  -7,  -3,   1,   5,   9,  13],\n",
              "       [-28, -24, -20, -16, -12,  -8,  -4,   0,   4,   8],\n",
              "       [-33, -29, -25, -21, -17, -13,  -9,  -5,  -1,   3],\n",
              "       [-38, -34, -30, -26, -22, -18, -14, -10,  -6,  -2],\n",
              "       [-43, -39, -35, -31, -27, -23, -19, -15, -11,  -7],\n",
              "       [-48, -44, -40, -36, -32, -28, -24, -20, -16, -12],\n",
              "       [-54, -50, -46, -42, -38, -34, -30, -26, -22, -18]], dtype=int32)>"
            ]
          },
          "metadata": {},
          "execution_count": 44
        }
      ]
    },
    {
      "cell_type": "code",
      "source": [
        "tf.squeeze(y_pred)"
      ],
      "metadata": {
        "colab": {
          "base_uri": "https://localhost:8080/"
        },
        "id": "AtF_dPDS3jjR",
        "outputId": "66e15b6f-38d9-4a2b-82d3-f39bb2146f41"
      },
      "execution_count": null,
      "outputs": [
        {
          "output_type": "execute_result",
          "data": {
            "text/plain": [
              "<tf.Tensor: shape=(10,), dtype=float32, numpy=\n",
              "array([ 78.21409 ,  83.31029 ,  88.40647 ,  93.502655,  98.598854,\n",
              "       103.695045, 108.791245, 113.88743 , 118.98362 , 124.07981 ],\n",
              "      dtype=float32)>"
            ]
          },
          "metadata": {},
          "execution_count": 45
        }
      ]
    },
    {
      "cell_type": "code",
      "source": [
        "#calculate mean absolute error\n",
        "mae = tf.metrics.mean_absolute_error(y_true = y_test,\n",
        "                                     y_pred = tf.squeeze(y_pred))\n",
        "mae"
      ],
      "metadata": {
        "colab": {
          "base_uri": "https://localhost:8080/"
        },
        "id": "8FFZKL-83rTu",
        "outputId": "3740c77c-8a4e-4cfa-dff3-fef1059df8dc"
      },
      "execution_count": null,
      "outputs": [
        {
          "output_type": "execute_result",
          "data": {
            "text/plain": [
              "<tf.Tensor: shape=(), dtype=float32, numpy=13.146952>"
            ]
          },
          "metadata": {},
          "execution_count": 46
        }
      ]
    },
    {
      "cell_type": "code",
      "source": [
        "# mean square error\n",
        "mse = tf.metrics.mean_squared_error(y_true=y_test,\n",
        "                                    y_pred=tf.squeeze(y_pred))\n",
        "mse"
      ],
      "metadata": {
        "colab": {
          "base_uri": "https://localhost:8080/"
        },
        "id": "FIKrJcup32AG",
        "outputId": "450a7437-5c8a-4bef-84ea-b241ed7b6103"
      },
      "execution_count": null,
      "outputs": [
        {
          "output_type": "execute_result",
          "data": {
            "text/plain": [
              "<tf.Tensor: shape=(), dtype=float32, numpy=182.7558>"
            ]
          },
          "metadata": {},
          "execution_count": 47
        }
      ]
    },
    {
      "cell_type": "code",
      "source": [
        "# make functions to reuse MAE and MSE\n",
        "\n",
        "def mae(y_true, y_pred):\n",
        " return tf.metrics.mean_absolute_error(y_true = y_test,\n",
        "                                     y_pred = tf.squeeze(y_pred))\n",
        "\n",
        "def mse(y_true, y_pred):\n",
        " return tf.metrics.mean_squared_error(y_true=y_test,\n",
        "                                    y_pred = tf.squeeze(y_pred))"
      ],
      "metadata": {
        "id": "ljTmXph84LYo"
      },
      "execution_count": null,
      "outputs": []
    },
    {
      "cell_type": "markdown",
      "source": [
        "build-fit-evaluate-tweak-fit-evaluate-tweak-fit-evaluate\n",
        "1. get more data\n",
        "2. make your model larger\n",
        "3. train for longer\n",
        "Lets do 3 modelling experiments\n",
        "1. 'model_1' = sme as the original, 1 layer, 100 epochs\n",
        "2. 'model_2' = 2 lyers, 100 epochs\n",
        "3. 'model_3' = 2 layers, 500 epochs"
      ],
      "metadata": {
        "id": "O4FTBFaN4xez"
      }
    },
    {
      "cell_type": "code",
      "source": [
        "# build model_1\n",
        "tf.random.set_seed(42)\n",
        "\n",
        "model_1=tf.keras.Sequential([\n",
        "    tf.keras.layers.Dense(1)\n",
        "])\n",
        "\n",
        "model_1.compile(loss=tf.keras.losses.mae,\n",
        "                optimizer=tf.keras.optimizers.SGD(),\n",
        "                metrics=\"mae\")\n",
        "model_1.fit(tf.expand_dims(x_train, axis=1), y_train, epochs=100)\n"
      ],
      "metadata": {
        "colab": {
          "base_uri": "https://localhost:8080/"
        },
        "id": "an_ht0235B4M",
        "outputId": "93367514-8687-4990-fa00-080df5686072"
      },
      "execution_count": null,
      "outputs": [
        {
          "output_type": "stream",
          "name": "stdout",
          "text": [
            "Epoch 1/100\n",
            "2/2 [==============================] - 1s 16ms/step - loss: 10.3496 - mae: 10.3496\n",
            "Epoch 2/100\n",
            "2/2 [==============================] - 0s 9ms/step - loss: 9.2129 - mae: 9.2129\n",
            "Epoch 3/100\n",
            "2/2 [==============================] - 0s 10ms/step - loss: 7.9501 - mae: 7.9501\n",
            "Epoch 4/100\n",
            "2/2 [==============================] - 0s 10ms/step - loss: 7.9246 - mae: 7.9246\n",
            "Epoch 5/100\n",
            "2/2 [==============================] - 0s 9ms/step - loss: 10.2366 - mae: 10.2366\n",
            "Epoch 6/100\n",
            "2/2 [==============================] - 0s 9ms/step - loss: 9.4898 - mae: 9.4898\n",
            "Epoch 7/100\n",
            "2/2 [==============================] - 0s 10ms/step - loss: 8.6190 - mae: 8.6190\n",
            "Epoch 8/100\n",
            "2/2 [==============================] - 0s 10ms/step - loss: 9.0409 - mae: 9.0409\n",
            "Epoch 9/100\n",
            "2/2 [==============================] - 0s 9ms/step - loss: 18.8879 - mae: 18.8879\n",
            "Epoch 10/100\n",
            "2/2 [==============================] - 0s 10ms/step - loss: 10.1845 - mae: 10.1845\n",
            "Epoch 11/100\n",
            "2/2 [==============================] - 0s 9ms/step - loss: 8.4207 - mae: 8.4207\n",
            "Epoch 12/100\n",
            "2/2 [==============================] - 0s 15ms/step - loss: 10.7186 - mae: 10.7186\n",
            "Epoch 13/100\n",
            "2/2 [==============================] - 0s 12ms/step - loss: 9.8147 - mae: 9.8147\n",
            "Epoch 14/100\n",
            "2/2 [==============================] - 0s 7ms/step - loss: 16.1564 - mae: 16.1564\n",
            "Epoch 15/100\n",
            "2/2 [==============================] - 0s 7ms/step - loss: 11.2826 - mae: 11.2826\n",
            "Epoch 16/100\n",
            "2/2 [==============================] - 0s 7ms/step - loss: 8.5673 - mae: 8.5673\n",
            "Epoch 17/100\n",
            "2/2 [==============================] - 0s 7ms/step - loss: 13.7079 - mae: 13.7079\n",
            "Epoch 18/100\n",
            "2/2 [==============================] - 0s 7ms/step - loss: 11.5563 - mae: 11.5563\n",
            "Epoch 19/100\n",
            "2/2 [==============================] - 0s 7ms/step - loss: 17.7869 - mae: 17.7869\n",
            "Epoch 20/100\n",
            "2/2 [==============================] - 0s 7ms/step - loss: 14.9225 - mae: 14.9225\n",
            "Epoch 21/100\n",
            "2/2 [==============================] - 0s 7ms/step - loss: 10.8102 - mae: 10.8102\n",
            "Epoch 22/100\n",
            "2/2 [==============================] - 0s 7ms/step - loss: 8.5574 - mae: 8.5574\n",
            "Epoch 23/100\n",
            "2/2 [==============================] - 0s 7ms/step - loss: 9.7260 - mae: 9.7260\n",
            "Epoch 24/100\n",
            "2/2 [==============================] - 0s 14ms/step - loss: 10.9198 - mae: 10.9198\n",
            "Epoch 25/100\n",
            "2/2 [==============================] - 0s 7ms/step - loss: 9.1395 - mae: 9.1395\n",
            "Epoch 26/100\n",
            "2/2 [==============================] - 0s 7ms/step - loss: 13.1558 - mae: 13.1558\n",
            "Epoch 27/100\n",
            "2/2 [==============================] - 0s 14ms/step - loss: 10.6358 - mae: 10.6358\n",
            "Epoch 28/100\n",
            "2/2 [==============================] - 0s 7ms/step - loss: 12.8449 - mae: 12.8449\n",
            "Epoch 29/100\n",
            "2/2 [==============================] - 0s 24ms/step - loss: 9.4941 - mae: 9.4941\n",
            "Epoch 30/100\n",
            "2/2 [==============================] - 0s 10ms/step - loss: 16.3529 - mae: 16.3529\n",
            "Epoch 31/100\n",
            "2/2 [==============================] - 0s 7ms/step - loss: 23.6248 - mae: 23.6248\n",
            "Epoch 32/100\n",
            "2/2 [==============================] - 0s 8ms/step - loss: 7.6075 - mae: 7.6075\n",
            "Epoch 33/100\n",
            "2/2 [==============================] - 0s 8ms/step - loss: 9.3075 - mae: 9.3075\n",
            "Epoch 34/100\n",
            "2/2 [==============================] - 0s 9ms/step - loss: 13.7098 - mae: 13.7098\n",
            "Epoch 35/100\n",
            "2/2 [==============================] - 0s 8ms/step - loss: 11.1243 - mae: 11.1243\n",
            "Epoch 36/100\n",
            "2/2 [==============================] - 0s 10ms/step - loss: 13.3286 - mae: 13.3286\n",
            "Epoch 37/100\n",
            "2/2 [==============================] - 0s 9ms/step - loss: 9.4597 - mae: 9.4597\n",
            "Epoch 38/100\n",
            "2/2 [==============================] - 0s 8ms/step - loss: 10.1185 - mae: 10.1185\n",
            "Epoch 39/100\n",
            "2/2 [==============================] - 0s 14ms/step - loss: 10.1760 - mae: 10.1760\n",
            "Epoch 40/100\n",
            "2/2 [==============================] - 0s 10ms/step - loss: 10.9143 - mae: 10.9143\n",
            "Epoch 41/100\n",
            "2/2 [==============================] - 0s 13ms/step - loss: 7.9034 - mae: 7.9034\n",
            "Epoch 42/100\n",
            "2/2 [==============================] - 0s 10ms/step - loss: 10.0733 - mae: 10.0733\n",
            "Epoch 43/100\n",
            "2/2 [==============================] - 0s 8ms/step - loss: 8.6865 - mae: 8.6865\n",
            "Epoch 44/100\n",
            "2/2 [==============================] - 0s 7ms/step - loss: 12.1831 - mae: 12.1831\n",
            "Epoch 45/100\n",
            "2/2 [==============================] - 0s 7ms/step - loss: 13.8006 - mae: 13.8006\n",
            "Epoch 46/100\n",
            "2/2 [==============================] - 0s 10ms/step - loss: 8.4660 - mae: 8.4660\n",
            "Epoch 47/100\n",
            "2/2 [==============================] - 0s 7ms/step - loss: 9.1164 - mae: 9.1164\n",
            "Epoch 48/100\n",
            "2/2 [==============================] - 0s 10ms/step - loss: 10.5990 - mae: 10.5990\n",
            "Epoch 49/100\n",
            "2/2 [==============================] - 0s 10ms/step - loss: 7.7348 - mae: 7.7348\n",
            "Epoch 50/100\n",
            "2/2 [==============================] - 0s 14ms/step - loss: 9.5220 - mae: 9.5220\n",
            "Epoch 51/100\n",
            "2/2 [==============================] - 0s 9ms/step - loss: 9.1457 - mae: 9.1457\n",
            "Epoch 52/100\n",
            "2/2 [==============================] - 0s 9ms/step - loss: 16.3427 - mae: 16.3427\n",
            "Epoch 53/100\n",
            "2/2 [==============================] - 0s 10ms/step - loss: 14.1289 - mae: 14.1289\n",
            "Epoch 54/100\n",
            "2/2 [==============================] - 0s 8ms/step - loss: 21.1376 - mae: 21.1376\n",
            "Epoch 55/100\n",
            "2/2 [==============================] - 0s 8ms/step - loss: 16.3752 - mae: 16.3752\n",
            "Epoch 56/100\n",
            "2/2 [==============================] - 0s 6ms/step - loss: 9.9840 - mae: 9.9840\n",
            "Epoch 57/100\n",
            "2/2 [==============================] - 0s 9ms/step - loss: 9.9423 - mae: 9.9423\n",
            "Epoch 58/100\n",
            "2/2 [==============================] - 0s 8ms/step - loss: 9.2032 - mae: 9.2032\n",
            "Epoch 59/100\n",
            "2/2 [==============================] - 0s 8ms/step - loss: 8.4078 - mae: 8.4078\n",
            "Epoch 60/100\n",
            "2/2 [==============================] - 0s 10ms/step - loss: 9.4708 - mae: 9.4708\n",
            "Epoch 61/100\n",
            "2/2 [==============================] - 0s 8ms/step - loss: 11.4138 - mae: 11.4138\n",
            "Epoch 62/100\n",
            "2/2 [==============================] - 0s 7ms/step - loss: 11.6912 - mae: 11.6912\n",
            "Epoch 63/100\n",
            "2/2 [==============================] - 0s 6ms/step - loss: 7.0684 - mae: 7.0684\n",
            "Epoch 64/100\n",
            "2/2 [==============================] - 0s 34ms/step - loss: 16.9728 - mae: 16.9728\n",
            "Epoch 65/100\n",
            "2/2 [==============================] - 0s 24ms/step - loss: 12.4601 - mae: 12.4601\n",
            "Epoch 66/100\n",
            "2/2 [==============================] - 0s 7ms/step - loss: 13.0218 - mae: 13.0218\n",
            "Epoch 67/100\n",
            "2/2 [==============================] - 0s 11ms/step - loss: 8.0535 - mae: 8.0535\n",
            "Epoch 68/100\n",
            "2/2 [==============================] - 0s 7ms/step - loss: 10.1864 - mae: 10.1864\n",
            "Epoch 69/100\n",
            "2/2 [==============================] - 0s 7ms/step - loss: 12.3673 - mae: 12.3673\n",
            "Epoch 70/100\n",
            "2/2 [==============================] - 0s 12ms/step - loss: 9.0340 - mae: 9.0340\n",
            "Epoch 71/100\n",
            "2/2 [==============================] - 0s 7ms/step - loss: 10.0198 - mae: 10.0198\n",
            "Epoch 72/100\n",
            "2/2 [==============================] - 0s 7ms/step - loss: 10.0353 - mae: 10.0353\n",
            "Epoch 73/100\n",
            "2/2 [==============================] - 0s 7ms/step - loss: 12.5935 - mae: 12.5935\n",
            "Epoch 74/100\n",
            "2/2 [==============================] - 0s 8ms/step - loss: 10.3849 - mae: 10.3849\n",
            "Epoch 75/100\n",
            "2/2 [==============================] - 0s 8ms/step - loss: 9.7062 - mae: 9.7062\n",
            "Epoch 76/100\n",
            "2/2 [==============================] - 0s 8ms/step - loss: 11.2055 - mae: 11.2055\n",
            "Epoch 77/100\n",
            "2/2 [==============================] - 0s 8ms/step - loss: 8.3485 - mae: 8.3485\n",
            "Epoch 78/100\n",
            "2/2 [==============================] - 0s 16ms/step - loss: 9.1058 - mae: 9.1058\n",
            "Epoch 79/100\n",
            "2/2 [==============================] - 0s 8ms/step - loss: 19.5155 - mae: 19.5155\n",
            "Epoch 80/100\n",
            "2/2 [==============================] - 0s 9ms/step - loss: 14.8735 - mae: 14.8735\n",
            "Epoch 81/100\n",
            "2/2 [==============================] - 0s 15ms/step - loss: 9.0083 - mae: 9.0083\n",
            "Epoch 82/100\n",
            "2/2 [==============================] - 0s 21ms/step - loss: 13.0010 - mae: 13.0010\n",
            "Epoch 83/100\n",
            "2/2 [==============================] - 0s 9ms/step - loss: 7.9112 - mae: 7.9112\n",
            "Epoch 84/100\n",
            "2/2 [==============================] - 0s 9ms/step - loss: 7.6802 - mae: 7.6802\n",
            "Epoch 85/100\n",
            "2/2 [==============================] - 0s 10ms/step - loss: 10.0319 - mae: 10.0319\n",
            "Epoch 86/100\n",
            "2/2 [==============================] - 0s 10ms/step - loss: 9.2391 - mae: 9.2391\n",
            "Epoch 87/100\n",
            "2/2 [==============================] - 0s 8ms/step - loss: 12.0232 - mae: 12.0232\n",
            "Epoch 88/100\n",
            "2/2 [==============================] - 0s 7ms/step - loss: 10.6407 - mae: 10.6407\n",
            "Epoch 89/100\n",
            "2/2 [==============================] - 0s 9ms/step - loss: 7.2564 - mae: 7.2564\n",
            "Epoch 90/100\n",
            "2/2 [==============================] - 0s 9ms/step - loss: 12.7820 - mae: 12.7820\n",
            "Epoch 91/100\n",
            "2/2 [==============================] - 0s 8ms/step - loss: 7.4632 - mae: 7.4632\n",
            "Epoch 92/100\n",
            "2/2 [==============================] - 0s 7ms/step - loss: 6.7428 - mae: 6.7428\n",
            "Epoch 93/100\n",
            "2/2 [==============================] - 0s 8ms/step - loss: 11.9321 - mae: 11.9321\n",
            "Epoch 94/100\n",
            "2/2 [==============================] - 0s 8ms/step - loss: 8.8650 - mae: 8.8650\n",
            "Epoch 95/100\n",
            "2/2 [==============================] - 0s 8ms/step - loss: 7.7054 - mae: 7.7054\n",
            "Epoch 96/100\n",
            "2/2 [==============================] - 0s 9ms/step - loss: 6.7387 - mae: 6.7387\n",
            "Epoch 97/100\n",
            "2/2 [==============================] - 0s 10ms/step - loss: 8.6148 - mae: 8.6148\n",
            "Epoch 98/100\n",
            "2/2 [==============================] - 0s 9ms/step - loss: 9.3870 - mae: 9.3870\n",
            "Epoch 99/100\n",
            "2/2 [==============================] - 0s 9ms/step - loss: 9.1221 - mae: 9.1221\n",
            "Epoch 100/100\n",
            "2/2 [==============================] - 0s 9ms/step - loss: 10.4808 - mae: 10.4808\n"
          ]
        },
        {
          "output_type": "execute_result",
          "data": {
            "text/plain": [
              "<keras.callbacks.History at 0x79aa65c0a6b0>"
            ]
          },
          "metadata": {},
          "execution_count": 49
        }
      ]
    },
    {
      "cell_type": "code",
      "source": [
        "# make and plot pred for model 1\n",
        "y_pred_1 = model_1.predict(x_test)\n",
        "plot_predictions(predictions=y_pred_1)"
      ],
      "metadata": {
        "colab": {
          "base_uri": "https://localhost:8080/",
          "height": 523
        },
        "id": "aIXklW8E6eK4",
        "outputId": "2aa48521-46a3-48e7-c231-61a02e1174a3"
      },
      "execution_count": null,
      "outputs": [
        {
          "output_type": "stream",
          "name": "stderr",
          "text": [
            "WARNING:tensorflow:5 out of the last 5 calls to <function Model.make_predict_function.<locals>.predict_function at 0x79aa65d38d30> triggered tf.function retracing. Tracing is expensive and the excessive number of tracings could be due to (1) creating @tf.function repeatedly in a loop, (2) passing tensors with different shapes, (3) passing Python objects instead of tensors. For (1), please define your @tf.function outside of the loop. For (2), @tf.function has reduce_retracing=True option that can avoid unnecessary retracing. For (3), please refer to https://www.tensorflow.org/guide/function#controlling_retracing and https://www.tensorflow.org/api_docs/python/tf/function for  more details.\n"
          ]
        },
        {
          "output_type": "stream",
          "name": "stdout",
          "text": [
            "1/1 [==============================] - 0s 70ms/step\n"
          ]
        },
        {
          "output_type": "display_data",
          "data": {
            "text/plain": [
              "<Figure size 1000x700 with 1 Axes>"
            ],
            "image/png": "[encoded data removed]"
          },
          "metadata": {}
        }
      ]
    },
    {
      "cell_type": "code",
      "source": [
        "# calculate model_1 evalutaion metrics\n",
        "\n",
        "mae_1 = mae(y_test, y_pred_1)\n",
        "mse_1 = mse(y_test, y_pred_1)\n",
        "mae_1, mse_1"
      ],
      "metadata": {
        "colab": {
          "base_uri": "https://localhost:8080/"
        },
        "id": "tSD35MgY6xex",
        "outputId": "0d7d815f-80d1-4468-f4fb-e85dc38e5e1a"
      },
      "execution_count": null,
      "outputs": [
        {
          "output_type": "execute_result",
          "data": {
            "text/plain": [
              "(<tf.Tensor: shape=(), dtype=float32, numpy=14.847224>,\n",
              " <tf.Tensor: shape=(), dtype=float32, numpy=221.26309>)"
            ]
          },
          "metadata": {},
          "execution_count": 51
        }
      ]
    },
    {
      "cell_type": "code",
      "source": [
        "# build model_2\n",
        "tf.random.set_seed(42)\n",
        "\n",
        "model_2 = tf.keras.Sequential([\n",
        "    tf.keras.layers.Dense(10),\n",
        "    tf.keras.layers.Dense(1)\n",
        "])\n",
        "\n",
        "model_2.compile(loss=tf.keras.losses.mae,\n",
        "                optimizer=tf.keras.optimizers.SGD(),\n",
        "                metrics=\"mse\")\n",
        "model_2.fit(tf.expand_dims(x_train, axis=1), y_train, epochs=100)"
      ],
      "metadata": {
        "colab": {
          "base_uri": "https://localhost:8080/"
        },
        "id": "Q5EH3rYP8a-5",
        "outputId": "b9cea72a-4e73-4950-8883-04ac56e93b0a"
      },
      "execution_count": null,
      "outputs": [
        {
          "output_type": "stream",
          "name": "stdout",
          "text": [
            "Epoch 1/100\n",
            "2/2 [==============================] - 1s 18ms/step - loss: 30.0581 - mse: 1288.6707\n",
            "Epoch 2/100\n",
            "2/2 [==============================] - 0s 7ms/step - loss: 26.0818 - mse: 874.6416\n",
            "Epoch 3/100\n",
            "2/2 [==============================] - 0s 7ms/step - loss: 30.9154 - mse: 1442.6324\n",
            "Epoch 4/100\n",
            "2/2 [==============================] - 0s 7ms/step - loss: 29.0804 - mse: 1259.1227\n",
            "Epoch 5/100\n",
            "2/2 [==============================] - 0s 7ms/step - loss: 15.7485 - mse: 325.0561\n",
            "Epoch 6/100\n",
            "2/2 [==============================] - 0s 6ms/step - loss: 12.4751 - mse: 200.9245\n",
            "Epoch 7/100\n",
            "2/2 [==============================] - 0s 7ms/step - loss: 11.7262 - mse: 169.2677\n",
            "Epoch 8/100\n",
            "2/2 [==============================] - 0s 6ms/step - loss: 10.7892 - mse: 126.7437\n",
            "Epoch 9/100\n",
            "2/2 [==============================] - 0s 7ms/step - loss: 36.4818 - mse: 2029.9606\n",
            "Epoch 10/100\n",
            "2/2 [==============================] - 0s 14ms/step - loss: 24.3076 - mse: 827.2737\n",
            "Epoch 11/100\n",
            "2/2 [==============================] - 0s 10ms/step - loss: 11.8088 - mse: 218.0388\n",
            "Epoch 12/100\n",
            "2/2 [==============================] - 0s 7ms/step - loss: 23.6022 - mse: 789.2469\n",
            "Epoch 13/100\n",
            "2/2 [==============================] - 0s 7ms/step - loss: 21.1516 - mse: 637.8279\n",
            "Epoch 14/100\n",
            "2/2 [==============================] - 0s 7ms/step - loss: 23.6037 - mse: 854.1599\n",
            "Epoch 15/100\n",
            "2/2 [==============================] - 0s 7ms/step - loss: 15.7050 - mse: 335.4810\n",
            "Epoch 16/100\n",
            "2/2 [==============================] - 0s 7ms/step - loss: 10.4164 - mse: 124.7559\n",
            "Epoch 17/100\n",
            "2/2 [==============================] - 0s 12ms/step - loss: 19.6176 - mse: 522.9574\n",
            "Epoch 18/100\n",
            "2/2 [==============================] - 0s 8ms/step - loss: 13.2619 - mse: 274.5774\n",
            "Epoch 19/100\n",
            "2/2 [==============================] - 0s 9ms/step - loss: 16.0182 - mse: 409.8779\n",
            "Epoch 20/100\n",
            "2/2 [==============================] - 0s 8ms/step - loss: 10.1928 - mse: 154.4341\n",
            "Epoch 21/100\n",
            "2/2 [==============================] - 0s 26ms/step - loss: 13.7308 - mse: 248.1473\n",
            "Epoch 22/100\n",
            "2/2 [==============================] - 0s 8ms/step - loss: 21.9141 - mse: 680.8529\n",
            "Epoch 23/100\n",
            "2/2 [==============================] - 0s 7ms/step - loss: 10.4654 - mse: 166.6538\n",
            "Epoch 24/100\n",
            "2/2 [==============================] - 0s 8ms/step - loss: 15.7630 - mse: 333.5827\n",
            "Epoch 25/100\n",
            "2/2 [==============================] - 0s 13ms/step - loss: 14.9121 - mse: 292.5992\n",
            "Epoch 26/100\n",
            "2/2 [==============================] - 0s 10ms/step - loss: 19.5487 - mse: 579.0166\n",
            "Epoch 27/100\n",
            "2/2 [==============================] - 0s 7ms/step - loss: 20.4864 - mse: 634.3353\n",
            "Epoch 28/100\n",
            "2/2 [==============================] - 0s 18ms/step - loss: 14.8710 - mse: 340.5579\n",
            "Epoch 29/100\n",
            "2/2 [==============================] - 0s 10ms/step - loss: 9.2676 - mse: 93.6081\n",
            "Epoch 30/100\n",
            "2/2 [==============================] - 0s 10ms/step - loss: 30.2151 - mse: 1665.2981\n",
            "Epoch 31/100\n",
            "2/2 [==============================] - 0s 12ms/step - loss: 54.8844 - mse: 5400.8252\n",
            "Epoch 32/100\n",
            "2/2 [==============================] - 0s 8ms/step - loss: 9.6729 - mse: 102.5140\n",
            "Epoch 33/100\n",
            "2/2 [==============================] - 0s 8ms/step - loss: 12.2779 - mse: 188.4630\n",
            "Epoch 34/100\n",
            "2/2 [==============================] - 0s 8ms/step - loss: 24.3192 - mse: 897.8929\n",
            "Epoch 35/100\n",
            "2/2 [==============================] - 0s 7ms/step - loss: 11.9786 - mse: 209.9256\n",
            "Epoch 36/100\n",
            "2/2 [==============================] - 0s 7ms/step - loss: 22.2560 - mse: 704.0751\n",
            "Epoch 37/100\n",
            "2/2 [==============================] - 0s 7ms/step - loss: 17.3125 - mse: 426.0690\n",
            "Epoch 38/100\n",
            "2/2 [==============================] - 0s 6ms/step - loss: 10.6476 - mse: 129.8704\n",
            "Epoch 39/100\n",
            "2/2 [==============================] - 0s 8ms/step - loss: 11.1629 - mse: 160.2660\n",
            "Epoch 40/100\n",
            "2/2 [==============================] - 0s 16ms/step - loss: 17.9007 - mse: 463.9572\n",
            "Epoch 41/100\n",
            "2/2 [==============================] - 0s 10ms/step - loss: 10.3691 - mse: 183.7267\n",
            "Epoch 42/100\n",
            "2/2 [==============================] - 0s 8ms/step - loss: 7.2813 - mse: 76.1615\n",
            "Epoch 43/100\n",
            "2/2 [==============================] - 0s 8ms/step - loss: 18.8629 - mse: 527.1910\n",
            "Epoch 44/100\n",
            "2/2 [==============================] - 0s 24ms/step - loss: 19.9969 - mse: 617.9689\n",
            "Epoch 45/100\n",
            "2/2 [==============================] - 0s 9ms/step - loss: 10.0922 - mse: 127.8227\n",
            "Epoch 46/100\n",
            "2/2 [==============================] - 0s 7ms/step - loss: 11.3344 - mse: 157.8945\n",
            "Epoch 47/100\n",
            "2/2 [==============================] - 0s 7ms/step - loss: 9.8447 - mse: 152.9277\n",
            "Epoch 48/100\n",
            "2/2 [==============================] - 0s 7ms/step - loss: 17.6617 - mse: 424.2414\n",
            "Epoch 49/100\n",
            "2/2 [==============================] - 0s 7ms/step - loss: 9.3044 - mse: 95.2312\n",
            "Epoch 50/100\n",
            "2/2 [==============================] - 0s 7ms/step - loss: 13.3248 - mse: 233.2590\n",
            "Epoch 51/100\n",
            "2/2 [==============================] - 0s 9ms/step - loss: 11.4171 - mse: 148.0879\n",
            "Epoch 52/100\n",
            "2/2 [==============================] - 0s 9ms/step - loss: 29.1090 - mse: 1461.2097\n",
            "Epoch 53/100\n",
            "2/2 [==============================] - 0s 8ms/step - loss: 14.3814 - mse: 303.7780\n",
            "Epoch 54/100\n",
            "2/2 [==============================] - 0s 8ms/step - loss: 24.0054 - mse: 862.3345\n",
            "Epoch 55/100\n",
            "2/2 [==============================] - 0s 8ms/step - loss: 23.2347 - mse: 808.6029\n",
            "Epoch 56/100\n",
            "2/2 [==============================] - 0s 10ms/step - loss: 10.9138 - mse: 171.3849\n",
            "Epoch 57/100\n",
            "2/2 [==============================] - 0s 13ms/step - loss: 12.7746 - mse: 199.5430\n",
            "Epoch 58/100\n",
            "2/2 [==============================] - 0s 13ms/step - loss: 9.6215 - mse: 102.9821\n",
            "Epoch 59/100\n",
            "2/2 [==============================] - 0s 9ms/step - loss: 12.5372 - mse: 216.8278\n",
            "Epoch 60/100\n",
            "2/2 [==============================] - 0s 7ms/step - loss: 12.3365 - mse: 208.9242\n",
            "Epoch 61/100\n",
            "2/2 [==============================] - 0s 10ms/step - loss: 12.7044 - mse: 211.8746\n",
            "Epoch 62/100\n",
            "2/2 [==============================] - 0s 7ms/step - loss: 21.1246 - mse: 680.5151\n",
            "Epoch 63/100\n",
            "2/2 [==============================] - 0s 6ms/step - loss: 8.9325 - mse: 88.7447\n",
            "Epoch 64/100\n",
            "2/2 [==============================] - 0s 10ms/step - loss: 17.1491 - mse: 425.3267\n",
            "Epoch 65/100\n",
            "2/2 [==============================] - 0s 12ms/step - loss: 10.3725 - mse: 125.1304\n",
            "Epoch 66/100\n",
            "2/2 [==============================] - 0s 7ms/step - loss: 20.5065 - mse: 615.7365\n",
            "Epoch 67/100\n",
            "2/2 [==============================] - 0s 14ms/step - loss: 10.3189 - mse: 122.5229\n",
            "Epoch 68/100\n",
            "2/2 [==============================] - 0s 11ms/step - loss: 13.5636 - mse: 273.4249\n",
            "Epoch 69/100\n",
            "2/2 [==============================] - 0s 17ms/step - loss: 11.4956 - mse: 166.2967\n",
            "Epoch 70/100\n",
            "2/2 [==============================] - 0s 16ms/step - loss: 14.1062 - mse: 270.9059\n",
            "Epoch 71/100\n",
            "2/2 [==============================] - 0s 34ms/step - loss: 15.6526 - mse: 348.0637\n",
            "Epoch 72/100\n",
            "2/2 [==============================] - 0s 24ms/step - loss: 11.8708 - mse: 168.9839\n",
            "Epoch 73/100\n",
            "2/2 [==============================] - 0s 24ms/step - loss: 16.6468 - mse: 373.3572\n",
            "Epoch 74/100\n",
            "2/2 [==============================] - 0s 11ms/step - loss: 24.1670 - mse: 919.3232\n",
            "Epoch 75/100\n",
            "2/2 [==============================] - 0s 20ms/step - loss: 9.6441 - mse: 149.3562\n",
            "Epoch 76/100\n",
            "2/2 [==============================] - 0s 17ms/step - loss: 12.4958 - mse: 190.1331\n",
            "Epoch 77/100\n",
            "2/2 [==============================] - 0s 13ms/step - loss: 16.7256 - mse: 433.6535\n",
            "Epoch 78/100\n",
            "2/2 [==============================] - 0s 10ms/step - loss: 9.0942 - mse: 96.6003\n",
            "Epoch 79/100\n",
            "2/2 [==============================] - 0s 14ms/step - loss: 24.0398 - mse: 870.1768\n",
            "Epoch 80/100\n",
            "2/2 [==============================] - 0s 12ms/step - loss: 26.8345 - mse: 1112.4786\n",
            "Epoch 81/100\n",
            "2/2 [==============================] - 0s 6ms/step - loss: 11.7326 - mse: 172.8380\n",
            "Epoch 82/100\n",
            "2/2 [==============================] - 0s 15ms/step - loss: 12.0115 - mse: 211.8992\n",
            "Epoch 83/100\n",
            "2/2 [==============================] - 0s 7ms/step - loss: 17.4079 - mse: 394.7522\n",
            "Epoch 84/100\n",
            "2/2 [==============================] - 0s 15ms/step - loss: 7.2804 - mse: 73.5055\n",
            "Epoch 85/100\n",
            "2/2 [==============================] - 0s 7ms/step - loss: 14.9626 - mse: 312.6802\n",
            "Epoch 86/100\n",
            "2/2 [==============================] - 0s 10ms/step - loss: 15.2875 - mse: 315.5347\n",
            "Epoch 87/100\n",
            "2/2 [==============================] - 0s 8ms/step - loss: 19.1028 - mse: 520.9526\n",
            "Epoch 88/100\n",
            "2/2 [==============================] - 0s 25ms/step - loss: 29.8462 - mse: 1289.3564\n",
            "Epoch 89/100\n",
            "2/2 [==============================] - 0s 11ms/step - loss: 10.1987 - mse: 124.5609\n",
            "Epoch 90/100\n",
            "2/2 [==============================] - 0s 27ms/step - loss: 21.5319 - mse: 664.4449\n",
            "Epoch 91/100\n",
            "2/2 [==============================] - 0s 9ms/step - loss: 10.5925 - mse: 162.1884\n",
            "Epoch 92/100\n",
            "2/2 [==============================] - 0s 9ms/step - loss: 18.3973 - mse: 464.0481\n",
            "Epoch 93/100\n",
            "2/2 [==============================] - 0s 13ms/step - loss: 7.4315 - mse: 82.4254\n",
            "Epoch 94/100\n",
            "2/2 [==============================] - 0s 11ms/step - loss: 17.7291 - mse: 445.2388\n",
            "Epoch 95/100\n",
            "2/2 [==============================] - 0s 10ms/step - loss: 11.1259 - mse: 163.9838\n",
            "Epoch 96/100\n",
            "2/2 [==============================] - 0s 12ms/step - loss: 19.4214 - mse: 509.7992\n",
            "Epoch 97/100\n",
            "2/2 [==============================] - 0s 17ms/step - loss: 12.1642 - mse: 209.4695\n",
            "Epoch 98/100\n",
            "2/2 [==============================] - 0s 12ms/step - loss: 11.5699 - mse: 169.1732\n",
            "Epoch 99/100\n",
            "2/2 [==============================] - 0s 10ms/step - loss: 13.8688 - mse: 264.5476\n",
            "Epoch 100/100\n",
            "2/2 [==============================] - 0s 14ms/step - loss: 20.1804 - mse: 605.8083\n"
          ]
        },
        {
          "output_type": "execute_result",
          "data": {
            "text/plain": [
              "<keras.callbacks.History at 0x79aa65b5eef0>"
            ]
          },
          "metadata": {},
          "execution_count": 52
        }
      ]
    },
    {
      "cell_type": "code",
      "source": [
        "y_pred_2 = model_2.predict(x_test)\n",
        "plot_predictions(predictions=y_pred_2)"
      ],
      "metadata": {
        "colab": {
          "base_uri": "https://localhost:8080/",
          "height": 518
        },
        "id": "IOZYb0mH9fPX",
        "outputId": "eda5ae58-15c6-4abf-e9ad-4e06e225b848"
      },
      "execution_count": null,
      "outputs": [
        {
          "output_type": "stream",
          "name": "stderr",
          "text": [
            "WARNING:tensorflow:6 out of the last 6 calls to <function Model.make_predict_function.<locals>.predict_function at 0x79aa65b12d40> triggered tf.function retracing. Tracing is expensive and the excessive number of tracings could be due to (1) creating @tf.function repeatedly in a loop, (2) passing tensors with different shapes, (3) passing Python objects instead of tensors. For (1), please define your @tf.function outside of the loop. For (2), @tf.function has reduce_retracing=True option that can avoid unnecessary retracing. For (3), please refer to https://www.tensorflow.org/guide/function#controlling_retracing and https://www.tensorflow.org/api_docs/python/tf/function for  more details.\n"
          ]
        },
        {
          "output_type": "stream",
          "name": "stdout",
          "text": [
            "1/1 [==============================] - 0s 222ms/step\n"
          ]
        },
        {
          "output_type": "display_data",
          "data": {
            "text/plain": [
              "<Figure size 1000x700 with 1 Axes>"
            ],
            "image/png": "[encoded data removed]"
          },
          "metadata": {}
        }
      ]
    },
    {
      "cell_type": "code",
      "source": [
        "mae_2 = mae(y_test, y_pred_2)\n",
        "mse_2 = mse(y_test, y_pred_2)\n",
        "mae_2, mse_2"
      ],
      "metadata": {
        "colab": {
          "base_uri": "https://localhost:8080/"
        },
        "id": "UA_UeZAl9qGM",
        "outputId": "f48ec1aa-27d8-4b08-97d9-7c0e723475aa"
      },
      "execution_count": null,
      "outputs": [
        {
          "output_type": "execute_result",
          "data": {
            "text/plain": [
              "(<tf.Tensor: shape=(), dtype=float32, numpy=3.0104835>,\n",
              " <tf.Tensor: shape=(), dtype=float32, numpy=11.83552>)"
            ]
          },
          "metadata": {},
          "execution_count": 54
        }
      ]
    },
    {
      "cell_type": "code",
      "source": [
        "# build model 3\n",
        "\n",
        "tf.random.set_seed(42)\n",
        "\n",
        "model_3 = tf.keras.Sequential([\n",
        "    tf.keras.layers.Dense(10),\n",
        "    tf.keras.layers.Dense(1)\n",
        "])\n",
        "\n",
        "model_3.compile(loss=tf.keras.losses.mae,\n",
        "                optimizer=tf.keras.optimizers.SGD(),\n",
        "                metrics=[\"mae\"])\n",
        "model_3.fit(tf.expand_dims(x_train, axis=1), y_train, epochs=500)"
      ],
      "metadata": {
        "colab": {
          "base_uri": "https://localhost:8080/"
        },
        "id": "3CD9gXvg96LU",
        "outputId": "f1276f1b-151a-4810-b706-ced7d48c4c59"
      },
      "execution_count": null,
      "outputs": [
        {
          "output_type": "stream",
          "name": "stdout",
          "text": [
            "Epoch 1/500\n",
            "2/2 [==============================] - 1s 16ms/step - loss: 15.0137 - mae: 15.0137\n",
            "Epoch 2/500\n",
            "2/2 [==============================] - 0s 8ms/step - loss: 26.5428 - mae: 26.5428\n",
            "Epoch 3/500\n",
            "2/2 [==============================] - 0s 10ms/step - loss: 30.9873 - mae: 30.9873\n",
            "Epoch 4/500\n",
            "2/2 [==============================] - 0s 7ms/step - loss: 21.0972 - mae: 21.0972\n",
            "Epoch 5/500\n",
            "2/2 [==============================] - 0s 11ms/step - loss: 14.1347 - mae: 14.1347\n",
            "Epoch 6/500\n",
            "2/2 [==============================] - 0s 11ms/step - loss: 11.3366 - mae: 11.3366\n",
            "Epoch 7/500\n",
            "2/2 [==============================] - 0s 10ms/step - loss: 12.3844 - mae: 12.3844\n",
            "Epoch 8/500\n",
            "2/2 [==============================] - 0s 19ms/step - loss: 10.9707 - mae: 10.9707\n",
            "Epoch 9/500\n",
            "2/2 [==============================] - 0s 9ms/step - loss: 38.9866 - mae: 38.9866\n",
            "Epoch 10/500\n",
            "2/2 [==============================] - 0s 30ms/step - loss: 26.5761 - mae: 26.5761\n",
            "Epoch 11/500\n",
            "2/2 [==============================] - 0s 10ms/step - loss: 11.7930 - mae: 11.7930\n",
            "Epoch 12/500\n",
            "2/2 [==============================] - 0s 9ms/step - loss: 23.5937 - mae: 23.5937\n",
            "Epoch 13/500\n",
            "2/2 [==============================] - 0s 7ms/step - loss: 21.2054 - mae: 21.2054\n",
            "Epoch 14/500\n",
            "2/2 [==============================] - 0s 7ms/step - loss: 23.6785 - mae: 23.6785\n",
            "Epoch 15/500\n",
            "2/2 [==============================] - 0s 7ms/step - loss: 15.7486 - mae: 15.7486\n",
            "Epoch 16/500\n",
            "2/2 [==============================] - 0s 7ms/step - loss: 10.4219 - mae: 10.4219\n",
            "Epoch 17/500\n",
            "2/2 [==============================] - 0s 7ms/step - loss: 19.6778 - mae: 19.6778\n",
            "Epoch 18/500\n",
            "2/2 [==============================] - 0s 7ms/step - loss: 13.3142 - mae: 13.3142\n",
            "Epoch 19/500\n",
            "2/2 [==============================] - 0s 19ms/step - loss: 16.3079 - mae: 16.3079\n",
            "Epoch 20/500\n",
            "2/2 [==============================] - 0s 16ms/step - loss: 8.2438 - mae: 8.2438\n",
            "Epoch 21/500\n",
            "2/2 [==============================] - 0s 10ms/step - loss: 14.4737 - mae: 14.4737\n",
            "Epoch 22/500\n",
            "2/2 [==============================] - 0s 11ms/step - loss: 12.8959 - mae: 12.8959\n",
            "Epoch 23/500\n",
            "2/2 [==============================] - 0s 9ms/step - loss: 15.5211 - mae: 15.5211\n",
            "Epoch 24/500\n",
            "2/2 [==============================] - 0s 7ms/step - loss: 15.3124 - mae: 15.3124\n",
            "Epoch 25/500\n",
            "2/2 [==============================] - 0s 9ms/step - loss: 14.3642 - mae: 14.3642\n",
            "Epoch 26/500\n",
            "2/2 [==============================] - 0s 7ms/step - loss: 19.3979 - mae: 19.3979\n",
            "Epoch 27/500\n",
            "2/2 [==============================] - 0s 11ms/step - loss: 11.4115 - mae: 11.4115\n",
            "Epoch 28/500\n",
            "2/2 [==============================] - 0s 10ms/step - loss: 28.9260 - mae: 28.9260\n",
            "Epoch 29/500\n",
            "2/2 [==============================] - 0s 8ms/step - loss: 9.2384 - mae: 9.2384\n",
            "Epoch 30/500\n",
            "2/2 [==============================] - 0s 9ms/step - loss: 29.7052 - mae: 29.7052\n",
            "Epoch 31/500\n",
            "2/2 [==============================] - 0s 12ms/step - loss: 53.8808 - mae: 53.8808\n",
            "Epoch 32/500\n",
            "2/2 [==============================] - 0s 10ms/step - loss: 9.5279 - mae: 9.5279\n",
            "Epoch 33/500\n",
            "2/2 [==============================] - 0s 8ms/step - loss: 12.1156 - mae: 12.1156\n",
            "Epoch 34/500\n",
            "2/2 [==============================] - 0s 8ms/step - loss: 23.7612 - mae: 23.7612\n",
            "Epoch 35/500\n",
            "2/2 [==============================] - 0s 8ms/step - loss: 12.6336 - mae: 12.6336\n",
            "Epoch 36/500\n",
            "2/2 [==============================] - 0s 9ms/step - loss: 21.5742 - mae: 21.5742\n",
            "Epoch 37/500\n",
            "2/2 [==============================] - 0s 8ms/step - loss: 11.3289 - mae: 11.3289\n",
            "Epoch 38/500\n",
            "2/2 [==============================] - 0s 9ms/step - loss: 13.3934 - mae: 13.3934\n",
            "Epoch 39/500\n",
            "2/2 [==============================] - 0s 9ms/step - loss: 10.7491 - mae: 10.7491\n",
            "Epoch 40/500\n",
            "2/2 [==============================] - 0s 11ms/step - loss: 16.5121 - mae: 16.5121\n",
            "Epoch 41/500\n",
            "2/2 [==============================] - 0s 10ms/step - loss: 10.9228 - mae: 10.9228\n",
            "Epoch 42/500\n",
            "2/2 [==============================] - 0s 10ms/step - loss: 9.2630 - mae: 9.2630\n",
            "Epoch 43/500\n",
            "2/2 [==============================] - 0s 28ms/step - loss: 9.5746 - mae: 9.5746\n",
            "Epoch 44/500\n",
            "2/2 [==============================] - 0s 13ms/step - loss: 27.9050 - mae: 27.9050\n",
            "Epoch 45/500\n",
            "2/2 [==============================] - 0s 14ms/step - loss: 11.2501 - mae: 11.2501\n",
            "Epoch 46/500\n",
            "2/2 [==============================] - 0s 11ms/step - loss: 13.8512 - mae: 13.8512\n",
            "Epoch 47/500\n",
            "2/2 [==============================] - 0s 9ms/step - loss: 11.9141 - mae: 11.9141\n",
            "Epoch 48/500\n",
            "2/2 [==============================] - 0s 7ms/step - loss: 16.9453 - mae: 16.9453\n",
            "Epoch 49/500\n",
            "2/2 [==============================] - 0s 7ms/step - loss: 9.7681 - mae: 9.7681\n",
            "Epoch 50/500\n",
            "2/2 [==============================] - 0s 16ms/step - loss: 14.1662 - mae: 14.1662\n",
            "Epoch 51/500\n",
            "2/2 [==============================] - 0s 10ms/step - loss: 11.7296 - mae: 11.7296\n",
            "Epoch 52/500\n",
            "2/2 [==============================] - 0s 11ms/step - loss: 31.4328 - mae: 31.4328\n",
            "Epoch 53/500\n",
            "2/2 [==============================] - 0s 9ms/step - loss: 14.7392 - mae: 14.7392\n",
            "Epoch 54/500\n",
            "2/2 [==============================] - 0s 11ms/step - loss: 24.6492 - mae: 24.6492\n",
            "Epoch 55/500\n",
            "2/2 [==============================] - 0s 9ms/step - loss: 23.9335 - mae: 23.9335\n",
            "Epoch 56/500\n",
            "2/2 [==============================] - 0s 7ms/step - loss: 11.1227 - mae: 11.1227\n",
            "Epoch 57/500\n",
            "2/2 [==============================] - 0s 7ms/step - loss: 13.0700 - mae: 13.0700\n",
            "Epoch 58/500\n",
            "2/2 [==============================] - 0s 7ms/step - loss: 9.7838 - mae: 9.7838\n",
            "Epoch 59/500\n",
            "2/2 [==============================] - 0s 8ms/step - loss: 13.2616 - mae: 13.2616\n",
            "Epoch 60/500\n",
            "2/2 [==============================] - 0s 9ms/step - loss: 10.8423 - mae: 10.8423\n",
            "Epoch 61/500\n",
            "2/2 [==============================] - 0s 10ms/step - loss: 13.4390 - mae: 13.4390\n",
            "Epoch 62/500\n",
            "2/2 [==============================] - 0s 8ms/step - loss: 17.4528 - mae: 17.4528\n",
            "Epoch 63/500\n",
            "2/2 [==============================] - 0s 16ms/step - loss: 9.1424 - mae: 9.1424\n",
            "Epoch 64/500\n",
            "2/2 [==============================] - 0s 9ms/step - loss: 18.3312 - mae: 18.3312\n",
            "Epoch 65/500\n",
            "2/2 [==============================] - 0s 10ms/step - loss: 10.0991 - mae: 10.0991\n",
            "Epoch 66/500\n",
            "2/2 [==============================] - 0s 14ms/step - loss: 24.1940 - mae: 24.1940\n",
            "Epoch 67/500\n",
            "2/2 [==============================] - 0s 10ms/step - loss: 10.8637 - mae: 10.8637\n",
            "Epoch 68/500\n",
            "2/2 [==============================] - 0s 16ms/step - loss: 10.7515 - mae: 10.7515\n",
            "Epoch 69/500\n",
            "2/2 [==============================] - 0s 11ms/step - loss: 23.1944 - mae: 23.1944\n",
            "Epoch 70/500\n",
            "2/2 [==============================] - 0s 7ms/step - loss: 8.8198 - mae: 8.8198\n",
            "Epoch 71/500\n",
            "2/2 [==============================] - 0s 7ms/step - loss: 16.0310 - mae: 16.0310\n",
            "Epoch 72/500\n",
            "2/2 [==============================] - 0s 18ms/step - loss: 7.7346 - mae: 7.7346\n",
            "Epoch 73/500\n",
            "2/2 [==============================] - 0s 7ms/step - loss: 10.1487 - mae: 10.1487\n",
            "Epoch 74/500\n",
            "2/2 [==============================] - 0s 7ms/step - loss: 28.3091 - mae: 28.3091\n",
            "Epoch 75/500\n",
            "2/2 [==============================] - 0s 7ms/step - loss: 10.0257 - mae: 10.0257\n",
            "Epoch 76/500\n",
            "2/2 [==============================] - 0s 8ms/step - loss: 12.9473 - mae: 12.9473\n",
            "Epoch 77/500\n",
            "2/2 [==============================] - 0s 8ms/step - loss: 17.9625 - mae: 17.9625\n",
            "Epoch 78/500\n",
            "2/2 [==============================] - 0s 8ms/step - loss: 8.9624 - mae: 8.9624\n",
            "Epoch 79/500\n",
            "2/2 [==============================] - 0s 9ms/step - loss: 28.8207 - mae: 28.8207\n",
            "Epoch 80/500\n",
            "2/2 [==============================] - 0s 7ms/step - loss: 31.1755 - mae: 31.1755\n",
            "Epoch 81/500\n",
            "2/2 [==============================] - 0s 8ms/step - loss: 13.5891 - mae: 13.5891\n",
            "Epoch 82/500\n",
            "2/2 [==============================] - 0s 8ms/step - loss: 15.8552 - mae: 15.8552\n",
            "Epoch 83/500\n",
            "2/2 [==============================] - 0s 7ms/step - loss: 9.1412 - mae: 9.1412\n",
            "Epoch 84/500\n",
            "2/2 [==============================] - 0s 9ms/step - loss: 8.2013 - mae: 8.2013\n",
            "Epoch 85/500\n",
            "2/2 [==============================] - 0s 18ms/step - loss: 18.8626 - mae: 18.8626\n",
            "Epoch 86/500\n",
            "2/2 [==============================] - 0s 7ms/step - loss: 22.0051 - mae: 22.0051\n",
            "Epoch 87/500\n",
            "2/2 [==============================] - 0s 9ms/step - loss: 11.2183 - mae: 11.2183\n",
            "Epoch 88/500\n",
            "2/2 [==============================] - 0s 12ms/step - loss: 25.9725 - mae: 25.9725\n",
            "Epoch 89/500\n",
            "2/2 [==============================] - 0s 11ms/step - loss: 9.5261 - mae: 9.5261\n",
            "Epoch 90/500\n",
            "2/2 [==============================] - 0s 16ms/step - loss: 18.2783 - mae: 18.2783\n",
            "Epoch 91/500\n",
            "2/2 [==============================] - 0s 6ms/step - loss: 10.3330 - mae: 10.3330\n",
            "Epoch 92/500\n",
            "2/2 [==============================] - 0s 10ms/step - loss: 17.5326 - mae: 17.5326\n",
            "Epoch 93/500\n",
            "2/2 [==============================] - 0s 9ms/step - loss: 6.8273 - mae: 6.8273\n",
            "Epoch 94/500\n",
            "2/2 [==============================] - 0s 8ms/step - loss: 17.6444 - mae: 17.6444\n",
            "Epoch 95/500\n",
            "2/2 [==============================] - 0s 13ms/step - loss: 17.3551 - mae: 17.3551\n",
            "Epoch 96/500\n",
            "2/2 [==============================] - 0s 14ms/step - loss: 11.5262 - mae: 11.5262\n",
            "Epoch 97/500\n",
            "2/2 [==============================] - 0s 7ms/step - loss: 18.2918 - mae: 18.2918\n",
            "Epoch 98/500\n",
            "2/2 [==============================] - 0s 24ms/step - loss: 9.7436 - mae: 9.7436\n",
            "Epoch 99/500\n",
            "2/2 [==============================] - 0s 13ms/step - loss: 16.9293 - mae: 16.9293\n",
            "Epoch 100/500\n",
            "2/2 [==============================] - 0s 13ms/step - loss: 17.7984 - mae: 17.7984\n",
            "Epoch 101/500\n",
            "2/2 [==============================] - 0s 9ms/step - loss: 16.4645 - mae: 16.4645\n",
            "Epoch 102/500\n",
            "2/2 [==============================] - 0s 8ms/step - loss: 12.9074 - mae: 12.9074\n",
            "Epoch 103/500\n",
            "2/2 [==============================] - 0s 14ms/step - loss: 16.0664 - mae: 16.0664\n",
            "Epoch 104/500\n",
            "2/2 [==============================] - 0s 8ms/step - loss: 22.2319 - mae: 22.2319\n",
            "Epoch 105/500\n",
            "2/2 [==============================] - 0s 8ms/step - loss: 20.3801 - mae: 20.3801\n",
            "Epoch 106/500\n",
            "2/2 [==============================] - 0s 15ms/step - loss: 10.0992 - mae: 10.0992\n",
            "Epoch 107/500\n",
            "2/2 [==============================] - 0s 6ms/step - loss: 24.7556 - mae: 24.7556\n",
            "Epoch 108/500\n",
            "2/2 [==============================] - 0s 8ms/step - loss: 15.2174 - mae: 15.2174\n",
            "Epoch 109/500\n",
            "2/2 [==============================] - 0s 7ms/step - loss: 7.0779 - mae: 7.0779\n",
            "Epoch 110/500\n",
            "2/2 [==============================] - 0s 15ms/step - loss: 10.9697 - mae: 10.9697\n",
            "Epoch 111/500\n",
            "2/2 [==============================] - 0s 14ms/step - loss: 17.8544 - mae: 17.8544\n",
            "Epoch 112/500\n",
            "2/2 [==============================] - 0s 14ms/step - loss: 9.2760 - mae: 9.2760\n",
            "Epoch 113/500\n",
            "2/2 [==============================] - 0s 7ms/step - loss: 16.4233 - mae: 16.4233\n",
            "Epoch 114/500\n",
            "2/2 [==============================] - 0s 18ms/step - loss: 17.8617 - mae: 17.8617\n",
            "Epoch 115/500\n",
            "2/2 [==============================] - 0s 8ms/step - loss: 10.7349 - mae: 10.7349\n",
            "Epoch 116/500\n",
            "2/2 [==============================] - 0s 19ms/step - loss: 21.7324 - mae: 21.7324\n",
            "Epoch 117/500\n",
            "2/2 [==============================] - 0s 18ms/step - loss: 9.1474 - mae: 9.1474\n",
            "Epoch 118/500\n",
            "2/2 [==============================] - 0s 18ms/step - loss: 10.1373 - mae: 10.1373\n",
            "Epoch 119/500\n",
            "2/2 [==============================] - 0s 11ms/step - loss: 8.0418 - mae: 8.0418\n",
            "Epoch 120/500\n",
            "2/2 [==============================] - 0s 13ms/step - loss: 46.0314 - mae: 46.0314\n",
            "Epoch 121/500\n",
            "2/2 [==============================] - 0s 8ms/step - loss: 11.5194 - mae: 11.5194\n",
            "Epoch 122/500\n",
            "2/2 [==============================] - 0s 8ms/step - loss: 25.8457 - mae: 25.8457\n",
            "Epoch 123/500\n",
            "2/2 [==============================] - 0s 10ms/step - loss: 29.8571 - mae: 29.8571\n",
            "Epoch 124/500\n",
            "2/2 [==============================] - 0s 7ms/step - loss: 17.2070 - mae: 17.2070\n",
            "Epoch 125/500\n",
            "2/2 [==============================] - 0s 12ms/step - loss: 6.4534 - mae: 6.4534\n",
            "Epoch 126/500\n",
            "2/2 [==============================] - 0s 12ms/step - loss: 26.6205 - mae: 26.6205\n",
            "Epoch 127/500\n",
            "2/2 [==============================] - 0s 10ms/step - loss: 8.5881 - mae: 8.5881\n",
            "Epoch 128/500\n",
            "2/2 [==============================] - 0s 8ms/step - loss: 13.7497 - mae: 13.7497\n",
            "Epoch 129/500\n",
            "2/2 [==============================] - 0s 21ms/step - loss: 10.8836 - mae: 10.8836\n",
            "Epoch 130/500\n",
            "2/2 [==============================] - 0s 7ms/step - loss: 15.3823 - mae: 15.3823\n",
            "Epoch 131/500\n",
            "2/2 [==============================] - 0s 7ms/step - loss: 8.8697 - mae: 8.8697\n",
            "Epoch 132/500\n",
            "2/2 [==============================] - 0s 14ms/step - loss: 14.8813 - mae: 14.8813\n",
            "Epoch 133/500\n",
            "2/2 [==============================] - 0s 9ms/step - loss: 7.9529 - mae: 7.9529\n",
            "Epoch 134/500\n",
            "2/2 [==============================] - 0s 7ms/step - loss: 22.4361 - mae: 22.4361\n",
            "Epoch 135/500\n",
            "2/2 [==============================] - 0s 11ms/step - loss: 20.0177 - mae: 20.0177\n",
            "Epoch 136/500\n",
            "2/2 [==============================] - 0s 22ms/step - loss: 13.8798 - mae: 13.8798\n",
            "Epoch 137/500\n",
            "2/2 [==============================] - 0s 15ms/step - loss: 25.4575 - mae: 25.4575\n",
            "Epoch 138/500\n",
            "2/2 [==============================] - 0s 9ms/step - loss: 10.0579 - mae: 10.0579\n",
            "Epoch 139/500\n",
            "2/2 [==============================] - 0s 9ms/step - loss: 9.5049 - mae: 9.5049\n",
            "Epoch 140/500\n",
            "2/2 [==============================] - 0s 8ms/step - loss: 18.6680 - mae: 18.6680\n",
            "Epoch 141/500\n",
            "2/2 [==============================] - 0s 9ms/step - loss: 8.3244 - mae: 8.3244\n",
            "Epoch 142/500\n",
            "2/2 [==============================] - 0s 9ms/step - loss: 33.4096 - mae: 33.4096\n",
            "Epoch 143/500\n",
            "2/2 [==============================] - 0s 12ms/step - loss: 23.5021 - mae: 23.5021\n",
            "Epoch 144/500\n",
            "2/2 [==============================] - 0s 9ms/step - loss: 10.4730 - mae: 10.4730\n",
            "Epoch 145/500\n",
            "2/2 [==============================] - 0s 10ms/step - loss: 25.7865 - mae: 25.7865\n",
            "Epoch 146/500\n",
            "2/2 [==============================] - 0s 10ms/step - loss: 10.0312 - mae: 10.0312\n",
            "Epoch 147/500\n",
            "2/2 [==============================] - 0s 21ms/step - loss: 14.6900 - mae: 14.6900\n",
            "Epoch 148/500\n",
            "2/2 [==============================] - 0s 15ms/step - loss: 17.7835 - mae: 17.7835\n",
            "Epoch 149/500\n",
            "2/2 [==============================] - 0s 14ms/step - loss: 8.5109 - mae: 8.5109\n",
            "Epoch 150/500\n",
            "2/2 [==============================] - 0s 17ms/step - loss: 7.6454 - mae: 7.6454\n",
            "Epoch 151/500\n",
            "2/2 [==============================] - 0s 13ms/step - loss: 18.9863 - mae: 18.9863\n",
            "Epoch 152/500\n",
            "2/2 [==============================] - 0s 16ms/step - loss: 10.5045 - mae: 10.5045\n",
            "Epoch 153/500\n",
            "2/2 [==============================] - 0s 15ms/step - loss: 30.5956 - mae: 30.5956\n",
            "Epoch 154/500\n",
            "2/2 [==============================] - 0s 23ms/step - loss: 9.9565 - mae: 9.9565\n",
            "Epoch 155/500\n",
            "2/2 [==============================] - 0s 17ms/step - loss: 15.7058 - mae: 15.7058\n",
            "Epoch 156/500\n",
            "2/2 [==============================] - 0s 8ms/step - loss: 17.5717 - mae: 17.5717\n",
            "Epoch 157/500\n",
            "2/2 [==============================] - 0s 16ms/step - loss: 31.3729 - mae: 31.3729\n",
            "Epoch 158/500\n",
            "2/2 [==============================] - 0s 10ms/step - loss: 10.2969 - mae: 10.2969\n",
            "Epoch 159/500\n",
            "2/2 [==============================] - 0s 9ms/step - loss: 8.7304 - mae: 8.7304\n",
            "Epoch 160/500\n",
            "2/2 [==============================] - 0s 21ms/step - loss: 20.9318 - mae: 20.9318\n",
            "Epoch 161/500\n",
            "2/2 [==============================] - 0s 9ms/step - loss: 11.8954 - mae: 11.8954\n",
            "Epoch 162/500\n",
            "2/2 [==============================] - 0s 11ms/step - loss: 21.9139 - mae: 21.9139\n",
            "Epoch 163/500\n",
            "2/2 [==============================] - 0s 9ms/step - loss: 19.5787 - mae: 19.5787\n",
            "Epoch 164/500\n",
            "2/2 [==============================] - 0s 9ms/step - loss: 11.4672 - mae: 11.4672\n",
            "Epoch 165/500\n",
            "2/2 [==============================] - 0s 7ms/step - loss: 11.6030 - mae: 11.6030\n",
            "Epoch 166/500\n",
            "2/2 [==============================] - 0s 9ms/step - loss: 21.3327 - mae: 21.3327\n",
            "Epoch 167/500\n",
            "2/2 [==============================] - 0s 25ms/step - loss: 26.9478 - mae: 26.9478\n",
            "Epoch 168/500\n",
            "2/2 [==============================] - 0s 10ms/step - loss: 10.0328 - mae: 10.0328\n",
            "Epoch 169/500\n",
            "2/2 [==============================] - 0s 13ms/step - loss: 23.1858 - mae: 23.1858\n",
            "Epoch 170/500\n",
            "2/2 [==============================] - 0s 9ms/step - loss: 9.5942 - mae: 9.5942\n",
            "Epoch 171/500\n",
            "2/2 [==============================] - 0s 17ms/step - loss: 15.8481 - mae: 15.8481\n",
            "Epoch 172/500\n",
            "2/2 [==============================] - 0s 13ms/step - loss: 13.8874 - mae: 13.8874\n",
            "Epoch 173/500\n",
            "2/2 [==============================] - 0s 28ms/step - loss: 22.5716 - mae: 22.5716\n",
            "Epoch 174/500\n",
            "2/2 [==============================] - 0s 11ms/step - loss: 11.3787 - mae: 11.3787\n",
            "Epoch 175/500\n",
            "2/2 [==============================] - 0s 8ms/step - loss: 20.1156 - mae: 20.1156\n",
            "Epoch 176/500\n",
            "2/2 [==============================] - 0s 9ms/step - loss: 7.4361 - mae: 7.4361\n",
            "Epoch 177/500\n",
            "2/2 [==============================] - 0s 9ms/step - loss: 8.6225 - mae: 8.6225\n",
            "Epoch 178/500\n",
            "2/2 [==============================] - 0s 14ms/step - loss: 15.5170 - mae: 15.5170\n",
            "Epoch 179/500\n",
            "2/2 [==============================] - 0s 10ms/step - loss: 9.2888 - mae: 9.2888\n",
            "Epoch 180/500\n",
            "2/2 [==============================] - 0s 9ms/step - loss: 8.1532 - mae: 8.1532\n",
            "Epoch 181/500\n",
            "2/2 [==============================] - 0s 9ms/step - loss: 18.7446 - mae: 18.7446\n",
            "Epoch 182/500\n",
            "2/2 [==============================] - 0s 9ms/step - loss: 10.8062 - mae: 10.8062\n",
            "Epoch 183/500\n",
            "2/2 [==============================] - 0s 12ms/step - loss: 10.9228 - mae: 10.9228\n",
            "Epoch 184/500\n",
            "2/2 [==============================] - 0s 10ms/step - loss: 33.7459 - mae: 33.7459\n",
            "Epoch 185/500\n",
            "2/2 [==============================] - 0s 11ms/step - loss: 7.6462 - mae: 7.6462\n",
            "Epoch 186/500\n",
            "2/2 [==============================] - 0s 21ms/step - loss: 16.8019 - mae: 16.8019\n",
            "Epoch 187/500\n",
            "2/2 [==============================] - 0s 10ms/step - loss: 10.1952 - mae: 10.1952\n",
            "Epoch 188/500\n",
            "2/2 [==============================] - 0s 9ms/step - loss: 23.0319 - mae: 23.0319\n",
            "Epoch 189/500\n",
            "2/2 [==============================] - 0s 11ms/step - loss: 9.9013 - mae: 9.9013\n",
            "Epoch 190/500\n",
            "2/2 [==============================] - 0s 8ms/step - loss: 15.3186 - mae: 15.3186\n",
            "Epoch 191/500\n",
            "2/2 [==============================] - 0s 17ms/step - loss: 9.9540 - mae: 9.9540\n",
            "Epoch 192/500\n",
            "2/2 [==============================] - 0s 9ms/step - loss: 14.9938 - mae: 14.9938\n",
            "Epoch 193/500\n",
            "2/2 [==============================] - 0s 7ms/step - loss: 29.6654 - mae: 29.6654\n",
            "Epoch 194/500\n",
            "2/2 [==============================] - 0s 10ms/step - loss: 8.3768 - mae: 8.3768\n",
            "Epoch 195/500\n",
            "2/2 [==============================] - 0s 9ms/step - loss: 12.9060 - mae: 12.9060\n",
            "Epoch 196/500\n",
            "2/2 [==============================] - 0s 10ms/step - loss: 23.9361 - mae: 23.9361\n",
            "Epoch 197/500\n",
            "2/2 [==============================] - 0s 10ms/step - loss: 16.7967 - mae: 16.7967\n",
            "Epoch 198/500\n",
            "2/2 [==============================] - 0s 25ms/step - loss: 11.4806 - mae: 11.4806\n",
            "Epoch 199/500\n",
            "2/2 [==============================] - 0s 7ms/step - loss: 19.5976 - mae: 19.5976\n",
            "Epoch 200/500\n",
            "2/2 [==============================] - 0s 11ms/step - loss: 15.7637 - mae: 15.7637\n",
            "Epoch 201/500\n",
            "2/2 [==============================] - 0s 12ms/step - loss: 10.5917 - mae: 10.5917\n",
            "Epoch 202/500\n",
            "2/2 [==============================] - 0s 21ms/step - loss: 22.4336 - mae: 22.4336\n",
            "Epoch 203/500\n",
            "2/2 [==============================] - 0s 10ms/step - loss: 21.6986 - mae: 21.6986\n",
            "Epoch 204/500\n",
            "2/2 [==============================] - 0s 13ms/step - loss: 17.3095 - mae: 17.3095\n",
            "Epoch 205/500\n",
            "2/2 [==============================] - 0s 12ms/step - loss: 9.5055 - mae: 9.5055\n",
            "Epoch 206/500\n",
            "2/2 [==============================] - 0s 6ms/step - loss: 11.1386 - mae: 11.1386\n",
            "Epoch 207/500\n",
            "2/2 [==============================] - 0s 12ms/step - loss: 17.6327 - mae: 17.6327\n",
            "Epoch 208/500\n",
            "2/2 [==============================] - 0s 15ms/step - loss: 14.3632 - mae: 14.3632\n",
            "Epoch 209/500\n",
            "2/2 [==============================] - 0s 12ms/step - loss: 16.6650 - mae: 16.6650\n",
            "Epoch 210/500\n",
            "2/2 [==============================] - 0s 15ms/step - loss: 18.1714 - mae: 18.1714\n",
            "Epoch 211/500\n",
            "2/2 [==============================] - 0s 13ms/step - loss: 9.9553 - mae: 9.9553\n",
            "Epoch 212/500\n",
            "2/2 [==============================] - 0s 10ms/step - loss: 18.6344 - mae: 18.6344\n",
            "Epoch 213/500\n",
            "2/2 [==============================] - 0s 14ms/step - loss: 14.9767 - mae: 14.9767\n",
            "Epoch 214/500\n",
            "2/2 [==============================] - 0s 31ms/step - loss: 14.5512 - mae: 14.5512\n",
            "Epoch 215/500\n",
            "2/2 [==============================] - 0s 11ms/step - loss: 23.2119 - mae: 23.2119\n",
            "Epoch 216/500\n",
            "2/2 [==============================] - 0s 11ms/step - loss: 13.5319 - mae: 13.5319\n",
            "Epoch 217/500\n",
            "2/2 [==============================] - 0s 11ms/step - loss: 10.0193 - mae: 10.0193\n",
            "Epoch 218/500\n",
            "2/2 [==============================] - 0s 19ms/step - loss: 12.4667 - mae: 12.4667\n",
            "Epoch 219/500\n",
            "2/2 [==============================] - 0s 11ms/step - loss: 5.3323 - mae: 5.3323\n",
            "Epoch 220/500\n",
            "2/2 [==============================] - 0s 11ms/step - loss: 12.4236 - mae: 12.4236\n",
            "Epoch 221/500\n",
            "2/2 [==============================] - 0s 12ms/step - loss: 22.4117 - mae: 22.4117\n",
            "Epoch 222/500\n",
            "2/2 [==============================] - 0s 10ms/step - loss: 21.5205 - mae: 21.5205\n",
            "Epoch 223/500\n",
            "2/2 [==============================] - 0s 12ms/step - loss: 11.6556 - mae: 11.6556\n",
            "Epoch 224/500\n",
            "2/2 [==============================] - 0s 9ms/step - loss: 13.5682 - mae: 13.5682\n",
            "Epoch 225/500\n",
            "2/2 [==============================] - 0s 17ms/step - loss: 15.7028 - mae: 15.7028\n",
            "Epoch 226/500\n",
            "2/2 [==============================] - 0s 16ms/step - loss: 14.9481 - mae: 14.9481\n",
            "Epoch 227/500\n",
            "2/2 [==============================] - 0s 14ms/step - loss: 15.2785 - mae: 15.2785\n",
            "Epoch 228/500\n",
            "2/2 [==============================] - 0s 10ms/step - loss: 17.4405 - mae: 17.4405\n",
            "Epoch 229/500\n",
            "2/2 [==============================] - 0s 11ms/step - loss: 7.2327 - mae: 7.2327\n",
            "Epoch 230/500\n",
            "2/2 [==============================] - 0s 15ms/step - loss: 7.4732 - mae: 7.4732\n",
            "Epoch 231/500\n",
            "2/2 [==============================] - 0s 12ms/step - loss: 24.7997 - mae: 24.7997\n",
            "Epoch 232/500\n",
            "2/2 [==============================] - 0s 12ms/step - loss: 8.7983 - mae: 8.7983\n",
            "Epoch 233/500\n",
            "2/2 [==============================] - 0s 12ms/step - loss: 24.7567 - mae: 24.7567\n",
            "Epoch 234/500\n",
            "2/2 [==============================] - 0s 11ms/step - loss: 8.1651 - mae: 8.1651\n",
            "Epoch 235/500\n",
            "2/2 [==============================] - 0s 14ms/step - loss: 12.7371 - mae: 12.7371\n",
            "Epoch 236/500\n",
            "2/2 [==============================] - 0s 13ms/step - loss: 7.7352 - mae: 7.7352\n",
            "Epoch 237/500\n",
            "2/2 [==============================] - 0s 11ms/step - loss: 10.0480 - mae: 10.0480\n",
            "Epoch 238/500\n",
            "2/2 [==============================] - 0s 10ms/step - loss: 8.5692 - mae: 8.5692\n",
            "Epoch 239/500\n",
            "2/2 [==============================] - 0s 10ms/step - loss: 18.8896 - mae: 18.8896\n",
            "Epoch 240/500\n",
            "2/2 [==============================] - 0s 14ms/step - loss: 9.0076 - mae: 9.0076\n",
            "Epoch 241/500\n",
            "2/2 [==============================] - 0s 14ms/step - loss: 13.4101 - mae: 13.4101\n",
            "Epoch 242/500\n",
            "2/2 [==============================] - 0s 17ms/step - loss: 8.9017 - mae: 8.9017\n",
            "Epoch 243/500\n",
            "2/2 [==============================] - 0s 11ms/step - loss: 19.2670 - mae: 19.2670\n",
            "Epoch 244/500\n",
            "2/2 [==============================] - 0s 16ms/step - loss: 13.9041 - mae: 13.9041\n",
            "Epoch 245/500\n",
            "2/2 [==============================] - 0s 12ms/step - loss: 14.5504 - mae: 14.5504\n",
            "Epoch 246/500\n",
            "2/2 [==============================] - 0s 12ms/step - loss: 15.6910 - mae: 15.6910\n",
            "Epoch 247/500\n",
            "2/2 [==============================] - 0s 14ms/step - loss: 17.5296 - mae: 17.5296\n",
            "Epoch 248/500\n",
            "2/2 [==============================] - 0s 13ms/step - loss: 13.0951 - mae: 13.0951\n",
            "Epoch 249/500\n",
            "2/2 [==============================] - 0s 10ms/step - loss: 14.4322 - mae: 14.4322\n",
            "Epoch 250/500\n",
            "2/2 [==============================] - 0s 9ms/step - loss: 27.8308 - mae: 27.8308\n",
            "Epoch 251/500\n",
            "2/2 [==============================] - 0s 9ms/step - loss: 7.5184 - mae: 7.5184\n",
            "Epoch 252/500\n",
            "2/2 [==============================] - 0s 13ms/step - loss: 38.1441 - mae: 38.1441\n",
            "Epoch 253/500\n",
            "2/2 [==============================] - 0s 12ms/step - loss: 22.9551 - mae: 22.9551\n",
            "Epoch 254/500\n",
            "2/2 [==============================] - 0s 13ms/step - loss: 7.4575 - mae: 7.4575\n",
            "Epoch 255/500\n",
            "2/2 [==============================] - 0s 19ms/step - loss: 25.8409 - mae: 25.8409\n",
            "Epoch 256/500\n",
            "2/2 [==============================] - 0s 11ms/step - loss: 13.7553 - mae: 13.7553\n",
            "Epoch 257/500\n",
            "2/2 [==============================] - 0s 16ms/step - loss: 8.3640 - mae: 8.3640\n",
            "Epoch 258/500\n",
            "2/2 [==============================] - 0s 7ms/step - loss: 13.2464 - mae: 13.2464\n",
            "Epoch 259/500\n",
            "2/2 [==============================] - 0s 6ms/step - loss: 10.2604 - mae: 10.2604\n",
            "Epoch 260/500\n",
            "2/2 [==============================] - 0s 6ms/step - loss: 33.6811 - mae: 33.6811\n",
            "Epoch 261/500\n",
            "2/2 [==============================] - 0s 15ms/step - loss: 12.4516 - mae: 12.4516\n",
            "Epoch 262/500\n",
            "2/2 [==============================] - 0s 10ms/step - loss: 8.9331 - mae: 8.9331\n",
            "Epoch 263/500\n",
            "2/2 [==============================] - 0s 7ms/step - loss: 8.2881 - mae: 8.2881\n",
            "Epoch 264/500\n",
            "2/2 [==============================] - 0s 11ms/step - loss: 18.8332 - mae: 18.8332\n",
            "Epoch 265/500\n",
            "2/2 [==============================] - 0s 10ms/step - loss: 11.7163 - mae: 11.7163\n",
            "Epoch 266/500\n",
            "2/2 [==============================] - 0s 9ms/step - loss: 13.5893 - mae: 13.5893\n",
            "Epoch 267/500\n",
            "2/2 [==============================] - 0s 11ms/step - loss: 11.2349 - mae: 11.2349\n",
            "Epoch 268/500\n",
            "2/2 [==============================] - 0s 9ms/step - loss: 19.5356 - mae: 19.5356\n",
            "Epoch 269/500\n",
            "2/2 [==============================] - 0s 8ms/step - loss: 39.5421 - mae: 39.5421\n",
            "Epoch 270/500\n",
            "2/2 [==============================] - 0s 7ms/step - loss: 12.1360 - mae: 12.1360\n",
            "Epoch 271/500\n",
            "2/2 [==============================] - 0s 8ms/step - loss: 14.1220 - mae: 14.1220\n",
            "Epoch 272/500\n",
            "2/2 [==============================] - 0s 11ms/step - loss: 27.9693 - mae: 27.9693\n",
            "Epoch 273/500\n",
            "2/2 [==============================] - 0s 9ms/step - loss: 8.0039 - mae: 8.0039\n",
            "Epoch 274/500\n",
            "2/2 [==============================] - 0s 9ms/step - loss: 6.4263 - mae: 6.4263\n",
            "Epoch 275/500\n",
            "2/2 [==============================] - 0s 12ms/step - loss: 33.9678 - mae: 33.9678\n",
            "Epoch 276/500\n",
            "2/2 [==============================] - 0s 10ms/step - loss: 7.9584 - mae: 7.9584\n",
            "Epoch 277/500\n",
            "2/2 [==============================] - 0s 13ms/step - loss: 25.2995 - mae: 25.2995\n",
            "Epoch 278/500\n",
            "2/2 [==============================] - 0s 11ms/step - loss: 11.5079 - mae: 11.5079\n",
            "Epoch 279/500\n",
            "2/2 [==============================] - 0s 12ms/step - loss: 16.2482 - mae: 16.2482\n",
            "Epoch 280/500\n",
            "2/2 [==============================] - 0s 10ms/step - loss: 21.5419 - mae: 21.5419\n",
            "Epoch 281/500\n",
            "2/2 [==============================] - 0s 12ms/step - loss: 23.0667 - mae: 23.0667\n",
            "Epoch 282/500\n",
            "2/2 [==============================] - 0s 10ms/step - loss: 8.0356 - mae: 8.0356\n",
            "Epoch 283/500\n",
            "2/2 [==============================] - 0s 10ms/step - loss: 8.3137 - mae: 8.3137\n",
            "Epoch 284/500\n",
            "2/2 [==============================] - 0s 9ms/step - loss: 25.8295 - mae: 25.8295\n",
            "Epoch 285/500\n",
            "2/2 [==============================] - 0s 12ms/step - loss: 14.3762 - mae: 14.3762\n",
            "Epoch 286/500\n",
            "2/2 [==============================] - 0s 18ms/step - loss: 4.5373 - mae: 4.5373\n",
            "Epoch 287/500\n",
            "2/2 [==============================] - 0s 11ms/step - loss: 12.9704 - mae: 12.9704\n",
            "Epoch 288/500\n",
            "2/2 [==============================] - 0s 13ms/step - loss: 24.7428 - mae: 24.7428\n",
            "Epoch 289/500\n",
            "2/2 [==============================] - 0s 12ms/step - loss: 9.6961 - mae: 9.6961\n",
            "Epoch 290/500\n",
            "2/2 [==============================] - 0s 11ms/step - loss: 11.7756 - mae: 11.7756\n",
            "Epoch 291/500\n",
            "2/2 [==============================] - 0s 7ms/step - loss: 10.1165 - mae: 10.1165\n",
            "Epoch 292/500\n",
            "2/2 [==============================] - 0s 7ms/step - loss: 16.7257 - mae: 16.7257\n",
            "Epoch 293/500\n",
            "2/2 [==============================] - 0s 10ms/step - loss: 17.5516 - mae: 17.5516\n",
            "Epoch 294/500\n",
            "2/2 [==============================] - 0s 6ms/step - loss: 30.0156 - mae: 30.0156\n",
            "Epoch 295/500\n",
            "2/2 [==============================] - 0s 6ms/step - loss: 8.0493 - mae: 8.0493\n",
            "Epoch 296/500\n",
            "2/2 [==============================] - 0s 10ms/step - loss: 16.2383 - mae: 16.2383\n",
            "Epoch 297/500\n",
            "2/2 [==============================] - 0s 10ms/step - loss: 14.4810 - mae: 14.4810\n",
            "Epoch 298/500\n",
            "2/2 [==============================] - 0s 11ms/step - loss: 27.0051 - mae: 27.0051\n",
            "Epoch 299/500\n",
            "2/2 [==============================] - 0s 10ms/step - loss: 11.0596 - mae: 11.0596\n",
            "Epoch 300/500\n",
            "2/2 [==============================] - 0s 18ms/step - loss: 7.6784 - mae: 7.6784\n",
            "Epoch 301/500\n",
            "2/2 [==============================] - 0s 14ms/step - loss: 21.9646 - mae: 21.9646\n",
            "Epoch 302/500\n",
            "2/2 [==============================] - 0s 10ms/step - loss: 7.5596 - mae: 7.5596\n",
            "Epoch 303/500\n",
            "2/2 [==============================] - 0s 9ms/step - loss: 18.5860 - mae: 18.5860\n",
            "Epoch 304/500\n",
            "2/2 [==============================] - 0s 11ms/step - loss: 12.3762 - mae: 12.3762\n",
            "Epoch 305/500\n",
            "2/2 [==============================] - 0s 6ms/step - loss: 7.5762 - mae: 7.5762\n",
            "Epoch 306/500\n",
            "2/2 [==============================] - 0s 12ms/step - loss: 21.7596 - mae: 21.7596\n",
            "Epoch 307/500\n",
            "2/2 [==============================] - 0s 10ms/step - loss: 8.2791 - mae: 8.2791\n",
            "Epoch 308/500\n",
            "2/2 [==============================] - 0s 9ms/step - loss: 20.9289 - mae: 20.9289\n",
            "Epoch 309/500\n",
            "2/2 [==============================] - 0s 12ms/step - loss: 19.2656 - mae: 19.2656\n",
            "Epoch 310/500\n",
            "2/2 [==============================] - 0s 12ms/step - loss: 6.0346 - mae: 6.0346\n",
            "Epoch 311/500\n",
            "2/2 [==============================] - 0s 9ms/step - loss: 7.8953 - mae: 7.8953\n",
            "Epoch 312/500\n",
            "2/2 [==============================] - 0s 12ms/step - loss: 30.5596 - mae: 30.5596\n",
            "Epoch 313/500\n",
            "2/2 [==============================] - 0s 12ms/step - loss: 5.2138 - mae: 5.2138\n",
            "Epoch 314/500\n",
            "2/2 [==============================] - 0s 11ms/step - loss: 12.7319 - mae: 12.7319\n",
            "Epoch 315/500\n",
            "2/2 [==============================] - 0s 13ms/step - loss: 13.0826 - mae: 13.0826\n",
            "Epoch 316/500\n",
            "2/2 [==============================] - 0s 17ms/step - loss: 4.7962 - mae: 4.7962\n",
            "Epoch 317/500\n",
            "2/2 [==============================] - 0s 12ms/step - loss: 27.7100 - mae: 27.7100\n",
            "Epoch 318/500\n",
            "2/2 [==============================] - 0s 12ms/step - loss: 11.4179 - mae: 11.4179\n",
            "Epoch 319/500\n",
            "2/2 [==============================] - 0s 12ms/step - loss: 6.4101 - mae: 6.4101\n",
            "Epoch 320/500\n",
            "2/2 [==============================] - 0s 10ms/step - loss: 22.9393 - mae: 22.9393\n",
            "Epoch 321/500\n",
            "2/2 [==============================] - 0s 11ms/step - loss: 4.5511 - mae: 4.5511\n",
            "Epoch 322/500\n",
            "2/2 [==============================] - 0s 11ms/step - loss: 18.2767 - mae: 18.2767\n",
            "Epoch 323/500\n",
            "2/2 [==============================] - 0s 16ms/step - loss: 6.6908 - mae: 6.6908\n",
            "Epoch 324/500\n",
            "2/2 [==============================] - 0s 10ms/step - loss: 12.8436 - mae: 12.8436\n",
            "Epoch 325/500\n",
            "2/2 [==============================] - 0s 11ms/step - loss: 9.4612 - mae: 9.4612\n",
            "Epoch 326/500\n",
            "2/2 [==============================] - 0s 12ms/step - loss: 20.3386 - mae: 20.3386\n",
            "Epoch 327/500\n",
            "2/2 [==============================] - 0s 11ms/step - loss: 26.9729 - mae: 26.9729\n",
            "Epoch 328/500\n",
            "2/2 [==============================] - 0s 11ms/step - loss: 11.9586 - mae: 11.9586\n",
            "Epoch 329/500\n",
            "2/2 [==============================] - 0s 10ms/step - loss: 16.7310 - mae: 16.7310\n",
            "Epoch 330/500\n",
            "2/2 [==============================] - 0s 10ms/step - loss: 7.1724 - mae: 7.1724\n",
            "Epoch 331/500\n",
            "2/2 [==============================] - 0s 10ms/step - loss: 21.7025 - mae: 21.7025\n",
            "Epoch 332/500\n",
            "2/2 [==============================] - 0s 10ms/step - loss: 12.7957 - mae: 12.7957\n",
            "Epoch 333/500\n",
            "2/2 [==============================] - 0s 8ms/step - loss: 9.0680 - mae: 9.0680\n",
            "Epoch 334/500\n",
            "2/2 [==============================] - 0s 11ms/step - loss: 9.8162 - mae: 9.8162\n",
            "Epoch 335/500\n",
            "2/2 [==============================] - 0s 11ms/step - loss: 6.0135 - mae: 6.0135\n",
            "Epoch 336/500\n",
            "2/2 [==============================] - 0s 11ms/step - loss: 31.7584 - mae: 31.7584\n",
            "Epoch 337/500\n",
            "2/2 [==============================] - 0s 12ms/step - loss: 9.1758 - mae: 9.1758\n",
            "Epoch 338/500\n",
            "2/2 [==============================] - 0s 11ms/step - loss: 19.5636 - mae: 19.5636\n",
            "Epoch 339/500\n",
            "2/2 [==============================] - 0s 14ms/step - loss: 35.4392 - mae: 35.4392\n",
            "Epoch 340/500\n",
            "2/2 [==============================] - 0s 17ms/step - loss: 10.5762 - mae: 10.5762\n",
            "Epoch 341/500\n",
            "2/2 [==============================] - 0s 15ms/step - loss: 10.1436 - mae: 10.1436\n",
            "Epoch 342/500\n",
            "2/2 [==============================] - 0s 13ms/step - loss: 13.2940 - mae: 13.2940\n",
            "Epoch 343/500\n",
            "2/2 [==============================] - 0s 15ms/step - loss: 11.0518 - mae: 11.0518\n",
            "Epoch 344/500\n",
            "2/2 [==============================] - 0s 15ms/step - loss: 9.9518 - mae: 9.9518\n",
            "Epoch 345/500\n",
            "2/2 [==============================] - 0s 8ms/step - loss: 31.0068 - mae: 31.0068\n",
            "Epoch 346/500\n",
            "2/2 [==============================] - 0s 10ms/step - loss: 10.6968 - mae: 10.6968\n",
            "Epoch 347/500\n",
            "2/2 [==============================] - 0s 6ms/step - loss: 25.7001 - mae: 25.7001\n",
            "Epoch 348/500\n",
            "2/2 [==============================] - 0s 12ms/step - loss: 12.9630 - mae: 12.9630\n",
            "Epoch 349/500\n",
            "2/2 [==============================] - 0s 10ms/step - loss: 13.1462 - mae: 13.1462\n",
            "Epoch 350/500\n",
            "2/2 [==============================] - 0s 8ms/step - loss: 15.4389 - mae: 15.4389\n",
            "Epoch 351/500\n",
            "2/2 [==============================] - 0s 9ms/step - loss: 32.9457 - mae: 32.9457\n",
            "Epoch 352/500\n",
            "2/2 [==============================] - 0s 10ms/step - loss: 14.1888 - mae: 14.1888\n",
            "Epoch 353/500\n",
            "2/2 [==============================] - 0s 11ms/step - loss: 15.9079 - mae: 15.9079\n",
            "Epoch 354/500\n",
            "2/2 [==============================] - 0s 11ms/step - loss: 19.0602 - mae: 19.0602\n",
            "Epoch 355/500\n",
            "2/2 [==============================] - 0s 12ms/step - loss: 34.2018 - mae: 34.2018\n",
            "Epoch 356/500\n",
            "2/2 [==============================] - 0s 13ms/step - loss: 7.7212 - mae: 7.7212\n",
            "Epoch 357/500\n",
            "2/2 [==============================] - 0s 12ms/step - loss: 25.2717 - mae: 25.2717\n",
            "Epoch 358/500\n",
            "2/2 [==============================] - 0s 13ms/step - loss: 22.7366 - mae: 22.7366\n",
            "Epoch 359/500\n",
            "2/2 [==============================] - 0s 16ms/step - loss: 8.8973 - mae: 8.8973\n",
            "Epoch 360/500\n",
            "2/2 [==============================] - 0s 12ms/step - loss: 21.4613 - mae: 21.4613\n",
            "Epoch 361/500\n",
            "2/2 [==============================] - 0s 11ms/step - loss: 20.6341 - mae: 20.6341\n",
            "Epoch 362/500\n",
            "2/2 [==============================] - 0s 13ms/step - loss: 7.1002 - mae: 7.1002\n",
            "Epoch 363/500\n",
            "2/2 [==============================] - 0s 15ms/step - loss: 25.8206 - mae: 25.8206\n",
            "Epoch 364/500\n",
            "2/2 [==============================] - 0s 15ms/step - loss: 32.2420 - mae: 32.2420\n",
            "Epoch 365/500\n",
            "2/2 [==============================] - 0s 18ms/step - loss: 10.0498 - mae: 10.0498\n",
            "Epoch 366/500\n",
            "2/2 [==============================] - 0s 11ms/step - loss: 9.6955 - mae: 9.6955\n",
            "Epoch 367/500\n",
            "2/2 [==============================] - 0s 13ms/step - loss: 30.4214 - mae: 30.4214\n",
            "Epoch 368/500\n",
            "2/2 [==============================] - 0s 16ms/step - loss: 10.5163 - mae: 10.5163\n",
            "Epoch 369/500\n",
            "2/2 [==============================] - 0s 12ms/step - loss: 15.0062 - mae: 15.0062\n",
            "Epoch 370/500\n",
            "2/2 [==============================] - 0s 20ms/step - loss: 14.6690 - mae: 14.6690\n",
            "Epoch 371/500\n",
            "2/2 [==============================] - 0s 13ms/step - loss: 23.3878 - mae: 23.3878\n",
            "Epoch 372/500\n",
            "2/2 [==============================] - 0s 10ms/step - loss: 13.0799 - mae: 13.0799\n",
            "Epoch 373/500\n",
            "2/2 [==============================] - 0s 7ms/step - loss: 9.2489 - mae: 9.2489\n",
            "Epoch 374/500\n",
            "2/2 [==============================] - 0s 13ms/step - loss: 9.6955 - mae: 9.6955\n",
            "Epoch 375/500\n",
            "2/2 [==============================] - 0s 14ms/step - loss: 13.0272 - mae: 13.0272\n",
            "Epoch 376/500\n",
            "2/2 [==============================] - 0s 9ms/step - loss: 14.9077 - mae: 14.9077\n",
            "Epoch 377/500\n",
            "2/2 [==============================] - 0s 13ms/step - loss: 14.8257 - mae: 14.8257\n",
            "Epoch 378/500\n",
            "2/2 [==============================] - 0s 12ms/step - loss: 16.3011 - mae: 16.3011\n",
            "Epoch 379/500\n",
            "2/2 [==============================] - 0s 13ms/step - loss: 20.8752 - mae: 20.8752\n",
            "Epoch 380/500\n",
            "2/2 [==============================] - 0s 7ms/step - loss: 33.4037 - mae: 33.4037\n",
            "Epoch 381/500\n",
            "2/2 [==============================] - 0s 11ms/step - loss: 8.2182 - mae: 8.2182\n",
            "Epoch 382/500\n",
            "2/2 [==============================] - 0s 10ms/step - loss: 13.0087 - mae: 13.0087\n",
            "Epoch 383/500\n",
            "2/2 [==============================] - 0s 10ms/step - loss: 8.4592 - mae: 8.4592\n",
            "Epoch 384/500\n",
            "2/2 [==============================] - 0s 27ms/step - loss: 7.1149 - mae: 7.1149\n",
            "Epoch 385/500\n",
            "2/2 [==============================] - 0s 11ms/step - loss: 10.9796 - mae: 10.9796\n",
            "Epoch 386/500\n",
            "2/2 [==============================] - 0s 15ms/step - loss: 19.8319 - mae: 19.8319\n",
            "Epoch 387/500\n",
            "2/2 [==============================] - 0s 57ms/step - loss: 24.7086 - mae: 24.7086\n",
            "Epoch 388/500\n",
            "2/2 [==============================] - 0s 28ms/step - loss: 8.7038 - mae: 8.7038\n",
            "Epoch 389/500\n",
            "2/2 [==============================] - 0s 20ms/step - loss: 5.9583 - mae: 5.9583\n",
            "Epoch 390/500\n",
            "2/2 [==============================] - 0s 19ms/step - loss: 24.2640 - mae: 24.2640\n",
            "Epoch 391/500\n",
            "2/2 [==============================] - 0s 26ms/step - loss: 5.9799 - mae: 5.9799\n",
            "Epoch 392/500\n",
            "2/2 [==============================] - 0s 19ms/step - loss: 16.0589 - mae: 16.0589\n",
            "Epoch 393/500\n",
            "2/2 [==============================] - 0s 27ms/step - loss: 6.4924 - mae: 6.4924\n",
            "Epoch 394/500\n",
            "2/2 [==============================] - 0s 26ms/step - loss: 12.4906 - mae: 12.4906\n",
            "Epoch 395/500\n",
            "2/2 [==============================] - 0s 23ms/step - loss: 12.3645 - mae: 12.3645\n",
            "Epoch 396/500\n",
            "2/2 [==============================] - 0s 20ms/step - loss: 7.3410 - mae: 7.3410\n",
            "Epoch 397/500\n",
            "2/2 [==============================] - 0s 26ms/step - loss: 7.5975 - mae: 7.5975\n",
            "Epoch 398/500\n",
            "2/2 [==============================] - 0s 28ms/step - loss: 20.2405 - mae: 20.2405\n",
            "Epoch 399/500\n",
            "2/2 [==============================] - 0s 13ms/step - loss: 5.9226 - mae: 5.9226\n",
            "Epoch 400/500\n",
            "2/2 [==============================] - 0s 30ms/step - loss: 24.6578 - mae: 24.6578\n",
            "Epoch 401/500\n",
            "2/2 [==============================] - 0s 30ms/step - loss: 13.0897 - mae: 13.0897\n",
            "Epoch 402/500\n",
            "2/2 [==============================] - 0s 32ms/step - loss: 8.3472 - mae: 8.3472\n",
            "Epoch 403/500\n",
            "2/2 [==============================] - 0s 34ms/step - loss: 9.8181 - mae: 9.8181\n",
            "Epoch 404/500\n",
            "2/2 [==============================] - 0s 17ms/step - loss: 12.5449 - mae: 12.5449\n",
            "Epoch 405/500\n",
            "2/2 [==============================] - 0s 22ms/step - loss: 8.7843 - mae: 8.7843\n",
            "Epoch 406/500\n",
            "2/2 [==============================] - 0s 21ms/step - loss: 21.6546 - mae: 21.6546\n",
            "Epoch 407/500\n",
            "2/2 [==============================] - 0s 19ms/step - loss: 20.3279 - mae: 20.3279\n",
            "Epoch 408/500\n",
            "2/2 [==============================] - 0s 29ms/step - loss: 10.3454 - mae: 10.3454\n",
            "Epoch 409/500\n",
            "2/2 [==============================] - 0s 23ms/step - loss: 9.3383 - mae: 9.3383\n",
            "Epoch 410/500\n",
            "2/2 [==============================] - 0s 16ms/step - loss: 13.4065 - mae: 13.4065\n",
            "Epoch 411/500\n",
            "2/2 [==============================] - 0s 40ms/step - loss: 15.8625 - mae: 15.8625\n",
            "Epoch 412/500\n",
            "2/2 [==============================] - 0s 13ms/step - loss: 23.5703 - mae: 23.5703\n",
            "Epoch 413/500\n",
            "2/2 [==============================] - 0s 10ms/step - loss: 16.3780 - mae: 16.3780\n",
            "Epoch 414/500\n",
            "2/2 [==============================] - 0s 10ms/step - loss: 4.9406 - mae: 4.9406\n",
            "Epoch 415/500\n",
            "2/2 [==============================] - 0s 15ms/step - loss: 13.9773 - mae: 13.9773\n",
            "Epoch 416/500\n",
            "2/2 [==============================] - 0s 11ms/step - loss: 28.9714 - mae: 28.9714\n",
            "Epoch 417/500\n",
            "2/2 [==============================] - 0s 9ms/step - loss: 5.9697 - mae: 5.9697\n",
            "Epoch 418/500\n",
            "2/2 [==============================] - 0s 9ms/step - loss: 12.4423 - mae: 12.4423\n",
            "Epoch 419/500\n",
            "2/2 [==============================] - 0s 10ms/step - loss: 11.4898 - mae: 11.4898\n",
            "Epoch 420/500\n",
            "2/2 [==============================] - 0s 11ms/step - loss: 23.8671 - mae: 23.8671\n",
            "Epoch 421/500\n",
            "2/2 [==============================] - 0s 9ms/step - loss: 19.7190 - mae: 19.7190\n",
            "Epoch 422/500\n",
            "2/2 [==============================] - 0s 6ms/step - loss: 4.0398 - mae: 4.0398\n",
            "Epoch 423/500\n",
            "2/2 [==============================] - 0s 10ms/step - loss: 34.4244 - mae: 34.4244\n",
            "Epoch 424/500\n",
            "2/2 [==============================] - 0s 11ms/step - loss: 12.9722 - mae: 12.9722\n",
            "Epoch 425/500\n",
            "2/2 [==============================] - 0s 8ms/step - loss: 6.9379 - mae: 6.9379\n",
            "Epoch 426/500\n",
            "2/2 [==============================] - 0s 8ms/step - loss: 19.3823 - mae: 19.3823\n",
            "Epoch 427/500\n",
            "2/2 [==============================] - 0s 6ms/step - loss: 3.7670 - mae: 3.7670\n",
            "Epoch 428/500\n",
            "2/2 [==============================] - 0s 6ms/step - loss: 22.1668 - mae: 22.1668\n",
            "Epoch 429/500\n",
            "2/2 [==============================] - 0s 8ms/step - loss: 16.6986 - mae: 16.6986\n",
            "Epoch 430/500\n",
            "2/2 [==============================] - 0s 7ms/step - loss: 11.8333 - mae: 11.8333\n",
            "Epoch 431/500\n",
            "2/2 [==============================] - 0s 7ms/step - loss: 7.9883 - mae: 7.9883\n",
            "Epoch 432/500\n",
            "2/2 [==============================] - 0s 25ms/step - loss: 22.2855 - mae: 22.2855\n",
            "Epoch 433/500\n",
            "2/2 [==============================] - 0s 16ms/step - loss: 4.8440 - mae: 4.8440\n",
            "Epoch 434/500\n",
            "2/2 [==============================] - 0s 18ms/step - loss: 33.3090 - mae: 33.3090\n",
            "Epoch 435/500\n",
            "2/2 [==============================] - 0s 18ms/step - loss: 14.1709 - mae: 14.1709\n",
            "Epoch 436/500\n",
            "2/2 [==============================] - 0s 10ms/step - loss: 29.8195 - mae: 29.8195\n",
            "Epoch 437/500\n",
            "2/2 [==============================] - 0s 12ms/step - loss: 10.9361 - mae: 10.9361\n",
            "Epoch 438/500\n",
            "2/2 [==============================] - 0s 10ms/step - loss: 12.7057 - mae: 12.7057\n",
            "Epoch 439/500\n",
            "2/2 [==============================] - 0s 9ms/step - loss: 33.5499 - mae: 33.5499\n",
            "Epoch 440/500\n",
            "2/2 [==============================] - 0s 7ms/step - loss: 14.9393 - mae: 14.9393\n",
            "Epoch 441/500\n",
            "2/2 [==============================] - 0s 13ms/step - loss: 17.3661 - mae: 17.3661\n",
            "Epoch 442/500\n",
            "2/2 [==============================] - 0s 7ms/step - loss: 22.0484 - mae: 22.0484\n",
            "Epoch 443/500\n",
            "2/2 [==============================] - 0s 11ms/step - loss: 24.1966 - mae: 24.1966\n",
            "Epoch 444/500\n",
            "2/2 [==============================] - 0s 9ms/step - loss: 11.5015 - mae: 11.5015\n",
            "Epoch 445/500\n",
            "2/2 [==============================] - 0s 13ms/step - loss: 14.7801 - mae: 14.7801\n",
            "Epoch 446/500\n",
            "2/2 [==============================] - 0s 6ms/step - loss: 17.7985 - mae: 17.7985\n",
            "Epoch 447/500\n",
            "2/2 [==============================] - 0s 9ms/step - loss: 5.6838 - mae: 5.6838\n",
            "Epoch 448/500\n",
            "2/2 [==============================] - 0s 9ms/step - loss: 9.5493 - mae: 9.5493\n",
            "Epoch 449/500\n",
            "2/2 [==============================] - 0s 16ms/step - loss: 14.2031 - mae: 14.2031\n",
            "Epoch 450/500\n",
            "2/2 [==============================] - 0s 18ms/step - loss: 16.9715 - mae: 16.9715\n",
            "Epoch 451/500\n",
            "2/2 [==============================] - 0s 15ms/step - loss: 14.3796 - mae: 14.3796\n",
            "Epoch 452/500\n",
            "2/2 [==============================] - 0s 15ms/step - loss: 30.7879 - mae: 30.7879\n",
            "Epoch 453/500\n",
            "2/2 [==============================] - 0s 16ms/step - loss: 9.1228 - mae: 9.1228\n",
            "Epoch 454/500\n",
            "2/2 [==============================] - 0s 17ms/step - loss: 27.1380 - mae: 27.1380\n",
            "Epoch 455/500\n",
            "2/2 [==============================] - 0s 17ms/step - loss: 11.5662 - mae: 11.5662\n",
            "Epoch 456/500\n",
            "2/2 [==============================] - 0s 24ms/step - loss: 15.5304 - mae: 15.5304\n",
            "Epoch 457/500\n",
            "2/2 [==============================] - 0s 11ms/step - loss: 19.4151 - mae: 19.4151\n",
            "Epoch 458/500\n",
            "2/2 [==============================] - 0s 19ms/step - loss: 22.7321 - mae: 22.7321\n",
            "Epoch 459/500\n",
            "2/2 [==============================] - 0s 13ms/step - loss: 16.1516 - mae: 16.1516\n",
            "Epoch 460/500\n",
            "2/2 [==============================] - 0s 13ms/step - loss: 4.7302 - mae: 4.7302\n",
            "Epoch 461/500\n",
            "2/2 [==============================] - 0s 19ms/step - loss: 17.0996 - mae: 17.0996\n",
            "Epoch 462/500\n",
            "2/2 [==============================] - 0s 10ms/step - loss: 13.9743 - mae: 13.9743\n",
            "Epoch 463/500\n",
            "2/2 [==============================] - 0s 15ms/step - loss: 30.5219 - mae: 30.5219\n",
            "Epoch 464/500\n",
            "2/2 [==============================] - 0s 8ms/step - loss: 8.8830 - mae: 8.8830\n",
            "Epoch 465/500\n",
            "2/2 [==============================] - 0s 10ms/step - loss: 21.1959 - mae: 21.1959\n",
            "Epoch 466/500\n",
            "2/2 [==============================] - 0s 7ms/step - loss: 25.7738 - mae: 25.7738\n",
            "Epoch 467/500\n",
            "2/2 [==============================] - 0s 9ms/step - loss: 15.4789 - mae: 15.4789\n",
            "Epoch 468/500\n",
            "2/2 [==============================] - 0s 7ms/step - loss: 9.8190 - mae: 9.8190\n",
            "Epoch 469/500\n",
            "2/2 [==============================] - 0s 9ms/step - loss: 27.5465 - mae: 27.5465\n",
            "Epoch 470/500\n",
            "2/2 [==============================] - 0s 17ms/step - loss: 12.0991 - mae: 12.0991\n",
            "Epoch 471/500\n",
            "2/2 [==============================] - 0s 12ms/step - loss: 11.5141 - mae: 11.5141\n",
            "Epoch 472/500\n",
            "2/2 [==============================] - 0s 13ms/step - loss: 15.6758 - mae: 15.6758\n",
            "Epoch 473/500\n",
            "2/2 [==============================] - 0s 19ms/step - loss: 15.8081 - mae: 15.8081\n",
            "Epoch 474/500\n",
            "2/2 [==============================] - 0s 12ms/step - loss: 29.9786 - mae: 29.9786\n",
            "Epoch 475/500\n",
            "2/2 [==============================] - 0s 15ms/step - loss: 10.2273 - mae: 10.2273\n",
            "Epoch 476/500\n",
            "2/2 [==============================] - 0s 18ms/step - loss: 13.7569 - mae: 13.7569\n",
            "Epoch 477/500\n",
            "2/2 [==============================] - 0s 14ms/step - loss: 30.3805 - mae: 30.3805\n",
            "Epoch 478/500\n",
            "2/2 [==============================] - 0s 6ms/step - loss: 7.5757 - mae: 7.5757\n",
            "Epoch 479/500\n",
            "2/2 [==============================] - 0s 7ms/step - loss: 11.4220 - mae: 11.4220\n",
            "Epoch 480/500\n",
            "2/2 [==============================] - 0s 10ms/step - loss: 18.0881 - mae: 18.0881\n",
            "Epoch 481/500\n",
            "2/2 [==============================] - 0s 6ms/step - loss: 15.9585 - mae: 15.9585\n",
            "Epoch 482/500\n",
            "2/2 [==============================] - 0s 7ms/step - loss: 21.5978 - mae: 21.5978\n",
            "Epoch 483/500\n",
            "2/2 [==============================] - 0s 7ms/step - loss: 24.7302 - mae: 24.7302\n",
            "Epoch 484/500\n",
            "2/2 [==============================] - 0s 16ms/step - loss: 23.3155 - mae: 23.3155\n",
            "Epoch 485/500\n",
            "2/2 [==============================] - 0s 6ms/step - loss: 5.7243 - mae: 5.7243\n",
            "Epoch 486/500\n",
            "2/2 [==============================] - 0s 5ms/step - loss: 19.2096 - mae: 19.2096\n",
            "Epoch 487/500\n",
            "2/2 [==============================] - 0s 12ms/step - loss: 14.0135 - mae: 14.0135\n",
            "Epoch 488/500\n",
            "2/2 [==============================] - 0s 11ms/step - loss: 30.5408 - mae: 30.5408\n",
            "Epoch 489/500\n",
            "2/2 [==============================] - 0s 9ms/step - loss: 11.8489 - mae: 11.8489\n",
            "Epoch 490/500\n",
            "2/2 [==============================] - 0s 10ms/step - loss: 12.5190 - mae: 12.5190\n",
            "Epoch 491/500\n",
            "2/2 [==============================] - 0s 10ms/step - loss: 23.7711 - mae: 23.7711\n",
            "Epoch 492/500\n",
            "2/2 [==============================] - 0s 13ms/step - loss: 20.0185 - mae: 20.0185\n",
            "Epoch 493/500\n",
            "2/2 [==============================] - 0s 10ms/step - loss: 4.9479 - mae: 4.9479\n",
            "Epoch 494/500\n",
            "2/2 [==============================] - 0s 9ms/step - loss: 12.3665 - mae: 12.3665\n",
            "Epoch 495/500\n",
            "2/2 [==============================] - 0s 12ms/step - loss: 13.5864 - mae: 13.5864\n",
            "Epoch 496/500\n",
            "2/2 [==============================] - 0s 22ms/step - loss: 12.8218 - mae: 12.8218\n",
            "Epoch 497/500\n",
            "2/2 [==============================] - 0s 7ms/step - loss: 17.8949 - mae: 17.8949\n",
            "Epoch 498/500\n",
            "2/2 [==============================] - 0s 7ms/step - loss: 22.9721 - mae: 22.9721\n",
            "Epoch 499/500\n",
            "2/2 [==============================] - 0s 22ms/step - loss: 8.8071 - mae: 8.8071\n",
            "Epoch 500/500\n",
            "2/2 [==============================] - 0s 15ms/step - loss: 14.4484 - mae: 14.4484\n"
          ]
        },
        {
          "output_type": "execute_result",
          "data": {
            "text/plain": [
              "<keras.callbacks.History at 0x79aa65ab5f90>"
            ]
          },
          "metadata": {},
          "execution_count": 55
        }
      ]
    },
    {
      "cell_type": "code",
      "source": [
        "y_pred_3 = model_3.predict(x_test)\n",
        "plot_predictions(predictions=y_pred_3)"
      ],
      "metadata": {
        "colab": {
          "base_uri": "https://localhost:8080/",
          "height": 485
        },
        "id": "CrvrjIlY-iO2",
        "outputId": "b2426645-85c6-4f3b-b3e9-d7c9f4bf4586"
      },
      "execution_count": null,
      "outputs": [
        {
          "output_type": "stream",
          "name": "stdout",
          "text": [
            "1/1 [==============================] - 0s 76ms/step\n"
          ]
        },
        {
          "output_type": "display_data",
          "data": {
            "text/plain": [
              "<Figure size 1000x700 with 1 Axes>"
            ],
            "image/png": "[encoded data removed]"
          },
          "metadata": {}
        }
      ]
    },
    {
      "cell_type": "code",
      "source": [
        "mae_3 = mae(y_test, y_pred_3)\n",
        "mse_3 = mse(y_test, y_pred_3)\n",
        "mae_3, mse_3"
      ],
      "metadata": {
        "colab": {
          "base_uri": "https://localhost:8080/"
        },
        "id": "bG8IYoJJ_Eja",
        "outputId": "19e6b91d-9ac4-473e-aad3-0dd9268df0b3"
      },
      "execution_count": null,
      "outputs": [
        {
          "output_type": "execute_result",
          "data": {
            "text/plain": [
              "(<tf.Tensor: shape=(), dtype=float32, numpy=68.14484>,\n",
              " <tf.Tensor: shape=(), dtype=float32, numpy=4728.532>)"
            ]
          },
          "metadata": {},
          "execution_count": 57
        }
      ]
    },
    {
      "cell_type": "code",
      "source": [
        "# comparing 3 models\n",
        "import pandas as pd\n",
        "\n",
        "model_results = [[\"model_1\", mae_1.numpy(), mse_1.numpy()],\n",
        "                 [\"model_2\", mae_2.numpy(), mse_2.numpy()],\n",
        "                 [\"model_3\", mae_3.numpy(), mse_3.numpy()]]\n",
        "\n",
        "all_results = pd.DataFrame(model_results, columns=[\"model\", \"mae\", \"mse\"])\n",
        "all_results"
      ],
      "metadata": {
        "colab": {
          "base_uri": "https://localhost:8080/",
          "height": 143
        },
        "id": "HhEMA4CV_K1r",
        "outputId": "34a4e731-d546-4e9a-8eaa-dca814c1c7f9"
      },
      "execution_count": null,
      "outputs": [
        {
          "output_type": "execute_result",
          "data": {
            "text/plain": [
              "     model        mae          mse\n",
              "0  model_1  14.847224   221.263092\n",
              "1  model_2   3.010484    11.835520\n",
              "2  model_3  68.144836  4728.532227"
            ],
            "text/html": [
              "\n",
              "  <div id=\"df-fe23d78e-7200-469e-83f9-ffac7fab38c2\" class=\"colab-df-container\">\n",
              "    <div>\n",
              "<style scoped>\n",
              "    .dataframe tbody tr th:only-of-type {\n",
              "        vertical-align: middle;\n",
              "    }\n",
              "\n",
              "    .dataframe tbody tr th {\n",
              "        vertical-align: top;\n",
              "    }\n",
              "\n",
              "    .dataframe thead th {\n",
              "        text-align: right;\n",
              "    }\n",
              "</style>\n",
              "<table border=\"1\" class=\"dataframe\">\n",
              "  <thead>\n",
              "    <tr style=\"text-align: right;\">\n",
              "      <th></th>\n",
              "      <th>model</th>\n",
              "      <th>mae</th>\n",
              "      <th>mse</th>\n",
              "    </tr>\n",
              "  </thead>\n",
              "  <tbody>\n",
              "    <tr>\n",
              "      <th>0</th>\n",
              "      <td>model_1</td>\n",
              "      <td>14.847224</td>\n",
              "      <td>221.263092</td>\n",
              "    </tr>\n",
              "    <tr>\n",
              "      <th>1</th>\n",
              "      <td>model_2</td>\n",
              "      <td>3.010484</td>\n",
              "      <td>11.835520</td>\n",
              "    </tr>\n",
              "    <tr>\n",
              "      <th>2</th>\n",
              "      <td>model_3</td>\n",
              "      <td>68.144836</td>\n",
              "      <td>4728.532227</td>\n",
              "    </tr>\n",
              "  </tbody>\n",
              "</table>\n",
              "</div>\n",
              "    <div class=\"colab-df-buttons\">\n",
              "\n",
              "  <div class=\"colab-df-container\">\n",
              "    <button class=\"colab-df-convert\" onclick=\"convertToInteractive('df-fe23d78e-7200-469e-83f9-ffac7fab38c2')\"\n",
              "            title=\"Convert this dataframe to an interactive table.\"\n",
              "            style=\"display:none;\">\n",
              "\n",
              "  <svg xmlns=\"http://www.w3.org/2000/svg\" height=\"24px\" viewBox=\"0 -960 960 960\">\n",
              "    <path d=\"M120-120v-720h720v720H120Zm60-500h600v-160H180v160Zm220 220h160v-160H400v160Zm0 220h160v-160H400v160ZM180-400h160v-160H180v160Zm440 0h160v-160H620v160ZM180-180h160v-160H180v160Zm440 0h160v-160H620v160Z\"/>\n",
              "  </svg>\n",
              "    </button>\n",
              "\n",
              "  <style>\n",
              "    .colab-df-container {\n",
              "      display:flex;\n",
              "      gap: 12px;\n",
              "    }\n",
              "\n",
              "    .colab-df-convert {\n",
              "      background-color: #E8F0FE;\n",
              "      border: none;\n",
              "      border-radius: 50%;\n",
              "      cursor: pointer;\n",
              "      display: none;\n",
              "      fill: #1967D2;\n",
              "      height: 32px;\n",
              "      padding: 0 0 0 0;\n",
              "      width: 32px;\n",
              "    }\n",
              "\n",
              "    .colab-df-convert:hover {\n",
              "      background-color: #E2EBFA;\n",
              "      box-shadow: 0px 1px 2px rgba(60, 64, 67, 0.3), 0px 1px 3px 1px rgba(60, 64, 67, 0.15);\n",
              "      fill: #174EA6;\n",
              "    }\n",
              "\n",
              "    .colab-df-buttons div {\n",
              "      margin-bottom: 4px;\n",
              "    }\n",
              "\n",
              "    [theme=dark] .colab-df-convert {\n",
              "      background-color: #3B4455;\n",
              "      fill: #D2E3FC;\n",
              "    }\n",
              "\n",
              "    [theme=dark] .colab-df-convert:hover {\n",
              "      background-color: #434B5C;\n",
              "      box-shadow: 0px 1px 3px 1px rgba(0, 0, 0, 0.15);\n",
              "      filter: drop-shadow(0px 1px 2px rgba(0, 0, 0, 0.3));\n",
              "      fill: #FFFFFF;\n",
              "    }\n",
              "  </style>\n",
              "\n",
              "    <script>\n",
              "      const buttonEl =\n",
              "        document.querySelector('#df-fe23d78e-7200-469e-83f9-ffac7fab38c2 button.colab-df-convert');\n",
              "      buttonEl.style.display =\n",
              "        google.colab.kernel.accessAllowed ? 'block' : 'none';\n",
              "\n",
              "      async function convertToInteractive(key) {\n",
              "        const element = document.querySelector('#df-fe23d78e-7200-469e-83f9-ffac7fab38c2');\n",
              "        const dataTable =\n",
              "          await google.colab.kernel.invokeFunction('convertToInteractive',\n",
              "                                                    [key], {});\n",
              "        if (!dataTable) return;\n",
              "\n",
              "        const docLinkHtml = 'Like what you see? Visit the ' +\n",
              "          '<a target=\"_blank\" href=https://colab.research.google.com/notebooks/data_table.ipynb>data table notebook</a>'\n",
              "          + ' to learn more about interactive tables.';\n",
              "        element.innerHTML = '';\n",
              "        dataTable['output_type'] = 'display_data';\n",
              "        await google.colab.output.renderOutput(dataTable, element);\n",
              "        const docLink = document.createElement('div');\n",
              "        docLink.innerHTML = docLinkHtml;\n",
              "        element.appendChild(docLink);\n",
              "      }\n",
              "    </script>\n",
              "  </div>\n",
              "\n",
              "    </div>\n",
              "  </div>\n"
            ]
          },
          "metadata": {},
          "execution_count": 58
        }
      ]
    },
    {
      "cell_type": "code",
      "source": [
        "model_2.summary()"
      ],
      "metadata": {
        "colab": {
          "base_uri": "https://localhost:8080/"
        },
        "id": "HO0Vq9WsAGRc",
        "outputId": "de2fb826-416a-4db5-da43-3e6b85689fa0"
      },
      "execution_count": null,
      "outputs": [
        {
          "output_type": "stream",
          "name": "stdout",
          "text": [
            "Model: \"sequential_5\"\n",
            "_________________________________________________________________\n",
            " Layer (type)                Output Shape              Param #   \n",
            "=================================================================\n",
            " dense_6 (Dense)             (None, 10)                20        \n",
            "                                                                 \n",
            " dense_7 (Dense)             (None, 1)                 11        \n",
            "                                                                 \n",
            "=================================================================\n",
            "Total params: 31\n",
            "Trainable params: 31\n",
            "Non-trainable params: 0\n",
            "_________________________________________________________________\n"
          ]
        }
      ]
    },
    {
      "cell_type": "markdown",
      "source": [
        "Track the results of your experiments while ml modelling\n",
        "1. TensorBoard - a component of a tensorflow lib to help track modelling exp\n",
        "2. Weights & Biases - a tool for traking all ml models"
      ],
      "metadata": {
        "id": "hbSvEeQPAm3k"
      }
    },
    {
      "cell_type": "markdown",
      "source": [
        "* Saving our models\n",
        " allows us to use tem outisde collab\n",
        "1. The SavedModel format\n",
        "2. The HDF5 format"
      ],
      "metadata": {
        "id": "7-2ZZ8i5BGLH"
      }
    },
    {
      "cell_type": "code",
      "source": [
        "# SavedModel format\n",
        "\n",
        "model_2.save(\"best_model_SavedMode_format\")"
      ],
      "metadata": {
        "colab": {
          "base_uri": "https://localhost:8080/"
        },
        "id": "V-bImDI_tkDP",
        "outputId": "b9e02893-cbe4-4ed4-be99-d14af1aedb22"
      },
      "execution_count": null,
      "outputs": [
        {
          "output_type": "stream",
          "name": "stderr",
          "text": [
            "WARNING:absl:Found untraced functions such as _update_step_xla while saving (showing 1 of 1). These functions will not be directly callable after loading.\n"
          ]
        }
      ]
    },
    {
      "cell_type": "code",
      "source": [
        "# the HDF5 format\n",
        "model_2.save(\"best_model_HDF5_format.h5\")"
      ],
      "metadata": {
        "id": "kTv9z7ebuDpM"
      },
      "execution_count": null,
      "outputs": []
    },
    {
      "cell_type": "code",
      "source": [
        "# Loading in the saved model\n",
        "loaded_SavedModel_format = tf.keras.models.load_model(\"best_model_SavedMode_format\")\n",
        "loaded_SavedModel_format.summary()"
      ],
      "metadata": {
        "colab": {
          "base_uri": "https://localhost:8080/"
        },
        "id": "vtAlKMKxuZi2",
        "outputId": "9ae8683a-561d-4a55-aa66-87023af35c53"
      },
      "execution_count": null,
      "outputs": [
        {
          "output_type": "stream",
          "name": "stdout",
          "text": [
            "Model: \"sequential_5\"\n",
            "_________________________________________________________________\n",
            " Layer (type)                Output Shape              Param #   \n",
            "=================================================================\n",
            " dense_6 (Dense)             (None, 10)                20        \n",
            "                                                                 \n",
            " dense_7 (Dense)             (None, 1)                 11        \n",
            "                                                                 \n",
            "=================================================================\n",
            "Total params: 31\n",
            "Trainable params: 31\n",
            "Non-trainable params: 0\n",
            "_________________________________________________________________\n"
          ]
        }
      ]
    },
    {
      "cell_type": "code",
      "source": [
        "model_2.summary()"
      ],
      "metadata": {
        "colab": {
          "base_uri": "https://localhost:8080/"
        },
        "id": "xenj9BYpvFM5",
        "outputId": "9e755263-230a-4a64-8114-d8cf6f83254d"
      },
      "execution_count": null,
      "outputs": [
        {
          "output_type": "stream",
          "name": "stdout",
          "text": [
            "Model: \"sequential_5\"\n",
            "_________________________________________________________________\n",
            " Layer (type)                Output Shape              Param #   \n",
            "=================================================================\n",
            " dense_6 (Dense)             (None, 10)                20        \n",
            "                                                                 \n",
            " dense_7 (Dense)             (None, 1)                 11        \n",
            "                                                                 \n",
            "=================================================================\n",
            "Total params: 31\n",
            "Trainable params: 31\n",
            "Non-trainable params: 0\n",
            "_________________________________________________________________\n"
          ]
        }
      ]
    },
    {
      "cell_type": "code",
      "source": [
        "# comparing the predictions\n",
        "\n",
        "model_2_preds = model_2.predict(x_test)\n",
        "loaded_SavedModel_format_preds = loaded_SavedModel_format.predict(x_test)\n",
        "model_2_preds == loaded_SavedModel_format_preds"
      ],
      "metadata": {
        "colab": {
          "base_uri": "https://localhost:8080/"
        },
        "id": "jbtV03jNvQvR",
        "outputId": "a094fbe3-8deb-44e8-8cf4-9148b355f901"
      },
      "execution_count": null,
      "outputs": [
        {
          "output_type": "stream",
          "name": "stdout",
          "text": [
            "1/1 [==============================] - 0s 35ms/step\n",
            "1/1 [==============================] - 0s 51ms/step\n"
          ]
        },
        {
          "output_type": "execute_result",
          "data": {
            "text/plain": [
              "array([[ True],\n",
              "       [ True],\n",
              "       [ True],\n",
              "       [ True],\n",
              "       [ True],\n",
              "       [ True],\n",
              "       [ True],\n",
              "       [ True],\n",
              "       [ True],\n",
              "       [ True]])"
            ]
          },
          "metadata": {},
          "execution_count": 69
        }
      ]
    },
    {
      "cell_type": "code",
      "source": [
        "# loading in H5 Model\n",
        "\n",
        "loaded_h5_model = tf.keras.models.load_model(\"best_model_HDF5_format\")\n",
        "loaded_h5_model.summary()"
      ],
      "metadata": {
        "colab": {
          "base_uri": "https://localhost:8080/"
        },
        "id": "bLFuW8Xcv0OY",
        "outputId": "40c27639-74a9-4044-d09b-dfeb55b9922a"
      },
      "execution_count": null,
      "outputs": [
        {
          "output_type": "stream",
          "name": "stdout",
          "text": [
            "Model: \"sequential_5\"\n",
            "_________________________________________________________________\n",
            " Layer (type)                Output Shape              Param #   \n",
            "=================================================================\n",
            " dense_6 (Dense)             (None, 10)                20        \n",
            "                                                                 \n",
            " dense_7 (Dense)             (None, 1)                 11        \n",
            "                                                                 \n",
            "=================================================================\n",
            "Total params: 31\n",
            "Trainable params: 31\n",
            "Non-trainable params: 0\n",
            "_________________________________________________________________\n"
          ]
        }
      ]
    },
    {
      "cell_type": "code",
      "source": [
        "model_2_preds = model_2.predict(x_test)\n",
        "loaded_h5_model_preds = loaded_h5_model.predict(x_test)\n",
        "model_2_preds == loaded_h5_model_preds"
      ],
      "metadata": {
        "colab": {
          "base_uri": "https://localhost:8080/"
        },
        "id": "v_z1aVEywHFS",
        "outputId": "5828e941-0360-4041-e790-52a0c23886e1"
      },
      "execution_count": null,
      "outputs": [
        {
          "output_type": "stream",
          "name": "stdout",
          "text": [
            "1/1 [==============================] - 0s 22ms/step\n",
            "1/1 [==============================] - 0s 49ms/step\n"
          ]
        },
        {
          "output_type": "execute_result",
          "data": {
            "text/plain": [
              "array([[ True],\n",
              "       [ True],\n",
              "       [ True],\n",
              "       [ True],\n",
              "       [ True],\n",
              "       [ True],\n",
              "       [ True],\n",
              "       [ True],\n",
              "       [ True],\n",
              "       [ True]])"
            ]
          },
          "metadata": {},
          "execution_count": 71
        }
      ]
    },
    {
      "cell_type": "code",
      "source": [
        "#Download model from Colab\n",
        "from google.colab import files\n",
        "files.download(\"/content/best_model_SavedMode_format\")"
      ],
      "metadata": {
        "colab": {
          "base_uri": "https://localhost:8080/",
          "height": 34
        },
        "id": "7rCaqwpowlG9",
        "outputId": "538eddde-1b22-4357-80d4-24c46e64c3d7"
      },
      "execution_count": null,
      "outputs": [
        {
          "output_type": "display_data",
          "data": {
            "text/plain": [
              "<IPython.core.display.Javascript object>"
            ],
            "application/javascript": [
              "\n",
              "    async function download(id, filename, size) {\n",
              "      if (!google.colab.kernel.accessAllowed) {\n",
              "        return;\n",
              "      }\n",
              "      const div = document.createElement('div');\n",
              "      const label = document.createElement('label');\n",
              "      label.textContent = `Downloading \"${filename}\": `;\n",
              "      div.appendChild(label);\n",
              "      const progress = document.createElement('progress');\n",
              "      progress.max = size;\n",
              "      div.appendChild(progress);\n",
              "      document.body.appendChild(div);\n",
              "\n",
              "      const buffers = [];\n",
              "      let downloaded = 0;\n",
              "\n",
              "      const channel = await google.colab.kernel.comms.open(id);\n",
              "      // Send a message to notify the kernel that we're ready.\n",
              "      channel.send({})\n",
              "\n",
              "      for await (const message of channel.messages) {\n",
              "        // Send a message to notify the kernel that we're ready.\n",
              "        channel.send({})\n",
              "        if (message.buffers) {\n",
              "          for (const buffer of message.buffers) {\n",
              "            buffers.push(buffer);\n",
              "            downloaded += buffer.byteLength;\n",
              "            progress.value = downloaded;\n",
              "          }\n",
              "        }\n",
              "      }\n",
              "      const blob = new Blob(buffers, {type: 'application/binary'});\n",
              "      const a = document.createElement('a');\n",
              "      a.href = window.URL.createObjectURL(blob);\n",
              "      a.download = filename;\n",
              "      div.appendChild(a);\n",
              "      a.click();\n",
              "      div.remove();\n",
              "    }\n",
              "  "
            ]
          },
          "metadata": {}
        },
        {
          "output_type": "display_data",
          "data": {
            "text/plain": [
              "<IPython.core.display.Javascript object>"
            ],
            "application/javascript": [
              "download(\"download_b5fc1d52-61a5-49e4-8279-f74c282ab4e2\", \"best_model_SavedMode_format\", 4096)"
            ]
          },
          "metadata": {}
        }
      ]
    }
  ]
}