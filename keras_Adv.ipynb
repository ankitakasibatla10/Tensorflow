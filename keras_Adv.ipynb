{
  "nbformat": 4,
  "nbformat_minor": 0,
  "metadata": {
    "colab": {
      "provenance": []
    },
    "kernelspec": {
      "name": "python3",
      "display_name": "Python 3"
    },
    "language_info": {
      "name": "python"
    }
  },
  "cells": [
    {
      "cell_type": "code",
      "source": [
        "import pandas as pd\n",
        "import tensorflow as tf\n",
        "\n",
        "games_tourney = pd.read_csv('games_tourney.csv')\n",
        "\n",
        "\n"
      ],
      "metadata": {
        "id": "4VtTYCOA3TYb"
      },
      "execution_count": null,
      "outputs": []
    },
    {
      "cell_type": "code",
      "source": [
        "games_season = pd.read_csv('games_season_enriched.csv')\n",
        "\n",
        "games_season.head()"
      ],
      "metadata": {
        "colab": {
          "base_uri": "https://localhost:8080/",
          "height": 206
        },
        "id": "4uIXILSJ7mum",
        "outputId": "8c429fa0-a04d-4c28-aa83-724ede6e9e26"
      },
      "execution_count": null,
      "outputs": [
        {
          "output_type": "execute_result",
          "data": {
            "text/plain": [
              "   season  team_1  team_2  home  seed_diff  score_diff  score_1  score_2  won  \\\n",
              "0    1985     288      73     0         -3          -9       41       50    0   \n",
              "1    1985    5929      73     0          4           6       61       55    1   \n",
              "2    1985    9884      73     0          5          -4       59       63    0   \n",
              "3    1985      73     288     0          3           9       50       41    1   \n",
              "4    1985    3920     410     0          1          -9       54       63    0   \n",
              "\n",
              "       pred  \n",
              "0 -3.601452  \n",
              "1  0.474164  \n",
              "2 -0.414316  \n",
              "3  3.601452  \n",
              "4  8.176179  "
            ],
            "text/html": [
              "\n",
              "  <div id=\"df-5412431f-18fa-4bba-b230-e5ea401470f9\" class=\"colab-df-container\">\n",
              "    <div>\n",
              "<style scoped>\n",
              "    .dataframe tbody tr th:only-of-type {\n",
              "        vertical-align: middle;\n",
              "    }\n",
              "\n",
              "    .dataframe tbody tr th {\n",
              "        vertical-align: top;\n",
              "    }\n",
              "\n",
              "    .dataframe thead th {\n",
              "        text-align: right;\n",
              "    }\n",
              "</style>\n",
              "<table border=\"1\" class=\"dataframe\">\n",
              "  <thead>\n",
              "    <tr style=\"text-align: right;\">\n",
              "      <th></th>\n",
              "      <th>season</th>\n",
              "      <th>team_1</th>\n",
              "      <th>team_2</th>\n",
              "      <th>home</th>\n",
              "      <th>seed_diff</th>\n",
              "      <th>score_diff</th>\n",
              "      <th>score_1</th>\n",
              "      <th>score_2</th>\n",
              "      <th>won</th>\n",
              "      <th>pred</th>\n",
              "    </tr>\n",
              "  </thead>\n",
              "  <tbody>\n",
              "    <tr>\n",
              "      <th>0</th>\n",
              "      <td>1985</td>\n",
              "      <td>288</td>\n",
              "      <td>73</td>\n",
              "      <td>0</td>\n",
              "      <td>-3</td>\n",
              "      <td>-9</td>\n",
              "      <td>41</td>\n",
              "      <td>50</td>\n",
              "      <td>0</td>\n",
              "      <td>-3.601452</td>\n",
              "    </tr>\n",
              "    <tr>\n",
              "      <th>1</th>\n",
              "      <td>1985</td>\n",
              "      <td>5929</td>\n",
              "      <td>73</td>\n",
              "      <td>0</td>\n",
              "      <td>4</td>\n",
              "      <td>6</td>\n",
              "      <td>61</td>\n",
              "      <td>55</td>\n",
              "      <td>1</td>\n",
              "      <td>0.474164</td>\n",
              "    </tr>\n",
              "    <tr>\n",
              "      <th>2</th>\n",
              "      <td>1985</td>\n",
              "      <td>9884</td>\n",
              "      <td>73</td>\n",
              "      <td>0</td>\n",
              "      <td>5</td>\n",
              "      <td>-4</td>\n",
              "      <td>59</td>\n",
              "      <td>63</td>\n",
              "      <td>0</td>\n",
              "      <td>-0.414316</td>\n",
              "    </tr>\n",
              "    <tr>\n",
              "      <th>3</th>\n",
              "      <td>1985</td>\n",
              "      <td>73</td>\n",
              "      <td>288</td>\n",
              "      <td>0</td>\n",
              "      <td>3</td>\n",
              "      <td>9</td>\n",
              "      <td>50</td>\n",
              "      <td>41</td>\n",
              "      <td>1</td>\n",
              "      <td>3.601452</td>\n",
              "    </tr>\n",
              "    <tr>\n",
              "      <th>4</th>\n",
              "      <td>1985</td>\n",
              "      <td>3920</td>\n",
              "      <td>410</td>\n",
              "      <td>0</td>\n",
              "      <td>1</td>\n",
              "      <td>-9</td>\n",
              "      <td>54</td>\n",
              "      <td>63</td>\n",
              "      <td>0</td>\n",
              "      <td>8.176179</td>\n",
              "    </tr>\n",
              "  </tbody>\n",
              "</table>\n",
              "</div>\n",
              "    <div class=\"colab-df-buttons\">\n",
              "\n",
              "  <div class=\"colab-df-container\">\n",
              "    <button class=\"colab-df-convert\" onclick=\"convertToInteractive('df-5412431f-18fa-4bba-b230-e5ea401470f9')\"\n",
              "            title=\"Convert this dataframe to an interactive table.\"\n",
              "            style=\"display:none;\">\n",
              "\n",
              "  <svg xmlns=\"http://www.w3.org/2000/svg\" height=\"24px\" viewBox=\"0 -960 960 960\">\n",
              "    <path d=\"M120-120v-720h720v720H120Zm60-500h600v-160H180v160Zm220 220h160v-160H400v160Zm0 220h160v-160H400v160ZM180-400h160v-160H180v160Zm440 0h160v-160H620v160ZM180-180h160v-160H180v160Zm440 0h160v-160H620v160Z\"/>\n",
              "  </svg>\n",
              "    </button>\n",
              "\n",
              "  <style>\n",
              "    .colab-df-container {\n",
              "      display:flex;\n",
              "      gap: 12px;\n",
              "    }\n",
              "\n",
              "    .colab-df-convert {\n",
              "      background-color: #E8F0FE;\n",
              "      border: none;\n",
              "      border-radius: 50%;\n",
              "      cursor: pointer;\n",
              "      display: none;\n",
              "      fill: #1967D2;\n",
              "      height: 32px;\n",
              "      padding: 0 0 0 0;\n",
              "      width: 32px;\n",
              "    }\n",
              "\n",
              "    .colab-df-convert:hover {\n",
              "      background-color: #E2EBFA;\n",
              "      box-shadow: 0px 1px 2px rgba(60, 64, 67, 0.3), 0px 1px 3px 1px rgba(60, 64, 67, 0.15);\n",
              "      fill: #174EA6;\n",
              "    }\n",
              "\n",
              "    .colab-df-buttons div {\n",
              "      margin-bottom: 4px;\n",
              "    }\n",
              "\n",
              "    [theme=dark] .colab-df-convert {\n",
              "      background-color: #3B4455;\n",
              "      fill: #D2E3FC;\n",
              "    }\n",
              "\n",
              "    [theme=dark] .colab-df-convert:hover {\n",
              "      background-color: #434B5C;\n",
              "      box-shadow: 0px 1px 3px 1px rgba(0, 0, 0, 0.15);\n",
              "      filter: drop-shadow(0px 1px 2px rgba(0, 0, 0, 0.3));\n",
              "      fill: #FFFFFF;\n",
              "    }\n",
              "  </style>\n",
              "\n",
              "    <script>\n",
              "      const buttonEl =\n",
              "        document.querySelector('#df-5412431f-18fa-4bba-b230-e5ea401470f9 button.colab-df-convert');\n",
              "      buttonEl.style.display =\n",
              "        google.colab.kernel.accessAllowed ? 'block' : 'none';\n",
              "\n",
              "      async function convertToInteractive(key) {\n",
              "        const element = document.querySelector('#df-5412431f-18fa-4bba-b230-e5ea401470f9');\n",
              "        const dataTable =\n",
              "          await google.colab.kernel.invokeFunction('convertToInteractive',\n",
              "                                                    [key], {});\n",
              "        if (!dataTable) return;\n",
              "\n",
              "        const docLinkHtml = 'Like what you see? Visit the ' +\n",
              "          '<a target=\"_blank\" href=https://colab.research.google.com/notebooks/data_table.ipynb>data table notebook</a>'\n",
              "          + ' to learn more about interactive tables.';\n",
              "        element.innerHTML = '';\n",
              "        dataTable['output_type'] = 'display_data';\n",
              "        await google.colab.output.renderOutput(dataTable, element);\n",
              "        const docLink = document.createElement('div');\n",
              "        docLink.innerHTML = docLinkHtml;\n",
              "        element.appendChild(docLink);\n",
              "      }\n",
              "    </script>\n",
              "  </div>\n",
              "\n",
              "\n",
              "<div id=\"df-6a24a99b-ceb8-47d7-ace2-afb3a268da9a\">\n",
              "  <button class=\"colab-df-quickchart\" onclick=\"quickchart('df-6a24a99b-ceb8-47d7-ace2-afb3a268da9a')\"\n",
              "            title=\"Suggest charts.\"\n",
              "            style=\"display:none;\">\n",
              "\n",
              "<svg xmlns=\"http://www.w3.org/2000/svg\" height=\"24px\"viewBox=\"0 0 24 24\"\n",
              "     width=\"24px\">\n",
              "    <g>\n",
              "        <path d=\"M19 3H5c-1.1 0-2 .9-2 2v14c0 1.1.9 2 2 2h14c1.1 0 2-.9 2-2V5c0-1.1-.9-2-2-2zM9 17H7v-7h2v7zm4 0h-2V7h2v10zm4 0h-2v-4h2v4z\"/>\n",
              "    </g>\n",
              "</svg>\n",
              "  </button>\n",
              "\n",
              "<style>\n",
              "  .colab-df-quickchart {\n",
              "      --bg-color: #E8F0FE;\n",
              "      --fill-color: #1967D2;\n",
              "      --hover-bg-color: #E2EBFA;\n",
              "      --hover-fill-color: #174EA6;\n",
              "      --disabled-fill-color: #AAA;\n",
              "      --disabled-bg-color: #DDD;\n",
              "  }\n",
              "\n",
              "  [theme=dark] .colab-df-quickchart {\n",
              "      --bg-color: #3B4455;\n",
              "      --fill-color: #D2E3FC;\n",
              "      --hover-bg-color: #434B5C;\n",
              "      --hover-fill-color: #FFFFFF;\n",
              "      --disabled-bg-color: #3B4455;\n",
              "      --disabled-fill-color: #666;\n",
              "  }\n",
              "\n",
              "  .colab-df-quickchart {\n",
              "    background-color: var(--bg-color);\n",
              "    border: none;\n",
              "    border-radius: 50%;\n",
              "    cursor: pointer;\n",
              "    display: none;\n",
              "    fill: var(--fill-color);\n",
              "    height: 32px;\n",
              "    padding: 0;\n",
              "    width: 32px;\n",
              "  }\n",
              "\n",
              "  .colab-df-quickchart:hover {\n",
              "    background-color: var(--hover-bg-color);\n",
              "    box-shadow: 0 1px 2px rgba(60, 64, 67, 0.3), 0 1px 3px 1px rgba(60, 64, 67, 0.15);\n",
              "    fill: var(--button-hover-fill-color);\n",
              "  }\n",
              "\n",
              "  .colab-df-quickchart-complete:disabled,\n",
              "  .colab-df-quickchart-complete:disabled:hover {\n",
              "    background-color: var(--disabled-bg-color);\n",
              "    fill: var(--disabled-fill-color);\n",
              "    box-shadow: none;\n",
              "  }\n",
              "\n",
              "  .colab-df-spinner {\n",
              "    border: 2px solid var(--fill-color);\n",
              "    border-color: transparent;\n",
              "    border-bottom-color: var(--fill-color);\n",
              "    animation:\n",
              "      spin 1s steps(1) infinite;\n",
              "  }\n",
              "\n",
              "  @keyframes spin {\n",
              "    0% {\n",
              "      border-color: transparent;\n",
              "      border-bottom-color: var(--fill-color);\n",
              "      border-left-color: var(--fill-color);\n",
              "    }\n",
              "    20% {\n",
              "      border-color: transparent;\n",
              "      border-left-color: var(--fill-color);\n",
              "      border-top-color: var(--fill-color);\n",
              "    }\n",
              "    30% {\n",
              "      border-color: transparent;\n",
              "      border-left-color: var(--fill-color);\n",
              "      border-top-color: var(--fill-color);\n",
              "      border-right-color: var(--fill-color);\n",
              "    }\n",
              "    40% {\n",
              "      border-color: transparent;\n",
              "      border-right-color: var(--fill-color);\n",
              "      border-top-color: var(--fill-color);\n",
              "    }\n",
              "    60% {\n",
              "      border-color: transparent;\n",
              "      border-right-color: var(--fill-color);\n",
              "    }\n",
              "    80% {\n",
              "      border-color: transparent;\n",
              "      border-right-color: var(--fill-color);\n",
              "      border-bottom-color: var(--fill-color);\n",
              "    }\n",
              "    90% {\n",
              "      border-color: transparent;\n",
              "      border-bottom-color: var(--fill-color);\n",
              "    }\n",
              "  }\n",
              "</style>\n",
              "\n",
              "  <script>\n",
              "    async function quickchart(key) {\n",
              "      const quickchartButtonEl =\n",
              "        document.querySelector('#' + key + ' button');\n",
              "      quickchartButtonEl.disabled = true;  // To prevent multiple clicks.\n",
              "      quickchartButtonEl.classList.add('colab-df-spinner');\n",
              "      try {\n",
              "        const charts = await google.colab.kernel.invokeFunction(\n",
              "            'suggestCharts', [key], {});\n",
              "      } catch (error) {\n",
              "        console.error('Error during call to suggestCharts:', error);\n",
              "      }\n",
              "      quickchartButtonEl.classList.remove('colab-df-spinner');\n",
              "      quickchartButtonEl.classList.add('colab-df-quickchart-complete');\n",
              "    }\n",
              "    (() => {\n",
              "      let quickchartButtonEl =\n",
              "        document.querySelector('#df-6a24a99b-ceb8-47d7-ace2-afb3a268da9a button');\n",
              "      quickchartButtonEl.style.display =\n",
              "        google.colab.kernel.accessAllowed ? 'block' : 'none';\n",
              "    })();\n",
              "  </script>\n",
              "</div>\n",
              "    </div>\n",
              "  </div>\n"
            ]
          },
          "metadata": {},
          "execution_count": 20
        }
      ]
    },
    {
      "cell_type": "code",
      "execution_count": null,
      "metadata": {
        "id": "A2rxwMmc8Lhi"
      },
      "outputs": [],
      "source": [
        "# KERAS INPUT AND DESNE LAYERS Import Input from tensorflow.keras.layers\n",
        "from tensorflow.keras.layers import Input\n",
        "\n",
        "# Create an input layer of shape 1\n",
        "input_tensor = Input(shape=(1,))"
      ]
    },
    {
      "cell_type": "code",
      "source": [
        "import pandas as pd\n"
      ],
      "metadata": {
        "id": "mjlXLsSR_HYE"
      },
      "execution_count": null,
      "outputs": []
    },
    {
      "cell_type": "code",
      "source": [
        "# Load layers\n",
        "from tensorflow.keras.layers import Input, Dense\n",
        "\n",
        "# Input layer\n",
        "input_tensor = Input(shape=(1,))\n",
        "\n",
        "# Dense layer\n",
        "output_layer = Dense(1)\n",
        "\n",
        "# Connect the dense layer to the input_tensor\n",
        "output_tensor = output_layer(input_tensor)"
      ],
      "metadata": {
        "id": "NxOdnwPg9fjk"
      },
      "execution_count": null,
      "outputs": []
    },
    {
      "cell_type": "code",
      "source": [
        "# Load layers\n",
        "from tensorflow.keras.layers import Input, Dense\n",
        "\n",
        "# Input layer\n",
        "input_tensor = Input(shape=(1,))\n",
        "\n",
        "# Create a dense layer and connect the dense layer to the input_tensor in one step\n",
        "# Note that we did this in 2 steps in the previous exercise, but are doing it in one step now\n",
        "output_tensor = Dense(1)(input_tensor)"
      ],
      "metadata": {
        "id": "WL2cq2RR9gK3"
      },
      "execution_count": null,
      "outputs": []
    },
    {
      "cell_type": "code",
      "source": [
        "# Input/dense/output layers\n",
        "from tensorflow.keras.layers import Input, Dense\n",
        "input_tensor = Input(shape=(1,))\n",
        "output_tensor = Dense(1)(input_tensor)\n",
        "\n",
        "# Build the model\n",
        "from tensorflow.keras.models import Model\n",
        "model = Model(input_tensor, output_tensor)\n",
        "\n",
        "# Compile the model\n",
        "model.compile(optimizer='adam', loss='mean_absolute_error')"
      ],
      "metadata": {
        "id": "WBGeO5Ky9yYO"
      },
      "execution_count": null,
      "outputs": []
    },
    {
      "cell_type": "code",
      "source": [
        "# Import the plotting function\n",
        "from tensorflow.keras.utils import plot_model\n",
        "import matplotlib.pyplot as plt\n",
        "\n",
        "# Summarize the model\n",
        "model.summary()\n",
        "\n",
        "# Plot the model\n",
        "plot_model(model, to_file='model.png')\n",
        "\n",
        "# Display the image\n",
        "data = plt.imread('model.png')\n",
        "plt.imshow(data)\n",
        "plt.show()"
      ],
      "metadata": {
        "colab": {
          "base_uri": "https://localhost:8080/",
          "height": 660
        },
        "id": "qFdvgEhG-kXq",
        "outputId": "63b4c98b-119f-4019-986c-8833d0aac8e9"
      },
      "execution_count": null,
      "outputs": [
        {
          "output_type": "stream",
          "name": "stdout",
          "text": [
            "Model: \"model_2\"\n",
            "_________________________________________________________________\n",
            " Layer (type)                Output Shape              Param #   \n",
            "=================================================================\n",
            " input_12 (InputLayer)       [(None, 1)]               0         \n",
            "                                                                 \n",
            " dense_8 (Dense)             (None, 1)                 2         \n",
            "                                                                 \n",
            "=================================================================\n",
            "Total params: 2\n",
            "Trainable params: 2\n",
            "Non-trainable params: 0\n",
            "_________________________________________________________________\n"
          ]
        },
        {
          "output_type": "display_data",
          "data": {
            "text/plain": [
              "<Figure size 640x480 with 1 Axes>"
            ],
            "image/png": "[encoded data removed]"
          },
          "metadata": {}
        }
      ]
    },
    {
      "cell_type": "markdown",
      "source": [
        "seed difference - input\n",
        "score difference - output\n",
        "\n",
        "So a positive seed difference is usually predictive of a negative score difference, and a negative seed difference is usually predictive of a positive score difference."
      ],
      "metadata": {
        "id": "SA_YgOx8_bJM"
      }
    },
    {
      "cell_type": "markdown",
      "source": [
        "Batch size sets how many rows of data are used for each step of stochastic gradient descent. In this case, you'll train on 64 rows at a time. Validation split tells Keras to use a holdout set, and return metrics on accuracy using that data."
      ],
      "metadata": {
        "id": "IjKX6ndiAEGW"
      }
    },
    {
      "cell_type": "code",
      "source": [
        "from sklearn.model_selection import train_test_split\n",
        "import numpy as np\n",
        "\n",
        "games_tourney_x = ['seed_diff', 'pred']\n",
        "games_tourney_y = ['score_diff', 'won']\n",
        "\n",
        "games_tourney_x_train, games_tourney_x_test, games_tourney_y_train, games_tourney_y_test = train_test_split(games_tourney_x, games_tourney_y, random_state=0, train_size = .75)\n",
        "\n",
        "games_tourney_x_train = np.array(games_tourney_x_train)\n",
        "games_tourney_y_train = np.array(games_tourney_y_train)\n",
        "\n",
        "games_tourney_x_train = pd.DataFrame(games_tourney_x_train)\n",
        "games_tourney_y_train = pd.DataFrame(games_tourney_y_train)"
      ],
      "metadata": {
        "colab": {
          "base_uri": "https://localhost:8080/",
          "height": 262
        },
        "id": "c-3cN0Rh6kAS",
        "outputId": "98fc2651-47f8-4de4-c68c-1e44c56bba84"
      },
      "execution_count": null,
      "outputs": [
        {
          "output_type": "error",
          "ename": "TypeError",
          "evalue": "ignored",
          "traceback": [
            "\u001b[0;31m---------------------------------------------------------------------------\u001b[0m",
            "\u001b[0;31mTypeError\u001b[0m                                 Traceback (most recent call last)",
            "\u001b[0;32m<ipython-input-37-f8b663d17ce1>\u001b[0m in \u001b[0;36m<cell line: 9>\u001b[0;34m()\u001b[0m\n\u001b[1;32m      7\u001b[0m \u001b[0mgames_tourney_x_train\u001b[0m\u001b[0;34m,\u001b[0m \u001b[0mgames_tourney_x_test\u001b[0m\u001b[0;34m,\u001b[0m \u001b[0mgames_tourney_y_train\u001b[0m\u001b[0;34m,\u001b[0m \u001b[0mgames_tourney_y_test\u001b[0m \u001b[0;34m=\u001b[0m \u001b[0mtrain_test_split\u001b[0m\u001b[0;34m(\u001b[0m\u001b[0mgames_tourney_x\u001b[0m\u001b[0;34m,\u001b[0m \u001b[0mgames_tourney_y\u001b[0m\u001b[0;34m,\u001b[0m \u001b[0mrandom_state\u001b[0m\u001b[0;34m=\u001b[0m\u001b[0;36m0\u001b[0m\u001b[0;34m,\u001b[0m \u001b[0mtrain_size\u001b[0m \u001b[0;34m=\u001b[0m \u001b[0;36m.75\u001b[0m\u001b[0;34m)\u001b[0m\u001b[0;34m\u001b[0m\u001b[0;34m\u001b[0m\u001b[0m\n\u001b[1;32m      8\u001b[0m \u001b[0;34m\u001b[0m\u001b[0m\n\u001b[0;32m----> 9\u001b[0;31m \u001b[0mgames_tourney_x_train\u001b[0m \u001b[0;34m=\u001b[0m \u001b[0mnp\u001b[0m\u001b[0;34m.\u001b[0m\u001b[0marray\u001b[0m\u001b[0;34m(\u001b[0m\u001b[0mgames_tourney_x_train\u001b[0m\u001b[0;34m[\u001b[0m\u001b[0;34m'seed_diff'\u001b[0m\u001b[0;34m,\u001b[0m \u001b[0;34m'pred'\u001b[0m\u001b[0;34m]\u001b[0m\u001b[0;34m)\u001b[0m\u001b[0;34m\u001b[0m\u001b[0;34m\u001b[0m\u001b[0m\n\u001b[0m\u001b[1;32m     10\u001b[0m \u001b[0mgames_tourney_y_train\u001b[0m \u001b[0;34m=\u001b[0m \u001b[0mnp\u001b[0m\u001b[0;34m.\u001b[0m\u001b[0marray\u001b[0m\u001b[0;34m(\u001b[0m\u001b[0mgames_tourney_y_train\u001b[0m\u001b[0;34m[\u001b[0m\u001b[0;34m'score_diff'\u001b[0m\u001b[0;34m,\u001b[0m \u001b[0;34m'won'\u001b[0m\u001b[0;34m]\u001b[0m\u001b[0;34m)\u001b[0m\u001b[0;34m\u001b[0m\u001b[0;34m\u001b[0m\u001b[0m\n\u001b[1;32m     11\u001b[0m \u001b[0;34m\u001b[0m\u001b[0m\n",
            "\u001b[0;31mTypeError\u001b[0m: list indices must be integers or slices, not tuple"
          ]
        }
      ]
    },
    {
      "cell_type": "code",
      "source": [
        "# Now fit the model\n",
        "model.fit(games_tourney_x_train['seed_diff'], games_tourney_y_train['score_diff'],\n",
        "          epochs=1,\n",
        "          batch_size=128,\n",
        "          validation_split=0.1,\n",
        "          verbose=True)"
      ],
      "metadata": {
        "colab": {
          "base_uri": "https://localhost:8080/",
          "height": 390
        },
        "id": "6a4a1KNzAak_",
        "outputId": "7eeba42c-5c4a-43bd-accb-98d56a31d649"
      },
      "execution_count": null,
      "outputs": [
        {
          "output_type": "error",
          "ename": "KeyError",
          "evalue": "ignored",
          "traceback": [
            "\u001b[0;31m---------------------------------------------------------------------------\u001b[0m",
            "\u001b[0;31mKeyError\u001b[0m                                  Traceback (most recent call last)",
            "\u001b[0;32m<ipython-input-34-8e6de56b80fb>\u001b[0m in \u001b[0;36m<cell line: 2>\u001b[0;34m()\u001b[0m\n\u001b[1;32m      1\u001b[0m \u001b[0;31m# Now fit the model\u001b[0m\u001b[0;34m\u001b[0m\u001b[0;34m\u001b[0m\u001b[0m\n\u001b[0;32m----> 2\u001b[0;31m model.fit(games_tourney_x_train['seed_diff'], games_tourney_y_train['score_diff'],\n\u001b[0m\u001b[1;32m      3\u001b[0m           \u001b[0mepochs\u001b[0m\u001b[0;34m=\u001b[0m\u001b[0;36m1\u001b[0m\u001b[0;34m,\u001b[0m\u001b[0;34m\u001b[0m\u001b[0;34m\u001b[0m\u001b[0m\n\u001b[1;32m      4\u001b[0m           \u001b[0mbatch_size\u001b[0m\u001b[0;34m=\u001b[0m\u001b[0;36m128\u001b[0m\u001b[0;34m,\u001b[0m\u001b[0;34m\u001b[0m\u001b[0;34m\u001b[0m\u001b[0m\n\u001b[1;32m      5\u001b[0m           \u001b[0mvalidation_split\u001b[0m\u001b[0;34m=\u001b[0m\u001b[0;36m0.1\u001b[0m\u001b[0;34m,\u001b[0m\u001b[0;34m\u001b[0m\u001b[0;34m\u001b[0m\u001b[0m\n",
            "\u001b[0;32m/usr/local/lib/python3.10/dist-packages/pandas/core/frame.py\u001b[0m in \u001b[0;36m__getitem__\u001b[0;34m(self, key)\u001b[0m\n\u001b[1;32m   3805\u001b[0m             \u001b[0;32mif\u001b[0m \u001b[0mself\u001b[0m\u001b[0;34m.\u001b[0m\u001b[0mcolumns\u001b[0m\u001b[0;34m.\u001b[0m\u001b[0mnlevels\u001b[0m \u001b[0;34m>\u001b[0m \u001b[0;36m1\u001b[0m\u001b[0;34m:\u001b[0m\u001b[0;34m\u001b[0m\u001b[0;34m\u001b[0m\u001b[0m\n\u001b[1;32m   3806\u001b[0m                 \u001b[0;32mreturn\u001b[0m \u001b[0mself\u001b[0m\u001b[0;34m.\u001b[0m\u001b[0m_getitem_multilevel\u001b[0m\u001b[0;34m(\u001b[0m\u001b[0mkey\u001b[0m\u001b[0;34m)\u001b[0m\u001b[0;34m\u001b[0m\u001b[0;34m\u001b[0m\u001b[0m\n\u001b[0;32m-> 3807\u001b[0;31m             \u001b[0mindexer\u001b[0m \u001b[0;34m=\u001b[0m \u001b[0mself\u001b[0m\u001b[0;34m.\u001b[0m\u001b[0mcolumns\u001b[0m\u001b[0;34m.\u001b[0m\u001b[0mget_loc\u001b[0m\u001b[0;34m(\u001b[0m\u001b[0mkey\u001b[0m\u001b[0;34m)\u001b[0m\u001b[0;34m\u001b[0m\u001b[0;34m\u001b[0m\u001b[0m\n\u001b[0m\u001b[1;32m   3808\u001b[0m             \u001b[0;32mif\u001b[0m \u001b[0mis_integer\u001b[0m\u001b[0;34m(\u001b[0m\u001b[0mindexer\u001b[0m\u001b[0;34m)\u001b[0m\u001b[0;34m:\u001b[0m\u001b[0;34m\u001b[0m\u001b[0;34m\u001b[0m\u001b[0m\n\u001b[1;32m   3809\u001b[0m                 \u001b[0mindexer\u001b[0m \u001b[0;34m=\u001b[0m \u001b[0;34m[\u001b[0m\u001b[0mindexer\u001b[0m\u001b[0;34m]\u001b[0m\u001b[0;34m\u001b[0m\u001b[0;34m\u001b[0m\u001b[0m\n",
            "\u001b[0;32m/usr/local/lib/python3.10/dist-packages/pandas/core/indexes/range.py\u001b[0m in \u001b[0;36mget_loc\u001b[0;34m(self, key, method, tolerance)\u001b[0m\n\u001b[1;32m    393\u001b[0m                     \u001b[0;32mraise\u001b[0m \u001b[0mKeyError\u001b[0m\u001b[0;34m(\u001b[0m\u001b[0mkey\u001b[0m\u001b[0;34m)\u001b[0m \u001b[0;32mfrom\u001b[0m \u001b[0merr\u001b[0m\u001b[0;34m\u001b[0m\u001b[0;34m\u001b[0m\u001b[0m\n\u001b[1;32m    394\u001b[0m             \u001b[0mself\u001b[0m\u001b[0;34m.\u001b[0m\u001b[0m_check_indexing_error\u001b[0m\u001b[0;34m(\u001b[0m\u001b[0mkey\u001b[0m\u001b[0;34m)\u001b[0m\u001b[0;34m\u001b[0m\u001b[0;34m\u001b[0m\u001b[0m\n\u001b[0;32m--> 395\u001b[0;31m             \u001b[0;32mraise\u001b[0m \u001b[0mKeyError\u001b[0m\u001b[0;34m(\u001b[0m\u001b[0mkey\u001b[0m\u001b[0;34m)\u001b[0m\u001b[0;34m\u001b[0m\u001b[0;34m\u001b[0m\u001b[0m\n\u001b[0m\u001b[1;32m    396\u001b[0m         \u001b[0;32mreturn\u001b[0m \u001b[0msuper\u001b[0m\u001b[0;34m(\u001b[0m\u001b[0;34m)\u001b[0m\u001b[0;34m.\u001b[0m\u001b[0mget_loc\u001b[0m\u001b[0;34m(\u001b[0m\u001b[0mkey\u001b[0m\u001b[0;34m,\u001b[0m \u001b[0mmethod\u001b[0m\u001b[0;34m=\u001b[0m\u001b[0mmethod\u001b[0m\u001b[0;34m,\u001b[0m \u001b[0mtolerance\u001b[0m\u001b[0;34m=\u001b[0m\u001b[0mtolerance\u001b[0m\u001b[0;34m)\u001b[0m\u001b[0;34m\u001b[0m\u001b[0;34m\u001b[0m\u001b[0m\n\u001b[1;32m    397\u001b[0m \u001b[0;34m\u001b[0m\u001b[0m\n",
            "\u001b[0;31mKeyError\u001b[0m: 'seed_diff'"
          ]
        }
      ]
    },
    {
      "cell_type": "code",
      "source": [
        "# Load the X variable from the test data\n",
        "X_test = games_tourney_test['seed_diff']\n",
        "\n",
        "# Load the y variable from the test data\n",
        "y_test = games_tourney_test['score_diff']\n",
        "\n",
        "# Evaluate the model on the test data\n",
        "print(model.evaluate(X_test, y_test, verbose=False))"
      ],
      "metadata": {
        "id": "8GYBLqSCAuKa"
      },
      "execution_count": null,
      "outputs": []
    },
    {
      "cell_type": "markdown",
      "source": [
        "Category Embedding\n",
        "\n",
        "Input layer(int) - Embedding layers(lookup table) - Output layer(float)\n",
        "\n",
        "Flatten() - advanced layer for deep learning models and can be used to transform data from multiple dimensions back down to two dimensions."
      ],
      "metadata": {
        "id": "DtnTQlkaAzhp"
      }
    },
    {
      "cell_type": "code",
      "source": [
        "# Imports\n",
        "from tensorflow.keras.layers import Embedding\n",
        "from numpy import unique\n",
        "\n",
        "# Count the unique number of teams\n",
        "n_teams = unique(games_season['team_1']).shape[0]\n",
        "\n",
        "# Create an embedding layer\n",
        "team_lookup = Embedding(input_dim=n_teams,\n",
        "                        output_dim=1,\n",
        "                        input_length=1,\n",
        "                        name='Team-Strength')"
      ],
      "metadata": {
        "id": "PTwj7AxGCTCZ"
      },
      "execution_count": null,
      "outputs": []
    },
    {
      "cell_type": "code",
      "source": [
        "# Imports\n",
        "from tensorflow.keras.layers import Input, Embedding, Flatten\n",
        "from tensorflow.keras.models import Model\n",
        "\n",
        "# Create an input layer for the team ID\n",
        "teamid_in = Input(shape=(1,))\n",
        "\n",
        "# Lookup the input in the team strength embedding layer\n",
        "strength_lookup = team_lookup(teamid_in)\n",
        "\n",
        "# Flatten the output\n",
        "strength_lookup_flat = Flatten()(strength_lookup)\n",
        "\n",
        "# Combine the operations into a single, re-usable model\n",
        "team_strength_model = Model(teamid_in, strength_lookup_flat, name='Team-Strength-Model')"
      ],
      "metadata": {
        "id": "iw35I-qECpK7"
      },
      "execution_count": null,
      "outputs": []
    },
    {
      "cell_type": "markdown",
      "source": [
        " shared layers\n"
      ],
      "metadata": {
        "id": "ZvHHIkKTDGfb"
      }
    },
    {
      "cell_type": "code",
      "source": [
        "# Load the input layer from tensorflow.keras.layers\n",
        "from tensorflow.keras.layers import Input\n",
        "\n",
        "# Input layer for team 1\n",
        "team_in_1 = Input(shape=(1,), name='Team-1-In')\n",
        "\n",
        "# Separate input layer for team 2\n",
        "team_in_2 = Input(shape=(1,), name='Team-2-In')\n",
        "\n",
        "# Lookup team 1 in the team strength model\n",
        "team_1_strength = team_strength_model(team_in_1)\n",
        "\n",
        "# Lookup team 2 in the team strength model\n",
        "team_2_strength = team_strength_model(team_in_2)"
      ],
      "metadata": {
        "id": "kIW5dziMD_S0"
      },
      "execution_count": null,
      "outputs": []
    },
    {
      "cell_type": "markdown",
      "source": [
        "Merge layers\n",
        "\n",
        "combine your inputs into a single layer that you can use to predict a single output\n",
        "\n",
        "* Add()\n",
        "* Subtract()\n",
        "* Multiply()\n",
        "* Concatenate()"
      ],
      "metadata": {
        "id": "OoXiEX6xExE7"
      }
    },
    {
      "cell_type": "code",
      "source": [
        "# Import the Subtract layer from tensorflow.keras\n",
        "from tensorflow.keras.layers import Subtract\n",
        "\n",
        "# Create a subtract layer using the inputs from the previous exercise\n",
        "score_diff = Subtract()([team_1_strength, team_2_strength])"
      ],
      "metadata": {
        "id": "1iXt0XlYGBXK"
      },
      "execution_count": null,
      "outputs": []
    },
    {
      "cell_type": "code",
      "source": [
        "# Imports\n",
        "from tensorflow.keras.layers import Subtract\n",
        "from tensorflow.keras.models import Model\n",
        "\n",
        "# Subtraction layer from previous exercise\n",
        "score_diff = Subtract()([team_1_strength, team_2_strength])\n",
        "\n",
        "# Create the model\n",
        "model = Model([team_in_1, team_in_2], score_diff)\n",
        "\n",
        "# Compile the model\n",
        "model.compile(optimizer='adam', loss='mean_absolute_error')"
      ],
      "metadata": {
        "id": "uZ9ZCjYWGMgT"
      },
      "execution_count": null,
      "outputs": []
    },
    {
      "cell_type": "code",
      "source": [
        "# Get the team_1 column from the regular season data\n",
        "input_1 = games_season['team_1']\n",
        "\n",
        "# Get the team_2 column from the regular season data\n",
        "input_2 = games_season['team_2']\n",
        "\n",
        "# Fit the model to input 1 and 2, using score diff as a target\n",
        "model.fit([input_1, input_2],\n",
        "          games_season['score_diff'],\n",
        "          epochs=1,\n",
        "          batch_size=2048,\n",
        "          validation_split=0.10,\n",
        "          verbose=True)"
      ],
      "metadata": {
        "id": "0VoDP141HhTo"
      },
      "execution_count": null,
      "outputs": []
    },
    {
      "cell_type": "code",
      "source": [
        "# Get team_1 from the tournament data\n",
        "\n",
        "input_1 = games_tourney['team_1']\n",
        "\n",
        "# Get team_2 from the tournament data\n",
        "input_2 = games_tourney['team_2']\n",
        "\n",
        "# Evaluate the model using these inputs\n",
        "print(model.evaluate([input_1, input_2], games_tourney['score_diff'], verbose=False))"
      ],
      "metadata": {
        "id": "eEs852rSJrkM"
      },
      "execution_count": null,
      "outputs": []
    },
    {
      "cell_type": "markdown",
      "source": [
        "Three input models"
      ],
      "metadata": {
        "id": "5WkIrEnzLQ46"
      }
    },
    {
      "cell_type": "code",
      "source": [
        "# Create an Input for each team\n",
        "team_in_1 = Input(shape=(1,), name='Team-1-In')\n",
        "team_in_2 = Input(shape=(1,), name='Team-2-In')\n",
        "\n",
        "# Create an input for home vs away\n",
        "home_in = Input(shape=(1,), name='Home-In')\n",
        "\n",
        "# Lookup the team inputs in the team strength model\n",
        "team_1_strength = team_strength_model(team_in_1)\n",
        "team_2_strength = team_strength_model(team_in_2)\n",
        "\n",
        "# Combine the team strengths with the home input using a Concatenate layer, then add a Dense layer\n",
        "out = Concatenate()([team_1_strength, team_2_strength, home_in])\n",
        "out = Dense(1)(out)"
      ],
      "metadata": {
        "id": "Nlgx24FtLTDN"
      },
      "execution_count": null,
      "outputs": []
    },
    {
      "cell_type": "code",
      "source": [
        "# Import the model class\n",
        "from tensorflow.keras.models import Model\n",
        "\n",
        "# Make a Model\n",
        "model = Model([team_in_1, team_in_2, home_in], out)\n",
        "\n",
        "# Compile the model\n",
        "model.compile(optimizer='adam', loss='mean_absolute_error')"
      ],
      "metadata": {
        "id": "LrFwdPRxMOxN"
      },
      "execution_count": null,
      "outputs": []
    },
    {
      "cell_type": "code",
      "source": [
        "# Fit the model to the games_season dataset\n",
        "model.fit([games_season['team_1'], games_season['team_2'], games_season['home']],\n",
        "          games_season['score_diff'],\n",
        "          epochs=1,\n",
        "          verbose=True,\n",
        "          validation_split=.10,\n",
        "          batch_size=2048)\n",
        "\n",
        "# Evaluate the model on the games_tourney dataset\n",
        "print(model.evaluate([games_tourney['team_1'], games_tourney['team_2'], games_tourney['home']],\n",
        "               games_tourney['score_diff'], verbose=False))"
      ],
      "metadata": {
        "id": "PfILEWRDNS50"
      },
      "execution_count": null,
      "outputs": []
    },
    {
      "cell_type": "code",
      "source": [
        "# Imports\n",
        "import matplotlib.pyplot as plt\n",
        "from tensorflow.keras.utils import plot_model\n",
        "\n",
        "# Plot the model\n",
        "plot_model(model, to_file='model.png')\n",
        "\n",
        "# Display the image\n",
        "data = plt.imread('model.png')\n",
        "plt.imshow(data)\n",
        "plt.show()"
      ],
      "metadata": {
        "id": "P7f9d5IpQF71"
      },
      "execution_count": null,
      "outputs": []
    },
    {
      "cell_type": "markdown",
      "source": [
        "Model Stacking"
      ],
      "metadata": {
        "id": "gEh6wOP_QX1o"
      }
    },
    {
      "cell_type": "code",
      "source": [
        "# Predict\n",
        "games_tourney['pred'] = model.predict([games_tourney['team_1'], games_tourney['team_2'], games_tourney['home']])\n",
        "\n"
      ],
      "metadata": {
        "id": "hyQq1Qh-Rf6g"
      },
      "execution_count": null,
      "outputs": []
    },
    {
      "cell_type": "code",
      "source": [
        "# Create an input layer with 3 columns\n",
        "input_tensor = Input((3,))\n",
        "\n",
        "# Pass it to a Dense layer with 1 unit\n",
        "output_tensor = Dense(1)(input_tensor)\n",
        "\n",
        "# Create a model\n",
        "model = Model(input_tensor, output_tensor)\n",
        "\n",
        "# Compile the model\n",
        "model.compile(optimizer='adam', loss='mean_absolute_error')\n",
        "\n",
        "# Fit the model\n",
        "model.fit(games_tourney_train[['home', 'seed_diff', 'pred']],\n",
        "          games_tourney_train['score_diff'],\n",
        "          epochs=1,\n",
        "          verbose=True)\n",
        "\n",
        "# Evaluate the model on the games_tourney_test dataset\n",
        "print(model.evaluate(games_tourney_test[['home', 'seed_diff', 'prediction']],\n",
        "               games_tourney_test['score_diff'], verbose=False))"
      ],
      "metadata": {
        "id": "Rgf8K8P2R9MX"
      },
      "execution_count": null,
      "outputs": []
    },
    {
      "cell_type": "code",
      "source": [],
      "metadata": {
        "id": "E0jbJ48RllE6"
      },
      "execution_count": null,
      "outputs": []
    },
    {
      "cell_type": "code",
      "source": [
        "# Define the input\n",
        "input_tensor = Input((2,))\n",
        "\n",
        "# Define the output\n",
        "output_tensor = Dense(2)(input_tensor)\n",
        "\n",
        "# Create a model\n",
        "model = Model(input_tensor, output_tensor)\n",
        "\n",
        "# Compile the model\n",
        "model.compile(optimizer='adam', loss='mean_absolute_error')\n",
        "\n",
        "# Fit the model\n",
        "model.fit(games_tourney_train[['seed_diff', 'pred']],\n",
        "  \t\t  games_tourney_train[['score_1', 'score_2']],\n",
        "  \t\t  verbose=True,\n",
        "  \t\t  epochs=100,\n",
        "  \t\t  batch_size=16384)"
      ],
      "metadata": {
        "id": "ntpH9VxKljys"
      },
      "execution_count": null,
      "outputs": []
    },
    {
      "cell_type": "code",
      "source": [
        "# Print the model's weights\n",
        "print(model.get_weights())\n",
        "\n",
        "# Print the column means of the training data\n",
        "print(games_tourney_train.mean())"
      ],
      "metadata": {
        "id": "02KUr1Wzmclo"
      },
      "execution_count": null,
      "outputs": []
    },
    {
      "cell_type": "code",
      "source": [
        "# Evaluate the model on the tournament test data\n",
        "print(model.evaluate(games_tourney_test[['seed_diff', 'pred']], games_tourney_test[['score_1', 'score_2']], verbose=False))"
      ],
      "metadata": {
        "id": "pvVmaeYjm6zH"
      },
      "execution_count": null,
      "outputs": []
    },
    {
      "cell_type": "markdown",
      "source": [
        "Build a simple regressor/classifier\n",
        "\n",
        "Input layer - Regression output - classifictaion output(sigmoid)"
      ],
      "metadata": {
        "id": "3tI481KBnRqC"
      }
    },
    {
      "cell_type": "code",
      "source": [
        "# Create an input layer with 2 columns\n",
        "input_tensor = Input((2,))\n",
        "\n",
        "# Create the first output\n",
        "output_tensor_1 = Dense(1, activation='linear', use_bias=False)(input_tensor)\n",
        "\n",
        "# Create the second output (use the first output as input here)\n",
        "output_tensor_2 = Dense(1, activation='sigmoid', use_bias=False)(output_tensor_1)\n",
        "\n",
        "# Create a model with 2 outputs\n",
        "model = Model(input_tensor, [output_tensor_1, output_tensor_2])"
      ],
      "metadata": {
        "id": "wpRpWRNKpf4P"
      },
      "execution_count": null,
      "outputs": []
    },
    {
      "cell_type": "code",
      "source": [
        "# Import the Adam optimizer\n",
        "from tensorflow.keras.optimizers import Adam\n",
        "\n",
        "# Compile the model with 2 losses and the Adam optimzer with a higher learning rate\n",
        "model.compile(loss=['mean_absolute_error', 'binary_crossentropy'], optimizer=Adam(learning_rate=0.01))\n",
        "\n",
        "# Fit the model to the tournament training data, with 2 inputs and 2 outputs\n",
        "model.fit(games_tourney_train[['seed_diff', 'pred']],\n",
        "          [games_tourney_train[['score_diff']], games_tourney_train[['won']]],\n",
        "          epochs=10,\n",
        "          verbose=True,\n",
        "          batch_size=16384)"
      ],
      "metadata": {
        "id": "F7uUWzcaqTru"
      },
      "execution_count": null,
      "outputs": []
    },
    {
      "cell_type": "code",
      "source": [
        "# Print the model weights\n",
        "print(model.get_weights())\n",
        "\n",
        "# Print the training data means\n",
        "print(games_tourney_train[['seed_diff', 'pred']].mean())"
      ],
      "metadata": {
        "id": "RjYhoa3sqzpm"
      },
      "execution_count": null,
      "outputs": []
    },
    {
      "cell_type": "code",
      "source": [
        "# Import the sigmoid function from scipy\n",
        "from scipy.special import expit as sigmoid\n",
        "\n",
        "# Weight from the model\n",
        "weight = 0.14\n",
        "\n",
        "# Print the approximate win probability predicted close game\n",
        "print(sigmoid(1 * weight))\n",
        "\n",
        "# Print the approximate win probability predicted blowout game\n",
        "print(sigmoid(10 * weight))"
      ],
      "metadata": {
        "id": "bSD89aPPraAL"
      },
      "execution_count": null,
      "outputs": []
    },
    {
      "cell_type": "code",
      "source": [
        "# Evaluate the model on new data\n",
        "print(model.evaluate(games_tourney_test[['seed_diff', 'pred']],\n",
        "               [games_tourney_test[['score_diff']], games_tourney_test[['won']]], verbose=False))"
      ],
      "metadata": {
        "id": "404wvGpUrnYQ"
      },
      "execution_count": null,
      "outputs": []
    }
  ]
}